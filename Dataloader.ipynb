{
 "cells": [
  {
   "cell_type": "code",
   "execution_count": 2,
   "id": "initial_id",
   "metadata": {
    "ExecuteTime": {
     "end_time": "2025-07-20T11:56:37.048756Z",
     "start_time": "2025-07-20T11:56:37.043390Z"
    },
    "collapsed": true
   },
   "outputs": [],
   "source": [
    "import os\n",
    "import pickle, bz2\n",
    "\n",
    "import tqdm\n",
    "from bokeh.io import output_notebook, show\n",
    "\n"
   ]
  },
  {
   "cell_type": "code",
   "execution_count": 3,
   "id": "e10086094576695c",
   "metadata": {
    "ExecuteTime": {
     "end_time": "2025-07-20T11:56:39.361847Z",
     "start_time": "2025-07-20T11:56:39.352207Z"
    }
   },
   "outputs": [],
   "source": [
    "# loader\n",
    "def load_dataset(file_path):\n",
    "    with bz2.BZ2File(file_path, 'rb') as f:\n",
    "        dataset = pickle.load(f)\n",
    "    return dataset\n",
    "\n",
    "def print_dataset_structure(dataset_dict, name=None):\n",
    "    first_level_keys = set()\n",
    "    second_level_keys = set()\n",
    "    third_level_keys = set()\n",
    "\n",
    "\n",
    "\n",
    "    for key, value in dataset_dict.items():\n",
    "        first_level_keys.add(key)\n",
    "        if isinstance(value, dict):\n",
    "            for sub_key in value.keys():\n",
    "                second_level_keys.add(sub_key)\n",
    "                if isinstance(value[sub_key], dict):\n",
    "                    for sub_sub_key in value[sub_key].keys():\n",
    "                        third_level_keys.add(sub_sub_key)\n",
    "\n",
    "    if name is not None:\n",
    "        print(f\"Dataset Structure for Dataset: {name}\")\n",
    "    else:\n",
    "        print(\"Dataset Structure:\")\n",
    "\n",
    "\n",
    "    print(\"----\"*10)\n",
    "    print(\"First Level Keys:\")\n",
    "    print(first_level_keys)\n",
    "    print(\"----\"*10)\n",
    "    print(\"Second Level Keys:\")\n",
    "    print(list(second_level_keys)[:10])\n",
    "    print(\"----\"*10)\n",
    "    print(\"Third Level Keys:\")\n",
    "    print(third_level_keys)\n",
    "    print(\"----\"*10)\n",
    "    print(\"\\n\")\n",
    "\n",
    "def print_all_datasets_structure(dataset_path_list):\n",
    "    for dataset_pkl in dataset_pkls:\n",
    "        dataset_path = os.path.join(data_dir, dataset_pkl)\n",
    "        dataset_dict = load_dataset(dataset_path)\n",
    "        print_dataset_structure(dataset_dict, name=dataset_pkl)\n",
    "        del dataset_dict\n",
    "\n",
    "# get all split_n_bar_phrases from last key\n",
    "def get_split_n_bar_phrases(dataset_path_list):\n",
    "    if not isinstance(dataset_path_list, list):\n",
    "        dataset_path_list = [dataset_path_list]\n",
    "\n",
    "    split_n_bar_phrases = list()\n",
    "\n",
    "    for dataset_pkl_ in dataset_path_list:\n",
    "        dataset_dict_ = load_dataset(os.path.join(data_dir, dataset_pkl_))\n",
    "        for key, value in dataset_dict_.items():\n",
    "            for sub_key, sub_value in value.items():\n",
    "                hvo_splits = sub_value['split_n_bar_phrases']\n",
    "                for hvo_split in hvo_splits:\n",
    "                    hvo_split.metadata.update({'collection': dataset_pkl_.replace('.pkl.bz2', ''), 'sample_id': sub_key})\n",
    "\n",
    "                split_n_bar_phrases.extend(sub_value['split_n_bar_phrases'])\n",
    "\n",
    "    return split_n_bar_phrases\n",
    "\n",
    "import random\n",
    "\n",
    "def get_randome_phrases(split_n_bar_phrases, n=1):\n",
    "    # returns hvos and their indexes in the split_n_bar_phrases list\n",
    "    if not isinstance(split_n_bar_phrases, list):\n",
    "        split_n_bar_phrases = [split_n_bar_phrases]\n",
    "    sample_ix = random.sample(range(len(split_n_bar_phrases)), n)\n",
    "    sample_hvo_phrases = [split_n_bar_phrases[ix] for ix in sample_ix]\n",
    "\n",
    "    return sample_hvo_phrases, sample_ix\n",
    "\n",
    "\n",
    "\n",
    "\n",
    "from bokeh.models import Tabs, TabPanel\n",
    "import warnings\n",
    "import logging\n",
    "from bokeh.util.warnings import BokehUserWarning, BokehDeprecationWarning\n",
    "\n",
    "def setup_quiet_bokeh():\n",
    "    \"\"\"Set up comprehensive bokeh warning suppression\"\"\"\n",
    "    # Suppress warnings\n",
    "    warnings.filterwarnings(\"ignore\", category=BokehUserWarning)\n",
    "    warnings.filterwarnings(\"ignore\", category=BokehDeprecationWarning)\n",
    "    warnings.filterwarnings(\"ignore\", message=\".*bokeh.*\")\n",
    "\n",
    "    # Suppress logging\n",
    "    logging.getLogger('bokeh').setLevel(logging.ERROR)\n",
    "\n",
    "    # Suppress other common warnings that might appear with bokeh\n",
    "    warnings.filterwarnings(\"ignore\", category=FutureWarning)\n",
    "    warnings.filterwarnings(\"ignore\", category=UserWarning)\n",
    "\n",
    "def create_multitab_from_figures(hvos,  tab_titles=None, show_tabs= True):\n",
    "    \"\"\"\n",
    "    Create a multitab visualizer from already-generated bokeh figures.\n",
    "\n",
    "    Parameters:\n",
    "    -----------\n",
    "    figures : List\n",
    "        List of bokeh figure objects\n",
    "    tab_titles : List[str]\n",
    "        List of titles for each tab\n",
    "    show_tabs : bool, default=True\n",
    "        Whether to immediately show the tabs\n",
    "\n",
    "    Returns:\n",
    "    --------\n",
    "    Tabs\n",
    "        Bokeh Tabs object containing all the figures\n",
    "    \"\"\"\n",
    "    setup_quiet_bokeh()\n",
    "    output_notebook()\n",
    "\n",
    "    figures = []\n",
    "\n",
    "    generate_titles = False\n",
    "    if tab_titles is None:\n",
    "        tab_titles = []\n",
    "        generate_titles = True\n",
    "\n",
    "    if not isinstance(hvos, list):\n",
    "        hvos = [hvos]\n",
    "    for ix, hvo in enumerate(hvos):\n",
    "        figure = hvo.to_html_plot(\n",
    "            filename='',\n",
    "            save_figure=False,\n",
    "            show_figure=False)\n",
    "        figures.append(figure)\n",
    "        if generate_titles:\n",
    "            tab_titles.append(f\"Tab {ix+1}\")\n",
    "\n",
    "    if not isinstance(tab_titles, list):\n",
    "        tab_titles = [tab_titles]\n",
    "    if not tab_titles:\n",
    "        tab_titles = [f\"Tab {i+1}\" for i in range(len(figures))]\n",
    "    if len(figures) == 0:\n",
    "        raise ValueError(\"No figures provided to create tabs\")\n",
    "\n",
    "    if len(figures) != len(tab_titles):\n",
    "        raise ValueError(\"Number of figures must match number of tab titles\")\n",
    "\n",
    "    panels = []\n",
    "\n",
    "    for figure, title in zip(figures, tab_titles):\n",
    "        panel = TabPanel(child=figure, title=title)\n",
    "        panels.append(panel)\n",
    "\n",
    "    tabs = Tabs(tabs=panels)\n",
    "\n",
    "    if show_tabs:\n",
    "        show(tabs)\n",
    "\n",
    "    return tabs\n",
    "\n",
    "\n"
   ]
  },
  {
   "cell_type": "code",
   "execution_count": 29,
   "id": "f69ff5991d811d35",
   "metadata": {
    "ExecuteTime": {
     "end_time": "2025-07-20T12:14:32.689942Z",
     "start_time": "2025-07-20T12:14:12.990123Z"
    }
   },
   "outputs": [
    {
     "name": "stdout",
     "output_type": "stream",
     "text": [
      "Dataset Structure for Dataset: taptamdrum_hvo_output_both_is_and.pkl.bz2\n",
      "----------------------------------------\n",
      "First Level Keys:\n",
      "{'AllAvailableStreams'}\n",
      "----------------------------------------\n",
      "Second Level Keys:\n",
      "['87_p1_complex', '38_p1_rep0', '117_p2_complex', '4_p3_rep1', '8_p4_rep2', '205_p1_complex', '189_p1_simple', '269_p1_simple', '125_p2_simple', '273_p1_simple']\n",
      "----------------------------------------\n",
      "Third Level Keys:\n",
      "{'compiled_single_hvos', 'split_n_bar_phrases', 'hvo_sequences', 'filenames'}\n",
      "----------------------------------------\n",
      "\n",
      "\n",
      "Dataset Structure for Dataset: taptamdrum_hvo_output_both_is_or.pkl.bz2\n",
      "----------------------------------------\n",
      "First Level Keys:\n",
      "{'AllAvailableStreams'}\n",
      "----------------------------------------\n",
      "Second Level Keys:\n",
      "['87_p1_complex', '38_p1_rep0', '117_p2_complex', '4_p3_rep1', '8_p4_rep2', '205_p1_complex', '189_p1_simple', '269_p1_simple', '125_p2_simple', '273_p1_simple']\n",
      "----------------------------------------\n",
      "Third Level Keys:\n",
      "{'compiled_single_hvos', 'split_n_bar_phrases', 'hvo_sequences', 'filenames'}\n",
      "----------------------------------------\n",
      "\n",
      "\n",
      "Dataset Structure for Dataset: taptam.pkl.bz2\n",
      "----------------------------------------\n",
      "First Level Keys:\n",
      "{'AllAvailableStreams'}\n",
      "----------------------------------------\n",
      "Second Level Keys:\n",
      "['87_p1_complex', '38_p1_rep0', '117_p2_complex', '4_p3_rep1', '8_p4_rep2', '205_p1_complex', '189_p1_simple', '269_p1_simple', '125_p2_simple', '273_p1_simple']\n",
      "----------------------------------------\n",
      "Third Level Keys:\n",
      "{'compiled_single_hvos', 'split_n_bar_phrases', 'hvo_sequences', 'filenames'}\n",
      "----------------------------------------\n",
      "\n",
      "\n",
      "Dataset Structure for Dataset: candombe.pkl.bz2\n",
      "----------------------------------------\n",
      "First Level Keys:\n",
      "{'fourvoices'}\n",
      "----------------------------------------\n",
      "Second Level Keys:\n",
      "['UC_321', 'UC_241', 'UC_211', 'UC_231', 'UC_221', 'UC_311', 'UC_312', 'UC_232', 'UC_213', 'UC_212']\n",
      "----------------------------------------\n",
      "Third Level Keys:\n",
      "{'compiled_single_hvo', 'split_n_bar_phrases', 'hvo_sequences', 'filenames'}\n",
      "----------------------------------------\n",
      "\n",
      "\n",
      "Dataset Structure for Dataset: groove_midi.pkl.bz2\n",
      "----------------------------------------\n",
      "First Level Keys:\n",
      "{'functional', 'functionalhats', 'velocity', 'toms', 'pitch'}\n",
      "----------------------------------------\n",
      "Second Level Keys:\n",
      "['29_rock_92_beat_4-4', '234_rock-halftime_140_fill_4-4', '190_rock_115_fill_4-4', '102_pop_132_beat_4-4', '180_afrocuban_105_fill_4-4', '112_rock_95_fill_4-4', '64_rock_145_beat_4-4', '162_latin-brazilian-baiao_95_fill_4-4', '103_hiphop_70_fill_4-4', '160_latin-brazilian-baiao_95_fill_4-4']\n",
      "----------------------------------------\n",
      "Third Level Keys:\n",
      "{'compiled_single_hvo', 'split_n_bar_phrases', 'hvo_sequences', 'filenames'}\n",
      "----------------------------------------\n",
      "\n",
      "\n",
      "Dataset Structure for Dataset: elbg.pkl.bz2\n",
      "----------------------------------------\n",
      "First Level Keys:\n",
      "{'AllAvailableStreams'}\n",
      "----------------------------------------\n",
      "Second Level Keys:\n",
      "['6129_attempt1', '4114_attempt0', '1276_attempt2', '1665_attempt1', '2578_attempt1', '6732_attempt0', '1377_attempt1', '10354_attempt0', '7626_attempt1', '2348_attempt0']\n",
      "----------------------------------------\n",
      "Third Level Keys:\n",
      "{'compiled_single_hvos', 'split_n_bar_phrases', 'hvo_sequences', 'filenames'}\n",
      "----------------------------------------\n",
      "\n",
      "\n",
      "Number of split_n_bar_phrases loaded: 89340\n"
     ]
    }
   ],
   "source": [
    "# LOAD DATASETS\n",
    "\n",
    "data_dir = \"data/triple_streams/split_2bars/rest\" # \"data/triple_streams/split_2bars/lmd or rest\"\n",
    "\n",
    "# find all .pkl.bz2 files in the directory\n",
    "dataset_pkls = [f for f in os.listdir(data_dir) if f.endswith('.pkl.bz2')]\n",
    "# dataset_pkls = ['lmd_batch_60.pkl.bz2']\n",
    "# print the structure of each dataset\n",
    "print_all_datasets_structure(dataset_pkls)\n",
    "\n",
    "# load all loops from all datasets\n",
    "split_n_bar_phrases = get_split_n_bar_phrases(dataset_pkls)\n",
    "\n",
    "# print the number of phrases loaded\n",
    "print(f\"Number of split_n_bar_phrases loaded: {len(split_n_bar_phrases)}\")\n"
   ]
  },
  {
   "cell_type": "code",
   "execution_count": 30,
   "id": "d43b6e3a9e8f74da",
   "metadata": {
    "ExecuteTime": {
     "end_time": "2025-07-20T12:14:33.273615Z",
     "start_time": "2025-07-20T12:14:32.694564Z"
    }
   },
   "outputs": [
    {
     "data": {
      "text/html": [
       "    <style>\n",
       "        .bk-notebook-logo {\n",
       "            display: block;\n",
       "            width: 20px;\n",
       "            height: 20px;\n",
       "            background-image: url(data:image/png;base64,iVBORw0KGgoAAAANSUhEUgAAABQAAAAUCAYAAACNiR0NAAAABHNCSVQICAgIfAhkiAAAAAlwSFlzAAALEgAACxIB0t1+/AAAABx0RVh0U29mdHdhcmUAQWRvYmUgRmlyZXdvcmtzIENTNui8sowAAAOkSURBVDiNjZRtaJVlGMd/1/08zzln5zjP1LWcU9N0NkN8m2CYjpgQYQXqSs0I84OLIC0hkEKoPtiH3gmKoiJDU7QpLgoLjLIQCpEsNJ1vqUOdO7ppbuec5+V+rj4ctwzd8IIbbi6u+8f1539dt3A78eXC7QizUF7gyV1fD1Yqg4JWz84yffhm0qkFqBogB9rM8tZdtwVsPUhWhGcFJngGeWrPzHm5oaMmkfEg1usvLFyc8jLRqDOMru7AyC8saQr7GG7f5fvDeH7Ej8CM66nIF+8yngt6HWaKh7k49Soy9nXurCi1o3qUbS3zWfrYeQDTB/Qj6kX6Ybhw4B+bOYoLKCC9H3Nu/leUTZ1JdRWkkn2ldcCamzrcf47KKXdAJllSlxAOkRgyHsGC/zRday5Qld9DyoM4/q/rUoy/CXh3jzOu3bHUVZeU+DEn8FInkPBFlu3+nW3Nw0mk6vCDiWg8CeJaxEwuHS3+z5RgY+YBR6V1Z1nxSOfoaPa4LASWxxdNp+VWTk7+4vzaou8v8PN+xo+KY2xsw6une2frhw05CTYOmQvsEhjhWjn0bmXPjpE1+kplmmkP3suftwTubK9Vq22qKmrBhpY4jvd5afdRA3wGjFAgcnTK2s4hY0/GPNIb0nErGMCRxWOOX64Z8RAC4oCXdklmEvcL8o0BfkNK4lUg9HTl+oPlQxdNo3Mg4Nv175e/1LDGzZen30MEjRUtmXSfiTVu1kK8W4txyV6BMKlbgk3lMwYCiusNy9fVfvvwMxv8Ynl6vxoByANLTWplvuj/nF9m2+PDtt1eiHPBr1oIfhCChQMBw6Aw0UulqTKZdfVvfG7VcfIqLG9bcldL/+pdWTLxLUy8Qq38heUIjh4XlzZxzQm19lLFlr8vdQ97rjZVOLf8nclzckbcD4wxXMidpX30sFd37Fv/GtwwhzhxGVAprjbg0gCAEeIgwCZyTV2Z1REEW8O4py0wsjeloKoMr6iCY6dP92H6Vw/oTyICIthibxjm/DfN9lVz8IqtqKYLUXfoKVMVQVVJOElGjrnnUt9T9wbgp8AyYKaGlqingHZU/uG2NTZSVqwHQTWkx9hxjkpWDaCg6Ckj5qebgBVbT3V3NNXMSiWSDdGV3hrtzla7J+duwPOToIg42ChPQOQjspnSlp1V+Gjdged7+8UN5CRAV7a5EdFNwCjEaBR27b3W890TE7g24NAP/mMDXRWrGoFPQI9ls/MWO2dWFAar/xcOIImbbpA3zgAAAABJRU5ErkJggg==);\n",
       "        }\n",
       "    </style>\n",
       "    <div>\n",
       "        <a href=\"https://bokeh.org\" target=\"_blank\" class=\"bk-notebook-logo\"></a>\n",
       "        <span id=\"e919f380-bb97-47a9-801c-c6e3a7b696fd\">Loading BokehJS ...</span>\n",
       "    </div>\n"
      ]
     },
     "metadata": {},
     "output_type": "display_data"
    },
    {
     "data": {
      "application/javascript": "'use strict';\n(function(root) {\n  function now() {\n    return new Date();\n  }\n\n  const force = true;\n\n  if (typeof root._bokeh_onload_callbacks === \"undefined\" || force === true) {\n    root._bokeh_onload_callbacks = [];\n    root._bokeh_is_loading = undefined;\n  }\n\nconst JS_MIME_TYPE = 'application/javascript';\n  const HTML_MIME_TYPE = 'text/html';\n  const EXEC_MIME_TYPE = 'application/vnd.bokehjs_exec.v0+json';\n  const CLASS_NAME = 'output_bokeh rendered_html';\n\n  /**\n   * Render data to the DOM node\n   */\n  function render(props, node) {\n    const script = document.createElement(\"script\");\n    node.appendChild(script);\n  }\n\n  /**\n   * Handle when an output is cleared or removed\n   */\n  function handleClearOutput(event, handle) {\n    function drop(id) {\n      const view = Bokeh.index.get_by_id(id)\n      if (view != null) {\n        view.model.document.clear()\n        Bokeh.index.delete(view)\n      }\n    }\n\n    const cell = handle.cell;\n\n    const id = cell.output_area._bokeh_element_id;\n    const server_id = cell.output_area._bokeh_server_id;\n\n    // Clean up Bokeh references\n    if (id != null) {\n      drop(id)\n    }\n\n    if (server_id !== undefined) {\n      // Clean up Bokeh references\n      const cmd_clean = \"from bokeh.io.state import curstate; print(curstate().uuid_to_server['\" + server_id + \"'].get_sessions()[0].document.roots[0]._id)\";\n      cell.notebook.kernel.execute(cmd_clean, {\n        iopub: {\n          output: function(msg) {\n            const id = msg.content.text.trim()\n            drop(id)\n          }\n        }\n      });\n      // Destroy server and session\n      const cmd_destroy = \"import bokeh.io.notebook as ion; ion.destroy_server('\" + server_id + \"')\";\n      cell.notebook.kernel.execute(cmd_destroy);\n    }\n  }\n\n  /**\n   * Handle when a new output is added\n   */\n  function handleAddOutput(event, handle) {\n    const output_area = handle.output_area;\n    const output = handle.output;\n\n    // limit handleAddOutput to display_data with EXEC_MIME_TYPE content only\n    if ((output.output_type != \"display_data\") || (!Object.prototype.hasOwnProperty.call(output.data, EXEC_MIME_TYPE))) {\n      return\n    }\n\n    const toinsert = output_area.element.find(\".\" + CLASS_NAME.split(' ')[0]);\n\n    if (output.metadata[EXEC_MIME_TYPE][\"id\"] !== undefined) {\n      toinsert[toinsert.length - 1].firstChild.textContent = output.data[JS_MIME_TYPE];\n      // store reference to embed id on output_area\n      output_area._bokeh_element_id = output.metadata[EXEC_MIME_TYPE][\"id\"];\n    }\n    if (output.metadata[EXEC_MIME_TYPE][\"server_id\"] !== undefined) {\n      const bk_div = document.createElement(\"div\");\n      bk_div.innerHTML = output.data[HTML_MIME_TYPE];\n      const script_attrs = bk_div.children[0].attributes;\n      for (let i = 0; i < script_attrs.length; i++) {\n        toinsert[toinsert.length - 1].firstChild.setAttribute(script_attrs[i].name, script_attrs[i].value);\n        toinsert[toinsert.length - 1].firstChild.textContent = bk_div.children[0].textContent\n      }\n      // store reference to server id on output_area\n      output_area._bokeh_server_id = output.metadata[EXEC_MIME_TYPE][\"server_id\"];\n    }\n  }\n\n  function register_renderer(events, OutputArea) {\n\n    function append_mime(data, metadata, element) {\n      // create a DOM node to render to\n      const toinsert = this.create_output_subarea(\n        metadata,\n        CLASS_NAME,\n        EXEC_MIME_TYPE\n      );\n      this.keyboard_manager.register_events(toinsert);\n      // Render to node\n      const props = {data: data, metadata: metadata[EXEC_MIME_TYPE]};\n      render(props, toinsert[toinsert.length - 1]);\n      element.append(toinsert);\n      return toinsert\n    }\n\n    /* Handle when an output is cleared or removed */\n    events.on('clear_output.CodeCell', handleClearOutput);\n    events.on('delete.Cell', handleClearOutput);\n\n    /* Handle when a new output is added */\n    events.on('output_added.OutputArea', handleAddOutput);\n\n    /**\n     * Register the mime type and append_mime function with output_area\n     */\n    OutputArea.prototype.register_mime_type(EXEC_MIME_TYPE, append_mime, {\n      /* Is output safe? */\n      safe: true,\n      /* Index of renderer in `output_area.display_order` */\n      index: 0\n    });\n  }\n\n  // register the mime type if in Jupyter Notebook environment and previously unregistered\n  if (root.Jupyter !== undefined) {\n    const events = require('base/js/events');\n    const OutputArea = require('notebook/js/outputarea').OutputArea;\n\n    if (OutputArea.prototype.mime_types().indexOf(EXEC_MIME_TYPE) == -1) {\n      register_renderer(events, OutputArea);\n    }\n  }\n  if (typeof (root._bokeh_timeout) === \"undefined\" || force === true) {\n    root._bokeh_timeout = Date.now() + 5000;\n    root._bokeh_failed_load = false;\n  }\n\n  const NB_LOAD_WARNING = {'data': {'text/html':\n     \"<div style='background-color: #fdd'>\\n\"+\n     \"<p>\\n\"+\n     \"BokehJS does not appear to have successfully loaded. If loading BokehJS from CDN, this \\n\"+\n     \"may be due to a slow or bad network connection. Possible fixes:\\n\"+\n     \"</p>\\n\"+\n     \"<ul>\\n\"+\n     \"<li>re-rerun `output_notebook()` to attempt to load from CDN again, or</li>\\n\"+\n     \"<li>use INLINE resources instead, as so:</li>\\n\"+\n     \"</ul>\\n\"+\n     \"<code>\\n\"+\n     \"from bokeh.resources import INLINE\\n\"+\n     \"output_notebook(resources=INLINE)\\n\"+\n     \"</code>\\n\"+\n     \"</div>\"}};\n\n  function display_loaded(error = null) {\n    const el = document.getElementById(\"e919f380-bb97-47a9-801c-c6e3a7b696fd\");\n    if (el != null) {\n      const html = (() => {\n        if (typeof root.Bokeh === \"undefined\") {\n          if (error == null) {\n            return \"BokehJS is loading ...\";\n          } else {\n            return \"BokehJS failed to load.\";\n          }\n        } else {\n          const prefix = `BokehJS ${root.Bokeh.version}`;\n          if (error == null) {\n            return `${prefix} successfully loaded.`;\n          } else {\n            return `${prefix} <b>encountered errors</b> while loading and may not function as expected.`;\n          }\n        }\n      })();\n      el.innerHTML = html;\n\n      if (error != null) {\n        const wrapper = document.createElement(\"div\");\n        wrapper.style.overflow = \"auto\";\n        wrapper.style.height = \"5em\";\n        wrapper.style.resize = \"vertical\";\n        const content = document.createElement(\"div\");\n        content.style.fontFamily = \"monospace\";\n        content.style.whiteSpace = \"pre-wrap\";\n        content.style.backgroundColor = \"rgb(255, 221, 221)\";\n        content.textContent = error.stack ?? error.toString();\n        wrapper.append(content);\n        el.append(wrapper);\n      }\n    } else if (Date.now() < root._bokeh_timeout) {\n      setTimeout(() => display_loaded(error), 100);\n    }\n  }\n\n  function run_callbacks() {\n    try {\n      root._bokeh_onload_callbacks.forEach(function(callback) {\n        if (callback != null)\n          callback();\n      });\n    } finally {\n      delete root._bokeh_onload_callbacks\n    }\n    console.debug(\"Bokeh: all callbacks have finished\");\n  }\n\n  function load_libs(css_urls, js_urls, callback) {\n    if (css_urls == null) css_urls = [];\n    if (js_urls == null) js_urls = [];\n\n    root._bokeh_onload_callbacks.push(callback);\n    if (root._bokeh_is_loading > 0) {\n      console.debug(\"Bokeh: BokehJS is being loaded, scheduling callback at\", now());\n      return null;\n    }\n    if (js_urls == null || js_urls.length === 0) {\n      run_callbacks();\n      return null;\n    }\n    console.debug(\"Bokeh: BokehJS not loaded, scheduling load and callback at\", now());\n    root._bokeh_is_loading = css_urls.length + js_urls.length;\n\n    function on_load() {\n      root._bokeh_is_loading--;\n      if (root._bokeh_is_loading === 0) {\n        console.debug(\"Bokeh: all BokehJS libraries/stylesheets loaded\");\n        run_callbacks()\n      }\n    }\n\n    function on_error(url) {\n      console.error(\"failed to load \" + url);\n    }\n\n    for (let i = 0; i < css_urls.length; i++) {\n      const url = css_urls[i];\n      const element = document.createElement(\"link\");\n      element.onload = on_load;\n      element.onerror = on_error.bind(null, url);\n      element.rel = \"stylesheet\";\n      element.type = \"text/css\";\n      element.href = url;\n      console.debug(\"Bokeh: injecting link tag for BokehJS stylesheet: \", url);\n      document.body.appendChild(element);\n    }\n\n    for (let i = 0; i < js_urls.length; i++) {\n      const url = js_urls[i];\n      const element = document.createElement('script');\n      element.onload = on_load;\n      element.onerror = on_error.bind(null, url);\n      element.async = false;\n      element.src = url;\n      console.debug(\"Bokeh: injecting script tag for BokehJS library: \", url);\n      document.head.appendChild(element);\n    }\n  };\n\n  function inject_raw_css(css) {\n    const element = document.createElement(\"style\");\n    element.appendChild(document.createTextNode(css));\n    document.body.appendChild(element);\n  }\n\n  const js_urls = [\"https://cdn.bokeh.org/bokeh/release/bokeh-3.4.3.min.js\", \"https://cdn.bokeh.org/bokeh/release/bokeh-gl-3.4.3.min.js\", \"https://cdn.bokeh.org/bokeh/release/bokeh-widgets-3.4.3.min.js\", \"https://cdn.bokeh.org/bokeh/release/bokeh-tables-3.4.3.min.js\", \"https://cdn.bokeh.org/bokeh/release/bokeh-mathjax-3.4.3.min.js\"];\n  const css_urls = [];\n\n  const inline_js = [    function(Bokeh) {\n      Bokeh.set_log_level(\"info\");\n    },\nfunction(Bokeh) {\n    }\n  ];\n\n  function run_inline_js() {\n    if (root.Bokeh !== undefined || force === true) {\n      try {\n            for (let i = 0; i < inline_js.length; i++) {\n      inline_js[i].call(root, root.Bokeh);\n    }\n\n      } catch (error) {display_loaded(error);throw error;\n      }if (force === true) {\n        display_loaded();\n      }} else if (Date.now() < root._bokeh_timeout) {\n      setTimeout(run_inline_js, 100);\n    } else if (!root._bokeh_failed_load) {\n      console.log(\"Bokeh: BokehJS failed to load within specified timeout.\");\n      root._bokeh_failed_load = true;\n    } else if (force !== true) {\n      const cell = $(document.getElementById(\"e919f380-bb97-47a9-801c-c6e3a7b696fd\")).parents('.cell').data().cell;\n      cell.output_area.append_execute_result(NB_LOAD_WARNING)\n    }\n  }\n\n  if (root._bokeh_is_loading === 0) {\n    console.debug(\"Bokeh: BokehJS loaded, going straight to plotting\");\n    run_inline_js();\n  } else {\n    load_libs(css_urls, js_urls, function() {\n      console.debug(\"Bokeh: BokehJS plotting callback run at\", now());\n      run_inline_js();\n    });\n  }\n}(window));",
      "application/vnd.bokehjs_load.v0+json": ""
     },
     "metadata": {},
     "output_type": "display_data"
    },
    {
     "data": {
      "text/html": [
       "\n",
       "  <div id=\"a22d8587-6ecc-44a4-bd2e-ecaa3095d4dc\" data-root-id=\"p3757\" style=\"display: contents;\"></div>\n"
      ]
     },
     "metadata": {},
     "output_type": "display_data"
    },
    {
     "data": {
      "application/javascript": "(function(root) {\n  function embed_document(root) {\n  const docs_json = {\"e3195162-c3f4-48ff-892f-00734e6103d1\":{\"version\":\"3.4.3\",\"title\":\"Bokeh Application\",\"roots\":[{\"type\":\"object\",\"name\":\"Tabs\",\"id\":\"p3757\",\"attributes\":{\"tabs\":[{\"type\":\"object\",\"name\":\"TabPanel\",\"id\":\"p3747\",\"attributes\":{\"title\":\"Tab 1\",\"child\":{\"type\":\"object\",\"name\":\"Figure\",\"id\":\"p2460\",\"attributes\":{\"width\":800,\"height\":400,\"x_range\":{\"type\":\"object\",\"name\":\"DataRange1d\",\"id\":\"p2462\",\"attributes\":{\"start\":-0.5344000000000001,\"end\":5.878400000000001}},\"y_range\":{\"type\":\"object\",\"name\":\"Range1d\",\"id\":\"p2469\",\"attributes\":{\"start\":-0.5,\"end\":5.75}},\"x_scale\":{\"type\":\"object\",\"name\":\"LinearScale\",\"id\":\"p2470\"},\"y_scale\":{\"type\":\"object\",\"name\":\"LinearScale\",\"id\":\"p2471\"},\"title\":{\"type\":\"object\",\"name\":\"Title\",\"id\":\"p2467\",\"attributes\":{\"text_color\":\"#5B5B5B\",\"text_font\":\"Helvetica\",\"text_font_size\":\"1.15em\"}},\"renderers\":[{\"type\":\"object\",\"name\":\"GlyphRenderer\",\"id\":\"p2502\",\"attributes\":{\"data_source\":{\"type\":\"object\",\"name\":\"ColumnDataSource\",\"id\":\"p2493\",\"attributes\":{\"selected\":{\"type\":\"object\",\"name\":\"Selection\",\"id\":\"p2494\",\"attributes\":{\"indices\":[],\"line_indices\":[]}},\"selection_policy\":{\"type\":\"object\",\"name\":\"UnionRenderers\",\"id\":\"p2495\"},\"data\":{\"type\":\"map\",\"entries\":[[\"start\",[0.18670499999999998,0.323202,0.558866,0.6968799999999999,0.67097,0.6968799999999999,1.415292,1.366444,1.415292,1.609128,1.556017,1.609128,1.752896,1.708257,1.752896,1.681096,1.9108779999999999,1.883616,1.9108779999999999,2.083276,2.050316,2.083276,2.241346,2.209696,2.241346,2.377843,2.399468,2.377843,2.5215,2.5718959999999997,2.5215,2.700552,2.731856,2.700552,2.88775,2.90505,2.88775,3.081856,3.056079,3.081856,3.23988,3.228528,3.23988,3.397948,3.4022479999999997,3.397948,3.577516,3.59334,3.577516,3.735564,3.754248,3.735564,3.89362,3.938168,3.89362,4.0947499999999994,4.086273,4.0947499999999994,4.310346,4.310346,4.453936,4.797932,4.793804,4.797932,4.963051999999999,4.963051999999999,5.129788,5.372552000000001,5.376852,5.372552000000001]],[\"end\",[0.27270499999999986,0.40920199999999984,0.6448659999999998,0.7828799999999998,0.7569699999999998,0.7828799999999998,1.5012919999999998,1.4524439999999998,1.5012919999999998,1.6951279999999997,1.6420169999999998,1.6951279999999997,1.8388959999999999,1.7942569999999998,1.8388959999999999,1.7670959999999998,1.9968779999999997,1.9696159999999998,1.9968779999999997,2.169276,2.136316,2.169276,2.327346,2.295696,2.327346,2.463843,2.485468,2.463843,2.6075,2.6578959999999996,2.6075,2.786552,2.817856,2.786552,2.97375,2.99105,2.97375,3.167856,3.142079,3.167856,3.3258799999999997,3.3145279999999997,3.3258799999999997,3.483948,3.4882479999999996,3.483948,3.663516,3.67934,3.663516,3.821564,3.840248,3.821564,3.9796199999999997,4.0241679999999995,3.9796199999999997,4.18075,4.172273000000001,4.18075,4.396345999999999,4.396345999999999,4.539935999999999,4.883932,4.879804,4.883932,5.049052,5.049052,5.215788,5.458552000000001,5.462852,5.458552000000001]],[\"instrument\",[\"stream_1\",\"stream_1\",\"stream_1\",\"stream_0\",\"stream_1\",\"stream_2\",\"stream_0\",\"stream_1\",\"stream_2\",\"stream_0\",\"stream_1\",\"stream_3\",\"stream_0\",\"stream_1\",\"stream_2\",\"stream_3\",\"stream_0\",\"stream_1\",\"stream_2\",\"stream_0\",\"stream_1\",\"stream_2\",\"stream_0\",\"stream_1\",\"stream_2\",\"stream_0\",\"stream_1\",\"stream_2\",\"stream_0\",\"stream_1\",\"stream_3\",\"stream_0\",\"stream_1\",\"stream_3\",\"stream_0\",\"stream_1\",\"stream_3\",\"stream_0\",\"stream_1\",\"stream_3\",\"stream_0\",\"stream_1\",\"stream_3\",\"stream_0\",\"stream_1\",\"stream_2\",\"stream_0\",\"stream_1\",\"stream_2\",\"stream_0\",\"stream_1\",\"stream_2\",\"stream_0\",\"stream_1\",\"stream_3\",\"stream_0\",\"stream_1\",\"stream_2\",\"stream_0\",\"stream_3\",\"stream_1\",\"stream_0\",\"stream_1\",\"stream_2\",\"stream_0\",\"stream_3\",\"stream_1\",\"stream_0\",\"stream_1\",\"stream_3\"]],[\"voice_index\",[1,1,1,0,1,2,0,1,2,0,1,3,0,1,2,3,0,1,2,0,1,2,0,1,2,0,1,2,0,1,3,0,1,3,0,1,3,0,1,3,0,1,3,0,1,2,0,1,2,0,1,2,0,1,3,0,1,2,0,3,1,0,1,2,0,3,1,0,1,3]],[\"midi\",[38,38,38,36,38,42,36,38,42,36,38,46,36,38,42,46,36,38,42,36,38,42,36,38,42,36,38,42,36,38,46,36,38,46,36,38,46,36,38,46,36,38,46,36,38,42,36,38,42,36,38,42,36,38,46,36,38,42,36,46,38,36,38,42,36,46,38,36,38,46]],[\"velocity\",[0.858,1.0,0.354,1.0,0.843,1.0,0.803,1.0,0.803,0.276,0.921,0.276,0.614,1.0,0.614,0.362,0.638,1.0,0.638,1.0,1.0,1.0,0.937,1.0,0.937,0.945,1.0,0.945,0.417,1.0,0.417,0.567,1.0,0.567,0.433,1.0,0.433,0.772,0.89,0.772,0.394,1.0,0.394,0.543,1.0,0.543,0.362,0.417,0.362,0.48,1.0,0.48,0.276,0.409,0.276,0.772,1.0,0.772,0.126,0.126,0.465,0.772,1.0,0.772,0.173,0.173,0.48,0.197,0.409,0.197]],[\"offset\",[0.085,-0.126,0.242,0.04,-0.11,0.04,0.211,-0.073,0.211,0.336,0.029,0.336,0.168,-0.091,0.168,-0.248,0.086,-0.072,0.086,0.083,-0.108,0.083,0.002,-0.182,0.002,-0.209,-0.084,-0.209,-0.375,-0.082,-0.375,-0.334,-0.152,-0.334,-0.25,-0.15,-0.25,-0.128,-0.277,-0.128,-0.21,-0.276,-0.21,-0.291,-0.266,-0.291,-0.247,-0.155,-0.247,-0.332,-0.224,-0.332,-0.415,-0.156,-0.415,-0.25,-0.299,-0.25,0.002,0.002,-0.168,-0.169,-0.193,-0.169,-0.209,-0.209,-0.244,0.166,0.191,0.166]],[\"offset_sec\",[0.015,-0.022,0.042,0.007,-0.019,0.007,0.036,-0.013,0.036,0.058,0.005,0.058,0.029,-0.016,0.029,-0.043,0.015,-0.012,0.015,0.014,-0.019,0.014,0.0,-0.031,0.0,-0.036,-0.015,-0.036,-0.064,-0.014,-0.064,-0.057,-0.026,-0.057,-0.043,-0.026,-0.043,-0.022,-0.048,-0.022,-0.036,-0.047,-0.036,-0.05,-0.046,-0.05,-0.042,-0.027,-0.042,-0.057,-0.039,-0.057,-0.071,-0.027,-0.071,-0.043,-0.052,-0.043,0.0,0.0,-0.029,-0.029,-0.033,-0.029,-0.036,-0.036,-0.042,0.029,0.033,0.029]],[\"grid_line\",[1,2,3,4,4,4,8,8,8,9,9,9,10,10,10,10,11,11,11,12,12,12,13,13,13,14,14,14,15,15,15,16,16,16,17,17,17,18,18,18,19,19,19,20,20,20,21,21,21,22,22,22,23,23,23,24,24,24,25,25,26,28,28,28,29,29,30,31,31,31]],[\"top\",{\"type\":\"ndarray\",\"array\":{\"type\":\"bytes\",\"data\":\"MzMzMzMz8z8zMzMzMzPzPzMzMzMzM/M/mpmZmZmZyT8zMzMzMzPzP5qZmZmZmQFAmpmZmZmZyT8zMzMzMzPzP5qZmZmZmQFAmpmZmZmZyT8zMzMzMzPzP5qZmZmZmQlAmpmZmZmZyT8zMzMzMzPzP5qZmZmZmQFAmpmZmZmZCUCamZmZmZnJPzMzMzMzM/M/mpmZmZmZAUCamZmZmZnJPzMzMzMzM/M/mpmZmZmZAUCamZmZmZnJPzMzMzMzM/M/mpmZmZmZAUCamZmZmZnJPzMzMzMzM/M/mpmZmZmZAUCamZmZmZnJPzMzMzMzM/M/mpmZmZmZCUCamZmZmZnJPzMzMzMzM/M/mpmZmZmZCUCamZmZmZnJPzMzMzMzM/M/mpmZmZmZCUCamZmZmZnJPzMzMzMzM/M/mpmZmZmZCUCamZmZmZnJPzMzMzMzM/M/mpmZmZmZCUCamZmZmZnJPzMzMzMzM/M/mpmZmZmZAUCamZmZmZnJPzMzMzMzM/M/mpmZmZmZAUCamZmZmZnJPzMzMzMzM/M/mpmZmZmZAUCamZmZmZnJPzMzMzMzM/M/mpmZmZmZCUCamZmZmZnJPzMzMzMzM/M/mpmZmZmZAUCamZmZmZnJP5qZmZmZmQlAMzMzMzMz8z+amZmZmZnJPzMzMzMzM/M/mpmZmZmZAUCamZmZmZnJP5qZmZmZmQlAMzMzMzMz8z+amZmZmZnJPzMzMzMzM/M/mpmZmZmZCUA=\"},\"shape\":[70],\"dtype\":\"float64\",\"order\":\"little\"}],[\"bottom\",{\"type\":\"ndarray\",\"array\":{\"type\":\"bytes\",\"data\":\"mpmZmZmZ6T+amZmZmZnpP5qZmZmZmek/mpmZmZmZyb+amZmZmZnpP83MzMzMzPw/mpmZmZmZyb+amZmZmZnpP83MzMzMzPw/mpmZmZmZyb+amZmZmZnpP2ZmZmZmZgZAmpmZmZmZyb+amZmZmZnpP83MzMzMzPw/ZmZmZmZmBkCamZmZmZnJv5qZmZmZmek/zczMzMzM/D+amZmZmZnJv5qZmZmZmek/zczMzMzM/D+amZmZmZnJv5qZmZmZmek/zczMzMzM/D+amZmZmZnJv5qZmZmZmek/zczMzMzM/D+amZmZmZnJv5qZmZmZmek/ZmZmZmZmBkCamZmZmZnJv5qZmZmZmek/ZmZmZmZmBkCamZmZmZnJv5qZmZmZmek/ZmZmZmZmBkCamZmZmZnJv5qZmZmZmek/ZmZmZmZmBkCamZmZmZnJv5qZmZmZmek/ZmZmZmZmBkCamZmZmZnJv5qZmZmZmek/zczMzMzM/D+amZmZmZnJv5qZmZmZmek/zczMzMzM/D+amZmZmZnJv5qZmZmZmek/zczMzMzM/D+amZmZmZnJv5qZmZmZmek/ZmZmZmZmBkCamZmZmZnJv5qZmZmZmek/zczMzMzM/D+amZmZmZnJv2ZmZmZmZgZAmpmZmZmZ6T+amZmZmZnJv5qZmZmZmek/zczMzMzM/D+amZmZmZnJv2ZmZmZmZgZAmpmZmZmZ6T+amZmZmZnJv5qZmZmZmek/ZmZmZmZmBkA=\"},\"shape\":[70],\"dtype\":\"float64\",\"order\":\"little\"}]]}}},\"view\":{\"type\":\"object\",\"name\":\"CDSView\",\"id\":\"p2503\",\"attributes\":{\"filter\":{\"type\":\"object\",\"name\":\"AllIndices\",\"id\":\"p2504\"}}},\"glyph\":{\"type\":\"object\",\"name\":\"Quad\",\"id\":\"p2499\",\"attributes\":{\"left\":{\"type\":\"field\",\"field\":\"start\"},\"right\":{\"type\":\"field\",\"field\":\"end\"},\"bottom\":{\"type\":\"field\",\"field\":\"bottom\"},\"top\":{\"type\":\"field\",\"field\":\"top\"},\"line_color\":{\"type\":\"value\",\"value\":\"grey\"},\"fill_color\":{\"type\":\"value\",\"value\":\"grey\"},\"fill_alpha\":{\"type\":\"field\",\"field\":\"velocity\"}}},\"nonselection_glyph\":{\"type\":\"object\",\"name\":\"Quad\",\"id\":\"p2500\",\"attributes\":{\"left\":{\"type\":\"field\",\"field\":\"start\"},\"right\":{\"type\":\"field\",\"field\":\"end\"},\"bottom\":{\"type\":\"field\",\"field\":\"bottom\"},\"top\":{\"type\":\"field\",\"field\":\"top\"},\"line_color\":{\"type\":\"value\",\"value\":\"grey\"},\"line_alpha\":{\"type\":\"value\",\"value\":0.1},\"fill_color\":{\"type\":\"value\",\"value\":\"grey\"},\"fill_alpha\":{\"type\":\"value\",\"value\":0.1},\"hatch_alpha\":{\"type\":\"value\",\"value\":0.1}}},\"muted_glyph\":{\"type\":\"object\",\"name\":\"Quad\",\"id\":\"p2501\",\"attributes\":{\"left\":{\"type\":\"field\",\"field\":\"start\"},\"right\":{\"type\":\"field\",\"field\":\"end\"},\"bottom\":{\"type\":\"field\",\"field\":\"bottom\"},\"top\":{\"type\":\"field\",\"field\":\"top\"},\"line_color\":{\"type\":\"value\",\"value\":\"grey\"},\"line_alpha\":{\"type\":\"value\",\"value\":0.2},\"fill_color\":{\"type\":\"value\",\"value\":\"grey\"},\"fill_alpha\":{\"type\":\"value\",\"value\":0.2},\"hatch_alpha\":{\"type\":\"value\",\"value\":0.2}}}}},{\"type\":\"object\",\"name\":\"GlyphRenderer\",\"id\":\"p2553\",\"attributes\":{\"data_source\":{\"type\":\"object\",\"name\":\"ColumnDataSource\",\"id\":\"p2544\",\"attributes\":{\"selected\":{\"type\":\"object\",\"name\":\"Selection\",\"id\":\"p2545\",\"attributes\":{\"indices\":[],\"line_indices\":[]}},\"selection_policy\":{\"type\":\"object\",\"name\":\"UnionRenderers\",\"id\":\"p2546\"},\"data\":{\"type\":\"map\",\"entries\":[[\"x\",[0.0]],[\"y\",[4.5]],[\"tempo\",[87.0]],[\"grid_index\",[0]]]}}},\"view\":{\"type\":\"object\",\"name\":\"CDSView\",\"id\":\"p2554\",\"attributes\":{\"filter\":{\"type\":\"object\",\"name\":\"AllIndices\",\"id\":\"p2555\"}}},\"glyph\":{\"type\":\"object\",\"name\":\"Scatter\",\"id\":\"p2550\",\"attributes\":{\"x\":{\"type\":\"field\",\"field\":\"x\"},\"y\":{\"type\":\"field\",\"field\":\"y\"},\"size\":{\"type\":\"value\",\"value\":10},\"line_color\":{\"type\":\"value\",\"value\":\"#440154\"},\"fill_color\":{\"type\":\"value\",\"value\":\"#440154\"}}},\"nonselection_glyph\":{\"type\":\"object\",\"name\":\"Scatter\",\"id\":\"p2551\",\"attributes\":{\"x\":{\"type\":\"field\",\"field\":\"x\"},\"y\":{\"type\":\"field\",\"field\":\"y\"},\"size\":{\"type\":\"value\",\"value\":10},\"line_color\":{\"type\":\"value\",\"value\":\"#440154\"},\"line_alpha\":{\"type\":\"value\",\"value\":0.1},\"fill_color\":{\"type\":\"value\",\"value\":\"#440154\"},\"fill_alpha\":{\"type\":\"value\",\"value\":0.1},\"hatch_alpha\":{\"type\":\"value\",\"value\":0.1}}},\"muted_glyph\":{\"type\":\"object\",\"name\":\"Scatter\",\"id\":\"p2552\",\"attributes\":{\"x\":{\"type\":\"field\",\"field\":\"x\"},\"y\":{\"type\":\"field\",\"field\":\"y\"},\"size\":{\"type\":\"value\",\"value\":10},\"line_color\":{\"type\":\"value\",\"value\":\"#440154\"},\"line_alpha\":{\"type\":\"value\",\"value\":0.2},\"fill_color\":{\"type\":\"value\",\"value\":\"#440154\"},\"fill_alpha\":{\"type\":\"value\",\"value\":0.2},\"hatch_alpha\":{\"type\":\"value\",\"value\":0.2}}}}},{\"type\":\"object\",\"name\":\"GlyphRenderer\",\"id\":\"p2567\",\"attributes\":{\"data_source\":{\"type\":\"object\",\"name\":\"ColumnDataSource\",\"id\":\"p2558\",\"attributes\":{\"selected\":{\"type\":\"object\",\"name\":\"Selection\",\"id\":\"p2559\",\"attributes\":{\"indices\":[],\"line_indices\":[]}},\"selection_policy\":{\"type\":\"object\",\"name\":\"UnionRenderers\",\"id\":\"p2560\"},\"data\":{\"type\":\"map\",\"entries\":[[\"x\",[0.0]],[\"y\",[4]],[\"Numerator\",[4]],[\"Denominator\",[4]],[\"grid_index\",[0]]]}}},\"view\":{\"type\":\"object\",\"name\":\"CDSView\",\"id\":\"p2568\",\"attributes\":{\"filter\":{\"type\":\"object\",\"name\":\"AllIndices\",\"id\":\"p2569\"}}},\"glyph\":{\"type\":\"object\",\"name\":\"Scatter\",\"id\":\"p2564\",\"attributes\":{\"x\":{\"type\":\"field\",\"field\":\"x\"},\"y\":{\"type\":\"field\",\"field\":\"y\"},\"size\":{\"type\":\"value\",\"value\":10},\"line_color\":{\"type\":\"value\",\"value\":\"#70CE56\"},\"fill_color\":{\"type\":\"value\",\"value\":\"#70CE56\"}}},\"nonselection_glyph\":{\"type\":\"object\",\"name\":\"Scatter\",\"id\":\"p2565\",\"attributes\":{\"x\":{\"type\":\"field\",\"field\":\"x\"},\"y\":{\"type\":\"field\",\"field\":\"y\"},\"size\":{\"type\":\"value\",\"value\":10},\"line_color\":{\"type\":\"value\",\"value\":\"#70CE56\"},\"line_alpha\":{\"type\":\"value\",\"value\":0.1},\"fill_color\":{\"type\":\"value\",\"value\":\"#70CE56\"},\"fill_alpha\":{\"type\":\"value\",\"value\":0.1},\"hatch_alpha\":{\"type\":\"value\",\"value\":0.1}}},\"muted_glyph\":{\"type\":\"object\",\"name\":\"Scatter\",\"id\":\"p2566\",\"attributes\":{\"x\":{\"type\":\"field\",\"field\":\"x\"},\"y\":{\"type\":\"field\",\"field\":\"y\"},\"size\":{\"type\":\"value\",\"value\":10},\"line_color\":{\"type\":\"value\",\"value\":\"#70CE56\"},\"line_alpha\":{\"type\":\"value\",\"value\":0.2},\"fill_color\":{\"type\":\"value\",\"value\":\"#70CE56\"},\"fill_alpha\":{\"type\":\"value\",\"value\":0.2},\"hatch_alpha\":{\"type\":\"value\",\"value\":0.2}}}}},{\"type\":\"object\",\"name\":\"GlyphRenderer\",\"id\":\"p2581\",\"attributes\":{\"data_source\":{\"type\":\"object\",\"name\":\"ColumnDataSource\",\"id\":\"p2572\",\"attributes\":{\"selected\":{\"type\":\"object\",\"name\":\"Selection\",\"id\":\"p2573\",\"attributes\":{\"indices\":[],\"line_indices\":[]}},\"selection_policy\":{\"type\":\"object\",\"name\":\"UnionRenderers\",\"id\":\"p2574\"},\"data\":{\"type\":\"map\",\"entries\":[[\"x\",[0.0]],[\"y\",[3.5]],[\"Style\",[\"rock\"]],[\"Tempo\",[87.0]],[\"TestNumber\",[\"217\"]],[\"Repetition\",[\"Complex\"]],[\"participant_number\",[\"217\"]],[\"attempt\",[\"217_p1_complex\"]],[\"stream_0\",[\"217_p1_complex_both\"]],[\"stream_1\",[\"217_p1_complex_flattened\"]],[\"stream_2\",[\"217_p1_complex_left\"]],[\"stream_3\",[\"217_p1_complex_right\"]],[\"start_bar\",[0]],[\"collection\",[\"taptamdrum_hvo_output_both_is_or\"]],[\"sample_id\",[\"217_p1_complex\"]]]}}},\"view\":{\"type\":\"object\",\"name\":\"CDSView\",\"id\":\"p2582\",\"attributes\":{\"filter\":{\"type\":\"object\",\"name\":\"AllIndices\",\"id\":\"p2583\"}}},\"glyph\":{\"type\":\"object\",\"name\":\"Scatter\",\"id\":\"p2578\",\"attributes\":{\"x\":{\"type\":\"field\",\"field\":\"x\"},\"y\":{\"type\":\"field\",\"field\":\"y\"},\"size\":{\"type\":\"value\",\"value\":10},\"line_color\":{\"type\":\"value\",\"value\":\"#1EA087\"},\"fill_color\":{\"type\":\"value\",\"value\":\"#1EA087\"}}},\"nonselection_glyph\":{\"type\":\"object\",\"name\":\"Scatter\",\"id\":\"p2579\",\"attributes\":{\"x\":{\"type\":\"field\",\"field\":\"x\"},\"y\":{\"type\":\"field\",\"field\":\"y\"},\"size\":{\"type\":\"value\",\"value\":10},\"line_color\":{\"type\":\"value\",\"value\":\"#1EA087\"},\"line_alpha\":{\"type\":\"value\",\"value\":0.1},\"fill_color\":{\"type\":\"value\",\"value\":\"#1EA087\"},\"fill_alpha\":{\"type\":\"value\",\"value\":0.1},\"hatch_alpha\":{\"type\":\"value\",\"value\":0.1}}},\"muted_glyph\":{\"type\":\"object\",\"name\":\"Scatter\",\"id\":\"p2580\",\"attributes\":{\"x\":{\"type\":\"field\",\"field\":\"x\"},\"y\":{\"type\":\"field\",\"field\":\"y\"},\"size\":{\"type\":\"value\",\"value\":10},\"line_color\":{\"type\":\"value\",\"value\":\"#1EA087\"},\"line_alpha\":{\"type\":\"value\",\"value\":0.2},\"fill_color\":{\"type\":\"value\",\"value\":\"#1EA087\"},\"fill_alpha\":{\"type\":\"value\",\"value\":0.2},\"hatch_alpha\":{\"type\":\"value\",\"value\":0.2}}}}}],\"toolbar\":{\"type\":\"object\",\"name\":\"Toolbar\",\"id\":\"p2468\",\"attributes\":{\"tools\":[{\"type\":\"object\",\"name\":\"PanTool\",\"id\":\"p2482\"},{\"type\":\"object\",\"name\":\"WheelZoomTool\",\"id\":\"p2483\",\"attributes\":{\"renderers\":\"auto\"}},{\"type\":\"object\",\"name\":\"BoxZoomTool\",\"id\":\"p2484\",\"attributes\":{\"overlay\":{\"type\":\"object\",\"name\":\"BoxAnnotation\",\"id\":\"p2485\",\"attributes\":{\"syncable\":false,\"level\":\"overlay\",\"visible\":false,\"left\":{\"type\":\"number\",\"value\":\"nan\"},\"right\":{\"type\":\"number\",\"value\":\"nan\"},\"top\":{\"type\":\"number\",\"value\":\"nan\"},\"bottom\":{\"type\":\"number\",\"value\":\"nan\"},\"left_units\":\"canvas\",\"right_units\":\"canvas\",\"top_units\":\"canvas\",\"bottom_units\":\"canvas\",\"line_color\":\"black\",\"line_alpha\":1.0,\"line_width\":2,\"line_dash\":[4,4],\"fill_color\":\"lightgrey\",\"fill_alpha\":0.5}}}},{\"type\":\"object\",\"name\":\"SaveTool\",\"id\":\"p2490\"},{\"type\":\"object\",\"name\":\"ResetTool\",\"id\":\"p2491\"},{\"type\":\"object\",\"name\":\"HelpTool\",\"id\":\"p2492\"},{\"type\":\"object\",\"name\":\"HoverTool\",\"id\":\"p2507\",\"attributes\":{\"renderers\":[{\"id\":\"p2502\"}],\"tooltips\":[[\"start\",\"@start\"],[\"end\",\"@end\"],[\"instrument\",\"@instrument\"],[\"voice_index\",\"@voice_index\"],[\"midi\",\"@midi\"],[\"velocity\",\"@velocity\"],[\"offset\",\"@offset\"],[\"offset_sec\",\"@offset_sec\"],[\"grid_line\",\"@grid_line\"]]}},{\"type\":\"object\",\"name\":\"HoverTool\",\"id\":\"p2557\",\"attributes\":{\"renderers\":[{\"id\":\"p2553\"}],\"tooltips\":[[\"tempo\",\"@tempo\"],[\"grid_index\",\"@grid_index\"]]}},{\"type\":\"object\",\"name\":\"HoverTool\",\"id\":\"p2571\",\"attributes\":{\"renderers\":[{\"id\":\"p2567\"}],\"tooltips\":[[\"Numerator\",\"@Numerator\"],[\"Denominator\",\"@Denominator\"],[\"grid_index\",\"@grid_index\"]]}},{\"type\":\"object\",\"name\":\"HoverTool\",\"id\":\"p2585\",\"attributes\":{\"renderers\":[{\"id\":\"p2581\"}],\"tooltips\":[[\"Style\",\"@Style\"],[\"Tempo\",\"@Tempo\"],[\"TestNumber\",\"@TestNumber\"],[\"Repetition\",\"@Repetition\"],[\"participant_number\",\"@participant_number\"],[\"attempt\",\"@attempt\"],[\"stream_0\",\"@stream_0\"],[\"stream_1\",\"@stream_1\"],[\"stream_2\",\"@stream_2\"],[\"stream_3\",\"@stream_3\"],[\"start_bar\",\"@start_bar\"],[\"collection\",\"@collection\"],[\"sample_id\",\"@sample_id\"]]}}]}},\"left\":[{\"type\":\"object\",\"name\":\"LinearAxis\",\"id\":\"p2477\",\"attributes\":{\"ticker\":{\"type\":\"object\",\"name\":\"FixedTicker\",\"id\":\"p2508\",\"attributes\":{\"ticks\":[0,1,2,3],\"minor_ticks\":[]}},\"formatter\":{\"type\":\"object\",\"name\":\"BasicTickFormatter\",\"id\":\"p2479\"},\"axis_label\":\"Instrument\",\"axis_label_standoff\":10,\"axis_label_text_color\":\"#5B5B5B\",\"axis_label_text_font\":\"Helvetica\",\"axis_label_text_font_size\":\"1.25em\",\"axis_label_text_font_style\":\"normal\",\"major_label_overrides\":{\"type\":\"map\",\"entries\":[[0,\"stream_0\"],[1,\"stream_1\"],[2,\"stream_2\"],[3,\"stream_3\"]]},\"major_label_policy\":{\"type\":\"object\",\"name\":\"AllLabels\",\"id\":\"p2480\"},\"major_label_text_color\":\"#5B5B5B\",\"major_label_text_font\":\"Helvetica\",\"major_label_text_font_size\":\"1.025em\",\"axis_line_color\":\"#5B5B5B\",\"axis_line_alpha\":0,\"major_tick_line_color\":\"#5B5B5B\",\"major_tick_line_alpha\":0,\"minor_tick_line_color\":\"#5B5B5B\",\"minor_tick_line_alpha\":0}}],\"right\":[{\"type\":\"object\",\"name\":\"Legend\",\"id\":\"p2505\",\"attributes\":{\"border_line_alpha\":0,\"background_fill_alpha\":0.25,\"click_policy\":\"hide\",\"label_text_color\":\"#5B5B5B\",\"label_text_font\":\"Helvetica\",\"label_text_font_size\":\"1.025em\",\"label_standoff\":8,\"glyph_width\":15,\"spacing\":8,\"items\":[{\"type\":\"object\",\"name\":\"LegendItem\",\"id\":\"p2506\",\"attributes\":{\"label\":{\"type\":\"value\",\"value\":\"Piano Roll\"},\"renderers\":[{\"id\":\"p2502\"}]}},{\"type\":\"object\",\"name\":\"LegendItem\",\"id\":\"p2556\",\"attributes\":{\"label\":{\"type\":\"value\",\"value\":\"Tempo\"},\"renderers\":[{\"id\":\"p2553\"}]}},{\"type\":\"object\",\"name\":\"LegendItem\",\"id\":\"p2570\",\"attributes\":{\"label\":{\"type\":\"value\",\"value\":\"Time Signature\"},\"renderers\":[{\"id\":\"p2567\"}]}},{\"type\":\"object\",\"name\":\"LegendItem\",\"id\":\"p2584\",\"attributes\":{\"label\":{\"type\":\"value\",\"value\":\"Metadata\"},\"renderers\":[{\"id\":\"p2581\"}]}}]}}],\"below\":[{\"type\":\"object\",\"name\":\"LinearAxis\",\"id\":\"p2472\",\"attributes\":{\"ticker\":{\"type\":\"object\",\"name\":\"FixedTicker\",\"id\":\"p2533\",\"attributes\":{\"ticks\":[0.0,0.69,1.38,2.07,2.76,3.45,4.14,4.83],\"minor_ticks\":[]}},\"formatter\":{\"type\":\"object\",\"name\":\"BasicTickFormatter\",\"id\":\"p2474\"},\"axis_label\":\"Time (sec)\",\"axis_label_standoff\":10,\"axis_label_text_color\":\"#5B5B5B\",\"axis_label_text_font\":\"Helvetica\",\"axis_label_text_font_size\":\"1.25em\",\"axis_label_text_font_style\":\"normal\",\"major_label_orientation\":1.57,\"major_label_policy\":{\"type\":\"object\",\"name\":\"AllLabels\",\"id\":\"p2475\"},\"major_label_text_color\":\"#5B5B5B\",\"major_label_text_font\":\"Helvetica\",\"major_label_text_font_size\":\"1.025em\",\"axis_line_color\":\"#5B5B5B\",\"axis_line_alpha\":0,\"major_tick_line_color\":\"#5B5B5B\",\"major_tick_line_alpha\":0,\"minor_tick_line_color\":\"#5B5B5B\",\"minor_tick_line_alpha\":0}}],\"center\":[{\"type\":\"object\",\"name\":\"Grid\",\"id\":\"p2476\",\"attributes\":{\"axis\":{\"id\":\"p2472\"},\"grid_line_color\":null}},{\"type\":\"object\",\"name\":\"Grid\",\"id\":\"p2481\",\"attributes\":{\"dimension\":1,\"axis\":{\"id\":\"p2477\"},\"grid_line_color\":null}},{\"id\":\"p2505\"},{\"type\":\"object\",\"name\":\"Span\",\"id\":\"p2509\",\"attributes\":{\"location\":0.172,\"dimension\":\"height\",\"line_width\":0.1}},{\"type\":\"object\",\"name\":\"Span\",\"id\":\"p2510\",\"attributes\":{\"location\":0.345,\"dimension\":\"height\",\"line_width\":0.1}},{\"type\":\"object\",\"name\":\"Span\",\"id\":\"p2511\",\"attributes\":{\"location\":0.517,\"dimension\":\"height\",\"line_width\":0.1}},{\"type\":\"object\",\"name\":\"Span\",\"id\":\"p2512\",\"attributes\":{\"location\":0.862,\"dimension\":\"height\",\"line_width\":0.1}},{\"type\":\"object\",\"name\":\"Span\",\"id\":\"p2513\",\"attributes\":{\"location\":1.035,\"dimension\":\"height\",\"line_width\":0.1}},{\"type\":\"object\",\"name\":\"Span\",\"id\":\"p2514\",\"attributes\":{\"location\":1.207,\"dimension\":\"height\",\"line_width\":0.1}},{\"type\":\"object\",\"name\":\"Span\",\"id\":\"p2515\",\"attributes\":{\"location\":1.551,\"dimension\":\"height\",\"line_width\":0.1}},{\"type\":\"object\",\"name\":\"Span\",\"id\":\"p2516\",\"attributes\":{\"location\":1.724,\"dimension\":\"height\",\"line_width\":0.1}},{\"type\":\"object\",\"name\":\"Span\",\"id\":\"p2517\",\"attributes\":{\"location\":1.896,\"dimension\":\"height\",\"line_width\":0.1}},{\"type\":\"object\",\"name\":\"Span\",\"id\":\"p2518\",\"attributes\":{\"location\":2.241,\"dimension\":\"height\",\"line_width\":0.1}},{\"type\":\"object\",\"name\":\"Span\",\"id\":\"p2519\",\"attributes\":{\"location\":2.414,\"dimension\":\"height\",\"line_width\":0.1}},{\"type\":\"object\",\"name\":\"Span\",\"id\":\"p2520\",\"attributes\":{\"location\":2.586,\"dimension\":\"height\",\"line_width\":0.1}},{\"type\":\"object\",\"name\":\"Span\",\"id\":\"p2521\",\"attributes\":{\"location\":2.931,\"dimension\":\"height\",\"line_width\":0.1}},{\"type\":\"object\",\"name\":\"Span\",\"id\":\"p2522\",\"attributes\":{\"location\":3.104,\"dimension\":\"height\",\"line_width\":0.1}},{\"type\":\"object\",\"name\":\"Span\",\"id\":\"p2523\",\"attributes\":{\"location\":3.276,\"dimension\":\"height\",\"line_width\":0.1}},{\"type\":\"object\",\"name\":\"Span\",\"id\":\"p2524\",\"attributes\":{\"location\":3.62,\"dimension\":\"height\",\"line_width\":0.1}},{\"type\":\"object\",\"name\":\"Span\",\"id\":\"p2525\",\"attributes\":{\"location\":3.793,\"dimension\":\"height\",\"line_width\":0.1}},{\"type\":\"object\",\"name\":\"Span\",\"id\":\"p2526\",\"attributes\":{\"location\":3.965,\"dimension\":\"height\",\"line_width\":0.1}},{\"type\":\"object\",\"name\":\"Span\",\"id\":\"p2527\",\"attributes\":{\"location\":4.31,\"dimension\":\"height\",\"line_width\":0.1}},{\"type\":\"object\",\"name\":\"Span\",\"id\":\"p2528\",\"attributes\":{\"location\":4.483,\"dimension\":\"height\",\"line_width\":0.1}},{\"type\":\"object\",\"name\":\"Span\",\"id\":\"p2529\",\"attributes\":{\"location\":4.655,\"dimension\":\"height\",\"line_width\":0.1}},{\"type\":\"object\",\"name\":\"Span\",\"id\":\"p2530\",\"attributes\":{\"location\":4.999,\"dimension\":\"height\",\"line_width\":0.1}},{\"type\":\"object\",\"name\":\"Span\",\"id\":\"p2531\",\"attributes\":{\"location\":5.172,\"dimension\":\"height\",\"line_width\":0.1}},{\"type\":\"object\",\"name\":\"Span\",\"id\":\"p2532\",\"attributes\":{\"location\":5.344,\"dimension\":\"height\",\"line_width\":0.1}},{\"type\":\"object\",\"name\":\"Span\",\"id\":\"p2534\",\"attributes\":{\"location\":0.0,\"dimension\":\"height\",\"line_width\":0.5}},{\"type\":\"object\",\"name\":\"Span\",\"id\":\"p2535\",\"attributes\":{\"location\":0.69,\"dimension\":\"height\",\"line_width\":0.5}},{\"type\":\"object\",\"name\":\"Span\",\"id\":\"p2536\",\"attributes\":{\"location\":1.379,\"dimension\":\"height\",\"line_width\":0.5}},{\"type\":\"object\",\"name\":\"Span\",\"id\":\"p2537\",\"attributes\":{\"location\":2.069,\"dimension\":\"height\",\"line_width\":0.5}},{\"type\":\"object\",\"name\":\"Span\",\"id\":\"p2538\",\"attributes\":{\"location\":2.758,\"dimension\":\"height\",\"line_width\":0.5}},{\"type\":\"object\",\"name\":\"Span\",\"id\":\"p2539\",\"attributes\":{\"location\":3.448,\"dimension\":\"height\",\"line_width\":0.5}},{\"type\":\"object\",\"name\":\"Span\",\"id\":\"p2540\",\"attributes\":{\"location\":4.138,\"dimension\":\"height\",\"line_width\":0.5}},{\"type\":\"object\",\"name\":\"Span\",\"id\":\"p2541\",\"attributes\":{\"location\":4.827,\"dimension\":\"height\",\"line_width\":0.5}},{\"type\":\"object\",\"name\":\"Span\",\"id\":\"p2542\",\"attributes\":{\"location\":0.0,\"dimension\":\"height\",\"line_width\":2}},{\"type\":\"object\",\"name\":\"Span\",\"id\":\"p2543\",\"attributes\":{\"location\":2.758,\"dimension\":\"height\",\"line_width\":2}}]}}}},{\"type\":\"object\",\"name\":\"TabPanel\",\"id\":\"p3748\",\"attributes\":{\"title\":\"Tab 2\",\"child\":{\"type\":\"object\",\"name\":\"Figure\",\"id\":\"p2589\",\"attributes\":{\"width\":800,\"height\":400,\"x_range\":{\"type\":\"object\",\"name\":\"DataRange1d\",\"id\":\"p2591\",\"attributes\":{\"start\":-0.48440000000000005,\"end\":5.328400000000001}},\"y_range\":{\"type\":\"object\",\"name\":\"Range1d\",\"id\":\"p2598\",\"attributes\":{\"start\":-0.5,\"end\":5.75}},\"x_scale\":{\"type\":\"object\",\"name\":\"LinearScale\",\"id\":\"p2599\"},\"y_scale\":{\"type\":\"object\",\"name\":\"LinearScale\",\"id\":\"p2600\"},\"title\":{\"type\":\"object\",\"name\":\"Title\",\"id\":\"p2596\",\"attributes\":{\"text_color\":\"#5B5B5B\",\"text_font\":\"Helvetica\",\"text_font_size\":\"1.15em\"}},\"renderers\":[{\"type\":\"object\",\"name\":\"GlyphRenderer\",\"id\":\"p2631\",\"attributes\":{\"data_source\":{\"type\":\"object\",\"name\":\"ColumnDataSource\",\"id\":\"p2622\",\"attributes\":{\"selected\":{\"type\":\"object\",\"name\":\"Selection\",\"id\":\"p2623\",\"attributes\":{\"indices\":[],\"line_indices\":[]}},\"selection_policy\":{\"type\":\"object\",\"name\":\"UnionRenderers\",\"id\":\"p2624\"},\"data\":{\"type\":\"map\",\"entries\":[[\"start\",[0.0,0.0,0.123708,0.123708,0.123708,0.334608,0.28002,0.28002,0.451887,0.442781,0.442781,0.625,0.618448,0.618448,0.768208,0.768208,0.768208,0.9089200000000001,0.944065,0.944065,1.062443,1.0806550000000001,1.0806550000000001,1.220048,1.256552,1.256552,1.377608,1.3866559999999999,1.3866559999999999,1.5507680000000001,1.523468,1.523468,1.687443,1.686187,1.686187,1.842396,1.864548,1.842396,1.9856040000000001,2.0130600000000003,1.9856040000000001,2.15502,2.161416,2.15502,2.2981559999999996,2.319037,2.2981559999999996,2.467396,2.5,2.467396,2.644456,2.6366560000000003,2.6366560000000003,2.8163959999999997,2.7929679999999997,2.7929679999999997,2.938856,2.9556549999999997,2.9556549999999997,3.106748,3.131552,3.131552,3.269456,3.268208,3.268208,3.400964,3.437471,3.437471,3.556006,3.5742179999999997,3.5742179999999997,3.7149,3.737052,3.737052,3.865908,3.8866560000000003,3.8866560000000003,4.04562,4.003968,4.003968,4.182262000000001,4.160125,4.160125,4.336,4.354096,4.336,4.492156,4.497459999999999,4.492156,4.648468,4.650964,4.648468,4.80475,4.802081,4.80475]],[\"end\",[0.07799999999999985,0.07799999999999985,0.20170799999999983,0.20170799999999983,0.20170799999999983,0.41260799999999986,0.35801999999999984,0.35801999999999984,0.5298869999999998,0.5207809999999998,0.5207809999999998,0.7029999999999998,0.6964479999999998,0.6964479999999998,0.8462079999999998,0.8462079999999998,0.8462079999999998,0.9869199999999999,1.022065,1.022065,1.1404429999999999,1.158655,1.158655,1.2980479999999999,1.3345519999999997,1.3345519999999997,1.4556079999999998,1.4646559999999997,1.4646559999999997,1.628768,1.601468,1.601468,1.7654429999999999,1.764187,1.764187,1.9203959999999998,1.942548,1.9203959999999998,2.0636039999999998,2.09106,2.0636039999999998,2.23302,2.239416,2.23302,2.3761559999999995,2.3970369999999996,2.3761559999999995,2.5453959999999998,2.578,2.5453959999999998,2.7224559999999998,2.714656,2.714656,2.8943959999999995,2.8709679999999995,2.8709679999999995,3.0168559999999998,3.0336549999999995,3.0336549999999995,3.184748,3.209552,3.209552,3.3474559999999998,3.346208,3.346208,3.478964,3.515471,3.515471,3.634006,3.6522179999999995,3.6522179999999995,3.7929,3.8150519999999997,3.8150519999999997,3.943908,3.964656,3.964656,4.123620000000001,4.081968,4.081968,4.260262000000001,4.238125,4.238125,4.414,4.432096,4.414,4.570155999999999,4.57546,4.570155999999999,4.726468000000001,4.7289639999999995,4.726468000000001,4.88275,4.880081000000001,4.88275]],[\"instrument\",[\"stream_0\",\"stream_2\",\"stream_1\",\"stream_2\",\"stream_3\",\"stream_1\",\"stream_2\",\"stream_3\",\"stream_1\",\"stream_2\",\"stream_3\",\"stream_1\",\"stream_2\",\"stream_3\",\"stream_1\",\"stream_2\",\"stream_3\",\"stream_1\",\"stream_2\",\"stream_3\",\"stream_1\",\"stream_2\",\"stream_3\",\"stream_1\",\"stream_2\",\"stream_3\",\"stream_1\",\"stream_2\",\"stream_3\",\"stream_1\",\"stream_2\",\"stream_3\",\"stream_1\",\"stream_2\",\"stream_3\",\"stream_0\",\"stream_1\",\"stream_2\",\"stream_0\",\"stream_1\",\"stream_2\",\"stream_0\",\"stream_1\",\"stream_2\",\"stream_0\",\"stream_1\",\"stream_2\",\"stream_0\",\"stream_1\",\"stream_2\",\"stream_1\",\"stream_2\",\"stream_3\",\"stream_1\",\"stream_2\",\"stream_3\",\"stream_1\",\"stream_2\",\"stream_3\",\"stream_1\",\"stream_2\",\"stream_3\",\"stream_1\",\"stream_2\",\"stream_3\",\"stream_1\",\"stream_2\",\"stream_3\",\"stream_1\",\"stream_2\",\"stream_3\",\"stream_1\",\"stream_2\",\"stream_3\",\"stream_1\",\"stream_2\",\"stream_3\",\"stream_1\",\"stream_2\",\"stream_3\",\"stream_1\",\"stream_2\",\"stream_3\",\"stream_0\",\"stream_1\",\"stream_2\",\"stream_0\",\"stream_1\",\"stream_2\",\"stream_0\",\"stream_1\",\"stream_2\",\"stream_0\",\"stream_1\",\"stream_2\"]],[\"voice_index\",[0,2,1,2,3,1,2,3,1,2,3,1,2,3,1,2,3,1,2,3,1,2,3,1,2,3,1,2,3,1,2,3,1,2,3,0,1,2,0,1,2,0,1,2,0,1,2,0,1,2,1,2,3,1,2,3,1,2,3,1,2,3,1,2,3,1,2,3,1,2,3,1,2,3,1,2,3,1,2,3,1,2,3,0,1,2,0,1,2,0,1,2,0,1,2]],[\"midi\",[36,42,38,42,46,38,42,46,38,42,46,38,42,46,38,42,46,38,42,46,38,42,46,38,42,46,38,42,46,38,42,46,38,42,46,36,38,42,36,38,42,36,38,42,36,38,42,36,38,42,38,42,46,38,42,46,38,42,46,38,42,46,38,42,46,38,42,46,38,42,46,38,42,46,38,42,46,38,42,46,38,42,46,36,38,42,36,38,42,36,38,42,36,38,42]],[\"velocity\",[0.181,0.181,0.26,0.417,0.417,0.606,0.346,0.346,0.598,0.543,0.543,0.638,0.535,0.535,0.236,0.331,0.331,0.669,0.677,0.677,0.205,0.315,0.315,0.717,0.717,0.717,0.244,0.244,0.244,0.433,0.205,0.205,0.622,0.504,0.504,0.236,0.63,0.236,0.433,0.52,0.433,0.354,0.449,0.354,0.528,0.575,0.528,0.165,0.709,0.165,0.646,0.362,0.362,0.394,0.315,0.315,0.74,0.567,0.567,0.638,0.63,0.63,0.244,0.346,0.346,0.756,0.646,0.646,0.283,0.299,0.299,0.811,0.717,0.717,0.283,0.268,0.268,0.37,0.394,0.394,0.583,0.417,0.417,0.26,0.504,0.26,0.488,0.465,0.488,0.354,0.449,0.354,0.417,0.748,0.417]],[\"offset\",[0.0,0.0,-0.207,-0.207,-0.207,0.144,-0.205,-0.205,-0.109,-0.167,-0.167,0.0,-0.042,-0.042,-0.082,-0.082,-0.082,-0.18,0.045,0.045,-0.201,-0.085,-0.085,-0.192,0.042,0.042,-0.182,-0.124,-0.124,-0.072,-0.247,-0.247,-0.201,-0.209,-0.209,-0.209,-0.067,-0.209,-0.291,-0.115,-0.291,-0.205,-0.164,-0.205,-0.292,-0.159,-0.292,-0.209,0.0,-0.209,-0.074,-0.124,-0.124,0.028,-0.122,-0.122,-0.192,-0.085,-0.085,-0.117,0.042,0.042,-0.074,-0.082,-0.082,-0.231,0.003,0.003,-0.242,-0.126,-0.126,-0.225,-0.083,-0.083,-0.257,-0.124,-0.124,-0.105,-0.372,-0.372,-0.234,-0.375,-0.375,-0.25,-0.134,-0.25,-0.249,-0.215,-0.249,-0.247,-0.231,-0.247,-0.25,-0.267,-0.25]],[\"offset_sec\",[0.0,0.0,-0.032,-0.032,-0.032,0.023,-0.032,-0.032,-0.017,-0.026,-0.026,0.0,-0.007,-0.007,-0.013,-0.013,-0.013,-0.028,0.007,0.007,-0.032,-0.013,-0.013,-0.03,0.007,0.007,-0.028,-0.019,-0.019,-0.011,-0.039,-0.039,-0.032,-0.033,-0.033,-0.033,-0.01,-0.033,-0.045,-0.018,-0.045,-0.032,-0.026,-0.032,-0.046,-0.025,-0.046,-0.033,0.0,-0.033,-0.012,-0.019,-0.019,0.004,-0.019,-0.019,-0.03,-0.013,-0.013,-0.018,0.007,0.007,-0.012,-0.013,-0.013,-0.036,0.0,0.0,-0.038,-0.02,-0.02,-0.035,-0.013,-0.013,-0.04,-0.019,-0.019,-0.016,-0.058,-0.058,-0.037,-0.059,-0.059,-0.039,-0.021,-0.039,-0.039,-0.034,-0.039,-0.039,-0.036,-0.039,-0.039,-0.042,-0.039]],[\"grid_line\",[0,0,1,1,1,2,2,2,3,3,3,4,4,4,5,5,5,6,6,6,7,7,7,8,8,8,9,9,9,10,10,10,11,11,11,12,12,12,13,13,13,14,14,14,15,15,15,16,16,16,17,17,17,18,18,18,19,19,19,20,20,20,21,21,21,22,22,22,23,23,23,24,24,24,25,25,25,26,26,26,27,27,27,28,28,28,29,29,29,30,30,30,31,31,31]],[\"top\",{\"type\":\"ndarray\",\"array\":{\"type\":\"bytes\",\"data\":\"mpmZmZmZyT+amZmZmZkBQDMzMzMzM/M/mpmZmZmZAUCamZmZmZkJQDMzMzMzM/M/mpmZmZmZAUCamZmZmZkJQDMzMzMzM/M/mpmZmZmZAUCamZmZmZkJQDMzMzMzM/M/mpmZmZmZAUCamZmZmZkJQDMzMzMzM/M/mpmZmZmZAUCamZmZmZkJQDMzMzMzM/M/mpmZmZmZAUCamZmZmZkJQDMzMzMzM/M/mpmZmZmZAUCamZmZmZkJQDMzMzMzM/M/mpmZmZmZAUCamZmZmZkJQDMzMzMzM/M/mpmZmZmZAUCamZmZmZkJQDMzMzMzM/M/mpmZmZmZAUCamZmZmZkJQDMzMzMzM/M/mpmZmZmZAUCamZmZmZkJQJqZmZmZmck/MzMzMzMz8z+amZmZmZkBQJqZmZmZmck/MzMzMzMz8z+amZmZmZkBQJqZmZmZmck/MzMzMzMz8z+amZmZmZkBQJqZmZmZmck/MzMzMzMz8z+amZmZmZkBQJqZmZmZmck/MzMzMzMz8z+amZmZmZkBQDMzMzMzM/M/mpmZmZmZAUCamZmZmZkJQDMzMzMzM/M/mpmZmZmZAUCamZmZmZkJQDMzMzMzM/M/mpmZmZmZAUCamZmZmZkJQDMzMzMzM/M/mpmZmZmZAUCamZmZmZkJQDMzMzMzM/M/mpmZmZmZAUCamZmZmZkJQDMzMzMzM/M/mpmZmZmZAUCamZmZmZkJQDMzMzMzM/M/mpmZmZmZAUCamZmZmZkJQDMzMzMzM/M/mpmZmZmZAUCamZmZmZkJQDMzMzMzM/M/mpmZmZmZAUCamZmZmZkJQDMzMzMzM/M/mpmZmZmZAUCamZmZmZkJQDMzMzMzM/M/mpmZmZmZAUCamZmZmZkJQJqZmZmZmck/MzMzMzMz8z+amZmZmZkBQJqZmZmZmck/MzMzMzMz8z+amZmZmZkBQJqZmZmZmck/MzMzMzMz8z+amZmZmZkBQJqZmZmZmck/MzMzMzMz8z+amZmZmZkBQA==\"},\"shape\":[95],\"dtype\":\"float64\",\"order\":\"little\"}],[\"bottom\",{\"type\":\"ndarray\",\"array\":{\"type\":\"bytes\",\"data\":\"mpmZmZmZyb/NzMzMzMz8P5qZmZmZmek/zczMzMzM/D9mZmZmZmYGQJqZmZmZmek/zczMzMzM/D9mZmZmZmYGQJqZmZmZmek/zczMzMzM/D9mZmZmZmYGQJqZmZmZmek/zczMzMzM/D9mZmZmZmYGQJqZmZmZmek/zczMzMzM/D9mZmZmZmYGQJqZmZmZmek/zczMzMzM/D9mZmZmZmYGQJqZmZmZmek/zczMzMzM/D9mZmZmZmYGQJqZmZmZmek/zczMzMzM/D9mZmZmZmYGQJqZmZmZmek/zczMzMzM/D9mZmZmZmYGQJqZmZmZmek/zczMzMzM/D9mZmZmZmYGQJqZmZmZmek/zczMzMzM/D9mZmZmZmYGQJqZmZmZmcm/mpmZmZmZ6T/NzMzMzMz8P5qZmZmZmcm/mpmZmZmZ6T/NzMzMzMz8P5qZmZmZmcm/mpmZmZmZ6T/NzMzMzMz8P5qZmZmZmcm/mpmZmZmZ6T/NzMzMzMz8P5qZmZmZmcm/mpmZmZmZ6T/NzMzMzMz8P5qZmZmZmek/zczMzMzM/D9mZmZmZmYGQJqZmZmZmek/zczMzMzM/D9mZmZmZmYGQJqZmZmZmek/zczMzMzM/D9mZmZmZmYGQJqZmZmZmek/zczMzMzM/D9mZmZmZmYGQJqZmZmZmek/zczMzMzM/D9mZmZmZmYGQJqZmZmZmek/zczMzMzM/D9mZmZmZmYGQJqZmZmZmek/zczMzMzM/D9mZmZmZmYGQJqZmZmZmek/zczMzMzM/D9mZmZmZmYGQJqZmZmZmek/zczMzMzM/D9mZmZmZmYGQJqZmZmZmek/zczMzMzM/D9mZmZmZmYGQJqZmZmZmek/zczMzMzM/D9mZmZmZmYGQJqZmZmZmcm/mpmZmZmZ6T/NzMzMzMz8P5qZmZmZmcm/mpmZmZmZ6T/NzMzMzMz8P5qZmZmZmcm/mpmZmZmZ6T/NzMzMzMz8P5qZmZmZmcm/mpmZmZmZ6T/NzMzMzMz8Pw==\"},\"shape\":[95],\"dtype\":\"float64\",\"order\":\"little\"}]]}}},\"view\":{\"type\":\"object\",\"name\":\"CDSView\",\"id\":\"p2632\",\"attributes\":{\"filter\":{\"type\":\"object\",\"name\":\"AllIndices\",\"id\":\"p2633\"}}},\"glyph\":{\"type\":\"object\",\"name\":\"Quad\",\"id\":\"p2628\",\"attributes\":{\"left\":{\"type\":\"field\",\"field\":\"start\"},\"right\":{\"type\":\"field\",\"field\":\"end\"},\"bottom\":{\"type\":\"field\",\"field\":\"bottom\"},\"top\":{\"type\":\"field\",\"field\":\"top\"},\"line_color\":{\"type\":\"value\",\"value\":\"grey\"},\"fill_color\":{\"type\":\"value\",\"value\":\"grey\"},\"fill_alpha\":{\"type\":\"field\",\"field\":\"velocity\"}}},\"nonselection_glyph\":{\"type\":\"object\",\"name\":\"Quad\",\"id\":\"p2629\",\"attributes\":{\"left\":{\"type\":\"field\",\"field\":\"start\"},\"right\":{\"type\":\"field\",\"field\":\"end\"},\"bottom\":{\"type\":\"field\",\"field\":\"bottom\"},\"top\":{\"type\":\"field\",\"field\":\"top\"},\"line_color\":{\"type\":\"value\",\"value\":\"grey\"},\"line_alpha\":{\"type\":\"value\",\"value\":0.1},\"fill_color\":{\"type\":\"value\",\"value\":\"grey\"},\"fill_alpha\":{\"type\":\"value\",\"value\":0.1},\"hatch_alpha\":{\"type\":\"value\",\"value\":0.1}}},\"muted_glyph\":{\"type\":\"object\",\"name\":\"Quad\",\"id\":\"p2630\",\"attributes\":{\"left\":{\"type\":\"field\",\"field\":\"start\"},\"right\":{\"type\":\"field\",\"field\":\"end\"},\"bottom\":{\"type\":\"field\",\"field\":\"bottom\"},\"top\":{\"type\":\"field\",\"field\":\"top\"},\"line_color\":{\"type\":\"value\",\"value\":\"grey\"},\"line_alpha\":{\"type\":\"value\",\"value\":0.2},\"fill_color\":{\"type\":\"value\",\"value\":\"grey\"},\"fill_alpha\":{\"type\":\"value\",\"value\":0.2},\"hatch_alpha\":{\"type\":\"value\",\"value\":0.2}}}}},{\"type\":\"object\",\"name\":\"GlyphRenderer\",\"id\":\"p2682\",\"attributes\":{\"data_source\":{\"type\":\"object\",\"name\":\"ColumnDataSource\",\"id\":\"p2673\",\"attributes\":{\"selected\":{\"type\":\"object\",\"name\":\"Selection\",\"id\":\"p2674\",\"attributes\":{\"indices\":[],\"line_indices\":[]}},\"selection_policy\":{\"type\":\"object\",\"name\":\"UnionRenderers\",\"id\":\"p2675\"},\"data\":{\"type\":\"map\",\"entries\":[[\"x\",[0.0]],[\"y\",[4.5]],[\"tempo\",[96.0]],[\"grid_index\",[0]]]}}},\"view\":{\"type\":\"object\",\"name\":\"CDSView\",\"id\":\"p2683\",\"attributes\":{\"filter\":{\"type\":\"object\",\"name\":\"AllIndices\",\"id\":\"p2684\"}}},\"glyph\":{\"type\":\"object\",\"name\":\"Scatter\",\"id\":\"p2679\",\"attributes\":{\"x\":{\"type\":\"field\",\"field\":\"x\"},\"y\":{\"type\":\"field\",\"field\":\"y\"},\"size\":{\"type\":\"value\",\"value\":10},\"line_color\":{\"type\":\"value\",\"value\":\"#440154\"},\"fill_color\":{\"type\":\"value\",\"value\":\"#440154\"}}},\"nonselection_glyph\":{\"type\":\"object\",\"name\":\"Scatter\",\"id\":\"p2680\",\"attributes\":{\"x\":{\"type\":\"field\",\"field\":\"x\"},\"y\":{\"type\":\"field\",\"field\":\"y\"},\"size\":{\"type\":\"value\",\"value\":10},\"line_color\":{\"type\":\"value\",\"value\":\"#440154\"},\"line_alpha\":{\"type\":\"value\",\"value\":0.1},\"fill_color\":{\"type\":\"value\",\"value\":\"#440154\"},\"fill_alpha\":{\"type\":\"value\",\"value\":0.1},\"hatch_alpha\":{\"type\":\"value\",\"value\":0.1}}},\"muted_glyph\":{\"type\":\"object\",\"name\":\"Scatter\",\"id\":\"p2681\",\"attributes\":{\"x\":{\"type\":\"field\",\"field\":\"x\"},\"y\":{\"type\":\"field\",\"field\":\"y\"},\"size\":{\"type\":\"value\",\"value\":10},\"line_color\":{\"type\":\"value\",\"value\":\"#440154\"},\"line_alpha\":{\"type\":\"value\",\"value\":0.2},\"fill_color\":{\"type\":\"value\",\"value\":\"#440154\"},\"fill_alpha\":{\"type\":\"value\",\"value\":0.2},\"hatch_alpha\":{\"type\":\"value\",\"value\":0.2}}}}},{\"type\":\"object\",\"name\":\"GlyphRenderer\",\"id\":\"p2696\",\"attributes\":{\"data_source\":{\"type\":\"object\",\"name\":\"ColumnDataSource\",\"id\":\"p2687\",\"attributes\":{\"selected\":{\"type\":\"object\",\"name\":\"Selection\",\"id\":\"p2688\",\"attributes\":{\"indices\":[],\"line_indices\":[]}},\"selection_policy\":{\"type\":\"object\",\"name\":\"UnionRenderers\",\"id\":\"p2689\"},\"data\":{\"type\":\"map\",\"entries\":[[\"x\",[0.0]],[\"y\",[4]],[\"Numerator\",[4]],[\"Denominator\",[4]],[\"grid_index\",[0]]]}}},\"view\":{\"type\":\"object\",\"name\":\"CDSView\",\"id\":\"p2697\",\"attributes\":{\"filter\":{\"type\":\"object\",\"name\":\"AllIndices\",\"id\":\"p2698\"}}},\"glyph\":{\"type\":\"object\",\"name\":\"Scatter\",\"id\":\"p2693\",\"attributes\":{\"x\":{\"type\":\"field\",\"field\":\"x\"},\"y\":{\"type\":\"field\",\"field\":\"y\"},\"size\":{\"type\":\"value\",\"value\":10},\"line_color\":{\"type\":\"value\",\"value\":\"#70CE56\"},\"fill_color\":{\"type\":\"value\",\"value\":\"#70CE56\"}}},\"nonselection_glyph\":{\"type\":\"object\",\"name\":\"Scatter\",\"id\":\"p2694\",\"attributes\":{\"x\":{\"type\":\"field\",\"field\":\"x\"},\"y\":{\"type\":\"field\",\"field\":\"y\"},\"size\":{\"type\":\"value\",\"value\":10},\"line_color\":{\"type\":\"value\",\"value\":\"#70CE56\"},\"line_alpha\":{\"type\":\"value\",\"value\":0.1},\"fill_color\":{\"type\":\"value\",\"value\":\"#70CE56\"},\"fill_alpha\":{\"type\":\"value\",\"value\":0.1},\"hatch_alpha\":{\"type\":\"value\",\"value\":0.1}}},\"muted_glyph\":{\"type\":\"object\",\"name\":\"Scatter\",\"id\":\"p2695\",\"attributes\":{\"x\":{\"type\":\"field\",\"field\":\"x\"},\"y\":{\"type\":\"field\",\"field\":\"y\"},\"size\":{\"type\":\"value\",\"value\":10},\"line_color\":{\"type\":\"value\",\"value\":\"#70CE56\"},\"line_alpha\":{\"type\":\"value\",\"value\":0.2},\"fill_color\":{\"type\":\"value\",\"value\":\"#70CE56\"},\"fill_alpha\":{\"type\":\"value\",\"value\":0.2},\"hatch_alpha\":{\"type\":\"value\",\"value\":0.2}}}}},{\"type\":\"object\",\"name\":\"GlyphRenderer\",\"id\":\"p2710\",\"attributes\":{\"data_source\":{\"type\":\"object\",\"name\":\"ColumnDataSource\",\"id\":\"p2701\",\"attributes\":{\"selected\":{\"type\":\"object\",\"name\":\"Selection\",\"id\":\"p2702\",\"attributes\":{\"indices\":[],\"line_indices\":[]}},\"selection_policy\":{\"type\":\"object\",\"name\":\"UnionRenderers\",\"id\":\"p2703\"},\"data\":{\"type\":\"map\",\"entries\":[[\"x\",[0.0]],[\"y\",[3.5]],[\"Style\",[\"latin-brazilian-sambareggae\"]],[\"Tempo\",[96.0]],[\"TestNumber\",[\"039\"]],[\"Repetition\",[\"Repetition 0\"]],[\"participant_number\",[\"39\"]],[\"attempt\",[\"39_p1_rep0\"]],[\"stream_0\",[\"39_p1_rep0_right\"]],[\"stream_1\",[\"39_p1_rep0_flattened\"]],[\"stream_2\",[\"39_p1_rep0_both\"]],[\"stream_3\",[\"39_p1_rep0_left\"]],[\"start_bar\",[0]],[\"collection\",[\"taptamdrum_hvo_output_both_is_or\"]],[\"sample_id\",[\"39_p1_rep0\"]]]}}},\"view\":{\"type\":\"object\",\"name\":\"CDSView\",\"id\":\"p2711\",\"attributes\":{\"filter\":{\"type\":\"object\",\"name\":\"AllIndices\",\"id\":\"p2712\"}}},\"glyph\":{\"type\":\"object\",\"name\":\"Scatter\",\"id\":\"p2707\",\"attributes\":{\"x\":{\"type\":\"field\",\"field\":\"x\"},\"y\":{\"type\":\"field\",\"field\":\"y\"},\"size\":{\"type\":\"value\",\"value\":10},\"line_color\":{\"type\":\"value\",\"value\":\"#1EA087\"},\"fill_color\":{\"type\":\"value\",\"value\":\"#1EA087\"}}},\"nonselection_glyph\":{\"type\":\"object\",\"name\":\"Scatter\",\"id\":\"p2708\",\"attributes\":{\"x\":{\"type\":\"field\",\"field\":\"x\"},\"y\":{\"type\":\"field\",\"field\":\"y\"},\"size\":{\"type\":\"value\",\"value\":10},\"line_color\":{\"type\":\"value\",\"value\":\"#1EA087\"},\"line_alpha\":{\"type\":\"value\",\"value\":0.1},\"fill_color\":{\"type\":\"value\",\"value\":\"#1EA087\"},\"fill_alpha\":{\"type\":\"value\",\"value\":0.1},\"hatch_alpha\":{\"type\":\"value\",\"value\":0.1}}},\"muted_glyph\":{\"type\":\"object\",\"name\":\"Scatter\",\"id\":\"p2709\",\"attributes\":{\"x\":{\"type\":\"field\",\"field\":\"x\"},\"y\":{\"type\":\"field\",\"field\":\"y\"},\"size\":{\"type\":\"value\",\"value\":10},\"line_color\":{\"type\":\"value\",\"value\":\"#1EA087\"},\"line_alpha\":{\"type\":\"value\",\"value\":0.2},\"fill_color\":{\"type\":\"value\",\"value\":\"#1EA087\"},\"fill_alpha\":{\"type\":\"value\",\"value\":0.2},\"hatch_alpha\":{\"type\":\"value\",\"value\":0.2}}}}}],\"toolbar\":{\"type\":\"object\",\"name\":\"Toolbar\",\"id\":\"p2597\",\"attributes\":{\"tools\":[{\"type\":\"object\",\"name\":\"PanTool\",\"id\":\"p2611\"},{\"type\":\"object\",\"name\":\"WheelZoomTool\",\"id\":\"p2612\",\"attributes\":{\"renderers\":\"auto\"}},{\"type\":\"object\",\"name\":\"BoxZoomTool\",\"id\":\"p2613\",\"attributes\":{\"overlay\":{\"type\":\"object\",\"name\":\"BoxAnnotation\",\"id\":\"p2614\",\"attributes\":{\"syncable\":false,\"level\":\"overlay\",\"visible\":false,\"left\":{\"type\":\"number\",\"value\":\"nan\"},\"right\":{\"type\":\"number\",\"value\":\"nan\"},\"top\":{\"type\":\"number\",\"value\":\"nan\"},\"bottom\":{\"type\":\"number\",\"value\":\"nan\"},\"left_units\":\"canvas\",\"right_units\":\"canvas\",\"top_units\":\"canvas\",\"bottom_units\":\"canvas\",\"line_color\":\"black\",\"line_alpha\":1.0,\"line_width\":2,\"line_dash\":[4,4],\"fill_color\":\"lightgrey\",\"fill_alpha\":0.5}}}},{\"type\":\"object\",\"name\":\"SaveTool\",\"id\":\"p2619\"},{\"type\":\"object\",\"name\":\"ResetTool\",\"id\":\"p2620\"},{\"type\":\"object\",\"name\":\"HelpTool\",\"id\":\"p2621\"},{\"type\":\"object\",\"name\":\"HoverTool\",\"id\":\"p2636\",\"attributes\":{\"renderers\":[{\"id\":\"p2631\"}],\"tooltips\":[[\"start\",\"@start\"],[\"end\",\"@end\"],[\"instrument\",\"@instrument\"],[\"voice_index\",\"@voice_index\"],[\"midi\",\"@midi\"],[\"velocity\",\"@velocity\"],[\"offset\",\"@offset\"],[\"offset_sec\",\"@offset_sec\"],[\"grid_line\",\"@grid_line\"]]}},{\"type\":\"object\",\"name\":\"HoverTool\",\"id\":\"p2686\",\"attributes\":{\"renderers\":[{\"id\":\"p2682\"}],\"tooltips\":[[\"tempo\",\"@tempo\"],[\"grid_index\",\"@grid_index\"]]}},{\"type\":\"object\",\"name\":\"HoverTool\",\"id\":\"p2700\",\"attributes\":{\"renderers\":[{\"id\":\"p2696\"}],\"tooltips\":[[\"Numerator\",\"@Numerator\"],[\"Denominator\",\"@Denominator\"],[\"grid_index\",\"@grid_index\"]]}},{\"type\":\"object\",\"name\":\"HoverTool\",\"id\":\"p2714\",\"attributes\":{\"renderers\":[{\"id\":\"p2710\"}],\"tooltips\":[[\"Style\",\"@Style\"],[\"Tempo\",\"@Tempo\"],[\"TestNumber\",\"@TestNumber\"],[\"Repetition\",\"@Repetition\"],[\"participant_number\",\"@participant_number\"],[\"attempt\",\"@attempt\"],[\"stream_0\",\"@stream_0\"],[\"stream_1\",\"@stream_1\"],[\"stream_2\",\"@stream_2\"],[\"stream_3\",\"@stream_3\"],[\"start_bar\",\"@start_bar\"],[\"collection\",\"@collection\"],[\"sample_id\",\"@sample_id\"]]}}]}},\"left\":[{\"type\":\"object\",\"name\":\"LinearAxis\",\"id\":\"p2606\",\"attributes\":{\"ticker\":{\"type\":\"object\",\"name\":\"FixedTicker\",\"id\":\"p2637\",\"attributes\":{\"ticks\":[0,1,2,3],\"minor_ticks\":[]}},\"formatter\":{\"type\":\"object\",\"name\":\"BasicTickFormatter\",\"id\":\"p2608\"},\"axis_label\":\"Instrument\",\"axis_label_standoff\":10,\"axis_label_text_color\":\"#5B5B5B\",\"axis_label_text_font\":\"Helvetica\",\"axis_label_text_font_size\":\"1.25em\",\"axis_label_text_font_style\":\"normal\",\"major_label_overrides\":{\"type\":\"map\",\"entries\":[[0,\"stream_0\"],[1,\"stream_1\"],[2,\"stream_2\"],[3,\"stream_3\"]]},\"major_label_policy\":{\"type\":\"object\",\"name\":\"AllLabels\",\"id\":\"p2609\"},\"major_label_text_color\":\"#5B5B5B\",\"major_label_text_font\":\"Helvetica\",\"major_label_text_font_size\":\"1.025em\",\"axis_line_color\":\"#5B5B5B\",\"axis_line_alpha\":0,\"major_tick_line_color\":\"#5B5B5B\",\"major_tick_line_alpha\":0,\"minor_tick_line_color\":\"#5B5B5B\",\"minor_tick_line_alpha\":0}}],\"right\":[{\"type\":\"object\",\"name\":\"Legend\",\"id\":\"p2634\",\"attributes\":{\"border_line_alpha\":0,\"background_fill_alpha\":0.25,\"click_policy\":\"hide\",\"label_text_color\":\"#5B5B5B\",\"label_text_font\":\"Helvetica\",\"label_text_font_size\":\"1.025em\",\"label_standoff\":8,\"glyph_width\":15,\"spacing\":8,\"items\":[{\"type\":\"object\",\"name\":\"LegendItem\",\"id\":\"p2635\",\"attributes\":{\"label\":{\"type\":\"value\",\"value\":\"Piano Roll\"},\"renderers\":[{\"id\":\"p2631\"}]}},{\"type\":\"object\",\"name\":\"LegendItem\",\"id\":\"p2685\",\"attributes\":{\"label\":{\"type\":\"value\",\"value\":\"Tempo\"},\"renderers\":[{\"id\":\"p2682\"}]}},{\"type\":\"object\",\"name\":\"LegendItem\",\"id\":\"p2699\",\"attributes\":{\"label\":{\"type\":\"value\",\"value\":\"Time Signature\"},\"renderers\":[{\"id\":\"p2696\"}]}},{\"type\":\"object\",\"name\":\"LegendItem\",\"id\":\"p2713\",\"attributes\":{\"label\":{\"type\":\"value\",\"value\":\"Metadata\"},\"renderers\":[{\"id\":\"p2710\"}]}}]}}],\"below\":[{\"type\":\"object\",\"name\":\"LinearAxis\",\"id\":\"p2601\",\"attributes\":{\"ticker\":{\"type\":\"object\",\"name\":\"FixedTicker\",\"id\":\"p2662\",\"attributes\":{\"ticks\":[0.0,0.62,1.25,1.88,2.5,3.12,3.75,4.38],\"minor_ticks\":[]}},\"formatter\":{\"type\":\"object\",\"name\":\"BasicTickFormatter\",\"id\":\"p2603\"},\"axis_label\":\"Time (sec)\",\"axis_label_standoff\":10,\"axis_label_text_color\":\"#5B5B5B\",\"axis_label_text_font\":\"Helvetica\",\"axis_label_text_font_size\":\"1.25em\",\"axis_label_text_font_style\":\"normal\",\"major_label_orientation\":1.57,\"major_label_policy\":{\"type\":\"object\",\"name\":\"AllLabels\",\"id\":\"p2604\"},\"major_label_text_color\":\"#5B5B5B\",\"major_label_text_font\":\"Helvetica\",\"major_label_text_font_size\":\"1.025em\",\"axis_line_color\":\"#5B5B5B\",\"axis_line_alpha\":0,\"major_tick_line_color\":\"#5B5B5B\",\"major_tick_line_alpha\":0,\"minor_tick_line_color\":\"#5B5B5B\",\"minor_tick_line_alpha\":0}}],\"center\":[{\"type\":\"object\",\"name\":\"Grid\",\"id\":\"p2605\",\"attributes\":{\"axis\":{\"id\":\"p2601\"},\"grid_line_color\":null}},{\"type\":\"object\",\"name\":\"Grid\",\"id\":\"p2610\",\"attributes\":{\"dimension\":1,\"axis\":{\"id\":\"p2606\"},\"grid_line_color\":null}},{\"id\":\"p2634\"},{\"type\":\"object\",\"name\":\"Span\",\"id\":\"p2638\",\"attributes\":{\"location\":0.156,\"dimension\":\"height\",\"line_width\":0.1}},{\"type\":\"object\",\"name\":\"Span\",\"id\":\"p2639\",\"attributes\":{\"location\":0.312,\"dimension\":\"height\",\"line_width\":0.1}},{\"type\":\"object\",\"name\":\"Span\",\"id\":\"p2640\",\"attributes\":{\"location\":0.469,\"dimension\":\"height\",\"line_width\":0.1}},{\"type\":\"object\",\"name\":\"Span\",\"id\":\"p2641\",\"attributes\":{\"location\":0.781,\"dimension\":\"height\",\"line_width\":0.1}},{\"type\":\"object\",\"name\":\"Span\",\"id\":\"p2642\",\"attributes\":{\"location\":0.937,\"dimension\":\"height\",\"line_width\":0.1}},{\"type\":\"object\",\"name\":\"Span\",\"id\":\"p2643\",\"attributes\":{\"location\":1.094,\"dimension\":\"height\",\"line_width\":0.1}},{\"type\":\"object\",\"name\":\"Span\",\"id\":\"p2644\",\"attributes\":{\"location\":1.406,\"dimension\":\"height\",\"line_width\":0.1}},{\"type\":\"object\",\"name\":\"Span\",\"id\":\"p2645\",\"attributes\":{\"location\":1.562,\"dimension\":\"height\",\"line_width\":0.1}},{\"type\":\"object\",\"name\":\"Span\",\"id\":\"p2646\",\"attributes\":{\"location\":1.719,\"dimension\":\"height\",\"line_width\":0.1}},{\"type\":\"object\",\"name\":\"Span\",\"id\":\"p2647\",\"attributes\":{\"location\":2.031,\"dimension\":\"height\",\"line_width\":0.1}},{\"type\":\"object\",\"name\":\"Span\",\"id\":\"p2648\",\"attributes\":{\"location\":2.187,\"dimension\":\"height\",\"line_width\":0.1}},{\"type\":\"object\",\"name\":\"Span\",\"id\":\"p2649\",\"attributes\":{\"location\":2.344,\"dimension\":\"height\",\"line_width\":0.1}},{\"type\":\"object\",\"name\":\"Span\",\"id\":\"p2650\",\"attributes\":{\"location\":2.656,\"dimension\":\"height\",\"line_width\":0.1}},{\"type\":\"object\",\"name\":\"Span\",\"id\":\"p2651\",\"attributes\":{\"location\":2.812,\"dimension\":\"height\",\"line_width\":0.1}},{\"type\":\"object\",\"name\":\"Span\",\"id\":\"p2652\",\"attributes\":{\"location\":2.969,\"dimension\":\"height\",\"line_width\":0.1}},{\"type\":\"object\",\"name\":\"Span\",\"id\":\"p2653\",\"attributes\":{\"location\":3.281,\"dimension\":\"height\",\"line_width\":0.1}},{\"type\":\"object\",\"name\":\"Span\",\"id\":\"p2654\",\"attributes\":{\"location\":3.437,\"dimension\":\"height\",\"line_width\":0.1}},{\"type\":\"object\",\"name\":\"Span\",\"id\":\"p2655\",\"attributes\":{\"location\":3.594,\"dimension\":\"height\",\"line_width\":0.1}},{\"type\":\"object\",\"name\":\"Span\",\"id\":\"p2656\",\"attributes\":{\"location\":3.906,\"dimension\":\"height\",\"line_width\":0.1}},{\"type\":\"object\",\"name\":\"Span\",\"id\":\"p2657\",\"attributes\":{\"location\":4.062,\"dimension\":\"height\",\"line_width\":0.1}},{\"type\":\"object\",\"name\":\"Span\",\"id\":\"p2658\",\"attributes\":{\"location\":4.219,\"dimension\":\"height\",\"line_width\":0.1}},{\"type\":\"object\",\"name\":\"Span\",\"id\":\"p2659\",\"attributes\":{\"location\":4.531,\"dimension\":\"height\",\"line_width\":0.1}},{\"type\":\"object\",\"name\":\"Span\",\"id\":\"p2660\",\"attributes\":{\"location\":4.687,\"dimension\":\"height\",\"line_width\":0.1}},{\"type\":\"object\",\"name\":\"Span\",\"id\":\"p2661\",\"attributes\":{\"location\":4.844,\"dimension\":\"height\",\"line_width\":0.1}},{\"type\":\"object\",\"name\":\"Span\",\"id\":\"p2663\",\"attributes\":{\"location\":0.0,\"dimension\":\"height\",\"line_width\":0.5}},{\"type\":\"object\",\"name\":\"Span\",\"id\":\"p2664\",\"attributes\":{\"location\":0.625,\"dimension\":\"height\",\"line_width\":0.5}},{\"type\":\"object\",\"name\":\"Span\",\"id\":\"p2665\",\"attributes\":{\"location\":1.25,\"dimension\":\"height\",\"line_width\":0.5}},{\"type\":\"object\",\"name\":\"Span\",\"id\":\"p2666\",\"attributes\":{\"location\":1.875,\"dimension\":\"height\",\"line_width\":0.5}},{\"type\":\"object\",\"name\":\"Span\",\"id\":\"p2667\",\"attributes\":{\"location\":2.5,\"dimension\":\"height\",\"line_width\":0.5}},{\"type\":\"object\",\"name\":\"Span\",\"id\":\"p2668\",\"attributes\":{\"location\":3.125,\"dimension\":\"height\",\"line_width\":0.5}},{\"type\":\"object\",\"name\":\"Span\",\"id\":\"p2669\",\"attributes\":{\"location\":3.75,\"dimension\":\"height\",\"line_width\":0.5}},{\"type\":\"object\",\"name\":\"Span\",\"id\":\"p2670\",\"attributes\":{\"location\":4.375,\"dimension\":\"height\",\"line_width\":0.5}},{\"type\":\"object\",\"name\":\"Span\",\"id\":\"p2671\",\"attributes\":{\"location\":0.0,\"dimension\":\"height\",\"line_width\":2}},{\"type\":\"object\",\"name\":\"Span\",\"id\":\"p2672\",\"attributes\":{\"location\":2.5,\"dimension\":\"height\",\"line_width\":2}}]}}}},{\"type\":\"object\",\"name\":\"TabPanel\",\"id\":\"p3749\",\"attributes\":{\"title\":\"Tab 3\",\"child\":{\"type\":\"object\",\"name\":\"Figure\",\"id\":\"p2718\",\"attributes\":{\"width\":800,\"height\":400,\"x_range\":{\"type\":\"object\",\"name\":\"DataRange1d\",\"id\":\"p2720\",\"attributes\":{\"start\":-0.5054000000000001,\"end\":5.559400000000001}},\"y_range\":{\"type\":\"object\",\"name\":\"Range1d\",\"id\":\"p2727\",\"attributes\":{\"start\":-0.5,\"end\":5.75}},\"x_scale\":{\"type\":\"object\",\"name\":\"LinearScale\",\"id\":\"p2728\"},\"y_scale\":{\"type\":\"object\",\"name\":\"LinearScale\",\"id\":\"p2729\"},\"title\":{\"type\":\"object\",\"name\":\"Title\",\"id\":\"p2725\",\"attributes\":{\"text_color\":\"#5B5B5B\",\"text_font\":\"Helvetica\",\"text_font_size\":\"1.15em\"}},\"renderers\":[{\"type\":\"object\",\"name\":\"GlyphRenderer\",\"id\":\"p2760\",\"attributes\":{\"data_source\":{\"type\":\"object\",\"name\":\"ColumnDataSource\",\"id\":\"p2751\",\"attributes\":{\"selected\":{\"type\":\"object\",\"name\":\"Selection\",\"id\":\"p2752\",\"attributes\":{\"indices\":[],\"line_indices\":[]}},\"selection_policy\":{\"type\":\"object\",\"name\":\"UnionRenderers\",\"id\":\"p2753\"},\"data\":{\"type\":\"map\",\"entries\":[[\"start\",[0.020375,0.014996,0.020375,0.346538,0.33284600000000003,0.346538,0.668463,0.672538,0.672538,0.9837049999999999,1.327472,1.4714010000000002,1.6467889999999998,1.797564,1.950132,2.1090570000000004,2.265374,2.30971,2.30971,2.44337,2.6290270000000002,2.5926780000000003,2.6290270000000002,2.941498,2.911995,2.941498,3.248536,3.267683,3.267683,3.576079,3.9022419999999998,4.048941999999999,4.286759,4.237696,4.286759,4.384559,4.557502,4.578855,4.578855,4.713655999999999,4.879427,5.042427]],[\"end\",[0.10187499999999969,0.09649599999999968,0.10187499999999969,0.4280379999999997,0.4143459999999997,0.4280379999999997,0.7499629999999997,0.7540379999999997,0.7540379999999997,1.0652049999999997,1.4089719999999997,1.5529009999999999,1.7282889999999995,1.8790639999999996,2.0316319999999997,2.190557,2.3468739999999997,2.3912099999999996,2.3912099999999996,2.5248699999999995,2.710527,2.674178,2.710527,3.022998,2.993495,3.022998,3.3300359999999998,3.3491829999999996,3.3491829999999996,3.6575789999999997,3.9837419999999995,4.130441999999999,4.368259,4.319196,4.368259,4.466059,4.639002,4.660354999999999,4.660354999999999,4.795155999999999,4.960927,5.123927]],[\"instrument\",[\"stream_0\",\"stream_1\",\"stream_2\",\"stream_0\",\"stream_1\",\"stream_2\",\"stream_1\",\"stream_2\",\"stream_3\",\"stream_1\",\"stream_1\",\"stream_1\",\"stream_1\",\"stream_1\",\"stream_1\",\"stream_1\",\"stream_1\",\"stream_2\",\"stream_3\",\"stream_1\",\"stream_0\",\"stream_1\",\"stream_2\",\"stream_0\",\"stream_1\",\"stream_2\",\"stream_1\",\"stream_2\",\"stream_3\",\"stream_1\",\"stream_1\",\"stream_1\",\"stream_0\",\"stream_1\",\"stream_2\",\"stream_1\",\"stream_1\",\"stream_2\",\"stream_3\",\"stream_1\",\"stream_1\",\"stream_1\"]],[\"voice_index\",[0,1,2,0,1,2,1,2,3,1,1,1,1,1,1,1,1,2,3,1,0,1,2,0,1,2,1,2,3,1,1,1,0,1,2,1,1,2,3,1,1,1]],[\"midi\",[36,38,42,36,38,42,38,42,46,38,38,38,38,38,38,38,38,42,46,38,36,38,42,36,38,42,38,42,46,38,38,38,36,38,42,38,38,42,46,38,38,38]],[\"velocity\",[0.181,1.0,0.181,0.11,1.0,0.11,1.0,1.0,1.0,0.402,0.26,0.094,0.646,0.756,1.0,0.614,1.0,0.976,0.976,0.724,0.362,1.0,0.362,0.346,1.0,0.346,1.0,1.0,1.0,0.346,0.244,0.346,0.126,0.906,0.126,0.906,1.0,1.0,1.0,0.717,0.528,1.0]],[\"offset\",[0.125,0.092,0.125,0.126,0.042,0.126,0.101,0.126,0.126,0.035,0.144,0.027,0.103,0.028,-0.036,-0.061,-0.102,0.17,0.17,-0.01,0.129,-0.094,0.129,0.046,-0.135,0.046,-0.076,0.041,0.041,-0.067,-0.066,-0.166,0.293,-0.008,0.293,-0.107,-0.046,0.085,0.085,-0.088,-0.071,-0.071]],[\"offset_sec\",[0.02,0.015,0.02,0.021,0.007,0.021,0.016,0.021,0.021,0.006,0.023,0.004,0.017,0.005,-0.006,-0.01,-0.017,0.028,0.028,-0.002,0.021,-0.015,0.021,0.007,-0.022,0.007,-0.012,0.007,0.007,-0.011,-0.011,-0.027,0.048,-0.001,0.048,-0.017,-0.007,0.014,0.014,-0.014,-0.012,-0.012]],[\"grid_line\",[0,0,0,2,2,2,4,4,4,6,8,9,10,11,12,13,14,14,14,15,16,16,16,18,18,18,20,20,20,22,24,25,26,26,26,27,28,28,28,29,30,31]],[\"top\",{\"type\":\"ndarray\",\"array\":{\"type\":\"bytes\",\"data\":\"mpmZmZmZyT8zMzMzMzPzP5qZmZmZmQFAmpmZmZmZyT8zMzMzMzPzP5qZmZmZmQFAMzMzMzMz8z+amZmZmZkBQJqZmZmZmQlAMzMzMzMz8z8zMzMzMzPzPzMzMzMzM/M/MzMzMzMz8z8zMzMzMzPzPzMzMzMzM/M/MzMzMzMz8z8zMzMzMzPzP5qZmZmZmQFAmpmZmZmZCUAzMzMzMzPzP5qZmZmZmck/MzMzMzMz8z+amZmZmZkBQJqZmZmZmck/MzMzMzMz8z+amZmZmZkBQDMzMzMzM/M/mpmZmZmZAUCamZmZmZkJQDMzMzMzM/M/MzMzMzMz8z8zMzMzMzPzP5qZmZmZmck/MzMzMzMz8z+amZmZmZkBQDMzMzMzM/M/MzMzMzMz8z+amZmZmZkBQJqZmZmZmQlAMzMzMzMz8z8zMzMzMzPzPzMzMzMzM/M/\"},\"shape\":[42],\"dtype\":\"float64\",\"order\":\"little\"}],[\"bottom\",{\"type\":\"ndarray\",\"array\":{\"type\":\"bytes\",\"data\":\"mpmZmZmZyb+amZmZmZnpP83MzMzMzPw/mpmZmZmZyb+amZmZmZnpP83MzMzMzPw/mpmZmZmZ6T/NzMzMzMz8P2ZmZmZmZgZAmpmZmZmZ6T+amZmZmZnpP5qZmZmZmek/mpmZmZmZ6T+amZmZmZnpP5qZmZmZmek/mpmZmZmZ6T+amZmZmZnpP83MzMzMzPw/ZmZmZmZmBkCamZmZmZnpP5qZmZmZmcm/mpmZmZmZ6T/NzMzMzMz8P5qZmZmZmcm/mpmZmZmZ6T/NzMzMzMz8P5qZmZmZmek/zczMzMzM/D9mZmZmZmYGQJqZmZmZmek/mpmZmZmZ6T+amZmZmZnpP5qZmZmZmcm/mpmZmZmZ6T/NzMzMzMz8P5qZmZmZmek/mpmZmZmZ6T/NzMzMzMz8P2ZmZmZmZgZAmpmZmZmZ6T+amZmZmZnpP5qZmZmZmek/\"},\"shape\":[42],\"dtype\":\"float64\",\"order\":\"little\"}]]}}},\"view\":{\"type\":\"object\",\"name\":\"CDSView\",\"id\":\"p2761\",\"attributes\":{\"filter\":{\"type\":\"object\",\"name\":\"AllIndices\",\"id\":\"p2762\"}}},\"glyph\":{\"type\":\"object\",\"name\":\"Quad\",\"id\":\"p2757\",\"attributes\":{\"left\":{\"type\":\"field\",\"field\":\"start\"},\"right\":{\"type\":\"field\",\"field\":\"end\"},\"bottom\":{\"type\":\"field\",\"field\":\"bottom\"},\"top\":{\"type\":\"field\",\"field\":\"top\"},\"line_color\":{\"type\":\"value\",\"value\":\"grey\"},\"fill_color\":{\"type\":\"value\",\"value\":\"grey\"},\"fill_alpha\":{\"type\":\"field\",\"field\":\"velocity\"}}},\"nonselection_glyph\":{\"type\":\"object\",\"name\":\"Quad\",\"id\":\"p2758\",\"attributes\":{\"left\":{\"type\":\"field\",\"field\":\"start\"},\"right\":{\"type\":\"field\",\"field\":\"end\"},\"bottom\":{\"type\":\"field\",\"field\":\"bottom\"},\"top\":{\"type\":\"field\",\"field\":\"top\"},\"line_color\":{\"type\":\"value\",\"value\":\"grey\"},\"line_alpha\":{\"type\":\"value\",\"value\":0.1},\"fill_color\":{\"type\":\"value\",\"value\":\"grey\"},\"fill_alpha\":{\"type\":\"value\",\"value\":0.1},\"hatch_alpha\":{\"type\":\"value\",\"value\":0.1}}},\"muted_glyph\":{\"type\":\"object\",\"name\":\"Quad\",\"id\":\"p2759\",\"attributes\":{\"left\":{\"type\":\"field\",\"field\":\"start\"},\"right\":{\"type\":\"field\",\"field\":\"end\"},\"bottom\":{\"type\":\"field\",\"field\":\"bottom\"},\"top\":{\"type\":\"field\",\"field\":\"top\"},\"line_color\":{\"type\":\"value\",\"value\":\"grey\"},\"line_alpha\":{\"type\":\"value\",\"value\":0.2},\"fill_color\":{\"type\":\"value\",\"value\":\"grey\"},\"fill_alpha\":{\"type\":\"value\",\"value\":0.2},\"hatch_alpha\":{\"type\":\"value\",\"value\":0.2}}}}},{\"type\":\"object\",\"name\":\"GlyphRenderer\",\"id\":\"p2811\",\"attributes\":{\"data_source\":{\"type\":\"object\",\"name\":\"ColumnDataSource\",\"id\":\"p2802\",\"attributes\":{\"selected\":{\"type\":\"object\",\"name\":\"Selection\",\"id\":\"p2803\",\"attributes\":{\"indices\":[],\"line_indices\":[]}},\"selection_policy\":{\"type\":\"object\",\"name\":\"UnionRenderers\",\"id\":\"p2804\"},\"data\":{\"type\":\"map\",\"entries\":[[\"x\",[0.0]],[\"y\",[4.5]],[\"tempo\",[92.0]],[\"grid_index\",[0]]]}}},\"view\":{\"type\":\"object\",\"name\":\"CDSView\",\"id\":\"p2812\",\"attributes\":{\"filter\":{\"type\":\"object\",\"name\":\"AllIndices\",\"id\":\"p2813\"}}},\"glyph\":{\"type\":\"object\",\"name\":\"Scatter\",\"id\":\"p2808\",\"attributes\":{\"x\":{\"type\":\"field\",\"field\":\"x\"},\"y\":{\"type\":\"field\",\"field\":\"y\"},\"size\":{\"type\":\"value\",\"value\":10},\"line_color\":{\"type\":\"value\",\"value\":\"#440154\"},\"fill_color\":{\"type\":\"value\",\"value\":\"#440154\"}}},\"nonselection_glyph\":{\"type\":\"object\",\"name\":\"Scatter\",\"id\":\"p2809\",\"attributes\":{\"x\":{\"type\":\"field\",\"field\":\"x\"},\"y\":{\"type\":\"field\",\"field\":\"y\"},\"size\":{\"type\":\"value\",\"value\":10},\"line_color\":{\"type\":\"value\",\"value\":\"#440154\"},\"line_alpha\":{\"type\":\"value\",\"value\":0.1},\"fill_color\":{\"type\":\"value\",\"value\":\"#440154\"},\"fill_alpha\":{\"type\":\"value\",\"value\":0.1},\"hatch_alpha\":{\"type\":\"value\",\"value\":0.1}}},\"muted_glyph\":{\"type\":\"object\",\"name\":\"Scatter\",\"id\":\"p2810\",\"attributes\":{\"x\":{\"type\":\"field\",\"field\":\"x\"},\"y\":{\"type\":\"field\",\"field\":\"y\"},\"size\":{\"type\":\"value\",\"value\":10},\"line_color\":{\"type\":\"value\",\"value\":\"#440154\"},\"line_alpha\":{\"type\":\"value\",\"value\":0.2},\"fill_color\":{\"type\":\"value\",\"value\":\"#440154\"},\"fill_alpha\":{\"type\":\"value\",\"value\":0.2},\"hatch_alpha\":{\"type\":\"value\",\"value\":0.2}}}}},{\"type\":\"object\",\"name\":\"GlyphRenderer\",\"id\":\"p2825\",\"attributes\":{\"data_source\":{\"type\":\"object\",\"name\":\"ColumnDataSource\",\"id\":\"p2816\",\"attributes\":{\"selected\":{\"type\":\"object\",\"name\":\"Selection\",\"id\":\"p2817\",\"attributes\":{\"indices\":[],\"line_indices\":[]}},\"selection_policy\":{\"type\":\"object\",\"name\":\"UnionRenderers\",\"id\":\"p2818\"},\"data\":{\"type\":\"map\",\"entries\":[[\"x\",[0.0]],[\"y\",[4]],[\"Numerator\",[4]],[\"Denominator\",[4]],[\"grid_index\",[0]]]}}},\"view\":{\"type\":\"object\",\"name\":\"CDSView\",\"id\":\"p2826\",\"attributes\":{\"filter\":{\"type\":\"object\",\"name\":\"AllIndices\",\"id\":\"p2827\"}}},\"glyph\":{\"type\":\"object\",\"name\":\"Scatter\",\"id\":\"p2822\",\"attributes\":{\"x\":{\"type\":\"field\",\"field\":\"x\"},\"y\":{\"type\":\"field\",\"field\":\"y\"},\"size\":{\"type\":\"value\",\"value\":10},\"line_color\":{\"type\":\"value\",\"value\":\"#70CE56\"},\"fill_color\":{\"type\":\"value\",\"value\":\"#70CE56\"}}},\"nonselection_glyph\":{\"type\":\"object\",\"name\":\"Scatter\",\"id\":\"p2823\",\"attributes\":{\"x\":{\"type\":\"field\",\"field\":\"x\"},\"y\":{\"type\":\"field\",\"field\":\"y\"},\"size\":{\"type\":\"value\",\"value\":10},\"line_color\":{\"type\":\"value\",\"value\":\"#70CE56\"},\"line_alpha\":{\"type\":\"value\",\"value\":0.1},\"fill_color\":{\"type\":\"value\",\"value\":\"#70CE56\"},\"fill_alpha\":{\"type\":\"value\",\"value\":0.1},\"hatch_alpha\":{\"type\":\"value\",\"value\":0.1}}},\"muted_glyph\":{\"type\":\"object\",\"name\":\"Scatter\",\"id\":\"p2824\",\"attributes\":{\"x\":{\"type\":\"field\",\"field\":\"x\"},\"y\":{\"type\":\"field\",\"field\":\"y\"},\"size\":{\"type\":\"value\",\"value\":10},\"line_color\":{\"type\":\"value\",\"value\":\"#70CE56\"},\"line_alpha\":{\"type\":\"value\",\"value\":0.2},\"fill_color\":{\"type\":\"value\",\"value\":\"#70CE56\"},\"fill_alpha\":{\"type\":\"value\",\"value\":0.2},\"hatch_alpha\":{\"type\":\"value\",\"value\":0.2}}}}},{\"type\":\"object\",\"name\":\"GlyphRenderer\",\"id\":\"p2839\",\"attributes\":{\"data_source\":{\"type\":\"object\",\"name\":\"ColumnDataSource\",\"id\":\"p2830\",\"attributes\":{\"selected\":{\"type\":\"object\",\"name\":\"Selection\",\"id\":\"p2831\",\"attributes\":{\"indices\":[],\"line_indices\":[]}},\"selection_policy\":{\"type\":\"object\",\"name\":\"UnionRenderers\",\"id\":\"p2832\"},\"data\":{\"type\":\"map\",\"entries\":[[\"x\",[0.0]],[\"y\",[3.5]],[\"Style\",[\"hiphop\"]],[\"Tempo\",[92.0]],[\"TestNumber\",[\"214\"]],[\"Repetition\",[\"Simple\"]],[\"participant_number\",[\"214\"]],[\"attempt\",[\"214_p1_simple\"]],[\"stream_0\",[\"214_p1_simple_right\"]],[\"stream_1\",[\"214_p1_simple_flattened\"]],[\"stream_2\",[\"214_p1_simple_both\"]],[\"stream_3\",[\"214_p1_simple_left\"]],[\"start_bar\",[0]],[\"collection\",[\"taptamdrum_hvo_output_both_is_or\"]],[\"sample_id\",[\"214_p1_simple\"]]]}}},\"view\":{\"type\":\"object\",\"name\":\"CDSView\",\"id\":\"p2840\",\"attributes\":{\"filter\":{\"type\":\"object\",\"name\":\"AllIndices\",\"id\":\"p2841\"}}},\"glyph\":{\"type\":\"object\",\"name\":\"Scatter\",\"id\":\"p2836\",\"attributes\":{\"x\":{\"type\":\"field\",\"field\":\"x\"},\"y\":{\"type\":\"field\",\"field\":\"y\"},\"size\":{\"type\":\"value\",\"value\":10},\"line_color\":{\"type\":\"value\",\"value\":\"#1EA087\"},\"fill_color\":{\"type\":\"value\",\"value\":\"#1EA087\"}}},\"nonselection_glyph\":{\"type\":\"object\",\"name\":\"Scatter\",\"id\":\"p2837\",\"attributes\":{\"x\":{\"type\":\"field\",\"field\":\"x\"},\"y\":{\"type\":\"field\",\"field\":\"y\"},\"size\":{\"type\":\"value\",\"value\":10},\"line_color\":{\"type\":\"value\",\"value\":\"#1EA087\"},\"line_alpha\":{\"type\":\"value\",\"value\":0.1},\"fill_color\":{\"type\":\"value\",\"value\":\"#1EA087\"},\"fill_alpha\":{\"type\":\"value\",\"value\":0.1},\"hatch_alpha\":{\"type\":\"value\",\"value\":0.1}}},\"muted_glyph\":{\"type\":\"object\",\"name\":\"Scatter\",\"id\":\"p2838\",\"attributes\":{\"x\":{\"type\":\"field\",\"field\":\"x\"},\"y\":{\"type\":\"field\",\"field\":\"y\"},\"size\":{\"type\":\"value\",\"value\":10},\"line_color\":{\"type\":\"value\",\"value\":\"#1EA087\"},\"line_alpha\":{\"type\":\"value\",\"value\":0.2},\"fill_color\":{\"type\":\"value\",\"value\":\"#1EA087\"},\"fill_alpha\":{\"type\":\"value\",\"value\":0.2},\"hatch_alpha\":{\"type\":\"value\",\"value\":0.2}}}}}],\"toolbar\":{\"type\":\"object\",\"name\":\"Toolbar\",\"id\":\"p2726\",\"attributes\":{\"tools\":[{\"type\":\"object\",\"name\":\"PanTool\",\"id\":\"p2740\"},{\"type\":\"object\",\"name\":\"WheelZoomTool\",\"id\":\"p2741\",\"attributes\":{\"renderers\":\"auto\"}},{\"type\":\"object\",\"name\":\"BoxZoomTool\",\"id\":\"p2742\",\"attributes\":{\"overlay\":{\"type\":\"object\",\"name\":\"BoxAnnotation\",\"id\":\"p2743\",\"attributes\":{\"syncable\":false,\"level\":\"overlay\",\"visible\":false,\"left\":{\"type\":\"number\",\"value\":\"nan\"},\"right\":{\"type\":\"number\",\"value\":\"nan\"},\"top\":{\"type\":\"number\",\"value\":\"nan\"},\"bottom\":{\"type\":\"number\",\"value\":\"nan\"},\"left_units\":\"canvas\",\"right_units\":\"canvas\",\"top_units\":\"canvas\",\"bottom_units\":\"canvas\",\"line_color\":\"black\",\"line_alpha\":1.0,\"line_width\":2,\"line_dash\":[4,4],\"fill_color\":\"lightgrey\",\"fill_alpha\":0.5}}}},{\"type\":\"object\",\"name\":\"SaveTool\",\"id\":\"p2748\"},{\"type\":\"object\",\"name\":\"ResetTool\",\"id\":\"p2749\"},{\"type\":\"object\",\"name\":\"HelpTool\",\"id\":\"p2750\"},{\"type\":\"object\",\"name\":\"HoverTool\",\"id\":\"p2765\",\"attributes\":{\"renderers\":[{\"id\":\"p2760\"}],\"tooltips\":[[\"start\",\"@start\"],[\"end\",\"@end\"],[\"instrument\",\"@instrument\"],[\"voice_index\",\"@voice_index\"],[\"midi\",\"@midi\"],[\"velocity\",\"@velocity\"],[\"offset\",\"@offset\"],[\"offset_sec\",\"@offset_sec\"],[\"grid_line\",\"@grid_line\"]]}},{\"type\":\"object\",\"name\":\"HoverTool\",\"id\":\"p2815\",\"attributes\":{\"renderers\":[{\"id\":\"p2811\"}],\"tooltips\":[[\"tempo\",\"@tempo\"],[\"grid_index\",\"@grid_index\"]]}},{\"type\":\"object\",\"name\":\"HoverTool\",\"id\":\"p2829\",\"attributes\":{\"renderers\":[{\"id\":\"p2825\"}],\"tooltips\":[[\"Numerator\",\"@Numerator\"],[\"Denominator\",\"@Denominator\"],[\"grid_index\",\"@grid_index\"]]}},{\"type\":\"object\",\"name\":\"HoverTool\",\"id\":\"p2843\",\"attributes\":{\"renderers\":[{\"id\":\"p2839\"}],\"tooltips\":[[\"Style\",\"@Style\"],[\"Tempo\",\"@Tempo\"],[\"TestNumber\",\"@TestNumber\"],[\"Repetition\",\"@Repetition\"],[\"participant_number\",\"@participant_number\"],[\"attempt\",\"@attempt\"],[\"stream_0\",\"@stream_0\"],[\"stream_1\",\"@stream_1\"],[\"stream_2\",\"@stream_2\"],[\"stream_3\",\"@stream_3\"],[\"start_bar\",\"@start_bar\"],[\"collection\",\"@collection\"],[\"sample_id\",\"@sample_id\"]]}}]}},\"left\":[{\"type\":\"object\",\"name\":\"LinearAxis\",\"id\":\"p2735\",\"attributes\":{\"ticker\":{\"type\":\"object\",\"name\":\"FixedTicker\",\"id\":\"p2766\",\"attributes\":{\"ticks\":[0,1,2,3],\"minor_ticks\":[]}},\"formatter\":{\"type\":\"object\",\"name\":\"BasicTickFormatter\",\"id\":\"p2737\"},\"axis_label\":\"Instrument\",\"axis_label_standoff\":10,\"axis_label_text_color\":\"#5B5B5B\",\"axis_label_text_font\":\"Helvetica\",\"axis_label_text_font_size\":\"1.25em\",\"axis_label_text_font_style\":\"normal\",\"major_label_overrides\":{\"type\":\"map\",\"entries\":[[0,\"stream_0\"],[1,\"stream_1\"],[2,\"stream_2\"],[3,\"stream_3\"]]},\"major_label_policy\":{\"type\":\"object\",\"name\":\"AllLabels\",\"id\":\"p2738\"},\"major_label_text_color\":\"#5B5B5B\",\"major_label_text_font\":\"Helvetica\",\"major_label_text_font_size\":\"1.025em\",\"axis_line_color\":\"#5B5B5B\",\"axis_line_alpha\":0,\"major_tick_line_color\":\"#5B5B5B\",\"major_tick_line_alpha\":0,\"minor_tick_line_color\":\"#5B5B5B\",\"minor_tick_line_alpha\":0}}],\"right\":[{\"type\":\"object\",\"name\":\"Legend\",\"id\":\"p2763\",\"attributes\":{\"border_line_alpha\":0,\"background_fill_alpha\":0.25,\"click_policy\":\"hide\",\"label_text_color\":\"#5B5B5B\",\"label_text_font\":\"Helvetica\",\"label_text_font_size\":\"1.025em\",\"label_standoff\":8,\"glyph_width\":15,\"spacing\":8,\"items\":[{\"type\":\"object\",\"name\":\"LegendItem\",\"id\":\"p2764\",\"attributes\":{\"label\":{\"type\":\"value\",\"value\":\"Piano Roll\"},\"renderers\":[{\"id\":\"p2760\"}]}},{\"type\":\"object\",\"name\":\"LegendItem\",\"id\":\"p2814\",\"attributes\":{\"label\":{\"type\":\"value\",\"value\":\"Tempo\"},\"renderers\":[{\"id\":\"p2811\"}]}},{\"type\":\"object\",\"name\":\"LegendItem\",\"id\":\"p2828\",\"attributes\":{\"label\":{\"type\":\"value\",\"value\":\"Time Signature\"},\"renderers\":[{\"id\":\"p2825\"}]}},{\"type\":\"object\",\"name\":\"LegendItem\",\"id\":\"p2842\",\"attributes\":{\"label\":{\"type\":\"value\",\"value\":\"Metadata\"},\"renderers\":[{\"id\":\"p2839\"}]}}]}}],\"below\":[{\"type\":\"object\",\"name\":\"LinearAxis\",\"id\":\"p2730\",\"attributes\":{\"ticker\":{\"type\":\"object\",\"name\":\"FixedTicker\",\"id\":\"p2791\",\"attributes\":{\"ticks\":[0.0,0.65,1.3,1.96,2.61,3.26,3.91,4.57],\"minor_ticks\":[]}},\"formatter\":{\"type\":\"object\",\"name\":\"BasicTickFormatter\",\"id\":\"p2732\"},\"axis_label\":\"Time (sec)\",\"axis_label_standoff\":10,\"axis_label_text_color\":\"#5B5B5B\",\"axis_label_text_font\":\"Helvetica\",\"axis_label_text_font_size\":\"1.25em\",\"axis_label_text_font_style\":\"normal\",\"major_label_orientation\":1.57,\"major_label_policy\":{\"type\":\"object\",\"name\":\"AllLabels\",\"id\":\"p2733\"},\"major_label_text_color\":\"#5B5B5B\",\"major_label_text_font\":\"Helvetica\",\"major_label_text_font_size\":\"1.025em\",\"axis_line_color\":\"#5B5B5B\",\"axis_line_alpha\":0,\"major_tick_line_color\":\"#5B5B5B\",\"major_tick_line_alpha\":0,\"minor_tick_line_color\":\"#5B5B5B\",\"minor_tick_line_alpha\":0}}],\"center\":[{\"type\":\"object\",\"name\":\"Grid\",\"id\":\"p2734\",\"attributes\":{\"axis\":{\"id\":\"p2730\"},\"grid_line_color\":null}},{\"type\":\"object\",\"name\":\"Grid\",\"id\":\"p2739\",\"attributes\":{\"dimension\":1,\"axis\":{\"id\":\"p2735\"},\"grid_line_color\":null}},{\"id\":\"p2763\"},{\"type\":\"object\",\"name\":\"Span\",\"id\":\"p2767\",\"attributes\":{\"location\":0.163,\"dimension\":\"height\",\"line_width\":0.1}},{\"type\":\"object\",\"name\":\"Span\",\"id\":\"p2768\",\"attributes\":{\"location\":0.326,\"dimension\":\"height\",\"line_width\":0.1}},{\"type\":\"object\",\"name\":\"Span\",\"id\":\"p2769\",\"attributes\":{\"location\":0.489,\"dimension\":\"height\",\"line_width\":0.1}},{\"type\":\"object\",\"name\":\"Span\",\"id\":\"p2770\",\"attributes\":{\"location\":0.815,\"dimension\":\"height\",\"line_width\":0.1}},{\"type\":\"object\",\"name\":\"Span\",\"id\":\"p2771\",\"attributes\":{\"location\":0.978,\"dimension\":\"height\",\"line_width\":0.1}},{\"type\":\"object\",\"name\":\"Span\",\"id\":\"p2772\",\"attributes\":{\"location\":1.141,\"dimension\":\"height\",\"line_width\":0.1}},{\"type\":\"object\",\"name\":\"Span\",\"id\":\"p2773\",\"attributes\":{\"location\":1.467,\"dimension\":\"height\",\"line_width\":0.1}},{\"type\":\"object\",\"name\":\"Span\",\"id\":\"p2774\",\"attributes\":{\"location\":1.63,\"dimension\":\"height\",\"line_width\":0.1}},{\"type\":\"object\",\"name\":\"Span\",\"id\":\"p2775\",\"attributes\":{\"location\":1.793,\"dimension\":\"height\",\"line_width\":0.1}},{\"type\":\"object\",\"name\":\"Span\",\"id\":\"p2776\",\"attributes\":{\"location\":2.119,\"dimension\":\"height\",\"line_width\":0.1}},{\"type\":\"object\",\"name\":\"Span\",\"id\":\"p2777\",\"attributes\":{\"location\":2.282,\"dimension\":\"height\",\"line_width\":0.1}},{\"type\":\"object\",\"name\":\"Span\",\"id\":\"p2778\",\"attributes\":{\"location\":2.445,\"dimension\":\"height\",\"line_width\":0.1}},{\"type\":\"object\",\"name\":\"Span\",\"id\":\"p2779\",\"attributes\":{\"location\":2.771,\"dimension\":\"height\",\"line_width\":0.1}},{\"type\":\"object\",\"name\":\"Span\",\"id\":\"p2780\",\"attributes\":{\"location\":2.934,\"dimension\":\"height\",\"line_width\":0.1}},{\"type\":\"object\",\"name\":\"Span\",\"id\":\"p2781\",\"attributes\":{\"location\":3.097,\"dimension\":\"height\",\"line_width\":0.1}},{\"type\":\"object\",\"name\":\"Span\",\"id\":\"p2782\",\"attributes\":{\"location\":3.424,\"dimension\":\"height\",\"line_width\":0.1}},{\"type\":\"object\",\"name\":\"Span\",\"id\":\"p2783\",\"attributes\":{\"location\":3.587,\"dimension\":\"height\",\"line_width\":0.1}},{\"type\":\"object\",\"name\":\"Span\",\"id\":\"p2784\",\"attributes\":{\"location\":3.75,\"dimension\":\"height\",\"line_width\":0.1}},{\"type\":\"object\",\"name\":\"Span\",\"id\":\"p2785\",\"attributes\":{\"location\":4.076,\"dimension\":\"height\",\"line_width\":0.1}},{\"type\":\"object\",\"name\":\"Span\",\"id\":\"p2786\",\"attributes\":{\"location\":4.239,\"dimension\":\"height\",\"line_width\":0.1}},{\"type\":\"object\",\"name\":\"Span\",\"id\":\"p2787\",\"attributes\":{\"location\":4.402,\"dimension\":\"height\",\"line_width\":0.1}},{\"type\":\"object\",\"name\":\"Span\",\"id\":\"p2788\",\"attributes\":{\"location\":4.728,\"dimension\":\"height\",\"line_width\":0.1}},{\"type\":\"object\",\"name\":\"Span\",\"id\":\"p2789\",\"attributes\":{\"location\":4.891,\"dimension\":\"height\",\"line_width\":0.1}},{\"type\":\"object\",\"name\":\"Span\",\"id\":\"p2790\",\"attributes\":{\"location\":5.054,\"dimension\":\"height\",\"line_width\":0.1}},{\"type\":\"object\",\"name\":\"Span\",\"id\":\"p2792\",\"attributes\":{\"location\":0.0,\"dimension\":\"height\",\"line_width\":0.5}},{\"type\":\"object\",\"name\":\"Span\",\"id\":\"p2793\",\"attributes\":{\"location\":0.652,\"dimension\":\"height\",\"line_width\":0.5}},{\"type\":\"object\",\"name\":\"Span\",\"id\":\"p2794\",\"attributes\":{\"location\":1.304,\"dimension\":\"height\",\"line_width\":0.5}},{\"type\":\"object\",\"name\":\"Span\",\"id\":\"p2795\",\"attributes\":{\"location\":1.956,\"dimension\":\"height\",\"line_width\":0.5}},{\"type\":\"object\",\"name\":\"Span\",\"id\":\"p2796\",\"attributes\":{\"location\":2.608,\"dimension\":\"height\",\"line_width\":0.5}},{\"type\":\"object\",\"name\":\"Span\",\"id\":\"p2797\",\"attributes\":{\"location\":3.261,\"dimension\":\"height\",\"line_width\":0.5}},{\"type\":\"object\",\"name\":\"Span\",\"id\":\"p2798\",\"attributes\":{\"location\":3.913,\"dimension\":\"height\",\"line_width\":0.5}},{\"type\":\"object\",\"name\":\"Span\",\"id\":\"p2799\",\"attributes\":{\"location\":4.565,\"dimension\":\"height\",\"line_width\":0.5}},{\"type\":\"object\",\"name\":\"Span\",\"id\":\"p2800\",\"attributes\":{\"location\":0.0,\"dimension\":\"height\",\"line_width\":2}},{\"type\":\"object\",\"name\":\"Span\",\"id\":\"p2801\",\"attributes\":{\"location\":2.608,\"dimension\":\"height\",\"line_width\":2}}]}}}},{\"type\":\"object\",\"name\":\"TabPanel\",\"id\":\"p3750\",\"attributes\":{\"title\":\"Tab 4\",\"child\":{\"type\":\"object\",\"name\":\"Figure\",\"id\":\"p2847\",\"attributes\":{\"width\":800,\"height\":400,\"x_range\":{\"type\":\"object\",\"name\":\"DataRange1d\",\"id\":\"p2849\",\"attributes\":{\"start\":-0.3875,\"end\":4.2625}},\"y_range\":{\"type\":\"object\",\"name\":\"Range1d\",\"id\":\"p2856\",\"attributes\":{\"start\":-0.5,\"end\":5.75}},\"x_scale\":{\"type\":\"object\",\"name\":\"LinearScale\",\"id\":\"p2857\"},\"y_scale\":{\"type\":\"object\",\"name\":\"LinearScale\",\"id\":\"p2858\"},\"title\":{\"type\":\"object\",\"name\":\"Title\",\"id\":\"p2854\",\"attributes\":{\"text_color\":\"#5B5B5B\",\"text_font\":\"Helvetica\",\"text_font_size\":\"1.15em\"}},\"renderers\":[{\"type\":\"object\",\"name\":\"GlyphRenderer\",\"id\":\"p2889\",\"attributes\":{\"data_source\":{\"type\":\"object\",\"name\":\"ColumnDataSource\",\"id\":\"p2880\",\"attributes\":{\"selected\":{\"type\":\"object\",\"name\":\"Selection\",\"id\":\"p2881\",\"attributes\":{\"indices\":[],\"line_indices\":[]}},\"selection_policy\":{\"type\":\"object\",\"name\":\"UnionRenderers\",\"id\":\"p2882\"},\"data\":{\"type\":\"map\",\"entries\":[[\"start\",[0.276,0.23025,0.276,0.390625,0.5,0.484375,0.5,0.729125,0.740625,0.729125,0.899,0.99475,0.965625,0.99475,1.229125,1.241625,1.229125,1.403125,1.5365,1.490625,1.5365,1.651,1.654125,1.651,1.760375,1.752125,1.760375,1.924,2.046875,1.970875,2.046875,2.2865,2.24275,2.2865,2.424,2.526,2.472875,2.526,2.765625,2.758375,2.765625,3.010375,2.989625,3.010375,3.265625,3.271875,3.265625,3.526,3.51875,3.526,3.7865,3.7615,3.7865]],[\"end\",[0.3385,0.29275,0.3385,0.453125,0.5625,0.546875,0.5625,0.791625,0.803125,0.791625,0.9615,1.05725,1.028125,1.05725,1.291625,1.304125,1.291625,1.465625,1.599,1.553125,1.599,1.7135,1.716625,1.7135,1.822875,1.814625,1.822875,1.9865,2.109375,2.033375,2.109375,2.349,2.30525,2.349,2.4865,2.5885,2.535375,2.5885,2.828125,2.820875,2.828125,3.072875,3.052125,3.072875,3.328125,3.334375,3.328125,3.5885,3.58125,3.5885,3.849,3.824,3.849]],[\"instrument\",[\"stream_0\",\"stream_2\",\"stream_3\",\"stream_2\",\"stream_1\",\"stream_2\",\"stream_3\",\"stream_0\",\"stream_2\",\"stream_3\",\"stream_2\",\"stream_1\",\"stream_2\",\"stream_3\",\"stream_0\",\"stream_2\",\"stream_3\",\"stream_2\",\"stream_1\",\"stream_2\",\"stream_3\",\"stream_1\",\"stream_2\",\"stream_3\",\"stream_0\",\"stream_2\",\"stream_3\",\"stream_2\",\"stream_1\",\"stream_2\",\"stream_3\",\"stream_0\",\"stream_2\",\"stream_3\",\"stream_2\",\"stream_1\",\"stream_2\",\"stream_3\",\"stream_0\",\"stream_2\",\"stream_3\",\"stream_1\",\"stream_2\",\"stream_3\",\"stream_0\",\"stream_2\",\"stream_3\",\"stream_1\",\"stream_2\",\"stream_3\",\"stream_0\",\"stream_2\",\"stream_3\"]],[\"voice_index\",[0,2,3,2,1,2,3,0,2,3,2,1,2,3,0,2,3,2,1,2,3,1,2,3,0,2,3,2,1,2,3,0,2,3,2,1,2,3,0,2,3,1,2,3,0,2,3,1,2,3,0,2,3]],[\"midi\",[36,42,46,42,38,42,46,36,42,46,42,38,42,46,36,42,46,42,38,42,46,38,42,46,36,42,46,42,38,42,46,36,42,46,42,38,42,46,36,42,46,38,42,46,36,42,46,38,42,46,36,42,46]],[\"velocity\",[0.598,0.535,0.598,0.157,0.283,0.37,0.283,0.717,0.559,0.717,0.22,0.268,0.504,0.268,0.764,0.598,0.764,0.252,0.331,0.457,0.331,0.354,0.315,0.354,0.677,0.717,0.677,0.315,0.244,0.496,0.244,0.654,0.575,0.654,0.331,0.15,0.48,0.15,0.701,0.583,0.701,0.181,0.512,0.181,0.772,0.591,0.772,0.252,0.465,0.252,0.701,0.583,0.701]],[\"offset\",[0.208,-0.158,0.208,0.125,0.0,-0.125,0.0,-0.167,-0.075,-0.167,0.192,-0.042,-0.275,-0.042,-0.167,-0.067,-0.167,0.225,0.292,-0.075,0.292,0.208,0.233,0.208,0.083,0.017,0.083,0.392,0.375,-0.233,0.375,0.292,-0.058,0.292,0.392,0.208,-0.217,0.208,0.125,0.067,0.125,0.083,-0.083,0.083,0.125,0.175,0.125,0.208,0.15,0.208,0.292,0.092,0.292]],[\"offset_sec\",[0.026,-0.02,0.026,0.016,0.0,-0.016,0.0,-0.021,-0.009,-0.021,0.024,-0.005,-0.034,-0.005,-0.021,-0.008,-0.021,0.028,0.036,-0.009,0.036,0.026,0.029,0.026,0.01,0.002,0.01,0.049,0.047,-0.029,0.047,0.036,-0.007,0.036,0.049,0.026,-0.027,0.026,0.016,0.008,0.016,0.01,-0.01,0.01,0.016,0.022,0.016,0.026,0.019,0.026,0.036,0.012,0.036]],[\"grid_line\",[2,2,2,3,4,4,4,6,6,6,7,8,8,8,10,10,10,11,12,12,12,13,13,13,14,14,14,15,16,16,16,18,18,18,19,20,20,20,22,22,22,24,24,24,26,26,26,28,28,28,30,30,30]],[\"top\",{\"type\":\"ndarray\",\"array\":{\"type\":\"bytes\",\"data\":\"mpmZmZmZyT+amZmZmZkBQJqZmZmZmQlAmpmZmZmZAUAzMzMzMzPzP5qZmZmZmQFAmpmZmZmZCUCamZmZmZnJP5qZmZmZmQFAmpmZmZmZCUCamZmZmZkBQDMzMzMzM/M/mpmZmZmZAUCamZmZmZkJQJqZmZmZmck/mpmZmZmZAUCamZmZmZkJQJqZmZmZmQFAMzMzMzMz8z+amZmZmZkBQJqZmZmZmQlAMzMzMzMz8z+amZmZmZkBQJqZmZmZmQlAmpmZmZmZyT+amZmZmZkBQJqZmZmZmQlAmpmZmZmZAUAzMzMzMzPzP5qZmZmZmQFAmpmZmZmZCUCamZmZmZnJP5qZmZmZmQFAmpmZmZmZCUCamZmZmZkBQDMzMzMzM/M/mpmZmZmZAUCamZmZmZkJQJqZmZmZmck/mpmZmZmZAUCamZmZmZkJQDMzMzMzM/M/mpmZmZmZAUCamZmZmZkJQJqZmZmZmck/mpmZmZmZAUCamZmZmZkJQDMzMzMzM/M/mpmZmZmZAUCamZmZmZkJQJqZmZmZmck/mpmZmZmZAUCamZmZmZkJQA==\"},\"shape\":[53],\"dtype\":\"float64\",\"order\":\"little\"}],[\"bottom\",{\"type\":\"ndarray\",\"array\":{\"type\":\"bytes\",\"data\":\"mpmZmZmZyb/NzMzMzMz8P2ZmZmZmZgZAzczMzMzM/D+amZmZmZnpP83MzMzMzPw/ZmZmZmZmBkCamZmZmZnJv83MzMzMzPw/ZmZmZmZmBkDNzMzMzMz8P5qZmZmZmek/zczMzMzM/D9mZmZmZmYGQJqZmZmZmcm/zczMzMzM/D9mZmZmZmYGQM3MzMzMzPw/mpmZmZmZ6T/NzMzMzMz8P2ZmZmZmZgZAmpmZmZmZ6T/NzMzMzMz8P2ZmZmZmZgZAmpmZmZmZyb/NzMzMzMz8P2ZmZmZmZgZAzczMzMzM/D+amZmZmZnpP83MzMzMzPw/ZmZmZmZmBkCamZmZmZnJv83MzMzMzPw/ZmZmZmZmBkDNzMzMzMz8P5qZmZmZmek/zczMzMzM/D9mZmZmZmYGQJqZmZmZmcm/zczMzMzM/D9mZmZmZmYGQJqZmZmZmek/zczMzMzM/D9mZmZmZmYGQJqZmZmZmcm/zczMzMzM/D9mZmZmZmYGQJqZmZmZmek/zczMzMzM/D9mZmZmZmYGQJqZmZmZmcm/zczMzMzM/D9mZmZmZmYGQA==\"},\"shape\":[53],\"dtype\":\"float64\",\"order\":\"little\"}]]}}},\"view\":{\"type\":\"object\",\"name\":\"CDSView\",\"id\":\"p2890\",\"attributes\":{\"filter\":{\"type\":\"object\",\"name\":\"AllIndices\",\"id\":\"p2891\"}}},\"glyph\":{\"type\":\"object\",\"name\":\"Quad\",\"id\":\"p2886\",\"attributes\":{\"left\":{\"type\":\"field\",\"field\":\"start\"},\"right\":{\"type\":\"field\",\"field\":\"end\"},\"bottom\":{\"type\":\"field\",\"field\":\"bottom\"},\"top\":{\"type\":\"field\",\"field\":\"top\"},\"line_color\":{\"type\":\"value\",\"value\":\"grey\"},\"fill_color\":{\"type\":\"value\",\"value\":\"grey\"},\"fill_alpha\":{\"type\":\"field\",\"field\":\"velocity\"}}},\"nonselection_glyph\":{\"type\":\"object\",\"name\":\"Quad\",\"id\":\"p2887\",\"attributes\":{\"left\":{\"type\":\"field\",\"field\":\"start\"},\"right\":{\"type\":\"field\",\"field\":\"end\"},\"bottom\":{\"type\":\"field\",\"field\":\"bottom\"},\"top\":{\"type\":\"field\",\"field\":\"top\"},\"line_color\":{\"type\":\"value\",\"value\":\"grey\"},\"line_alpha\":{\"type\":\"value\",\"value\":0.1},\"fill_color\":{\"type\":\"value\",\"value\":\"grey\"},\"fill_alpha\":{\"type\":\"value\",\"value\":0.1},\"hatch_alpha\":{\"type\":\"value\",\"value\":0.1}}},\"muted_glyph\":{\"type\":\"object\",\"name\":\"Quad\",\"id\":\"p2888\",\"attributes\":{\"left\":{\"type\":\"field\",\"field\":\"start\"},\"right\":{\"type\":\"field\",\"field\":\"end\"},\"bottom\":{\"type\":\"field\",\"field\":\"bottom\"},\"top\":{\"type\":\"field\",\"field\":\"top\"},\"line_color\":{\"type\":\"value\",\"value\":\"grey\"},\"line_alpha\":{\"type\":\"value\",\"value\":0.2},\"fill_color\":{\"type\":\"value\",\"value\":\"grey\"},\"fill_alpha\":{\"type\":\"value\",\"value\":0.2},\"hatch_alpha\":{\"type\":\"value\",\"value\":0.2}}}}},{\"type\":\"object\",\"name\":\"GlyphRenderer\",\"id\":\"p2940\",\"attributes\":{\"data_source\":{\"type\":\"object\",\"name\":\"ColumnDataSource\",\"id\":\"p2931\",\"attributes\":{\"selected\":{\"type\":\"object\",\"name\":\"Selection\",\"id\":\"p2932\",\"attributes\":{\"indices\":[],\"line_indices\":[]}},\"selection_policy\":{\"type\":\"object\",\"name\":\"UnionRenderers\",\"id\":\"p2933\"},\"data\":{\"type\":\"map\",\"entries\":[[\"x\",[0.0]],[\"y\",[4.5]],[\"tempo\",[120.0]],[\"grid_index\",[0]]]}}},\"view\":{\"type\":\"object\",\"name\":\"CDSView\",\"id\":\"p2941\",\"attributes\":{\"filter\":{\"type\":\"object\",\"name\":\"AllIndices\",\"id\":\"p2942\"}}},\"glyph\":{\"type\":\"object\",\"name\":\"Scatter\",\"id\":\"p2937\",\"attributes\":{\"x\":{\"type\":\"field\",\"field\":\"x\"},\"y\":{\"type\":\"field\",\"field\":\"y\"},\"size\":{\"type\":\"value\",\"value\":10},\"line_color\":{\"type\":\"value\",\"value\":\"#440154\"},\"fill_color\":{\"type\":\"value\",\"value\":\"#440154\"}}},\"nonselection_glyph\":{\"type\":\"object\",\"name\":\"Scatter\",\"id\":\"p2938\",\"attributes\":{\"x\":{\"type\":\"field\",\"field\":\"x\"},\"y\":{\"type\":\"field\",\"field\":\"y\"},\"size\":{\"type\":\"value\",\"value\":10},\"line_color\":{\"type\":\"value\",\"value\":\"#440154\"},\"line_alpha\":{\"type\":\"value\",\"value\":0.1},\"fill_color\":{\"type\":\"value\",\"value\":\"#440154\"},\"fill_alpha\":{\"type\":\"value\",\"value\":0.1},\"hatch_alpha\":{\"type\":\"value\",\"value\":0.1}}},\"muted_glyph\":{\"type\":\"object\",\"name\":\"Scatter\",\"id\":\"p2939\",\"attributes\":{\"x\":{\"type\":\"field\",\"field\":\"x\"},\"y\":{\"type\":\"field\",\"field\":\"y\"},\"size\":{\"type\":\"value\",\"value\":10},\"line_color\":{\"type\":\"value\",\"value\":\"#440154\"},\"line_alpha\":{\"type\":\"value\",\"value\":0.2},\"fill_color\":{\"type\":\"value\",\"value\":\"#440154\"},\"fill_alpha\":{\"type\":\"value\",\"value\":0.2},\"hatch_alpha\":{\"type\":\"value\",\"value\":0.2}}}}},{\"type\":\"object\",\"name\":\"GlyphRenderer\",\"id\":\"p2954\",\"attributes\":{\"data_source\":{\"type\":\"object\",\"name\":\"ColumnDataSource\",\"id\":\"p2945\",\"attributes\":{\"selected\":{\"type\":\"object\",\"name\":\"Selection\",\"id\":\"p2946\",\"attributes\":{\"indices\":[],\"line_indices\":[]}},\"selection_policy\":{\"type\":\"object\",\"name\":\"UnionRenderers\",\"id\":\"p2947\"},\"data\":{\"type\":\"map\",\"entries\":[[\"x\",[0.0]],[\"y\",[4]],[\"Numerator\",[4]],[\"Denominator\",[4]],[\"grid_index\",[0]]]}}},\"view\":{\"type\":\"object\",\"name\":\"CDSView\",\"id\":\"p2955\",\"attributes\":{\"filter\":{\"type\":\"object\",\"name\":\"AllIndices\",\"id\":\"p2956\"}}},\"glyph\":{\"type\":\"object\",\"name\":\"Scatter\",\"id\":\"p2951\",\"attributes\":{\"x\":{\"type\":\"field\",\"field\":\"x\"},\"y\":{\"type\":\"field\",\"field\":\"y\"},\"size\":{\"type\":\"value\",\"value\":10},\"line_color\":{\"type\":\"value\",\"value\":\"#70CE56\"},\"fill_color\":{\"type\":\"value\",\"value\":\"#70CE56\"}}},\"nonselection_glyph\":{\"type\":\"object\",\"name\":\"Scatter\",\"id\":\"p2952\",\"attributes\":{\"x\":{\"type\":\"field\",\"field\":\"x\"},\"y\":{\"type\":\"field\",\"field\":\"y\"},\"size\":{\"type\":\"value\",\"value\":10},\"line_color\":{\"type\":\"value\",\"value\":\"#70CE56\"},\"line_alpha\":{\"type\":\"value\",\"value\":0.1},\"fill_color\":{\"type\":\"value\",\"value\":\"#70CE56\"},\"fill_alpha\":{\"type\":\"value\",\"value\":0.1},\"hatch_alpha\":{\"type\":\"value\",\"value\":0.1}}},\"muted_glyph\":{\"type\":\"object\",\"name\":\"Scatter\",\"id\":\"p2953\",\"attributes\":{\"x\":{\"type\":\"field\",\"field\":\"x\"},\"y\":{\"type\":\"field\",\"field\":\"y\"},\"size\":{\"type\":\"value\",\"value\":10},\"line_color\":{\"type\":\"value\",\"value\":\"#70CE56\"},\"line_alpha\":{\"type\":\"value\",\"value\":0.2},\"fill_color\":{\"type\":\"value\",\"value\":\"#70CE56\"},\"fill_alpha\":{\"type\":\"value\",\"value\":0.2},\"hatch_alpha\":{\"type\":\"value\",\"value\":0.2}}}}},{\"type\":\"object\",\"name\":\"GlyphRenderer\",\"id\":\"p2968\",\"attributes\":{\"data_source\":{\"type\":\"object\",\"name\":\"ColumnDataSource\",\"id\":\"p2959\",\"attributes\":{\"selected\":{\"type\":\"object\",\"name\":\"Selection\",\"id\":\"p2960\",\"attributes\":{\"indices\":[],\"line_indices\":[]}},\"selection_policy\":{\"type\":\"object\",\"name\":\"UnionRenderers\",\"id\":\"p2961\"},\"data\":{\"type\":\"map\",\"entries\":[[\"x\",[0.0]],[\"y\",[3.5]],[\"Style\",[\"gospel\"]],[\"Tempo\",[120.0]],[\"TestNumber\",[\"164\"]],[\"Repetition\",[\"Simple\"]],[\"participant_number\",[\"164\"]],[\"attempt\",[\"164_p1_simple\"]],[\"stream_0\",[\"164_p1_simple_left\"]],[\"stream_1\",[\"164_p1_simple_right\"]],[\"stream_2\",[\"164_p1_simple_flattened\"]],[\"stream_3\",[\"164_p1_simple_both\"]],[\"start_bar\",[0]],[\"collection\",[\"taptamdrum_hvo_output_both_is_or\"]],[\"sample_id\",[\"164_p1_simple\"]]]}}},\"view\":{\"type\":\"object\",\"name\":\"CDSView\",\"id\":\"p2969\",\"attributes\":{\"filter\":{\"type\":\"object\",\"name\":\"AllIndices\",\"id\":\"p2970\"}}},\"glyph\":{\"type\":\"object\",\"name\":\"Scatter\",\"id\":\"p2965\",\"attributes\":{\"x\":{\"type\":\"field\",\"field\":\"x\"},\"y\":{\"type\":\"field\",\"field\":\"y\"},\"size\":{\"type\":\"value\",\"value\":10},\"line_color\":{\"type\":\"value\",\"value\":\"#1EA087\"},\"fill_color\":{\"type\":\"value\",\"value\":\"#1EA087\"}}},\"nonselection_glyph\":{\"type\":\"object\",\"name\":\"Scatter\",\"id\":\"p2966\",\"attributes\":{\"x\":{\"type\":\"field\",\"field\":\"x\"},\"y\":{\"type\":\"field\",\"field\":\"y\"},\"size\":{\"type\":\"value\",\"value\":10},\"line_color\":{\"type\":\"value\",\"value\":\"#1EA087\"},\"line_alpha\":{\"type\":\"value\",\"value\":0.1},\"fill_color\":{\"type\":\"value\",\"value\":\"#1EA087\"},\"fill_alpha\":{\"type\":\"value\",\"value\":0.1},\"hatch_alpha\":{\"type\":\"value\",\"value\":0.1}}},\"muted_glyph\":{\"type\":\"object\",\"name\":\"Scatter\",\"id\":\"p2967\",\"attributes\":{\"x\":{\"type\":\"field\",\"field\":\"x\"},\"y\":{\"type\":\"field\",\"field\":\"y\"},\"size\":{\"type\":\"value\",\"value\":10},\"line_color\":{\"type\":\"value\",\"value\":\"#1EA087\"},\"line_alpha\":{\"type\":\"value\",\"value\":0.2},\"fill_color\":{\"type\":\"value\",\"value\":\"#1EA087\"},\"fill_alpha\":{\"type\":\"value\",\"value\":0.2},\"hatch_alpha\":{\"type\":\"value\",\"value\":0.2}}}}}],\"toolbar\":{\"type\":\"object\",\"name\":\"Toolbar\",\"id\":\"p2855\",\"attributes\":{\"tools\":[{\"type\":\"object\",\"name\":\"PanTool\",\"id\":\"p2869\"},{\"type\":\"object\",\"name\":\"WheelZoomTool\",\"id\":\"p2870\",\"attributes\":{\"renderers\":\"auto\"}},{\"type\":\"object\",\"name\":\"BoxZoomTool\",\"id\":\"p2871\",\"attributes\":{\"overlay\":{\"type\":\"object\",\"name\":\"BoxAnnotation\",\"id\":\"p2872\",\"attributes\":{\"syncable\":false,\"level\":\"overlay\",\"visible\":false,\"left\":{\"type\":\"number\",\"value\":\"nan\"},\"right\":{\"type\":\"number\",\"value\":\"nan\"},\"top\":{\"type\":\"number\",\"value\":\"nan\"},\"bottom\":{\"type\":\"number\",\"value\":\"nan\"},\"left_units\":\"canvas\",\"right_units\":\"canvas\",\"top_units\":\"canvas\",\"bottom_units\":\"canvas\",\"line_color\":\"black\",\"line_alpha\":1.0,\"line_width\":2,\"line_dash\":[4,4],\"fill_color\":\"lightgrey\",\"fill_alpha\":0.5}}}},{\"type\":\"object\",\"name\":\"SaveTool\",\"id\":\"p2877\"},{\"type\":\"object\",\"name\":\"ResetTool\",\"id\":\"p2878\"},{\"type\":\"object\",\"name\":\"HelpTool\",\"id\":\"p2879\"},{\"type\":\"object\",\"name\":\"HoverTool\",\"id\":\"p2894\",\"attributes\":{\"renderers\":[{\"id\":\"p2889\"}],\"tooltips\":[[\"start\",\"@start\"],[\"end\",\"@end\"],[\"instrument\",\"@instrument\"],[\"voice_index\",\"@voice_index\"],[\"midi\",\"@midi\"],[\"velocity\",\"@velocity\"],[\"offset\",\"@offset\"],[\"offset_sec\",\"@offset_sec\"],[\"grid_line\",\"@grid_line\"]]}},{\"type\":\"object\",\"name\":\"HoverTool\",\"id\":\"p2944\",\"attributes\":{\"renderers\":[{\"id\":\"p2940\"}],\"tooltips\":[[\"tempo\",\"@tempo\"],[\"grid_index\",\"@grid_index\"]]}},{\"type\":\"object\",\"name\":\"HoverTool\",\"id\":\"p2958\",\"attributes\":{\"renderers\":[{\"id\":\"p2954\"}],\"tooltips\":[[\"Numerator\",\"@Numerator\"],[\"Denominator\",\"@Denominator\"],[\"grid_index\",\"@grid_index\"]]}},{\"type\":\"object\",\"name\":\"HoverTool\",\"id\":\"p2972\",\"attributes\":{\"renderers\":[{\"id\":\"p2968\"}],\"tooltips\":[[\"Style\",\"@Style\"],[\"Tempo\",\"@Tempo\"],[\"TestNumber\",\"@TestNumber\"],[\"Repetition\",\"@Repetition\"],[\"participant_number\",\"@participant_number\"],[\"attempt\",\"@attempt\"],[\"stream_0\",\"@stream_0\"],[\"stream_1\",\"@stream_1\"],[\"stream_2\",\"@stream_2\"],[\"stream_3\",\"@stream_3\"],[\"start_bar\",\"@start_bar\"],[\"collection\",\"@collection\"],[\"sample_id\",\"@sample_id\"]]}}]}},\"left\":[{\"type\":\"object\",\"name\":\"LinearAxis\",\"id\":\"p2864\",\"attributes\":{\"ticker\":{\"type\":\"object\",\"name\":\"FixedTicker\",\"id\":\"p2895\",\"attributes\":{\"ticks\":[0,1,2,3],\"minor_ticks\":[]}},\"formatter\":{\"type\":\"object\",\"name\":\"BasicTickFormatter\",\"id\":\"p2866\"},\"axis_label\":\"Instrument\",\"axis_label_standoff\":10,\"axis_label_text_color\":\"#5B5B5B\",\"axis_label_text_font\":\"Helvetica\",\"axis_label_text_font_size\":\"1.25em\",\"axis_label_text_font_style\":\"normal\",\"major_label_overrides\":{\"type\":\"map\",\"entries\":[[0,\"stream_0\"],[1,\"stream_1\"],[2,\"stream_2\"],[3,\"stream_3\"]]},\"major_label_policy\":{\"type\":\"object\",\"name\":\"AllLabels\",\"id\":\"p2867\"},\"major_label_text_color\":\"#5B5B5B\",\"major_label_text_font\":\"Helvetica\",\"major_label_text_font_size\":\"1.025em\",\"axis_line_color\":\"#5B5B5B\",\"axis_line_alpha\":0,\"major_tick_line_color\":\"#5B5B5B\",\"major_tick_line_alpha\":0,\"minor_tick_line_color\":\"#5B5B5B\",\"minor_tick_line_alpha\":0}}],\"right\":[{\"type\":\"object\",\"name\":\"Legend\",\"id\":\"p2892\",\"attributes\":{\"border_line_alpha\":0,\"background_fill_alpha\":0.25,\"click_policy\":\"hide\",\"label_text_color\":\"#5B5B5B\",\"label_text_font\":\"Helvetica\",\"label_text_font_size\":\"1.025em\",\"label_standoff\":8,\"glyph_width\":15,\"spacing\":8,\"items\":[{\"type\":\"object\",\"name\":\"LegendItem\",\"id\":\"p2893\",\"attributes\":{\"label\":{\"type\":\"value\",\"value\":\"Piano Roll\"},\"renderers\":[{\"id\":\"p2889\"}]}},{\"type\":\"object\",\"name\":\"LegendItem\",\"id\":\"p2943\",\"attributes\":{\"label\":{\"type\":\"value\",\"value\":\"Tempo\"},\"renderers\":[{\"id\":\"p2940\"}]}},{\"type\":\"object\",\"name\":\"LegendItem\",\"id\":\"p2957\",\"attributes\":{\"label\":{\"type\":\"value\",\"value\":\"Time Signature\"},\"renderers\":[{\"id\":\"p2954\"}]}},{\"type\":\"object\",\"name\":\"LegendItem\",\"id\":\"p2971\",\"attributes\":{\"label\":{\"type\":\"value\",\"value\":\"Metadata\"},\"renderers\":[{\"id\":\"p2968\"}]}}]}}],\"below\":[{\"type\":\"object\",\"name\":\"LinearAxis\",\"id\":\"p2859\",\"attributes\":{\"ticker\":{\"type\":\"object\",\"name\":\"FixedTicker\",\"id\":\"p2920\",\"attributes\":{\"ticks\":[0.0,0.5,1.0,1.5,2.0,2.5,3.0,3.5],\"minor_ticks\":[]}},\"formatter\":{\"type\":\"object\",\"name\":\"BasicTickFormatter\",\"id\":\"p2861\"},\"axis_label\":\"Time (sec)\",\"axis_label_standoff\":10,\"axis_label_text_color\":\"#5B5B5B\",\"axis_label_text_font\":\"Helvetica\",\"axis_label_text_font_size\":\"1.25em\",\"axis_label_text_font_style\":\"normal\",\"major_label_orientation\":1.57,\"major_label_policy\":{\"type\":\"object\",\"name\":\"AllLabels\",\"id\":\"p2862\"},\"major_label_text_color\":\"#5B5B5B\",\"major_label_text_font\":\"Helvetica\",\"major_label_text_font_size\":\"1.025em\",\"axis_line_color\":\"#5B5B5B\",\"axis_line_alpha\":0,\"major_tick_line_color\":\"#5B5B5B\",\"major_tick_line_alpha\":0,\"minor_tick_line_color\":\"#5B5B5B\",\"minor_tick_line_alpha\":0}}],\"center\":[{\"type\":\"object\",\"name\":\"Grid\",\"id\":\"p2863\",\"attributes\":{\"axis\":{\"id\":\"p2859\"},\"grid_line_color\":null}},{\"type\":\"object\",\"name\":\"Grid\",\"id\":\"p2868\",\"attributes\":{\"dimension\":1,\"axis\":{\"id\":\"p2864\"},\"grid_line_color\":null}},{\"id\":\"p2892\"},{\"type\":\"object\",\"name\":\"Span\",\"id\":\"p2896\",\"attributes\":{\"location\":0.125,\"dimension\":\"height\",\"line_width\":0.1}},{\"type\":\"object\",\"name\":\"Span\",\"id\":\"p2897\",\"attributes\":{\"location\":0.25,\"dimension\":\"height\",\"line_width\":0.1}},{\"type\":\"object\",\"name\":\"Span\",\"id\":\"p2898\",\"attributes\":{\"location\":0.375,\"dimension\":\"height\",\"line_width\":0.1}},{\"type\":\"object\",\"name\":\"Span\",\"id\":\"p2899\",\"attributes\":{\"location\":0.625,\"dimension\":\"height\",\"line_width\":0.1}},{\"type\":\"object\",\"name\":\"Span\",\"id\":\"p2900\",\"attributes\":{\"location\":0.75,\"dimension\":\"height\",\"line_width\":0.1}},{\"type\":\"object\",\"name\":\"Span\",\"id\":\"p2901\",\"attributes\":{\"location\":0.875,\"dimension\":\"height\",\"line_width\":0.1}},{\"type\":\"object\",\"name\":\"Span\",\"id\":\"p2902\",\"attributes\":{\"location\":1.125,\"dimension\":\"height\",\"line_width\":0.1}},{\"type\":\"object\",\"name\":\"Span\",\"id\":\"p2903\",\"attributes\":{\"location\":1.25,\"dimension\":\"height\",\"line_width\":0.1}},{\"type\":\"object\",\"name\":\"Span\",\"id\":\"p2904\",\"attributes\":{\"location\":1.375,\"dimension\":\"height\",\"line_width\":0.1}},{\"type\":\"object\",\"name\":\"Span\",\"id\":\"p2905\",\"attributes\":{\"location\":1.625,\"dimension\":\"height\",\"line_width\":0.1}},{\"type\":\"object\",\"name\":\"Span\",\"id\":\"p2906\",\"attributes\":{\"location\":1.75,\"dimension\":\"height\",\"line_width\":0.1}},{\"type\":\"object\",\"name\":\"Span\",\"id\":\"p2907\",\"attributes\":{\"location\":1.875,\"dimension\":\"height\",\"line_width\":0.1}},{\"type\":\"object\",\"name\":\"Span\",\"id\":\"p2908\",\"attributes\":{\"location\":2.125,\"dimension\":\"height\",\"line_width\":0.1}},{\"type\":\"object\",\"name\":\"Span\",\"id\":\"p2909\",\"attributes\":{\"location\":2.25,\"dimension\":\"height\",\"line_width\":0.1}},{\"type\":\"object\",\"name\":\"Span\",\"id\":\"p2910\",\"attributes\":{\"location\":2.375,\"dimension\":\"height\",\"line_width\":0.1}},{\"type\":\"object\",\"name\":\"Span\",\"id\":\"p2911\",\"attributes\":{\"location\":2.625,\"dimension\":\"height\",\"line_width\":0.1}},{\"type\":\"object\",\"name\":\"Span\",\"id\":\"p2912\",\"attributes\":{\"location\":2.75,\"dimension\":\"height\",\"line_width\":0.1}},{\"type\":\"object\",\"name\":\"Span\",\"id\":\"p2913\",\"attributes\":{\"location\":2.875,\"dimension\":\"height\",\"line_width\":0.1}},{\"type\":\"object\",\"name\":\"Span\",\"id\":\"p2914\",\"attributes\":{\"location\":3.125,\"dimension\":\"height\",\"line_width\":0.1}},{\"type\":\"object\",\"name\":\"Span\",\"id\":\"p2915\",\"attributes\":{\"location\":3.25,\"dimension\":\"height\",\"line_width\":0.1}},{\"type\":\"object\",\"name\":\"Span\",\"id\":\"p2916\",\"attributes\":{\"location\":3.375,\"dimension\":\"height\",\"line_width\":0.1}},{\"type\":\"object\",\"name\":\"Span\",\"id\":\"p2917\",\"attributes\":{\"location\":3.625,\"dimension\":\"height\",\"line_width\":0.1}},{\"type\":\"object\",\"name\":\"Span\",\"id\":\"p2918\",\"attributes\":{\"location\":3.75,\"dimension\":\"height\",\"line_width\":0.1}},{\"type\":\"object\",\"name\":\"Span\",\"id\":\"p2919\",\"attributes\":{\"location\":3.875,\"dimension\":\"height\",\"line_width\":0.1}},{\"type\":\"object\",\"name\":\"Span\",\"id\":\"p2921\",\"attributes\":{\"location\":0.0,\"dimension\":\"height\",\"line_width\":0.5}},{\"type\":\"object\",\"name\":\"Span\",\"id\":\"p2922\",\"attributes\":{\"location\":0.5,\"dimension\":\"height\",\"line_width\":0.5}},{\"type\":\"object\",\"name\":\"Span\",\"id\":\"p2923\",\"attributes\":{\"location\":1.0,\"dimension\":\"height\",\"line_width\":0.5}},{\"type\":\"object\",\"name\":\"Span\",\"id\":\"p2924\",\"attributes\":{\"location\":1.5,\"dimension\":\"height\",\"line_width\":0.5}},{\"type\":\"object\",\"name\":\"Span\",\"id\":\"p2925\",\"attributes\":{\"location\":2.0,\"dimension\":\"height\",\"line_width\":0.5}},{\"type\":\"object\",\"name\":\"Span\",\"id\":\"p2926\",\"attributes\":{\"location\":2.5,\"dimension\":\"height\",\"line_width\":0.5}},{\"type\":\"object\",\"name\":\"Span\",\"id\":\"p2927\",\"attributes\":{\"location\":3.0,\"dimension\":\"height\",\"line_width\":0.5}},{\"type\":\"object\",\"name\":\"Span\",\"id\":\"p2928\",\"attributes\":{\"location\":3.5,\"dimension\":\"height\",\"line_width\":0.5}},{\"type\":\"object\",\"name\":\"Span\",\"id\":\"p2929\",\"attributes\":{\"location\":0.0,\"dimension\":\"height\",\"line_width\":2}},{\"type\":\"object\",\"name\":\"Span\",\"id\":\"p2930\",\"attributes\":{\"location\":2.0,\"dimension\":\"height\",\"line_width\":2}}]}}}},{\"type\":\"object\",\"name\":\"TabPanel\",\"id\":\"p3751\",\"attributes\":{\"title\":\"Tab 5\",\"child\":{\"type\":\"object\",\"name\":\"Figure\",\"id\":\"p2976\",\"attributes\":{\"width\":800,\"height\":400,\"x_range\":{\"type\":\"object\",\"name\":\"DataRange1d\",\"id\":\"p2978\",\"attributes\":{\"start\":-0.2943,\"end\":3.2373000000000003}},\"y_range\":{\"type\":\"object\",\"name\":\"Range1d\",\"id\":\"p2985\",\"attributes\":{\"start\":-0.5,\"end\":5.75}},\"x_scale\":{\"type\":\"object\",\"name\":\"LinearScale\",\"id\":\"p2986\"},\"y_scale\":{\"type\":\"object\",\"name\":\"LinearScale\",\"id\":\"p2987\"},\"title\":{\"type\":\"object\",\"name\":\"Title\",\"id\":\"p2983\",\"attributes\":{\"text_color\":\"#5B5B5B\",\"text_font\":\"Helvetica\",\"text_font_size\":\"1.15em\"}},\"renderers\":[{\"type\":\"object\",\"name\":\"GlyphRenderer\",\"id\":\"p3018\",\"attributes\":{\"data_source\":{\"type\":\"object\",\"name\":\"ColumnDataSource\",\"id\":\"p3009\",\"attributes\":{\"selected\":{\"type\":\"object\",\"name\":\"Selection\",\"id\":\"p3010\",\"attributes\":{\"indices\":[],\"line_indices\":[]}},\"selection_policy\":{\"type\":\"object\",\"name\":\"UnionRenderers\",\"id\":\"p3011\"},\"data\":{\"type\":\"map\",\"entries\":[[\"start\",[0.0095,0.0,0.0,0.296685,0.276925,0.276925,0.37734,0.36784,0.36784,0.5878599999999999,0.5696199999999999,0.5696199999999999,0.70965,0.644765,0.644765,0.765734,0.74765,0.74765,0.949328,0.9053599999999999,0.9053599999999999,1.1479300000000001,1.139285,1.139285,1.23096,1.23419,1.23419,1.333845,1.3252,1.3252,1.42875,1.400345,1.400345,1.5245099999999998,1.49924,1.49924,1.82281,1.815685,1.815685,1.89558,1.89083,1.89083,2.095745,2.10439,2.10439,2.179535,2.199228,2.199228,2.261832,2.281456,2.281456,2.472896,2.451738,2.451738,2.67643,2.630552,2.630552,2.742835,2.7333350000000003,2.7333350000000003,2.857595,2.828335,2.828335,2.911365,2.911365]],[\"end\",[0.05649999999999993,0.04699999999999993,0.04699999999999993,0.3436849999999999,0.3239249999999999,0.3239249999999999,0.42433999999999994,0.41483999999999993,0.41483999999999993,0.6348599999999999,0.6166199999999998,0.6166199999999998,0.7566499999999999,0.691765,0.691765,0.812734,0.79465,0.79465,0.9963279999999999,0.9523599999999999,0.9523599999999999,1.19493,1.186285,1.186285,1.27796,1.2811899999999998,1.2811899999999998,1.3808449999999999,1.3721999999999999,1.3721999999999999,1.47575,1.4473449999999999,1.4473449999999999,1.5715099999999997,1.5462399999999998,1.5462399999999998,1.86981,1.862685,1.862685,1.94258,1.93783,1.93783,2.1427449999999997,2.15139,2.15139,2.226535,2.2462280000000003,2.2462280000000003,2.3088319999999998,2.328456,2.328456,2.519896,2.4987380000000003,2.4987380000000003,2.7234299999999996,2.6775519999999995,2.6775519999999995,2.789835,2.780335,2.780335,2.9045949999999996,2.8753349999999998,2.8753349999999998,2.9583649999999997,2.9583649999999997]],[\"instrument\",[\"stream_0\",\"stream_2\",\"stream_3\",\"stream_0\",\"stream_1\",\"stream_2\",\"stream_0\",\"stream_2\",\"stream_3\",\"stream_0\",\"stream_1\",\"stream_2\",\"stream_0\",\"stream_2\",\"stream_3\",\"stream_0\",\"stream_1\",\"stream_2\",\"stream_0\",\"stream_2\",\"stream_3\",\"stream_0\",\"stream_1\",\"stream_2\",\"stream_0\",\"stream_1\",\"stream_2\",\"stream_0\",\"stream_1\",\"stream_2\",\"stream_0\",\"stream_1\",\"stream_2\",\"stream_0\",\"stream_1\",\"stream_2\",\"stream_0\",\"stream_2\",\"stream_3\",\"stream_0\",\"stream_1\",\"stream_2\",\"stream_0\",\"stream_2\",\"stream_3\",\"stream_0\",\"stream_1\",\"stream_2\",\"stream_0\",\"stream_2\",\"stream_3\",\"stream_0\",\"stream_1\",\"stream_2\",\"stream_0\",\"stream_1\",\"stream_2\",\"stream_0\",\"stream_1\",\"stream_2\",\"stream_0\",\"stream_1\",\"stream_2\",\"stream_1\",\"stream_2\"]],[\"voice_index\",[0,2,3,0,1,2,0,2,3,0,1,2,0,2,3,0,1,2,0,2,3,0,1,2,0,1,2,0,1,2,0,1,2,0,1,2,0,2,3,0,1,2,0,2,3,0,1,2,0,2,3,0,1,2,0,1,2,0,1,2,0,1,2,1,2]],[\"midi\",[36,42,46,36,38,42,36,42,46,36,38,42,36,42,46,36,38,42,36,42,46,36,38,42,36,38,42,36,38,42,36,38,42,36,38,42,36,42,46,36,38,42,36,42,46,36,38,42,36,42,46,36,38,42,36,38,42,36,38,42,36,38,42,38,42]],[\"velocity\",[0.976,0.535,0.535,0.74,0.748,0.748,1.0,0.535,0.535,0.504,0.693,0.693,0.449,0.52,0.52,0.772,0.717,0.717,1.0,0.504,0.504,0.858,0.598,0.598,0.787,0.598,0.598,0.622,0.701,0.701,0.685,0.669,0.669,1.0,0.843,0.843,0.48,0.449,0.449,0.843,0.764,0.764,0.52,0.583,0.583,0.535,0.551,0.551,0.772,0.535,0.535,1.0,0.85,0.85,0.732,0.591,0.591,0.669,0.598,0.598,0.591,0.614,0.614,0.598,0.598]],[\"offset\",[0.1,0.0,0.0,0.123,-0.085,-0.085,-0.028,-0.128,-0.128,0.188,-0.004,-0.004,0.47,-0.213,-0.213,0.061,-0.13,-0.13,-0.007,-0.465,-0.465,0.094,0.003,0.003,-0.032,0.002,0.002,0.051,-0.04,-0.04,0.05,-0.249,-0.249,0.058,-0.208,-0.208,0.198,0.123,0.123,-0.036,-0.086,-0.086,0.071,0.162,0.162,-0.047,0.162,0.162,-0.172,0.036,0.036,0.051,-0.173,-0.173,0.194,-0.292,-0.292,-0.107,-0.207,-0.207,0.101,-0.207,-0.207,-0.333,-0.333]],[\"offset_sec\",[0.01,0.0,0.0,0.012,-0.008,-0.008,-0.003,-0.012,-0.012,0.018,-0.0,-0.0,0.045,-0.02,-0.02,0.006,-0.012,-0.012,-0.001,-0.045,-0.045,0.009,0.0,0.0,-0.003,0.0,0.0,0.005,-0.004,-0.004,0.005,-0.024,-0.024,0.006,-0.02,-0.02,0.019,0.012,0.012,-0.003,-0.008,-0.008,0.007,0.015,0.015,-0.004,0.015,0.015,-0.016,0.003,0.003,0.005,-0.016,-0.016,0.018,-0.027,-0.027,-0.01,-0.02,-0.02,0.01,-0.02,-0.02,-0.032,-0.032]],[\"grid_line\",[0,0,0,3,3,3,4,4,4,6,6,6,7,7,7,8,8,8,10,10,10,12,12,12,13,13,13,14,14,14,15,15,15,16,16,16,19,19,19,20,20,20,22,22,22,23,23,23,24,24,24,26,26,26,28,28,28,29,29,29,30,30,30,31,31]],[\"top\",{\"type\":\"ndarray\",\"array\":{\"type\":\"bytes\",\"data\":\"mpmZmZmZyT+amZmZmZkBQJqZmZmZmQlAmpmZmZmZyT8zMzMzMzPzP5qZmZmZmQFAmpmZmZmZyT+amZmZmZkBQJqZmZmZmQlAmpmZmZmZyT8zMzMzMzPzP5qZmZmZmQFAmpmZmZmZyT+amZmZmZkBQJqZmZmZmQlAmpmZmZmZyT8zMzMzMzPzP5qZmZmZmQFAmpmZmZmZyT+amZmZmZkBQJqZmZmZmQlAmpmZmZmZyT8zMzMzMzPzP5qZmZmZmQFAmpmZmZmZyT8zMzMzMzPzP5qZmZmZmQFAmpmZmZmZyT8zMzMzMzPzP5qZmZmZmQFAmpmZmZmZyT8zMzMzMzPzP5qZmZmZmQFAmpmZmZmZyT8zMzMzMzPzP5qZmZmZmQFAmpmZmZmZyT+amZmZmZkBQJqZmZmZmQlAmpmZmZmZyT8zMzMzMzPzP5qZmZmZmQFAmpmZmZmZyT+amZmZmZkBQJqZmZmZmQlAmpmZmZmZyT8zMzMzMzPzP5qZmZmZmQFAmpmZmZmZyT+amZmZmZkBQJqZmZmZmQlAmpmZmZmZyT8zMzMzMzPzP5qZmZmZmQFAmpmZmZmZyT8zMzMzMzPzP5qZmZmZmQFAmpmZmZmZyT8zMzMzMzPzP5qZmZmZmQFAmpmZmZmZyT8zMzMzMzPzP5qZmZmZmQFAMzMzMzMz8z+amZmZmZkBQA==\"},\"shape\":[65],\"dtype\":\"float64\",\"order\":\"little\"}],[\"bottom\",{\"type\":\"ndarray\",\"array\":{\"type\":\"bytes\",\"data\":\"mpmZmZmZyb/NzMzMzMz8P2ZmZmZmZgZAmpmZmZmZyb+amZmZmZnpP83MzMzMzPw/mpmZmZmZyb/NzMzMzMz8P2ZmZmZmZgZAmpmZmZmZyb+amZmZmZnpP83MzMzMzPw/mpmZmZmZyb/NzMzMzMz8P2ZmZmZmZgZAmpmZmZmZyb+amZmZmZnpP83MzMzMzPw/mpmZmZmZyb/NzMzMzMz8P2ZmZmZmZgZAmpmZmZmZyb+amZmZmZnpP83MzMzMzPw/mpmZmZmZyb+amZmZmZnpP83MzMzMzPw/mpmZmZmZyb+amZmZmZnpP83MzMzMzPw/mpmZmZmZyb+amZmZmZnpP83MzMzMzPw/mpmZmZmZyb+amZmZmZnpP83MzMzMzPw/mpmZmZmZyb/NzMzMzMz8P2ZmZmZmZgZAmpmZmZmZyb+amZmZmZnpP83MzMzMzPw/mpmZmZmZyb/NzMzMzMz8P2ZmZmZmZgZAmpmZmZmZyb+amZmZmZnpP83MzMzMzPw/mpmZmZmZyb/NzMzMzMz8P2ZmZmZmZgZAmpmZmZmZyb+amZmZmZnpP83MzMzMzPw/mpmZmZmZyb+amZmZmZnpP83MzMzMzPw/mpmZmZmZyb+amZmZmZnpP83MzMzMzPw/mpmZmZmZyb+amZmZmZnpP83MzMzMzPw/mpmZmZmZ6T/NzMzMzMz8Pw==\"},\"shape\":[65],\"dtype\":\"float64\",\"order\":\"little\"}]]}}},\"view\":{\"type\":\"object\",\"name\":\"CDSView\",\"id\":\"p3019\",\"attributes\":{\"filter\":{\"type\":\"object\",\"name\":\"AllIndices\",\"id\":\"p3020\"}}},\"glyph\":{\"type\":\"object\",\"name\":\"Quad\",\"id\":\"p3015\",\"attributes\":{\"left\":{\"type\":\"field\",\"field\":\"start\"},\"right\":{\"type\":\"field\",\"field\":\"end\"},\"bottom\":{\"type\":\"field\",\"field\":\"bottom\"},\"top\":{\"type\":\"field\",\"field\":\"top\"},\"line_color\":{\"type\":\"value\",\"value\":\"grey\"},\"fill_color\":{\"type\":\"value\",\"value\":\"grey\"},\"fill_alpha\":{\"type\":\"field\",\"field\":\"velocity\"}}},\"nonselection_glyph\":{\"type\":\"object\",\"name\":\"Quad\",\"id\":\"p3016\",\"attributes\":{\"left\":{\"type\":\"field\",\"field\":\"start\"},\"right\":{\"type\":\"field\",\"field\":\"end\"},\"bottom\":{\"type\":\"field\",\"field\":\"bottom\"},\"top\":{\"type\":\"field\",\"field\":\"top\"},\"line_color\":{\"type\":\"value\",\"value\":\"grey\"},\"line_alpha\":{\"type\":\"value\",\"value\":0.1},\"fill_color\":{\"type\":\"value\",\"value\":\"grey\"},\"fill_alpha\":{\"type\":\"value\",\"value\":0.1},\"hatch_alpha\":{\"type\":\"value\",\"value\":0.1}}},\"muted_glyph\":{\"type\":\"object\",\"name\":\"Quad\",\"id\":\"p3017\",\"attributes\":{\"left\":{\"type\":\"field\",\"field\":\"start\"},\"right\":{\"type\":\"field\",\"field\":\"end\"},\"bottom\":{\"type\":\"field\",\"field\":\"bottom\"},\"top\":{\"type\":\"field\",\"field\":\"top\"},\"line_color\":{\"type\":\"value\",\"value\":\"grey\"},\"line_alpha\":{\"type\":\"value\",\"value\":0.2},\"fill_color\":{\"type\":\"value\",\"value\":\"grey\"},\"fill_alpha\":{\"type\":\"value\",\"value\":0.2},\"hatch_alpha\":{\"type\":\"value\",\"value\":0.2}}}}},{\"type\":\"object\",\"name\":\"GlyphRenderer\",\"id\":\"p3069\",\"attributes\":{\"data_source\":{\"type\":\"object\",\"name\":\"ColumnDataSource\",\"id\":\"p3060\",\"attributes\":{\"selected\":{\"type\":\"object\",\"name\":\"Selection\",\"id\":\"p3061\",\"attributes\":{\"indices\":[],\"line_indices\":[]}},\"selection_policy\":{\"type\":\"object\",\"name\":\"UnionRenderers\",\"id\":\"p3062\"},\"data\":{\"type\":\"map\",\"entries\":[[\"x\",[0.0]],[\"y\",[4.5]],[\"tempo\",[158.0]],[\"grid_index\",[0]]]}}},\"view\":{\"type\":\"object\",\"name\":\"CDSView\",\"id\":\"p3070\",\"attributes\":{\"filter\":{\"type\":\"object\",\"name\":\"AllIndices\",\"id\":\"p3071\"}}},\"glyph\":{\"type\":\"object\",\"name\":\"Scatter\",\"id\":\"p3066\",\"attributes\":{\"x\":{\"type\":\"field\",\"field\":\"x\"},\"y\":{\"type\":\"field\",\"field\":\"y\"},\"size\":{\"type\":\"value\",\"value\":10},\"line_color\":{\"type\":\"value\",\"value\":\"#440154\"},\"fill_color\":{\"type\":\"value\",\"value\":\"#440154\"}}},\"nonselection_glyph\":{\"type\":\"object\",\"name\":\"Scatter\",\"id\":\"p3067\",\"attributes\":{\"x\":{\"type\":\"field\",\"field\":\"x\"},\"y\":{\"type\":\"field\",\"field\":\"y\"},\"size\":{\"type\":\"value\",\"value\":10},\"line_color\":{\"type\":\"value\",\"value\":\"#440154\"},\"line_alpha\":{\"type\":\"value\",\"value\":0.1},\"fill_color\":{\"type\":\"value\",\"value\":\"#440154\"},\"fill_alpha\":{\"type\":\"value\",\"value\":0.1},\"hatch_alpha\":{\"type\":\"value\",\"value\":0.1}}},\"muted_glyph\":{\"type\":\"object\",\"name\":\"Scatter\",\"id\":\"p3068\",\"attributes\":{\"x\":{\"type\":\"field\",\"field\":\"x\"},\"y\":{\"type\":\"field\",\"field\":\"y\"},\"size\":{\"type\":\"value\",\"value\":10},\"line_color\":{\"type\":\"value\",\"value\":\"#440154\"},\"line_alpha\":{\"type\":\"value\",\"value\":0.2},\"fill_color\":{\"type\":\"value\",\"value\":\"#440154\"},\"fill_alpha\":{\"type\":\"value\",\"value\":0.2},\"hatch_alpha\":{\"type\":\"value\",\"value\":0.2}}}}},{\"type\":\"object\",\"name\":\"GlyphRenderer\",\"id\":\"p3083\",\"attributes\":{\"data_source\":{\"type\":\"object\",\"name\":\"ColumnDataSource\",\"id\":\"p3074\",\"attributes\":{\"selected\":{\"type\":\"object\",\"name\":\"Selection\",\"id\":\"p3075\",\"attributes\":{\"indices\":[],\"line_indices\":[]}},\"selection_policy\":{\"type\":\"object\",\"name\":\"UnionRenderers\",\"id\":\"p3076\"},\"data\":{\"type\":\"map\",\"entries\":[[\"x\",[0.0]],[\"y\",[4]],[\"Numerator\",[4]],[\"Denominator\",[4]],[\"grid_index\",[0]]]}}},\"view\":{\"type\":\"object\",\"name\":\"CDSView\",\"id\":\"p3084\",\"attributes\":{\"filter\":{\"type\":\"object\",\"name\":\"AllIndices\",\"id\":\"p3085\"}}},\"glyph\":{\"type\":\"object\",\"name\":\"Scatter\",\"id\":\"p3080\",\"attributes\":{\"x\":{\"type\":\"field\",\"field\":\"x\"},\"y\":{\"type\":\"field\",\"field\":\"y\"},\"size\":{\"type\":\"value\",\"value\":10},\"line_color\":{\"type\":\"value\",\"value\":\"#70CE56\"},\"fill_color\":{\"type\":\"value\",\"value\":\"#70CE56\"}}},\"nonselection_glyph\":{\"type\":\"object\",\"name\":\"Scatter\",\"id\":\"p3081\",\"attributes\":{\"x\":{\"type\":\"field\",\"field\":\"x\"},\"y\":{\"type\":\"field\",\"field\":\"y\"},\"size\":{\"type\":\"value\",\"value\":10},\"line_color\":{\"type\":\"value\",\"value\":\"#70CE56\"},\"line_alpha\":{\"type\":\"value\",\"value\":0.1},\"fill_color\":{\"type\":\"value\",\"value\":\"#70CE56\"},\"fill_alpha\":{\"type\":\"value\",\"value\":0.1},\"hatch_alpha\":{\"type\":\"value\",\"value\":0.1}}},\"muted_glyph\":{\"type\":\"object\",\"name\":\"Scatter\",\"id\":\"p3082\",\"attributes\":{\"x\":{\"type\":\"field\",\"field\":\"x\"},\"y\":{\"type\":\"field\",\"field\":\"y\"},\"size\":{\"type\":\"value\",\"value\":10},\"line_color\":{\"type\":\"value\",\"value\":\"#70CE56\"},\"line_alpha\":{\"type\":\"value\",\"value\":0.2},\"fill_color\":{\"type\":\"value\",\"value\":\"#70CE56\"},\"fill_alpha\":{\"type\":\"value\",\"value\":0.2},\"hatch_alpha\":{\"type\":\"value\",\"value\":0.2}}}}},{\"type\":\"object\",\"name\":\"GlyphRenderer\",\"id\":\"p3097\",\"attributes\":{\"data_source\":{\"type\":\"object\",\"name\":\"ColumnDataSource\",\"id\":\"p3088\",\"attributes\":{\"selected\":{\"type\":\"object\",\"name\":\"Selection\",\"id\":\"p3089\",\"attributes\":{\"indices\":[],\"line_indices\":[]}},\"selection_policy\":{\"type\":\"object\",\"name\":\"UnionRenderers\",\"id\":\"p3090\"},\"data\":{\"type\":\"map\",\"entries\":[[\"x\",[0.0]],[\"y\",[3.5]],[\"Style\",[\"latin-merengue\"]],[\"Tempo\",[158.0]],[\"TestNumber\",[\"220\"]],[\"Repetition\",[\"Complex\"]],[\"participant_number\",[\"220\"]],[\"attempt\",[\"220_p1_complex\"]],[\"stream_0\",[\"220_p1_complex_flattened\"]],[\"stream_1\",[\"220_p1_complex_left\"]],[\"stream_2\",[\"220_p1_complex_both\"]],[\"stream_3\",[\"220_p1_complex_right\"]],[\"start_bar\",[0]],[\"collection\",[\"taptamdrum_hvo_output_both_is_or\"]],[\"sample_id\",[\"220_p1_complex\"]]]}}},\"view\":{\"type\":\"object\",\"name\":\"CDSView\",\"id\":\"p3098\",\"attributes\":{\"filter\":{\"type\":\"object\",\"name\":\"AllIndices\",\"id\":\"p3099\"}}},\"glyph\":{\"type\":\"object\",\"name\":\"Scatter\",\"id\":\"p3094\",\"attributes\":{\"x\":{\"type\":\"field\",\"field\":\"x\"},\"y\":{\"type\":\"field\",\"field\":\"y\"},\"size\":{\"type\":\"value\",\"value\":10},\"line_color\":{\"type\":\"value\",\"value\":\"#1EA087\"},\"fill_color\":{\"type\":\"value\",\"value\":\"#1EA087\"}}},\"nonselection_glyph\":{\"type\":\"object\",\"name\":\"Scatter\",\"id\":\"p3095\",\"attributes\":{\"x\":{\"type\":\"field\",\"field\":\"x\"},\"y\":{\"type\":\"field\",\"field\":\"y\"},\"size\":{\"type\":\"value\",\"value\":10},\"line_color\":{\"type\":\"value\",\"value\":\"#1EA087\"},\"line_alpha\":{\"type\":\"value\",\"value\":0.1},\"fill_color\":{\"type\":\"value\",\"value\":\"#1EA087\"},\"fill_alpha\":{\"type\":\"value\",\"value\":0.1},\"hatch_alpha\":{\"type\":\"value\",\"value\":0.1}}},\"muted_glyph\":{\"type\":\"object\",\"name\":\"Scatter\",\"id\":\"p3096\",\"attributes\":{\"x\":{\"type\":\"field\",\"field\":\"x\"},\"y\":{\"type\":\"field\",\"field\":\"y\"},\"size\":{\"type\":\"value\",\"value\":10},\"line_color\":{\"type\":\"value\",\"value\":\"#1EA087\"},\"line_alpha\":{\"type\":\"value\",\"value\":0.2},\"fill_color\":{\"type\":\"value\",\"value\":\"#1EA087\"},\"fill_alpha\":{\"type\":\"value\",\"value\":0.2},\"hatch_alpha\":{\"type\":\"value\",\"value\":0.2}}}}}],\"toolbar\":{\"type\":\"object\",\"name\":\"Toolbar\",\"id\":\"p2984\",\"attributes\":{\"tools\":[{\"type\":\"object\",\"name\":\"PanTool\",\"id\":\"p2998\"},{\"type\":\"object\",\"name\":\"WheelZoomTool\",\"id\":\"p2999\",\"attributes\":{\"renderers\":\"auto\"}},{\"type\":\"object\",\"name\":\"BoxZoomTool\",\"id\":\"p3000\",\"attributes\":{\"overlay\":{\"type\":\"object\",\"name\":\"BoxAnnotation\",\"id\":\"p3001\",\"attributes\":{\"syncable\":false,\"level\":\"overlay\",\"visible\":false,\"left\":{\"type\":\"number\",\"value\":\"nan\"},\"right\":{\"type\":\"number\",\"value\":\"nan\"},\"top\":{\"type\":\"number\",\"value\":\"nan\"},\"bottom\":{\"type\":\"number\",\"value\":\"nan\"},\"left_units\":\"canvas\",\"right_units\":\"canvas\",\"top_units\":\"canvas\",\"bottom_units\":\"canvas\",\"line_color\":\"black\",\"line_alpha\":1.0,\"line_width\":2,\"line_dash\":[4,4],\"fill_color\":\"lightgrey\",\"fill_alpha\":0.5}}}},{\"type\":\"object\",\"name\":\"SaveTool\",\"id\":\"p3006\"},{\"type\":\"object\",\"name\":\"ResetTool\",\"id\":\"p3007\"},{\"type\":\"object\",\"name\":\"HelpTool\",\"id\":\"p3008\"},{\"type\":\"object\",\"name\":\"HoverTool\",\"id\":\"p3023\",\"attributes\":{\"renderers\":[{\"id\":\"p3018\"}],\"tooltips\":[[\"start\",\"@start\"],[\"end\",\"@end\"],[\"instrument\",\"@instrument\"],[\"voice_index\",\"@voice_index\"],[\"midi\",\"@midi\"],[\"velocity\",\"@velocity\"],[\"offset\",\"@offset\"],[\"offset_sec\",\"@offset_sec\"],[\"grid_line\",\"@grid_line\"]]}},{\"type\":\"object\",\"name\":\"HoverTool\",\"id\":\"p3073\",\"attributes\":{\"renderers\":[{\"id\":\"p3069\"}],\"tooltips\":[[\"tempo\",\"@tempo\"],[\"grid_index\",\"@grid_index\"]]}},{\"type\":\"object\",\"name\":\"HoverTool\",\"id\":\"p3087\",\"attributes\":{\"renderers\":[{\"id\":\"p3083\"}],\"tooltips\":[[\"Numerator\",\"@Numerator\"],[\"Denominator\",\"@Denominator\"],[\"grid_index\",\"@grid_index\"]]}},{\"type\":\"object\",\"name\":\"HoverTool\",\"id\":\"p3101\",\"attributes\":{\"renderers\":[{\"id\":\"p3097\"}],\"tooltips\":[[\"Style\",\"@Style\"],[\"Tempo\",\"@Tempo\"],[\"TestNumber\",\"@TestNumber\"],[\"Repetition\",\"@Repetition\"],[\"participant_number\",\"@participant_number\"],[\"attempt\",\"@attempt\"],[\"stream_0\",\"@stream_0\"],[\"stream_1\",\"@stream_1\"],[\"stream_2\",\"@stream_2\"],[\"stream_3\",\"@stream_3\"],[\"start_bar\",\"@start_bar\"],[\"collection\",\"@collection\"],[\"sample_id\",\"@sample_id\"]]}}]}},\"left\":[{\"type\":\"object\",\"name\":\"LinearAxis\",\"id\":\"p2993\",\"attributes\":{\"ticker\":{\"type\":\"object\",\"name\":\"FixedTicker\",\"id\":\"p3024\",\"attributes\":{\"ticks\":[0,1,2,3],\"minor_ticks\":[]}},\"formatter\":{\"type\":\"object\",\"name\":\"BasicTickFormatter\",\"id\":\"p2995\"},\"axis_label\":\"Instrument\",\"axis_label_standoff\":10,\"axis_label_text_color\":\"#5B5B5B\",\"axis_label_text_font\":\"Helvetica\",\"axis_label_text_font_size\":\"1.25em\",\"axis_label_text_font_style\":\"normal\",\"major_label_overrides\":{\"type\":\"map\",\"entries\":[[0,\"stream_0\"],[1,\"stream_1\"],[2,\"stream_2\"],[3,\"stream_3\"]]},\"major_label_policy\":{\"type\":\"object\",\"name\":\"AllLabels\",\"id\":\"p2996\"},\"major_label_text_color\":\"#5B5B5B\",\"major_label_text_font\":\"Helvetica\",\"major_label_text_font_size\":\"1.025em\",\"axis_line_color\":\"#5B5B5B\",\"axis_line_alpha\":0,\"major_tick_line_color\":\"#5B5B5B\",\"major_tick_line_alpha\":0,\"minor_tick_line_color\":\"#5B5B5B\",\"minor_tick_line_alpha\":0}}],\"right\":[{\"type\":\"object\",\"name\":\"Legend\",\"id\":\"p3021\",\"attributes\":{\"border_line_alpha\":0,\"background_fill_alpha\":0.25,\"click_policy\":\"hide\",\"label_text_color\":\"#5B5B5B\",\"label_text_font\":\"Helvetica\",\"label_text_font_size\":\"1.025em\",\"label_standoff\":8,\"glyph_width\":15,\"spacing\":8,\"items\":[{\"type\":\"object\",\"name\":\"LegendItem\",\"id\":\"p3022\",\"attributes\":{\"label\":{\"type\":\"value\",\"value\":\"Piano Roll\"},\"renderers\":[{\"id\":\"p3018\"}]}},{\"type\":\"object\",\"name\":\"LegendItem\",\"id\":\"p3072\",\"attributes\":{\"label\":{\"type\":\"value\",\"value\":\"Tempo\"},\"renderers\":[{\"id\":\"p3069\"}]}},{\"type\":\"object\",\"name\":\"LegendItem\",\"id\":\"p3086\",\"attributes\":{\"label\":{\"type\":\"value\",\"value\":\"Time Signature\"},\"renderers\":[{\"id\":\"p3083\"}]}},{\"type\":\"object\",\"name\":\"LegendItem\",\"id\":\"p3100\",\"attributes\":{\"label\":{\"type\":\"value\",\"value\":\"Metadata\"},\"renderers\":[{\"id\":\"p3097\"}]}}]}}],\"below\":[{\"type\":\"object\",\"name\":\"LinearAxis\",\"id\":\"p2988\",\"attributes\":{\"ticker\":{\"type\":\"object\",\"name\":\"FixedTicker\",\"id\":\"p3049\",\"attributes\":{\"ticks\":[0.0,0.38,0.76,1.14,1.52,1.9,2.28,2.66],\"minor_ticks\":[]}},\"formatter\":{\"type\":\"object\",\"name\":\"BasicTickFormatter\",\"id\":\"p2990\"},\"axis_label\":\"Time (sec)\",\"axis_label_standoff\":10,\"axis_label_text_color\":\"#5B5B5B\",\"axis_label_text_font\":\"Helvetica\",\"axis_label_text_font_size\":\"1.25em\",\"axis_label_text_font_style\":\"normal\",\"major_label_orientation\":1.57,\"major_label_policy\":{\"type\":\"object\",\"name\":\"AllLabels\",\"id\":\"p2991\"},\"major_label_text_color\":\"#5B5B5B\",\"major_label_text_font\":\"Helvetica\",\"major_label_text_font_size\":\"1.025em\",\"axis_line_color\":\"#5B5B5B\",\"axis_line_alpha\":0,\"major_tick_line_color\":\"#5B5B5B\",\"major_tick_line_alpha\":0,\"minor_tick_line_color\":\"#5B5B5B\",\"minor_tick_line_alpha\":0}}],\"center\":[{\"type\":\"object\",\"name\":\"Grid\",\"id\":\"p2992\",\"attributes\":{\"axis\":{\"id\":\"p2988\"},\"grid_line_color\":null}},{\"type\":\"object\",\"name\":\"Grid\",\"id\":\"p2997\",\"attributes\":{\"dimension\":1,\"axis\":{\"id\":\"p2993\"},\"grid_line_color\":null}},{\"id\":\"p3021\"},{\"type\":\"object\",\"name\":\"Span\",\"id\":\"p3025\",\"attributes\":{\"location\":0.095,\"dimension\":\"height\",\"line_width\":0.1}},{\"type\":\"object\",\"name\":\"Span\",\"id\":\"p3026\",\"attributes\":{\"location\":0.19,\"dimension\":\"height\",\"line_width\":0.1}},{\"type\":\"object\",\"name\":\"Span\",\"id\":\"p3027\",\"attributes\":{\"location\":0.285,\"dimension\":\"height\",\"line_width\":0.1}},{\"type\":\"object\",\"name\":\"Span\",\"id\":\"p3028\",\"attributes\":{\"location\":0.475,\"dimension\":\"height\",\"line_width\":0.1}},{\"type\":\"object\",\"name\":\"Span\",\"id\":\"p3029\",\"attributes\":{\"location\":0.57,\"dimension\":\"height\",\"line_width\":0.1}},{\"type\":\"object\",\"name\":\"Span\",\"id\":\"p3030\",\"attributes\":{\"location\":0.665,\"dimension\":\"height\",\"line_width\":0.1}},{\"type\":\"object\",\"name\":\"Span\",\"id\":\"p3031\",\"attributes\":{\"location\":0.854,\"dimension\":\"height\",\"line_width\":0.1}},{\"type\":\"object\",\"name\":\"Span\",\"id\":\"p3032\",\"attributes\":{\"location\":0.95,\"dimension\":\"height\",\"line_width\":0.1}},{\"type\":\"object\",\"name\":\"Span\",\"id\":\"p3033\",\"attributes\":{\"location\":1.044,\"dimension\":\"height\",\"line_width\":0.1}},{\"type\":\"object\",\"name\":\"Span\",\"id\":\"p3034\",\"attributes\":{\"location\":1.234,\"dimension\":\"height\",\"line_width\":0.1}},{\"type\":\"object\",\"name\":\"Span\",\"id\":\"p3035\",\"attributes\":{\"location\":1.329,\"dimension\":\"height\",\"line_width\":0.1}},{\"type\":\"object\",\"name\":\"Span\",\"id\":\"p3036\",\"attributes\":{\"location\":1.424,\"dimension\":\"height\",\"line_width\":0.1}},{\"type\":\"object\",\"name\":\"Span\",\"id\":\"p3037\",\"attributes\":{\"location\":1.614,\"dimension\":\"height\",\"line_width\":0.1}},{\"type\":\"object\",\"name\":\"Span\",\"id\":\"p3038\",\"attributes\":{\"location\":1.709,\"dimension\":\"height\",\"line_width\":0.1}},{\"type\":\"object\",\"name\":\"Span\",\"id\":\"p3039\",\"attributes\":{\"location\":1.804,\"dimension\":\"height\",\"line_width\":0.1}},{\"type\":\"object\",\"name\":\"Span\",\"id\":\"p3040\",\"attributes\":{\"location\":1.994,\"dimension\":\"height\",\"line_width\":0.1}},{\"type\":\"object\",\"name\":\"Span\",\"id\":\"p3041\",\"attributes\":{\"location\":2.089,\"dimension\":\"height\",\"line_width\":0.1}},{\"type\":\"object\",\"name\":\"Span\",\"id\":\"p3042\",\"attributes\":{\"location\":2.184,\"dimension\":\"height\",\"line_width\":0.1}},{\"type\":\"object\",\"name\":\"Span\",\"id\":\"p3043\",\"attributes\":{\"location\":2.374,\"dimension\":\"height\",\"line_width\":0.1}},{\"type\":\"object\",\"name\":\"Span\",\"id\":\"p3044\",\"attributes\":{\"location\":2.468,\"dimension\":\"height\",\"line_width\":0.1}},{\"type\":\"object\",\"name\":\"Span\",\"id\":\"p3045\",\"attributes\":{\"location\":2.564,\"dimension\":\"height\",\"line_width\":0.1}},{\"type\":\"object\",\"name\":\"Span\",\"id\":\"p3046\",\"attributes\":{\"location\":2.753,\"dimension\":\"height\",\"line_width\":0.1}},{\"type\":\"object\",\"name\":\"Span\",\"id\":\"p3047\",\"attributes\":{\"location\":2.848,\"dimension\":\"height\",\"line_width\":0.1}},{\"type\":\"object\",\"name\":\"Span\",\"id\":\"p3048\",\"attributes\":{\"location\":2.943,\"dimension\":\"height\",\"line_width\":0.1}},{\"type\":\"object\",\"name\":\"Span\",\"id\":\"p3050\",\"attributes\":{\"location\":0.0,\"dimension\":\"height\",\"line_width\":0.5}},{\"type\":\"object\",\"name\":\"Span\",\"id\":\"p3051\",\"attributes\":{\"location\":0.38,\"dimension\":\"height\",\"line_width\":0.5}},{\"type\":\"object\",\"name\":\"Span\",\"id\":\"p3052\",\"attributes\":{\"location\":0.76,\"dimension\":\"height\",\"line_width\":0.5}},{\"type\":\"object\",\"name\":\"Span\",\"id\":\"p3053\",\"attributes\":{\"location\":1.139,\"dimension\":\"height\",\"line_width\":0.5}},{\"type\":\"object\",\"name\":\"Span\",\"id\":\"p3054\",\"attributes\":{\"location\":1.519,\"dimension\":\"height\",\"line_width\":0.5}},{\"type\":\"object\",\"name\":\"Span\",\"id\":\"p3055\",\"attributes\":{\"location\":1.899,\"dimension\":\"height\",\"line_width\":0.5}},{\"type\":\"object\",\"name\":\"Span\",\"id\":\"p3056\",\"attributes\":{\"location\":2.278,\"dimension\":\"height\",\"line_width\":0.5}},{\"type\":\"object\",\"name\":\"Span\",\"id\":\"p3057\",\"attributes\":{\"location\":2.658,\"dimension\":\"height\",\"line_width\":0.5}},{\"type\":\"object\",\"name\":\"Span\",\"id\":\"p3058\",\"attributes\":{\"location\":0.0,\"dimension\":\"height\",\"line_width\":2}},{\"type\":\"object\",\"name\":\"Span\",\"id\":\"p3059\",\"attributes\":{\"location\":1.519,\"dimension\":\"height\",\"line_width\":2}}]}}}},{\"type\":\"object\",\"name\":\"TabPanel\",\"id\":\"p3752\",\"attributes\":{\"title\":\"Tab 6\",\"child\":{\"type\":\"object\",\"name\":\"Figure\",\"id\":\"p3105\",\"attributes\":{\"width\":800,\"height\":400,\"x_range\":{\"type\":\"object\",\"name\":\"DataRange1d\",\"id\":\"p3107\",\"attributes\":{\"start\":-0.6643,\"end\":7.307300000000001}},\"y_range\":{\"type\":\"object\",\"name\":\"Range1d\",\"id\":\"p3114\",\"attributes\":{\"start\":-0.5,\"end\":5.75}},\"x_scale\":{\"type\":\"object\",\"name\":\"LinearScale\",\"id\":\"p3115\"},\"y_scale\":{\"type\":\"object\",\"name\":\"LinearScale\",\"id\":\"p3116\"},\"title\":{\"type\":\"object\",\"name\":\"Title\",\"id\":\"p3112\",\"attributes\":{\"text_color\":\"#5B5B5B\",\"text_font\":\"Helvetica\",\"text_font_size\":\"1.15em\"}},\"renderers\":[{\"type\":\"object\",\"name\":\"GlyphRenderer\",\"id\":\"p3147\",\"attributes\":{\"data_source\":{\"type\":\"object\",\"name\":\"ColumnDataSource\",\"id\":\"p3138\",\"attributes\":{\"selected\":{\"type\":\"object\",\"name\":\"Selection\",\"id\":\"p3139\",\"attributes\":{\"indices\":[],\"line_indices\":[]}},\"selection_policy\":{\"type\":\"object\",\"name\":\"UnionRenderers\",\"id\":\"p3140\"},\"data\":{\"type\":\"map\",\"entries\":[[\"start\",[0.062488,0.071476,0.071476,0.500048,0.41609999999999997,0.500048,0.901726,0.833888,0.901726,0.901726,1.285785,1.29456,1.285785,1.583888,1.740964,1.70544,1.642952,1.642952,2.2052739999999997,2.176812,2.2052739999999997,2.624928,2.582128,2.6161540000000003,2.6161540000000003,3.089238,3.019688,3.089238,3.51788,3.434634,3.51788,3.51788,3.893952,3.8687,3.893952,4.275086,4.3392859999999995,4.3392859999999995,4.741108,4.705325,4.741108,4.992772,5.1964999999999995,5.123311999999999,5.04456,5.04456,5.598108,5.5713550000000005,5.616084,5.616084,6.0714760000000005,5.976674,6.062488,6.062488,6.455322,6.4161,6.455322]],[\"end\",[0.16948799999999975,0.17847599999999975,0.17847599999999975,0.6070479999999998,0.5230999999999997,0.6070479999999998,1.0087259999999998,0.9408879999999997,1.0087259999999998,1.0087259999999998,1.3927849999999997,1.4015599999999997,1.3927849999999997,1.6908879999999997,1.8479639999999997,1.8124399999999998,1.7499519999999997,1.7499519999999997,2.3122739999999995,2.2838119999999997,2.3122739999999995,2.731928,2.6891279999999997,2.723154,2.723154,3.1962379999999997,3.1266879999999997,3.1962379999999997,3.6248799999999997,3.5416339999999997,3.6248799999999997,3.6248799999999997,4.000952,3.9757,4.000952,4.382085999999999,4.446285999999999,4.446285999999999,4.848108,4.8123249999999995,4.848108,5.099772,5.3035,5.230312,5.15156,5.15156,5.705107999999999,5.678355,5.723084,5.723084,6.178476,6.083674,6.169487999999999,6.169487999999999,6.562322,6.5230999999999995,6.562322]],[\"instrument\",[\"stream_0\",\"stream_2\",\"stream_3\",\"stream_0\",\"stream_1\",\"stream_3\",\"stream_0\",\"stream_1\",\"stream_2\",\"stream_3\",\"stream_0\",\"stream_1\",\"stream_3\",\"stream_1\",\"stream_0\",\"stream_1\",\"stream_2\",\"stream_3\",\"stream_0\",\"stream_1\",\"stream_3\",\"stream_0\",\"stream_1\",\"stream_2\",\"stream_3\",\"stream_0\",\"stream_1\",\"stream_3\",\"stream_0\",\"stream_1\",\"stream_2\",\"stream_3\",\"stream_0\",\"stream_1\",\"stream_3\",\"stream_1\",\"stream_2\",\"stream_3\",\"stream_0\",\"stream_1\",\"stream_3\",\"stream_1\",\"stream_0\",\"stream_1\",\"stream_2\",\"stream_3\",\"stream_0\",\"stream_1\",\"stream_2\",\"stream_3\",\"stream_0\",\"stream_1\",\"stream_2\",\"stream_3\",\"stream_0\",\"stream_1\",\"stream_3\"]],[\"voice_index\",[0,2,3,0,1,3,0,1,2,3,0,1,3,1,0,1,2,3,0,1,3,0,1,2,3,0,1,3,0,1,2,3,0,1,3,1,2,3,0,1,3,1,0,1,2,3,0,1,2,3,0,1,2,3,0,1,3]],[\"midi\",[36,42,46,36,38,46,36,38,42,46,36,38,46,38,36,38,42,46,36,38,46,36,38,42,46,36,38,46,36,38,42,46,36,38,46,38,42,46,36,38,46,38,36,38,42,46,36,38,42,46,36,38,42,46,36,38,46]],[\"velocity\",[0.244,0.331,0.331,0.071,0.323,0.071,0.614,0.976,0.961,0.961,0.181,0.386,0.181,0.417,0.323,0.74,0.535,0.535,0.126,0.543,0.126,0.535,1.0,0.85,0.85,0.126,0.654,0.126,0.252,0.63,0.433,0.433,0.126,0.315,0.126,1.0,0.835,0.835,0.126,0.465,0.126,0.339,0.252,0.583,0.512,0.512,0.283,0.614,0.441,0.441,0.551,1.0,1.0,1.0,0.126,0.567,0.126]],[\"offset\",[0.292,0.334,0.334,0.332,-0.06,0.332,0.209,-0.108,0.209,0.209,-0.001,0.04,-0.001,0.392,0.126,-0.04,-0.332,-0.332,0.291,0.158,0.291,0.252,0.052,0.211,0.211,0.417,0.092,0.417,0.42,0.031,0.42,0.42,0.168,0.05,0.168,-0.051,0.249,0.249,0.122,-0.045,0.122,0.298,0.25,-0.092,-0.46,-0.46,0.122,-0.003,0.206,0.206,0.334,-0.109,0.292,0.292,0.123,-0.06,0.123]],[\"offset_sec\",[0.062,0.071,0.071,0.071,-0.013,0.071,0.045,-0.023,0.045,0.045,-0.0,0.009,-0.0,0.084,0.027,-0.009,-0.071,-0.071,0.062,0.034,0.062,0.054,0.011,0.045,0.045,0.089,0.02,0.089,0.09,0.007,0.09,0.09,0.036,0.011,0.036,-0.011,0.053,0.053,0.026,-0.01,0.026,0.064,0.054,-0.02,-0.098,-0.098,0.026,-0.001,0.044,0.044,0.071,-0.023,0.062,0.062,0.026,-0.013,0.026]],[\"grid_line\",[0,0,0,2,2,2,4,4,4,4,6,6,6,7,8,8,8,8,10,10,10,12,12,12,12,14,14,14,16,16,16,16,18,18,18,20,20,20,22,22,22,23,24,24,24,24,26,26,26,26,28,28,28,28,30,30,30]],[\"top\",{\"type\":\"ndarray\",\"array\":{\"type\":\"bytes\",\"data\":\"mpmZmZmZyT+amZmZmZkBQJqZmZmZmQlAmpmZmZmZyT8zMzMzMzPzP5qZmZmZmQlAmpmZmZmZyT8zMzMzMzPzP5qZmZmZmQFAmpmZmZmZCUCamZmZmZnJPzMzMzMzM/M/mpmZmZmZCUAzMzMzMzPzP5qZmZmZmck/MzMzMzMz8z+amZmZmZkBQJqZmZmZmQlAmpmZmZmZyT8zMzMzMzPzP5qZmZmZmQlAmpmZmZmZyT8zMzMzMzPzP5qZmZmZmQFAmpmZmZmZCUCamZmZmZnJPzMzMzMzM/M/mpmZmZmZCUCamZmZmZnJPzMzMzMzM/M/mpmZmZmZAUCamZmZmZkJQJqZmZmZmck/MzMzMzMz8z+amZmZmZkJQDMzMzMzM/M/mpmZmZmZAUCamZmZmZkJQJqZmZmZmck/MzMzMzMz8z+amZmZmZkJQDMzMzMzM/M/mpmZmZmZyT8zMzMzMzPzP5qZmZmZmQFAmpmZmZmZCUCamZmZmZnJPzMzMzMzM/M/mpmZmZmZAUCamZmZmZkJQJqZmZmZmck/MzMzMzMz8z+amZmZmZkBQJqZmZmZmQlAmpmZmZmZyT8zMzMzMzPzP5qZmZmZmQlA\"},\"shape\":[57],\"dtype\":\"float64\",\"order\":\"little\"}],[\"bottom\",{\"type\":\"ndarray\",\"array\":{\"type\":\"bytes\",\"data\":\"mpmZmZmZyb/NzMzMzMz8P2ZmZmZmZgZAmpmZmZmZyb+amZmZmZnpP2ZmZmZmZgZAmpmZmZmZyb+amZmZmZnpP83MzMzMzPw/ZmZmZmZmBkCamZmZmZnJv5qZmZmZmek/ZmZmZmZmBkCamZmZmZnpP5qZmZmZmcm/mpmZmZmZ6T/NzMzMzMz8P2ZmZmZmZgZAmpmZmZmZyb+amZmZmZnpP2ZmZmZmZgZAmpmZmZmZyb+amZmZmZnpP83MzMzMzPw/ZmZmZmZmBkCamZmZmZnJv5qZmZmZmek/ZmZmZmZmBkCamZmZmZnJv5qZmZmZmek/zczMzMzM/D9mZmZmZmYGQJqZmZmZmcm/mpmZmZmZ6T9mZmZmZmYGQJqZmZmZmek/zczMzMzM/D9mZmZmZmYGQJqZmZmZmcm/mpmZmZmZ6T9mZmZmZmYGQJqZmZmZmek/mpmZmZmZyb+amZmZmZnpP83MzMzMzPw/ZmZmZmZmBkCamZmZmZnJv5qZmZmZmek/zczMzMzM/D9mZmZmZmYGQJqZmZmZmcm/mpmZmZmZ6T/NzMzMzMz8P2ZmZmZmZgZAmpmZmZmZyb+amZmZmZnpP2ZmZmZmZgZA\"},\"shape\":[57],\"dtype\":\"float64\",\"order\":\"little\"}]]}}},\"view\":{\"type\":\"object\",\"name\":\"CDSView\",\"id\":\"p3148\",\"attributes\":{\"filter\":{\"type\":\"object\",\"name\":\"AllIndices\",\"id\":\"p3149\"}}},\"glyph\":{\"type\":\"object\",\"name\":\"Quad\",\"id\":\"p3144\",\"attributes\":{\"left\":{\"type\":\"field\",\"field\":\"start\"},\"right\":{\"type\":\"field\",\"field\":\"end\"},\"bottom\":{\"type\":\"field\",\"field\":\"bottom\"},\"top\":{\"type\":\"field\",\"field\":\"top\"},\"line_color\":{\"type\":\"value\",\"value\":\"grey\"},\"fill_color\":{\"type\":\"value\",\"value\":\"grey\"},\"fill_alpha\":{\"type\":\"field\",\"field\":\"velocity\"}}},\"nonselection_glyph\":{\"type\":\"object\",\"name\":\"Quad\",\"id\":\"p3145\",\"attributes\":{\"left\":{\"type\":\"field\",\"field\":\"start\"},\"right\":{\"type\":\"field\",\"field\":\"end\"},\"bottom\":{\"type\":\"field\",\"field\":\"bottom\"},\"top\":{\"type\":\"field\",\"field\":\"top\"},\"line_color\":{\"type\":\"value\",\"value\":\"grey\"},\"line_alpha\":{\"type\":\"value\",\"value\":0.1},\"fill_color\":{\"type\":\"value\",\"value\":\"grey\"},\"fill_alpha\":{\"type\":\"value\",\"value\":0.1},\"hatch_alpha\":{\"type\":\"value\",\"value\":0.1}}},\"muted_glyph\":{\"type\":\"object\",\"name\":\"Quad\",\"id\":\"p3146\",\"attributes\":{\"left\":{\"type\":\"field\",\"field\":\"start\"},\"right\":{\"type\":\"field\",\"field\":\"end\"},\"bottom\":{\"type\":\"field\",\"field\":\"bottom\"},\"top\":{\"type\":\"field\",\"field\":\"top\"},\"line_color\":{\"type\":\"value\",\"value\":\"grey\"},\"line_alpha\":{\"type\":\"value\",\"value\":0.2},\"fill_color\":{\"type\":\"value\",\"value\":\"grey\"},\"fill_alpha\":{\"type\":\"value\",\"value\":0.2},\"hatch_alpha\":{\"type\":\"value\",\"value\":0.2}}}}},{\"type\":\"object\",\"name\":\"GlyphRenderer\",\"id\":\"p3198\",\"attributes\":{\"data_source\":{\"type\":\"object\",\"name\":\"ColumnDataSource\",\"id\":\"p3189\",\"attributes\":{\"selected\":{\"type\":\"object\",\"name\":\"Selection\",\"id\":\"p3190\",\"attributes\":{\"indices\":[],\"line_indices\":[]}},\"selection_policy\":{\"type\":\"object\",\"name\":\"UnionRenderers\",\"id\":\"p3191\"},\"data\":{\"type\":\"map\",\"entries\":[[\"x\",[0.0]],[\"y\",[4.5]],[\"tempo\",[70.0]],[\"grid_index\",[0]]]}}},\"view\":{\"type\":\"object\",\"name\":\"CDSView\",\"id\":\"p3199\",\"attributes\":{\"filter\":{\"type\":\"object\",\"name\":\"AllIndices\",\"id\":\"p3200\"}}},\"glyph\":{\"type\":\"object\",\"name\":\"Scatter\",\"id\":\"p3195\",\"attributes\":{\"x\":{\"type\":\"field\",\"field\":\"x\"},\"y\":{\"type\":\"field\",\"field\":\"y\"},\"size\":{\"type\":\"value\",\"value\":10},\"line_color\":{\"type\":\"value\",\"value\":\"#440154\"},\"fill_color\":{\"type\":\"value\",\"value\":\"#440154\"}}},\"nonselection_glyph\":{\"type\":\"object\",\"name\":\"Scatter\",\"id\":\"p3196\",\"attributes\":{\"x\":{\"type\":\"field\",\"field\":\"x\"},\"y\":{\"type\":\"field\",\"field\":\"y\"},\"size\":{\"type\":\"value\",\"value\":10},\"line_color\":{\"type\":\"value\",\"value\":\"#440154\"},\"line_alpha\":{\"type\":\"value\",\"value\":0.1},\"fill_color\":{\"type\":\"value\",\"value\":\"#440154\"},\"fill_alpha\":{\"type\":\"value\",\"value\":0.1},\"hatch_alpha\":{\"type\":\"value\",\"value\":0.1}}},\"muted_glyph\":{\"type\":\"object\",\"name\":\"Scatter\",\"id\":\"p3197\",\"attributes\":{\"x\":{\"type\":\"field\",\"field\":\"x\"},\"y\":{\"type\":\"field\",\"field\":\"y\"},\"size\":{\"type\":\"value\",\"value\":10},\"line_color\":{\"type\":\"value\",\"value\":\"#440154\"},\"line_alpha\":{\"type\":\"value\",\"value\":0.2},\"fill_color\":{\"type\":\"value\",\"value\":\"#440154\"},\"fill_alpha\":{\"type\":\"value\",\"value\":0.2},\"hatch_alpha\":{\"type\":\"value\",\"value\":0.2}}}}},{\"type\":\"object\",\"name\":\"GlyphRenderer\",\"id\":\"p3212\",\"attributes\":{\"data_source\":{\"type\":\"object\",\"name\":\"ColumnDataSource\",\"id\":\"p3203\",\"attributes\":{\"selected\":{\"type\":\"object\",\"name\":\"Selection\",\"id\":\"p3204\",\"attributes\":{\"indices\":[],\"line_indices\":[]}},\"selection_policy\":{\"type\":\"object\",\"name\":\"UnionRenderers\",\"id\":\"p3205\"},\"data\":{\"type\":\"map\",\"entries\":[[\"x\",[0.0]],[\"y\",[4]],[\"Numerator\",[4]],[\"Denominator\",[4]],[\"grid_index\",[0]]]}}},\"view\":{\"type\":\"object\",\"name\":\"CDSView\",\"id\":\"p3213\",\"attributes\":{\"filter\":{\"type\":\"object\",\"name\":\"AllIndices\",\"id\":\"p3214\"}}},\"glyph\":{\"type\":\"object\",\"name\":\"Scatter\",\"id\":\"p3209\",\"attributes\":{\"x\":{\"type\":\"field\",\"field\":\"x\"},\"y\":{\"type\":\"field\",\"field\":\"y\"},\"size\":{\"type\":\"value\",\"value\":10},\"line_color\":{\"type\":\"value\",\"value\":\"#70CE56\"},\"fill_color\":{\"type\":\"value\",\"value\":\"#70CE56\"}}},\"nonselection_glyph\":{\"type\":\"object\",\"name\":\"Scatter\",\"id\":\"p3210\",\"attributes\":{\"x\":{\"type\":\"field\",\"field\":\"x\"},\"y\":{\"type\":\"field\",\"field\":\"y\"},\"size\":{\"type\":\"value\",\"value\":10},\"line_color\":{\"type\":\"value\",\"value\":\"#70CE56\"},\"line_alpha\":{\"type\":\"value\",\"value\":0.1},\"fill_color\":{\"type\":\"value\",\"value\":\"#70CE56\"},\"fill_alpha\":{\"type\":\"value\",\"value\":0.1},\"hatch_alpha\":{\"type\":\"value\",\"value\":0.1}}},\"muted_glyph\":{\"type\":\"object\",\"name\":\"Scatter\",\"id\":\"p3211\",\"attributes\":{\"x\":{\"type\":\"field\",\"field\":\"x\"},\"y\":{\"type\":\"field\",\"field\":\"y\"},\"size\":{\"type\":\"value\",\"value\":10},\"line_color\":{\"type\":\"value\",\"value\":\"#70CE56\"},\"line_alpha\":{\"type\":\"value\",\"value\":0.2},\"fill_color\":{\"type\":\"value\",\"value\":\"#70CE56\"},\"fill_alpha\":{\"type\":\"value\",\"value\":0.2},\"hatch_alpha\":{\"type\":\"value\",\"value\":0.2}}}}},{\"type\":\"object\",\"name\":\"GlyphRenderer\",\"id\":\"p3226\",\"attributes\":{\"data_source\":{\"type\":\"object\",\"name\":\"ColumnDataSource\",\"id\":\"p3217\",\"attributes\":{\"selected\":{\"type\":\"object\",\"name\":\"Selection\",\"id\":\"p3218\",\"attributes\":{\"indices\":[],\"line_indices\":[]}},\"selection_policy\":{\"type\":\"object\",\"name\":\"UnionRenderers\",\"id\":\"p3219\"},\"data\":{\"type\":\"map\",\"entries\":[[\"x\",[0.0]],[\"y\",[3.5]],[\"Style\",[\"hiphop\"]],[\"Tempo\",[70.0]],[\"TestNumber\",[\"303\"]],[\"Repetition\",[\"Complex\"]],[\"participant_number\",[\"303\"]],[\"attempt\",[\"303_p1_complex\"]],[\"stream_0\",[\"303_p1_complex_right\"]],[\"stream_1\",[\"303_p1_complex_flattened\"]],[\"stream_2\",[\"303_p1_complex_left\"]],[\"stream_3\",[\"303_p1_complex_both\"]],[\"start_bar\",[0]],[\"collection\",[\"taptamdrum_hvo_output_both_is_or\"]],[\"sample_id\",[\"303_p1_complex\"]]]}}},\"view\":{\"type\":\"object\",\"name\":\"CDSView\",\"id\":\"p3227\",\"attributes\":{\"filter\":{\"type\":\"object\",\"name\":\"AllIndices\",\"id\":\"p3228\"}}},\"glyph\":{\"type\":\"object\",\"name\":\"Scatter\",\"id\":\"p3223\",\"attributes\":{\"x\":{\"type\":\"field\",\"field\":\"x\"},\"y\":{\"type\":\"field\",\"field\":\"y\"},\"size\":{\"type\":\"value\",\"value\":10},\"line_color\":{\"type\":\"value\",\"value\":\"#1EA087\"},\"fill_color\":{\"type\":\"value\",\"value\":\"#1EA087\"}}},\"nonselection_glyph\":{\"type\":\"object\",\"name\":\"Scatter\",\"id\":\"p3224\",\"attributes\":{\"x\":{\"type\":\"field\",\"field\":\"x\"},\"y\":{\"type\":\"field\",\"field\":\"y\"},\"size\":{\"type\":\"value\",\"value\":10},\"line_color\":{\"type\":\"value\",\"value\":\"#1EA087\"},\"line_alpha\":{\"type\":\"value\",\"value\":0.1},\"fill_color\":{\"type\":\"value\",\"value\":\"#1EA087\"},\"fill_alpha\":{\"type\":\"value\",\"value\":0.1},\"hatch_alpha\":{\"type\":\"value\",\"value\":0.1}}},\"muted_glyph\":{\"type\":\"object\",\"name\":\"Scatter\",\"id\":\"p3225\",\"attributes\":{\"x\":{\"type\":\"field\",\"field\":\"x\"},\"y\":{\"type\":\"field\",\"field\":\"y\"},\"size\":{\"type\":\"value\",\"value\":10},\"line_color\":{\"type\":\"value\",\"value\":\"#1EA087\"},\"line_alpha\":{\"type\":\"value\",\"value\":0.2},\"fill_color\":{\"type\":\"value\",\"value\":\"#1EA087\"},\"fill_alpha\":{\"type\":\"value\",\"value\":0.2},\"hatch_alpha\":{\"type\":\"value\",\"value\":0.2}}}}}],\"toolbar\":{\"type\":\"object\",\"name\":\"Toolbar\",\"id\":\"p3113\",\"attributes\":{\"tools\":[{\"type\":\"object\",\"name\":\"PanTool\",\"id\":\"p3127\"},{\"type\":\"object\",\"name\":\"WheelZoomTool\",\"id\":\"p3128\",\"attributes\":{\"renderers\":\"auto\"}},{\"type\":\"object\",\"name\":\"BoxZoomTool\",\"id\":\"p3129\",\"attributes\":{\"overlay\":{\"type\":\"object\",\"name\":\"BoxAnnotation\",\"id\":\"p3130\",\"attributes\":{\"syncable\":false,\"level\":\"overlay\",\"visible\":false,\"left\":{\"type\":\"number\",\"value\":\"nan\"},\"right\":{\"type\":\"number\",\"value\":\"nan\"},\"top\":{\"type\":\"number\",\"value\":\"nan\"},\"bottom\":{\"type\":\"number\",\"value\":\"nan\"},\"left_units\":\"canvas\",\"right_units\":\"canvas\",\"top_units\":\"canvas\",\"bottom_units\":\"canvas\",\"line_color\":\"black\",\"line_alpha\":1.0,\"line_width\":2,\"line_dash\":[4,4],\"fill_color\":\"lightgrey\",\"fill_alpha\":0.5}}}},{\"type\":\"object\",\"name\":\"SaveTool\",\"id\":\"p3135\"},{\"type\":\"object\",\"name\":\"ResetTool\",\"id\":\"p3136\"},{\"type\":\"object\",\"name\":\"HelpTool\",\"id\":\"p3137\"},{\"type\":\"object\",\"name\":\"HoverTool\",\"id\":\"p3152\",\"attributes\":{\"renderers\":[{\"id\":\"p3147\"}],\"tooltips\":[[\"start\",\"@start\"],[\"end\",\"@end\"],[\"instrument\",\"@instrument\"],[\"voice_index\",\"@voice_index\"],[\"midi\",\"@midi\"],[\"velocity\",\"@velocity\"],[\"offset\",\"@offset\"],[\"offset_sec\",\"@offset_sec\"],[\"grid_line\",\"@grid_line\"]]}},{\"type\":\"object\",\"name\":\"HoverTool\",\"id\":\"p3202\",\"attributes\":{\"renderers\":[{\"id\":\"p3198\"}],\"tooltips\":[[\"tempo\",\"@tempo\"],[\"grid_index\",\"@grid_index\"]]}},{\"type\":\"object\",\"name\":\"HoverTool\",\"id\":\"p3216\",\"attributes\":{\"renderers\":[{\"id\":\"p3212\"}],\"tooltips\":[[\"Numerator\",\"@Numerator\"],[\"Denominator\",\"@Denominator\"],[\"grid_index\",\"@grid_index\"]]}},{\"type\":\"object\",\"name\":\"HoverTool\",\"id\":\"p3230\",\"attributes\":{\"renderers\":[{\"id\":\"p3226\"}],\"tooltips\":[[\"Style\",\"@Style\"],[\"Tempo\",\"@Tempo\"],[\"TestNumber\",\"@TestNumber\"],[\"Repetition\",\"@Repetition\"],[\"participant_number\",\"@participant_number\"],[\"attempt\",\"@attempt\"],[\"stream_0\",\"@stream_0\"],[\"stream_1\",\"@stream_1\"],[\"stream_2\",\"@stream_2\"],[\"stream_3\",\"@stream_3\"],[\"start_bar\",\"@start_bar\"],[\"collection\",\"@collection\"],[\"sample_id\",\"@sample_id\"]]}}]}},\"left\":[{\"type\":\"object\",\"name\":\"LinearAxis\",\"id\":\"p3122\",\"attributes\":{\"ticker\":{\"type\":\"object\",\"name\":\"FixedTicker\",\"id\":\"p3153\",\"attributes\":{\"ticks\":[0,1,2,3],\"minor_ticks\":[]}},\"formatter\":{\"type\":\"object\",\"name\":\"BasicTickFormatter\",\"id\":\"p3124\"},\"axis_label\":\"Instrument\",\"axis_label_standoff\":10,\"axis_label_text_color\":\"#5B5B5B\",\"axis_label_text_font\":\"Helvetica\",\"axis_label_text_font_size\":\"1.25em\",\"axis_label_text_font_style\":\"normal\",\"major_label_overrides\":{\"type\":\"map\",\"entries\":[[0,\"stream_0\"],[1,\"stream_1\"],[2,\"stream_2\"],[3,\"stream_3\"]]},\"major_label_policy\":{\"type\":\"object\",\"name\":\"AllLabels\",\"id\":\"p3125\"},\"major_label_text_color\":\"#5B5B5B\",\"major_label_text_font\":\"Helvetica\",\"major_label_text_font_size\":\"1.025em\",\"axis_line_color\":\"#5B5B5B\",\"axis_line_alpha\":0,\"major_tick_line_color\":\"#5B5B5B\",\"major_tick_line_alpha\":0,\"minor_tick_line_color\":\"#5B5B5B\",\"minor_tick_line_alpha\":0}}],\"right\":[{\"type\":\"object\",\"name\":\"Legend\",\"id\":\"p3150\",\"attributes\":{\"border_line_alpha\":0,\"background_fill_alpha\":0.25,\"click_policy\":\"hide\",\"label_text_color\":\"#5B5B5B\",\"label_text_font\":\"Helvetica\",\"label_text_font_size\":\"1.025em\",\"label_standoff\":8,\"glyph_width\":15,\"spacing\":8,\"items\":[{\"type\":\"object\",\"name\":\"LegendItem\",\"id\":\"p3151\",\"attributes\":{\"label\":{\"type\":\"value\",\"value\":\"Piano Roll\"},\"renderers\":[{\"id\":\"p3147\"}]}},{\"type\":\"object\",\"name\":\"LegendItem\",\"id\":\"p3201\",\"attributes\":{\"label\":{\"type\":\"value\",\"value\":\"Tempo\"},\"renderers\":[{\"id\":\"p3198\"}]}},{\"type\":\"object\",\"name\":\"LegendItem\",\"id\":\"p3215\",\"attributes\":{\"label\":{\"type\":\"value\",\"value\":\"Time Signature\"},\"renderers\":[{\"id\":\"p3212\"}]}},{\"type\":\"object\",\"name\":\"LegendItem\",\"id\":\"p3229\",\"attributes\":{\"label\":{\"type\":\"value\",\"value\":\"Metadata\"},\"renderers\":[{\"id\":\"p3226\"}]}}]}}],\"below\":[{\"type\":\"object\",\"name\":\"LinearAxis\",\"id\":\"p3117\",\"attributes\":{\"ticker\":{\"type\":\"object\",\"name\":\"FixedTicker\",\"id\":\"p3178\",\"attributes\":{\"ticks\":[0.0,0.86,1.71,2.57,3.43,4.29,5.14,6.0],\"minor_ticks\":[]}},\"formatter\":{\"type\":\"object\",\"name\":\"BasicTickFormatter\",\"id\":\"p3119\"},\"axis_label\":\"Time (sec)\",\"axis_label_standoff\":10,\"axis_label_text_color\":\"#5B5B5B\",\"axis_label_text_font\":\"Helvetica\",\"axis_label_text_font_size\":\"1.25em\",\"axis_label_text_font_style\":\"normal\",\"major_label_orientation\":1.57,\"major_label_policy\":{\"type\":\"object\",\"name\":\"AllLabels\",\"id\":\"p3120\"},\"major_label_text_color\":\"#5B5B5B\",\"major_label_text_font\":\"Helvetica\",\"major_label_text_font_size\":\"1.025em\",\"axis_line_color\":\"#5B5B5B\",\"axis_line_alpha\":0,\"major_tick_line_color\":\"#5B5B5B\",\"major_tick_line_alpha\":0,\"minor_tick_line_color\":\"#5B5B5B\",\"minor_tick_line_alpha\":0}}],\"center\":[{\"type\":\"object\",\"name\":\"Grid\",\"id\":\"p3121\",\"attributes\":{\"axis\":{\"id\":\"p3117\"},\"grid_line_color\":null}},{\"type\":\"object\",\"name\":\"Grid\",\"id\":\"p3126\",\"attributes\":{\"dimension\":1,\"axis\":{\"id\":\"p3122\"},\"grid_line_color\":null}},{\"id\":\"p3150\"},{\"type\":\"object\",\"name\":\"Span\",\"id\":\"p3154\",\"attributes\":{\"location\":0.214,\"dimension\":\"height\",\"line_width\":0.1}},{\"type\":\"object\",\"name\":\"Span\",\"id\":\"p3155\",\"attributes\":{\"location\":0.429,\"dimension\":\"height\",\"line_width\":0.1}},{\"type\":\"object\",\"name\":\"Span\",\"id\":\"p3156\",\"attributes\":{\"location\":0.643,\"dimension\":\"height\",\"line_width\":0.1}},{\"type\":\"object\",\"name\":\"Span\",\"id\":\"p3157\",\"attributes\":{\"location\":1.071,\"dimension\":\"height\",\"line_width\":0.1}},{\"type\":\"object\",\"name\":\"Span\",\"id\":\"p3158\",\"attributes\":{\"location\":1.286,\"dimension\":\"height\",\"line_width\":0.1}},{\"type\":\"object\",\"name\":\"Span\",\"id\":\"p3159\",\"attributes\":{\"location\":1.5,\"dimension\":\"height\",\"line_width\":0.1}},{\"type\":\"object\",\"name\":\"Span\",\"id\":\"p3160\",\"attributes\":{\"location\":1.928,\"dimension\":\"height\",\"line_width\":0.1}},{\"type\":\"object\",\"name\":\"Span\",\"id\":\"p3161\",\"attributes\":{\"location\":2.143,\"dimension\":\"height\",\"line_width\":0.1}},{\"type\":\"object\",\"name\":\"Span\",\"id\":\"p3162\",\"attributes\":{\"location\":2.357,\"dimension\":\"height\",\"line_width\":0.1}},{\"type\":\"object\",\"name\":\"Span\",\"id\":\"p3163\",\"attributes\":{\"location\":2.785,\"dimension\":\"height\",\"line_width\":0.1}},{\"type\":\"object\",\"name\":\"Span\",\"id\":\"p3164\",\"attributes\":{\"location\":3.0,\"dimension\":\"height\",\"line_width\":0.1}},{\"type\":\"object\",\"name\":\"Span\",\"id\":\"p3165\",\"attributes\":{\"location\":3.214,\"dimension\":\"height\",\"line_width\":0.1}},{\"type\":\"object\",\"name\":\"Span\",\"id\":\"p3166\",\"attributes\":{\"location\":3.642,\"dimension\":\"height\",\"line_width\":0.1}},{\"type\":\"object\",\"name\":\"Span\",\"id\":\"p3167\",\"attributes\":{\"location\":3.858,\"dimension\":\"height\",\"line_width\":0.1}},{\"type\":\"object\",\"name\":\"Span\",\"id\":\"p3168\",\"attributes\":{\"location\":4.072,\"dimension\":\"height\",\"line_width\":0.1}},{\"type\":\"object\",\"name\":\"Span\",\"id\":\"p3169\",\"attributes\":{\"location\":4.5,\"dimension\":\"height\",\"line_width\":0.1}},{\"type\":\"object\",\"name\":\"Span\",\"id\":\"p3170\",\"attributes\":{\"location\":4.715,\"dimension\":\"height\",\"line_width\":0.1}},{\"type\":\"object\",\"name\":\"Span\",\"id\":\"p3171\",\"attributes\":{\"location\":4.929,\"dimension\":\"height\",\"line_width\":0.1}},{\"type\":\"object\",\"name\":\"Span\",\"id\":\"p3172\",\"attributes\":{\"location\":5.357,\"dimension\":\"height\",\"line_width\":0.1}},{\"type\":\"object\",\"name\":\"Span\",\"id\":\"p3173\",\"attributes\":{\"location\":5.572,\"dimension\":\"height\",\"line_width\":0.1}},{\"type\":\"object\",\"name\":\"Span\",\"id\":\"p3174\",\"attributes\":{\"location\":5.786,\"dimension\":\"height\",\"line_width\":0.1}},{\"type\":\"object\",\"name\":\"Span\",\"id\":\"p3175\",\"attributes\":{\"location\":6.214,\"dimension\":\"height\",\"line_width\":0.1}},{\"type\":\"object\",\"name\":\"Span\",\"id\":\"p3176\",\"attributes\":{\"location\":6.429,\"dimension\":\"height\",\"line_width\":0.1}},{\"type\":\"object\",\"name\":\"Span\",\"id\":\"p3177\",\"attributes\":{\"location\":6.643,\"dimension\":\"height\",\"line_width\":0.1}},{\"type\":\"object\",\"name\":\"Span\",\"id\":\"p3179\",\"attributes\":{\"location\":0.0,\"dimension\":\"height\",\"line_width\":0.5}},{\"type\":\"object\",\"name\":\"Span\",\"id\":\"p3180\",\"attributes\":{\"location\":0.857,\"dimension\":\"height\",\"line_width\":0.5}},{\"type\":\"object\",\"name\":\"Span\",\"id\":\"p3181\",\"attributes\":{\"location\":1.714,\"dimension\":\"height\",\"line_width\":0.5}},{\"type\":\"object\",\"name\":\"Span\",\"id\":\"p3182\",\"attributes\":{\"location\":2.571,\"dimension\":\"height\",\"line_width\":0.5}},{\"type\":\"object\",\"name\":\"Span\",\"id\":\"p3183\",\"attributes\":{\"location\":3.428,\"dimension\":\"height\",\"line_width\":0.5}},{\"type\":\"object\",\"name\":\"Span\",\"id\":\"p3184\",\"attributes\":{\"location\":4.286,\"dimension\":\"height\",\"line_width\":0.5}},{\"type\":\"object\",\"name\":\"Span\",\"id\":\"p3185\",\"attributes\":{\"location\":5.143,\"dimension\":\"height\",\"line_width\":0.5}},{\"type\":\"object\",\"name\":\"Span\",\"id\":\"p3186\",\"attributes\":{\"location\":6.0,\"dimension\":\"height\",\"line_width\":0.5}},{\"type\":\"object\",\"name\":\"Span\",\"id\":\"p3187\",\"attributes\":{\"location\":0.0,\"dimension\":\"height\",\"line_width\":2}},{\"type\":\"object\",\"name\":\"Span\",\"id\":\"p3188\",\"attributes\":{\"location\":3.428,\"dimension\":\"height\",\"line_width\":2}}]}}}},{\"type\":\"object\",\"name\":\"TabPanel\",\"id\":\"p3753\",\"attributes\":{\"title\":\"Tab 7\",\"child\":{\"type\":\"object\",\"name\":\"Figure\",\"id\":\"p3234\",\"attributes\":{\"width\":800,\"height\":400,\"x_range\":{\"type\":\"object\",\"name\":\"DataRange1d\",\"id\":\"p3236\",\"attributes\":{\"start\":-0.44290000000000007,\"end\":4.871900000000001}},\"y_range\":{\"type\":\"object\",\"name\":\"Range1d\",\"id\":\"p3243\",\"attributes\":{\"start\":-0.5,\"end\":5.75}},\"x_scale\":{\"type\":\"object\",\"name\":\"LinearScale\",\"id\":\"p3244\"},\"y_scale\":{\"type\":\"object\",\"name\":\"LinearScale\",\"id\":\"p3245\"},\"title\":{\"type\":\"object\",\"name\":\"Title\",\"id\":\"p3241\",\"attributes\":{\"text_color\":\"#5B5B5B\",\"text_font\":\"Helvetica\",\"text_font_size\":\"1.15em\"}},\"renderers\":[{\"type\":\"object\",\"name\":\"GlyphRenderer\",\"id\":\"p3276\",\"attributes\":{\"data_source\":{\"type\":\"object\",\"name\":\"ColumnDataSource\",\"id\":\"p3267\",\"attributes\":{\"selected\":{\"type\":\"object\",\"name\":\"Selection\",\"id\":\"p3268\",\"attributes\":{\"indices\":[],\"line_indices\":[]}},\"selection_policy\":{\"type\":\"object\",\"name\":\"UnionRenderers\",\"id\":\"p3269\"},\"data\":{\"type\":\"map\",\"entries\":[[\"start\",[0.14757599999999998,0.15472599999999997,0.15472599999999997,0.23923899999999998,0.29172,0.29172,0.394108,0.42256499999999997,0.42256499999999997,0.5166139999999999,0.5594979999999999,0.5594979999999999,0.672673,0.6904049999999999,0.6904049999999999,0.796368,0.827399,0.827399,0.958387,0.946375,0.946375,1.118976,1.107107,1.107107,1.377377,1.66075,1.696392,1.702356,1.702356,1.803518,1.7856429999999999,1.7856429999999999,1.892893,1.963106,1.946375,1.946375,2.090519,2.239239,2.249964,2.249964,2.5282240000000002,2.559472,2.559472,2.70264,2.67779,2.67779,2.806807,2.969112,2.988131,2.988131,3.097669,3.113113,3.113113,3.257114,3.25597,3.25597,3.392074,3.398038,3.398038,3.534678,3.540684,3.540684,3.671672,3.65966,3.65966,3.803804,3.808523,3.808523,3.961676,3.940083,3.940083,4.083369,4.083369,4.245245,4.232088999999999,4.357071,4.357071,4.385671]],[\"end\",[0.21857599999999994,0.22572599999999993,0.22572599999999993,0.31023899999999993,0.36271999999999993,0.36271999999999993,0.46510799999999997,0.4935649999999999,0.4935649999999999,0.5876139999999999,0.6304979999999999,0.6304979999999999,0.7436729999999999,0.7614049999999999,0.7614049999999999,0.8673679999999999,0.898399,0.898399,1.0293869999999998,1.017375,1.017375,1.189976,1.178107,1.178107,1.448377,1.73175,1.7673919999999999,1.773356,1.773356,1.874518,1.8566429999999998,1.8566429999999998,1.9638929999999999,2.034106,2.017375,2.017375,2.161519,2.310239,2.320964,2.320964,2.5992240000000004,2.630472,2.630472,2.7736400000000003,2.7487899999999996,2.7487899999999996,2.877807,3.0401119999999997,3.059131,3.059131,3.1686689999999995,3.184113,3.184113,3.3281140000000002,3.32697,3.32697,3.4630739999999998,3.4690380000000003,3.4690380000000003,3.605678,3.6116840000000003,3.6116840000000003,3.7426719999999998,3.7306600000000003,3.7306600000000003,3.874804,3.879523,3.879523,4.032676,4.011083,4.011083,4.154369,4.154369,4.316244999999999,4.303088999999999,4.428071,4.428071,4.456671]],[\"instrument\",[\"stream_0\",\"stream_2\",\"stream_3\",\"stream_0\",\"stream_1\",\"stream_2\",\"stream_0\",\"stream_2\",\"stream_3\",\"stream_0\",\"stream_1\",\"stream_2\",\"stream_0\",\"stream_2\",\"stream_3\",\"stream_0\",\"stream_1\",\"stream_2\",\"stream_0\",\"stream_2\",\"stream_3\",\"stream_0\",\"stream_1\",\"stream_2\",\"stream_0\",\"stream_0\",\"stream_1\",\"stream_2\",\"stream_3\",\"stream_0\",\"stream_1\",\"stream_2\",\"stream_3\",\"stream_0\",\"stream_2\",\"stream_3\",\"stream_0\",\"stream_0\",\"stream_1\",\"stream_2\",\"stream_0\",\"stream_2\",\"stream_3\",\"stream_0\",\"stream_1\",\"stream_2\",\"stream_0\",\"stream_0\",\"stream_2\",\"stream_3\",\"stream_0\",\"stream_1\",\"stream_2\",\"stream_0\",\"stream_1\",\"stream_2\",\"stream_0\",\"stream_2\",\"stream_3\",\"stream_0\",\"stream_1\",\"stream_2\",\"stream_0\",\"stream_2\",\"stream_3\",\"stream_0\",\"stream_1\",\"stream_2\",\"stream_0\",\"stream_1\",\"stream_2\",\"stream_2\",\"stream_3\",\"stream_0\",\"stream_1\",\"stream_2\",\"stream_3\",\"stream_0\"]],[\"voice_index\",[0,2,3,0,1,2,0,2,3,0,1,2,0,2,3,0,1,2,0,2,3,0,1,2,0,0,1,2,3,0,1,2,3,0,2,3,0,0,1,2,0,2,3,0,1,2,0,0,2,3,0,1,2,0,1,2,0,2,3,0,1,2,0,2,3,0,1,2,0,1,2,2,3,0,1,2,3,0]],[\"midi\",[36,42,46,36,38,42,36,42,46,36,38,42,36,42,46,36,38,42,36,42,46,36,38,42,36,36,38,42,46,36,38,42,46,36,42,46,36,36,38,42,36,42,46,36,38,42,36,36,42,46,36,38,42,36,38,42,36,42,46,36,38,42,36,42,46,36,38,42,36,38,42,42,46,36,38,42,46,36]],[\"velocity\",[0.465,0.433,0.433,0.669,0.213,0.213,0.362,0.386,0.386,0.606,0.378,0.378,0.378,0.528,0.528,0.748,0.457,0.457,0.409,0.661,0.661,0.984,0.512,0.512,0.646,0.724,0.488,0.78,0.78,0.331,0.323,0.323,0.15,0.551,0.079,0.079,0.299,0.89,0.315,0.315,0.551,0.63,0.63,0.362,0.331,0.331,0.512,0.181,0.701,0.701,0.63,0.378,0.378,0.441,0.394,0.394,0.551,0.654,0.654,0.236,0.197,0.197,0.528,0.685,0.685,0.386,0.315,0.315,0.669,0.362,0.362,0.646,0.646,0.528,0.457,0.535,0.535,0.26]],[\"offset\",[0.032,0.082,0.082,-0.327,0.04,0.04,-0.244,-0.045,-0.045,-0.383,-0.081,-0.081,-0.289,-0.165,-0.165,-0.424,-0.207,-0.207,-0.291,-0.375,-0.375,-0.168,-0.251,-0.251,-0.361,-0.375,-0.124,-0.082,-0.082,-0.374,-0.499,-0.499,0.251,-0.258,-0.375,-0.375,-0.367,-0.327,-0.252,-0.252,-0.304,-0.087,-0.087,-0.08,-0.255,-0.255,-0.351,-0.216,-0.083,-0.083,-0.317,-0.209,-0.209,-0.202,-0.21,-0.21,-0.253,-0.211,-0.211,-0.254,-0.212,-0.212,-0.296,-0.38,-0.38,-0.372,-0.339,-0.339,-0.268,-0.419,-0.419,-0.417,-0.417,-0.285,-0.377,0.497,0.497,-0.303]],[\"offset_sec\",[0.005,0.012,0.012,-0.047,0.006,0.006,-0.035,-0.006,-0.006,-0.054,-0.012,-0.012,-0.041,-0.024,-0.024,-0.061,-0.03,-0.03,-0.042,-0.054,-0.054,-0.024,-0.036,-0.036,-0.052,-0.053,-0.018,-0.012,-0.012,-0.053,-0.071,-0.071,0.036,-0.037,-0.054,-0.054,-0.052,-0.047,-0.036,-0.036,-0.044,-0.013,-0.013,-0.011,-0.036,-0.036,-0.05,-0.031,-0.012,-0.012,-0.045,-0.03,-0.03,-0.029,-0.03,-0.03,-0.036,-0.03,-0.03,-0.036,-0.03,-0.03,-0.042,-0.054,-0.054,-0.053,-0.048,-0.048,-0.038,-0.06,-0.06,-0.06,-0.06,-0.041,-0.054,0.071,0.071,-0.043]],[\"grid_line\",[1,1,1,2,2,2,3,3,3,4,4,4,5,5,5,6,6,6,7,7,7,8,8,8,10,12,12,12,12,13,13,13,13,14,14,14,15,16,16,16,18,18,18,19,19,19,20,21,21,21,22,22,22,23,23,23,24,24,24,25,25,25,26,26,26,27,27,27,28,28,28,29,29,30,30,30,30,31]],[\"top\",{\"type\":\"ndarray\",\"array\":{\"type\":\"bytes\",\"data\":\"mpmZmZmZyT+amZmZmZkBQJqZmZmZmQlAmpmZmZmZyT8zMzMzMzPzP5qZmZmZmQFAmpmZmZmZyT+amZmZmZkBQJqZmZmZmQlAmpmZmZmZyT8zMzMzMzPzP5qZmZmZmQFAmpmZmZmZyT+amZmZmZkBQJqZmZmZmQlAmpmZmZmZyT8zMzMzMzPzP5qZmZmZmQFAmpmZmZmZyT+amZmZmZkBQJqZmZmZmQlAmpmZmZmZyT8zMzMzMzPzP5qZmZmZmQFAmpmZmZmZyT+amZmZmZnJPzMzMzMzM/M/mpmZmZmZAUCamZmZmZkJQJqZmZmZmck/MzMzMzMz8z+amZmZmZkBQJqZmZmZmQlAmpmZmZmZyT+amZmZmZkBQJqZmZmZmQlAmpmZmZmZyT+amZmZmZnJPzMzMzMzM/M/mpmZmZmZAUCamZmZmZnJP5qZmZmZmQFAmpmZmZmZCUCamZmZmZnJPzMzMzMzM/M/mpmZmZmZAUCamZmZmZnJP5qZmZmZmck/mpmZmZmZAUCamZmZmZkJQJqZmZmZmck/MzMzMzMz8z+amZmZmZkBQJqZmZmZmck/MzMzMzMz8z+amZmZmZkBQJqZmZmZmck/mpmZmZmZAUCamZmZmZkJQJqZmZmZmck/MzMzMzMz8z+amZmZmZkBQJqZmZmZmck/mpmZmZmZAUCamZmZmZkJQJqZmZmZmck/MzMzMzMz8z+amZmZmZkBQJqZmZmZmck/MzMzMzMz8z+amZmZmZkBQJqZmZmZmQFAmpmZmZmZCUCamZmZmZnJPzMzMzMzM/M/mpmZmZmZAUCamZmZmZkJQJqZmZmZmck/\"},\"shape\":[78],\"dtype\":\"float64\",\"order\":\"little\"}],[\"bottom\",{\"type\":\"ndarray\",\"array\":{\"type\":\"bytes\",\"data\":\"mpmZmZmZyb/NzMzMzMz8P2ZmZmZmZgZAmpmZmZmZyb+amZmZmZnpP83MzMzMzPw/mpmZmZmZyb/NzMzMzMz8P2ZmZmZmZgZAmpmZmZmZyb+amZmZmZnpP83MzMzMzPw/mpmZmZmZyb/NzMzMzMz8P2ZmZmZmZgZAmpmZmZmZyb+amZmZmZnpP83MzMzMzPw/mpmZmZmZyb/NzMzMzMz8P2ZmZmZmZgZAmpmZmZmZyb+amZmZmZnpP83MzMzMzPw/mpmZmZmZyb+amZmZmZnJv5qZmZmZmek/zczMzMzM/D9mZmZmZmYGQJqZmZmZmcm/mpmZmZmZ6T/NzMzMzMz8P2ZmZmZmZgZAmpmZmZmZyb/NzMzMzMz8P2ZmZmZmZgZAmpmZmZmZyb+amZmZmZnJv5qZmZmZmek/zczMzMzM/D+amZmZmZnJv83MzMzMzPw/ZmZmZmZmBkCamZmZmZnJv5qZmZmZmek/zczMzMzM/D+amZmZmZnJv5qZmZmZmcm/zczMzMzM/D9mZmZmZmYGQJqZmZmZmcm/mpmZmZmZ6T/NzMzMzMz8P5qZmZmZmcm/mpmZmZmZ6T/NzMzMzMz8P5qZmZmZmcm/zczMzMzM/D9mZmZmZmYGQJqZmZmZmcm/mpmZmZmZ6T/NzMzMzMz8P5qZmZmZmcm/zczMzMzM/D9mZmZmZmYGQJqZmZmZmcm/mpmZmZmZ6T/NzMzMzMz8P5qZmZmZmcm/mpmZmZmZ6T/NzMzMzMz8P83MzMzMzPw/ZmZmZmZmBkCamZmZmZnJv5qZmZmZmek/zczMzMzM/D9mZmZmZmYGQJqZmZmZmcm/\"},\"shape\":[78],\"dtype\":\"float64\",\"order\":\"little\"}]]}}},\"view\":{\"type\":\"object\",\"name\":\"CDSView\",\"id\":\"p3277\",\"attributes\":{\"filter\":{\"type\":\"object\",\"name\":\"AllIndices\",\"id\":\"p3278\"}}},\"glyph\":{\"type\":\"object\",\"name\":\"Quad\",\"id\":\"p3273\",\"attributes\":{\"left\":{\"type\":\"field\",\"field\":\"start\"},\"right\":{\"type\":\"field\",\"field\":\"end\"},\"bottom\":{\"type\":\"field\",\"field\":\"bottom\"},\"top\":{\"type\":\"field\",\"field\":\"top\"},\"line_color\":{\"type\":\"value\",\"value\":\"grey\"},\"fill_color\":{\"type\":\"value\",\"value\":\"grey\"},\"fill_alpha\":{\"type\":\"field\",\"field\":\"velocity\"}}},\"nonselection_glyph\":{\"type\":\"object\",\"name\":\"Quad\",\"id\":\"p3274\",\"attributes\":{\"left\":{\"type\":\"field\",\"field\":\"start\"},\"right\":{\"type\":\"field\",\"field\":\"end\"},\"bottom\":{\"type\":\"field\",\"field\":\"bottom\"},\"top\":{\"type\":\"field\",\"field\":\"top\"},\"line_color\":{\"type\":\"value\",\"value\":\"grey\"},\"line_alpha\":{\"type\":\"value\",\"value\":0.1},\"fill_color\":{\"type\":\"value\",\"value\":\"grey\"},\"fill_alpha\":{\"type\":\"value\",\"value\":0.1},\"hatch_alpha\":{\"type\":\"value\",\"value\":0.1}}},\"muted_glyph\":{\"type\":\"object\",\"name\":\"Quad\",\"id\":\"p3275\",\"attributes\":{\"left\":{\"type\":\"field\",\"field\":\"start\"},\"right\":{\"type\":\"field\",\"field\":\"end\"},\"bottom\":{\"type\":\"field\",\"field\":\"bottom\"},\"top\":{\"type\":\"field\",\"field\":\"top\"},\"line_color\":{\"type\":\"value\",\"value\":\"grey\"},\"line_alpha\":{\"type\":\"value\",\"value\":0.2},\"fill_color\":{\"type\":\"value\",\"value\":\"grey\"},\"fill_alpha\":{\"type\":\"value\",\"value\":0.2},\"hatch_alpha\":{\"type\":\"value\",\"value\":0.2}}}}},{\"type\":\"object\",\"name\":\"GlyphRenderer\",\"id\":\"p3327\",\"attributes\":{\"data_source\":{\"type\":\"object\",\"name\":\"ColumnDataSource\",\"id\":\"p3318\",\"attributes\":{\"selected\":{\"type\":\"object\",\"name\":\"Selection\",\"id\":\"p3319\",\"attributes\":{\"indices\":[],\"line_indices\":[]}},\"selection_policy\":{\"type\":\"object\",\"name\":\"UnionRenderers\",\"id\":\"p3320\"},\"data\":{\"type\":\"map\",\"entries\":[[\"x\",[0.0]],[\"y\",[4.5]],[\"tempo\",[105.0]],[\"grid_index\",[0]]]}}},\"view\":{\"type\":\"object\",\"name\":\"CDSView\",\"id\":\"p3328\",\"attributes\":{\"filter\":{\"type\":\"object\",\"name\":\"AllIndices\",\"id\":\"p3329\"}}},\"glyph\":{\"type\":\"object\",\"name\":\"Scatter\",\"id\":\"p3324\",\"attributes\":{\"x\":{\"type\":\"field\",\"field\":\"x\"},\"y\":{\"type\":\"field\",\"field\":\"y\"},\"size\":{\"type\":\"value\",\"value\":10},\"line_color\":{\"type\":\"value\",\"value\":\"#440154\"},\"fill_color\":{\"type\":\"value\",\"value\":\"#440154\"}}},\"nonselection_glyph\":{\"type\":\"object\",\"name\":\"Scatter\",\"id\":\"p3325\",\"attributes\":{\"x\":{\"type\":\"field\",\"field\":\"x\"},\"y\":{\"type\":\"field\",\"field\":\"y\"},\"size\":{\"type\":\"value\",\"value\":10},\"line_color\":{\"type\":\"value\",\"value\":\"#440154\"},\"line_alpha\":{\"type\":\"value\",\"value\":0.1},\"fill_color\":{\"type\":\"value\",\"value\":\"#440154\"},\"fill_alpha\":{\"type\":\"value\",\"value\":0.1},\"hatch_alpha\":{\"type\":\"value\",\"value\":0.1}}},\"muted_glyph\":{\"type\":\"object\",\"name\":\"Scatter\",\"id\":\"p3326\",\"attributes\":{\"x\":{\"type\":\"field\",\"field\":\"x\"},\"y\":{\"type\":\"field\",\"field\":\"y\"},\"size\":{\"type\":\"value\",\"value\":10},\"line_color\":{\"type\":\"value\",\"value\":\"#440154\"},\"line_alpha\":{\"type\":\"value\",\"value\":0.2},\"fill_color\":{\"type\":\"value\",\"value\":\"#440154\"},\"fill_alpha\":{\"type\":\"value\",\"value\":0.2},\"hatch_alpha\":{\"type\":\"value\",\"value\":0.2}}}}},{\"type\":\"object\",\"name\":\"GlyphRenderer\",\"id\":\"p3341\",\"attributes\":{\"data_source\":{\"type\":\"object\",\"name\":\"ColumnDataSource\",\"id\":\"p3332\",\"attributes\":{\"selected\":{\"type\":\"object\",\"name\":\"Selection\",\"id\":\"p3333\",\"attributes\":{\"indices\":[],\"line_indices\":[]}},\"selection_policy\":{\"type\":\"object\",\"name\":\"UnionRenderers\",\"id\":\"p3334\"},\"data\":{\"type\":\"map\",\"entries\":[[\"x\",[0.0]],[\"y\",[4]],[\"Numerator\",[4]],[\"Denominator\",[4]],[\"grid_index\",[0]]]}}},\"view\":{\"type\":\"object\",\"name\":\"CDSView\",\"id\":\"p3342\",\"attributes\":{\"filter\":{\"type\":\"object\",\"name\":\"AllIndices\",\"id\":\"p3343\"}}},\"glyph\":{\"type\":\"object\",\"name\":\"Scatter\",\"id\":\"p3338\",\"attributes\":{\"x\":{\"type\":\"field\",\"field\":\"x\"},\"y\":{\"type\":\"field\",\"field\":\"y\"},\"size\":{\"type\":\"value\",\"value\":10},\"line_color\":{\"type\":\"value\",\"value\":\"#70CE56\"},\"fill_color\":{\"type\":\"value\",\"value\":\"#70CE56\"}}},\"nonselection_glyph\":{\"type\":\"object\",\"name\":\"Scatter\",\"id\":\"p3339\",\"attributes\":{\"x\":{\"type\":\"field\",\"field\":\"x\"},\"y\":{\"type\":\"field\",\"field\":\"y\"},\"size\":{\"type\":\"value\",\"value\":10},\"line_color\":{\"type\":\"value\",\"value\":\"#70CE56\"},\"line_alpha\":{\"type\":\"value\",\"value\":0.1},\"fill_color\":{\"type\":\"value\",\"value\":\"#70CE56\"},\"fill_alpha\":{\"type\":\"value\",\"value\":0.1},\"hatch_alpha\":{\"type\":\"value\",\"value\":0.1}}},\"muted_glyph\":{\"type\":\"object\",\"name\":\"Scatter\",\"id\":\"p3340\",\"attributes\":{\"x\":{\"type\":\"field\",\"field\":\"x\"},\"y\":{\"type\":\"field\",\"field\":\"y\"},\"size\":{\"type\":\"value\",\"value\":10},\"line_color\":{\"type\":\"value\",\"value\":\"#70CE56\"},\"line_alpha\":{\"type\":\"value\",\"value\":0.2},\"fill_color\":{\"type\":\"value\",\"value\":\"#70CE56\"},\"fill_alpha\":{\"type\":\"value\",\"value\":0.2},\"hatch_alpha\":{\"type\":\"value\",\"value\":0.2}}}}},{\"type\":\"object\",\"name\":\"GlyphRenderer\",\"id\":\"p3355\",\"attributes\":{\"data_source\":{\"type\":\"object\",\"name\":\"ColumnDataSource\",\"id\":\"p3346\",\"attributes\":{\"selected\":{\"type\":\"object\",\"name\":\"Selection\",\"id\":\"p3347\",\"attributes\":{\"indices\":[],\"line_indices\":[]}},\"selection_policy\":{\"type\":\"object\",\"name\":\"UnionRenderers\",\"id\":\"p3348\"},\"data\":{\"type\":\"map\",\"entries\":[[\"x\",[0.0]],[\"y\",[3.5]],[\"Style\",[\"afrocuban\"]],[\"Tempo\",[105.0]],[\"TestNumber\",[\"075\"]],[\"Repetition\",[\"Simple\"]],[\"participant_number\",[\"75\"]],[\"attempt\",[\"75_p1_simple\"]],[\"stream_0\",[\"75_p1_simple_flattened\"]],[\"stream_1\",[\"75_p1_simple_right\"]],[\"stream_2\",[\"75_p1_simple_both\"]],[\"stream_3\",[\"75_p1_simple_left\"]],[\"start_bar\",[0]],[\"collection\",[\"taptamdrum_hvo_output_both_is_or\"]],[\"sample_id\",[\"75_p1_simple\"]]]}}},\"view\":{\"type\":\"object\",\"name\":\"CDSView\",\"id\":\"p3356\",\"attributes\":{\"filter\":{\"type\":\"object\",\"name\":\"AllIndices\",\"id\":\"p3357\"}}},\"glyph\":{\"type\":\"object\",\"name\":\"Scatter\",\"id\":\"p3352\",\"attributes\":{\"x\":{\"type\":\"field\",\"field\":\"x\"},\"y\":{\"type\":\"field\",\"field\":\"y\"},\"size\":{\"type\":\"value\",\"value\":10},\"line_color\":{\"type\":\"value\",\"value\":\"#1EA087\"},\"fill_color\":{\"type\":\"value\",\"value\":\"#1EA087\"}}},\"nonselection_glyph\":{\"type\":\"object\",\"name\":\"Scatter\",\"id\":\"p3353\",\"attributes\":{\"x\":{\"type\":\"field\",\"field\":\"x\"},\"y\":{\"type\":\"field\",\"field\":\"y\"},\"size\":{\"type\":\"value\",\"value\":10},\"line_color\":{\"type\":\"value\",\"value\":\"#1EA087\"},\"line_alpha\":{\"type\":\"value\",\"value\":0.1},\"fill_color\":{\"type\":\"value\",\"value\":\"#1EA087\"},\"fill_alpha\":{\"type\":\"value\",\"value\":0.1},\"hatch_alpha\":{\"type\":\"value\",\"value\":0.1}}},\"muted_glyph\":{\"type\":\"object\",\"name\":\"Scatter\",\"id\":\"p3354\",\"attributes\":{\"x\":{\"type\":\"field\",\"field\":\"x\"},\"y\":{\"type\":\"field\",\"field\":\"y\"},\"size\":{\"type\":\"value\",\"value\":10},\"line_color\":{\"type\":\"value\",\"value\":\"#1EA087\"},\"line_alpha\":{\"type\":\"value\",\"value\":0.2},\"fill_color\":{\"type\":\"value\",\"value\":\"#1EA087\"},\"fill_alpha\":{\"type\":\"value\",\"value\":0.2},\"hatch_alpha\":{\"type\":\"value\",\"value\":0.2}}}}}],\"toolbar\":{\"type\":\"object\",\"name\":\"Toolbar\",\"id\":\"p3242\",\"attributes\":{\"tools\":[{\"type\":\"object\",\"name\":\"PanTool\",\"id\":\"p3256\"},{\"type\":\"object\",\"name\":\"WheelZoomTool\",\"id\":\"p3257\",\"attributes\":{\"renderers\":\"auto\"}},{\"type\":\"object\",\"name\":\"BoxZoomTool\",\"id\":\"p3258\",\"attributes\":{\"overlay\":{\"type\":\"object\",\"name\":\"BoxAnnotation\",\"id\":\"p3259\",\"attributes\":{\"syncable\":false,\"level\":\"overlay\",\"visible\":false,\"left\":{\"type\":\"number\",\"value\":\"nan\"},\"right\":{\"type\":\"number\",\"value\":\"nan\"},\"top\":{\"type\":\"number\",\"value\":\"nan\"},\"bottom\":{\"type\":\"number\",\"value\":\"nan\"},\"left_units\":\"canvas\",\"right_units\":\"canvas\",\"top_units\":\"canvas\",\"bottom_units\":\"canvas\",\"line_color\":\"black\",\"line_alpha\":1.0,\"line_width\":2,\"line_dash\":[4,4],\"fill_color\":\"lightgrey\",\"fill_alpha\":0.5}}}},{\"type\":\"object\",\"name\":\"SaveTool\",\"id\":\"p3264\"},{\"type\":\"object\",\"name\":\"ResetTool\",\"id\":\"p3265\"},{\"type\":\"object\",\"name\":\"HelpTool\",\"id\":\"p3266\"},{\"type\":\"object\",\"name\":\"HoverTool\",\"id\":\"p3281\",\"attributes\":{\"renderers\":[{\"id\":\"p3276\"}],\"tooltips\":[[\"start\",\"@start\"],[\"end\",\"@end\"],[\"instrument\",\"@instrument\"],[\"voice_index\",\"@voice_index\"],[\"midi\",\"@midi\"],[\"velocity\",\"@velocity\"],[\"offset\",\"@offset\"],[\"offset_sec\",\"@offset_sec\"],[\"grid_line\",\"@grid_line\"]]}},{\"type\":\"object\",\"name\":\"HoverTool\",\"id\":\"p3331\",\"attributes\":{\"renderers\":[{\"id\":\"p3327\"}],\"tooltips\":[[\"tempo\",\"@tempo\"],[\"grid_index\",\"@grid_index\"]]}},{\"type\":\"object\",\"name\":\"HoverTool\",\"id\":\"p3345\",\"attributes\":{\"renderers\":[{\"id\":\"p3341\"}],\"tooltips\":[[\"Numerator\",\"@Numerator\"],[\"Denominator\",\"@Denominator\"],[\"grid_index\",\"@grid_index\"]]}},{\"type\":\"object\",\"name\":\"HoverTool\",\"id\":\"p3359\",\"attributes\":{\"renderers\":[{\"id\":\"p3355\"}],\"tooltips\":[[\"Style\",\"@Style\"],[\"Tempo\",\"@Tempo\"],[\"TestNumber\",\"@TestNumber\"],[\"Repetition\",\"@Repetition\"],[\"participant_number\",\"@participant_number\"],[\"attempt\",\"@attempt\"],[\"stream_0\",\"@stream_0\"],[\"stream_1\",\"@stream_1\"],[\"stream_2\",\"@stream_2\"],[\"stream_3\",\"@stream_3\"],[\"start_bar\",\"@start_bar\"],[\"collection\",\"@collection\"],[\"sample_id\",\"@sample_id\"]]}}]}},\"left\":[{\"type\":\"object\",\"name\":\"LinearAxis\",\"id\":\"p3251\",\"attributes\":{\"ticker\":{\"type\":\"object\",\"name\":\"FixedTicker\",\"id\":\"p3282\",\"attributes\":{\"ticks\":[0,1,2,3],\"minor_ticks\":[]}},\"formatter\":{\"type\":\"object\",\"name\":\"BasicTickFormatter\",\"id\":\"p3253\"},\"axis_label\":\"Instrument\",\"axis_label_standoff\":10,\"axis_label_text_color\":\"#5B5B5B\",\"axis_label_text_font\":\"Helvetica\",\"axis_label_text_font_size\":\"1.25em\",\"axis_label_text_font_style\":\"normal\",\"major_label_overrides\":{\"type\":\"map\",\"entries\":[[0,\"stream_0\"],[1,\"stream_1\"],[2,\"stream_2\"],[3,\"stream_3\"]]},\"major_label_policy\":{\"type\":\"object\",\"name\":\"AllLabels\",\"id\":\"p3254\"},\"major_label_text_color\":\"#5B5B5B\",\"major_label_text_font\":\"Helvetica\",\"major_label_text_font_size\":\"1.025em\",\"axis_line_color\":\"#5B5B5B\",\"axis_line_alpha\":0,\"major_tick_line_color\":\"#5B5B5B\",\"major_tick_line_alpha\":0,\"minor_tick_line_color\":\"#5B5B5B\",\"minor_tick_line_alpha\":0}}],\"right\":[{\"type\":\"object\",\"name\":\"Legend\",\"id\":\"p3279\",\"attributes\":{\"border_line_alpha\":0,\"background_fill_alpha\":0.25,\"click_policy\":\"hide\",\"label_text_color\":\"#5B5B5B\",\"label_text_font\":\"Helvetica\",\"label_text_font_size\":\"1.025em\",\"label_standoff\":8,\"glyph_width\":15,\"spacing\":8,\"items\":[{\"type\":\"object\",\"name\":\"LegendItem\",\"id\":\"p3280\",\"attributes\":{\"label\":{\"type\":\"value\",\"value\":\"Piano Roll\"},\"renderers\":[{\"id\":\"p3276\"}]}},{\"type\":\"object\",\"name\":\"LegendItem\",\"id\":\"p3330\",\"attributes\":{\"label\":{\"type\":\"value\",\"value\":\"Tempo\"},\"renderers\":[{\"id\":\"p3327\"}]}},{\"type\":\"object\",\"name\":\"LegendItem\",\"id\":\"p3344\",\"attributes\":{\"label\":{\"type\":\"value\",\"value\":\"Time Signature\"},\"renderers\":[{\"id\":\"p3341\"}]}},{\"type\":\"object\",\"name\":\"LegendItem\",\"id\":\"p3358\",\"attributes\":{\"label\":{\"type\":\"value\",\"value\":\"Metadata\"},\"renderers\":[{\"id\":\"p3355\"}]}}]}}],\"below\":[{\"type\":\"object\",\"name\":\"LinearAxis\",\"id\":\"p3246\",\"attributes\":{\"ticker\":{\"type\":\"object\",\"name\":\"FixedTicker\",\"id\":\"p3307\",\"attributes\":{\"ticks\":[0.0,0.57,1.14,1.71,2.29,2.86,3.43,4.0],\"minor_ticks\":[]}},\"formatter\":{\"type\":\"object\",\"name\":\"BasicTickFormatter\",\"id\":\"p3248\"},\"axis_label\":\"Time (sec)\",\"axis_label_standoff\":10,\"axis_label_text_color\":\"#5B5B5B\",\"axis_label_text_font\":\"Helvetica\",\"axis_label_text_font_size\":\"1.25em\",\"axis_label_text_font_style\":\"normal\",\"major_label_orientation\":1.57,\"major_label_policy\":{\"type\":\"object\",\"name\":\"AllLabels\",\"id\":\"p3249\"},\"major_label_text_color\":\"#5B5B5B\",\"major_label_text_font\":\"Helvetica\",\"major_label_text_font_size\":\"1.025em\",\"axis_line_color\":\"#5B5B5B\",\"axis_line_alpha\":0,\"major_tick_line_color\":\"#5B5B5B\",\"major_tick_line_alpha\":0,\"minor_tick_line_color\":\"#5B5B5B\",\"minor_tick_line_alpha\":0}}],\"center\":[{\"type\":\"object\",\"name\":\"Grid\",\"id\":\"p3250\",\"attributes\":{\"axis\":{\"id\":\"p3246\"},\"grid_line_color\":null}},{\"type\":\"object\",\"name\":\"Grid\",\"id\":\"p3255\",\"attributes\":{\"dimension\":1,\"axis\":{\"id\":\"p3251\"},\"grid_line_color\":null}},{\"id\":\"p3279\"},{\"type\":\"object\",\"name\":\"Span\",\"id\":\"p3283\",\"attributes\":{\"location\":0.143,\"dimension\":\"height\",\"line_width\":0.1}},{\"type\":\"object\",\"name\":\"Span\",\"id\":\"p3284\",\"attributes\":{\"location\":0.286,\"dimension\":\"height\",\"line_width\":0.1}},{\"type\":\"object\",\"name\":\"Span\",\"id\":\"p3285\",\"attributes\":{\"location\":0.429,\"dimension\":\"height\",\"line_width\":0.1}},{\"type\":\"object\",\"name\":\"Span\",\"id\":\"p3286\",\"attributes\":{\"location\":0.714,\"dimension\":\"height\",\"line_width\":0.1}},{\"type\":\"object\",\"name\":\"Span\",\"id\":\"p3287\",\"attributes\":{\"location\":0.857,\"dimension\":\"height\",\"line_width\":0.1}},{\"type\":\"object\",\"name\":\"Span\",\"id\":\"p3288\",\"attributes\":{\"location\":1.0,\"dimension\":\"height\",\"line_width\":0.1}},{\"type\":\"object\",\"name\":\"Span\",\"id\":\"p3289\",\"attributes\":{\"location\":1.286,\"dimension\":\"height\",\"line_width\":0.1}},{\"type\":\"object\",\"name\":\"Span\",\"id\":\"p3290\",\"attributes\":{\"location\":1.429,\"dimension\":\"height\",\"line_width\":0.1}},{\"type\":\"object\",\"name\":\"Span\",\"id\":\"p3291\",\"attributes\":{\"location\":1.572,\"dimension\":\"height\",\"line_width\":0.1}},{\"type\":\"object\",\"name\":\"Span\",\"id\":\"p3292\",\"attributes\":{\"location\":1.857,\"dimension\":\"height\",\"line_width\":0.1}},{\"type\":\"object\",\"name\":\"Span\",\"id\":\"p3293\",\"attributes\":{\"location\":2.0,\"dimension\":\"height\",\"line_width\":0.1}},{\"type\":\"object\",\"name\":\"Span\",\"id\":\"p3294\",\"attributes\":{\"location\":2.143,\"dimension\":\"height\",\"line_width\":0.1}},{\"type\":\"object\",\"name\":\"Span\",\"id\":\"p3295\",\"attributes\":{\"location\":2.428,\"dimension\":\"height\",\"line_width\":0.1}},{\"type\":\"object\",\"name\":\"Span\",\"id\":\"p3296\",\"attributes\":{\"location\":2.572,\"dimension\":\"height\",\"line_width\":0.1}},{\"type\":\"object\",\"name\":\"Span\",\"id\":\"p3297\",\"attributes\":{\"location\":2.714,\"dimension\":\"height\",\"line_width\":0.1}},{\"type\":\"object\",\"name\":\"Span\",\"id\":\"p3298\",\"attributes\":{\"location\":3.0,\"dimension\":\"height\",\"line_width\":0.1}},{\"type\":\"object\",\"name\":\"Span\",\"id\":\"p3299\",\"attributes\":{\"location\":3.143,\"dimension\":\"height\",\"line_width\":0.1}},{\"type\":\"object\",\"name\":\"Span\",\"id\":\"p3300\",\"attributes\":{\"location\":3.286,\"dimension\":\"height\",\"line_width\":0.1}},{\"type\":\"object\",\"name\":\"Span\",\"id\":\"p3301\",\"attributes\":{\"location\":3.571,\"dimension\":\"height\",\"line_width\":0.1}},{\"type\":\"object\",\"name\":\"Span\",\"id\":\"p3302\",\"attributes\":{\"location\":3.714,\"dimension\":\"height\",\"line_width\":0.1}},{\"type\":\"object\",\"name\":\"Span\",\"id\":\"p3303\",\"attributes\":{\"location\":3.857,\"dimension\":\"height\",\"line_width\":0.1}},{\"type\":\"object\",\"name\":\"Span\",\"id\":\"p3304\",\"attributes\":{\"location\":4.143,\"dimension\":\"height\",\"line_width\":0.1}},{\"type\":\"object\",\"name\":\"Span\",\"id\":\"p3305\",\"attributes\":{\"location\":4.286,\"dimension\":\"height\",\"line_width\":0.1}},{\"type\":\"object\",\"name\":\"Span\",\"id\":\"p3306\",\"attributes\":{\"location\":4.429,\"dimension\":\"height\",\"line_width\":0.1}},{\"type\":\"object\",\"name\":\"Span\",\"id\":\"p3308\",\"attributes\":{\"location\":0.0,\"dimension\":\"height\",\"line_width\":0.5}},{\"type\":\"object\",\"name\":\"Span\",\"id\":\"p3309\",\"attributes\":{\"location\":0.571,\"dimension\":\"height\",\"line_width\":0.5}},{\"type\":\"object\",\"name\":\"Span\",\"id\":\"p3310\",\"attributes\":{\"location\":1.143,\"dimension\":\"height\",\"line_width\":0.5}},{\"type\":\"object\",\"name\":\"Span\",\"id\":\"p3311\",\"attributes\":{\"location\":1.714,\"dimension\":\"height\",\"line_width\":0.5}},{\"type\":\"object\",\"name\":\"Span\",\"id\":\"p3312\",\"attributes\":{\"location\":2.286,\"dimension\":\"height\",\"line_width\":0.5}},{\"type\":\"object\",\"name\":\"Span\",\"id\":\"p3313\",\"attributes\":{\"location\":2.857,\"dimension\":\"height\",\"line_width\":0.5}},{\"type\":\"object\",\"name\":\"Span\",\"id\":\"p3314\",\"attributes\":{\"location\":3.428,\"dimension\":\"height\",\"line_width\":0.5}},{\"type\":\"object\",\"name\":\"Span\",\"id\":\"p3315\",\"attributes\":{\"location\":4.0,\"dimension\":\"height\",\"line_width\":0.5}},{\"type\":\"object\",\"name\":\"Span\",\"id\":\"p3316\",\"attributes\":{\"location\":0.0,\"dimension\":\"height\",\"line_width\":2}},{\"type\":\"object\",\"name\":\"Span\",\"id\":\"p3317\",\"attributes\":{\"location\":2.286,\"dimension\":\"height\",\"line_width\":2}}]}}}},{\"type\":\"object\",\"name\":\"TabPanel\",\"id\":\"p3754\",\"attributes\":{\"title\":\"Tab 8\",\"child\":{\"type\":\"object\",\"name\":\"Figure\",\"id\":\"p3363\",\"attributes\":{\"width\":800,\"height\":400,\"x_range\":{\"type\":\"object\",\"name\":\"DataRange1d\",\"id\":\"p3365\",\"attributes\":{\"start\":-0.3875,\"end\":4.2625}},\"y_range\":{\"type\":\"object\",\"name\":\"Range1d\",\"id\":\"p3372\",\"attributes\":{\"start\":-0.5,\"end\":5.75}},\"x_scale\":{\"type\":\"object\",\"name\":\"LinearScale\",\"id\":\"p3373\"},\"y_scale\":{\"type\":\"object\",\"name\":\"LinearScale\",\"id\":\"p3374\"},\"title\":{\"type\":\"object\",\"name\":\"Title\",\"id\":\"p3370\",\"attributes\":{\"text_color\":\"#5B5B5B\",\"text_font\":\"Helvetica\",\"text_font_size\":\"1.15em\"}},\"renderers\":[{\"type\":\"object\",\"name\":\"GlyphRenderer\",\"id\":\"p3405\",\"attributes\":{\"data_source\":{\"type\":\"object\",\"name\":\"ColumnDataSource\",\"id\":\"p3396\",\"attributes\":{\"selected\":{\"type\":\"object\",\"name\":\"Selection\",\"id\":\"p3397\",\"attributes\":{\"indices\":[],\"line_indices\":[]}},\"selection_policy\":{\"type\":\"object\",\"name\":\"UnionRenderers\",\"id\":\"p3398\"},\"data\":{\"type\":\"map\",\"entries\":[[\"start\",[0.21775,0.50525,0.526,0.50525,0.472875,0.696875,0.875,0.875,0.8365,0.96875,0.96875,0.96775,1.078125,1.21875,1.21875,1.216625,1.474,1.474,1.478125,1.599,1.599,1.603125,1.70625,1.859375,1.859375,1.84375,1.958375,1.958375,1.971875,2.13125,2.21875,2.21875,2.228125,2.46875,2.489625,2.46875,2.49275,2.75525,2.75525,2.751,2.864625,2.864625,2.858375,2.984375,2.984375,2.976,3.1135,3.234375,3.234375,3.235375,3.474,3.474,3.496875,3.583375,3.583375,3.754125,3.829125]],[\"end\",[0.28025,0.56775,0.5885,0.56775,0.5353749999999999,0.759375,0.9375,0.9375,0.899,1.03125,1.03125,1.03025,1.140625,1.28125,1.28125,1.279125,1.5365,1.5365,1.540625,1.6615,1.6615,1.665625,1.76875,1.921875,1.921875,1.90625,2.020875,2.020875,2.034375,2.19375,2.28125,2.28125,2.290625,2.53125,2.552125,2.53125,2.55525,2.81775,2.81775,2.8135,2.927125,2.927125,2.920875,3.046875,3.046875,3.0385,3.176,3.296875,3.296875,3.297875,3.5365,3.5365,3.559375,3.645875,3.645875,3.816625,3.891625]],[\"instrument\",[\"stream_3\",\"stream_0\",\"stream_1\",\"stream_2\",\"stream_3\",\"stream_3\",\"stream_0\",\"stream_2\",\"stream_3\",\"stream_0\",\"stream_1\",\"stream_3\",\"stream_3\",\"stream_0\",\"stream_1\",\"stream_3\",\"stream_0\",\"stream_2\",\"stream_3\",\"stream_0\",\"stream_1\",\"stream_3\",\"stream_3\",\"stream_0\",\"stream_2\",\"stream_3\",\"stream_0\",\"stream_1\",\"stream_3\",\"stream_3\",\"stream_0\",\"stream_1\",\"stream_3\",\"stream_0\",\"stream_1\",\"stream_2\",\"stream_3\",\"stream_0\",\"stream_1\",\"stream_3\",\"stream_0\",\"stream_2\",\"stream_3\",\"stream_0\",\"stream_1\",\"stream_3\",\"stream_3\",\"stream_0\",\"stream_1\",\"stream_3\",\"stream_0\",\"stream_2\",\"stream_3\",\"stream_0\",\"stream_1\",\"stream_3\",\"stream_3\"]],[\"voice_index\",[3,0,1,2,3,3,0,2,3,0,1,3,3,0,1,3,0,2,3,0,1,3,3,0,2,3,0,1,3,3,0,1,3,0,1,2,3,0,1,3,0,2,3,0,1,3,3,0,1,3,0,2,3,0,1,3,3]],[\"midi\",[46,36,38,42,46,46,36,42,46,36,38,46,46,36,38,46,36,42,46,36,38,46,46,36,42,46,36,38,46,46,36,38,46,36,38,42,46,36,38,46,36,42,46,36,38,46,46,36,38,46,36,42,46,36,38,46,46]],[\"velocity\",[0.039,0.89,0.48,0.89,0.921,0.094,0.598,0.598,0.157,0.417,0.417,0.496,0.094,0.402,0.402,0.543,0.945,0.945,0.961,0.417,0.417,0.551,0.126,0.417,0.417,0.331,0.409,0.409,0.921,0.283,0.323,0.323,0.126,0.858,0.488,0.858,1.0,0.299,0.299,0.11,0.677,0.677,0.346,0.37,0.37,0.591,0.228,0.362,0.362,0.598,0.921,0.921,1.0,0.457,0.457,0.205,0.205]],[\"offset\",[-0.258,0.042,0.208,0.042,-0.217,-0.425,0.0,0.0,-0.308,-0.25,-0.25,-0.258,-0.375,-0.25,-0.25,-0.267,-0.208,-0.208,-0.175,-0.208,-0.208,-0.175,-0.35,-0.125,-0.125,-0.25,-0.333,-0.333,-0.225,0.05,-0.25,-0.25,-0.175,-0.25,-0.083,-0.25,-0.058,0.042,0.042,0.008,-0.083,-0.083,-0.133,-0.125,-0.125,-0.192,-0.092,-0.125,-0.125,-0.117,-0.208,-0.208,-0.025,-0.333,-0.333,0.033,-0.367]],[\"offset_sec\",[-0.032,0.005,0.026,0.005,-0.027,-0.053,0.0,0.0,-0.038,-0.031,-0.031,-0.032,-0.047,-0.031,-0.031,-0.033,-0.026,-0.026,-0.022,-0.026,-0.026,-0.022,-0.044,-0.016,-0.016,-0.031,-0.042,-0.042,-0.028,0.006,-0.031,-0.031,-0.022,-0.031,-0.01,-0.031,-0.007,0.005,0.005,0.001,-0.01,-0.01,-0.017,-0.016,-0.016,-0.024,-0.012,-0.016,-0.016,-0.015,-0.026,-0.026,-0.003,-0.042,-0.042,0.004,-0.046]],[\"grid_line\",[2,4,4,4,4,6,7,7,7,8,8,8,9,10,10,10,12,12,12,13,13,13,14,15,15,15,16,16,16,17,18,18,18,20,20,20,20,22,22,22,23,23,23,24,24,24,25,26,26,26,28,28,28,29,29,30,31]],[\"top\",{\"type\":\"ndarray\",\"array\":{\"type\":\"bytes\",\"data\":\"mpmZmZmZCUCamZmZmZnJPzMzMzMzM/M/mpmZmZmZAUCamZmZmZkJQJqZmZmZmQlAmpmZmZmZyT+amZmZmZkBQJqZmZmZmQlAmpmZmZmZyT8zMzMzMzPzP5qZmZmZmQlAmpmZmZmZCUCamZmZmZnJPzMzMzMzM/M/mpmZmZmZCUCamZmZmZnJP5qZmZmZmQFAmpmZmZmZCUCamZmZmZnJPzMzMzMzM/M/mpmZmZmZCUCamZmZmZkJQJqZmZmZmck/mpmZmZmZAUCamZmZmZkJQJqZmZmZmck/MzMzMzMz8z+amZmZmZkJQJqZmZmZmQlAmpmZmZmZyT8zMzMzMzPzP5qZmZmZmQlAmpmZmZmZyT8zMzMzMzPzP5qZmZmZmQFAmpmZmZmZCUCamZmZmZnJPzMzMzMzM/M/mpmZmZmZCUCamZmZmZnJP5qZmZmZmQFAmpmZmZmZCUCamZmZmZnJPzMzMzMzM/M/mpmZmZmZCUCamZmZmZkJQJqZmZmZmck/MzMzMzMz8z+amZmZmZkJQJqZmZmZmck/mpmZmZmZAUCamZmZmZkJQJqZmZmZmck/MzMzMzMz8z+amZmZmZkJQJqZmZmZmQlA\"},\"shape\":[57],\"dtype\":\"float64\",\"order\":\"little\"}],[\"bottom\",{\"type\":\"ndarray\",\"array\":{\"type\":\"bytes\",\"data\":\"ZmZmZmZmBkCamZmZmZnJv5qZmZmZmek/zczMzMzM/D9mZmZmZmYGQGZmZmZmZgZAmpmZmZmZyb/NzMzMzMz8P2ZmZmZmZgZAmpmZmZmZyb+amZmZmZnpP2ZmZmZmZgZAZmZmZmZmBkCamZmZmZnJv5qZmZmZmek/ZmZmZmZmBkCamZmZmZnJv83MzMzMzPw/ZmZmZmZmBkCamZmZmZnJv5qZmZmZmek/ZmZmZmZmBkBmZmZmZmYGQJqZmZmZmcm/zczMzMzM/D9mZmZmZmYGQJqZmZmZmcm/mpmZmZmZ6T9mZmZmZmYGQGZmZmZmZgZAmpmZmZmZyb+amZmZmZnpP2ZmZmZmZgZAmpmZmZmZyb+amZmZmZnpP83MzMzMzPw/ZmZmZmZmBkCamZmZmZnJv5qZmZmZmek/ZmZmZmZmBkCamZmZmZnJv83MzMzMzPw/ZmZmZmZmBkCamZmZmZnJv5qZmZmZmek/ZmZmZmZmBkBmZmZmZmYGQJqZmZmZmcm/mpmZmZmZ6T9mZmZmZmYGQJqZmZmZmcm/zczMzMzM/D9mZmZmZmYGQJqZmZmZmcm/mpmZmZmZ6T9mZmZmZmYGQGZmZmZmZgZA\"},\"shape\":[57],\"dtype\":\"float64\",\"order\":\"little\"}]]}}},\"view\":{\"type\":\"object\",\"name\":\"CDSView\",\"id\":\"p3406\",\"attributes\":{\"filter\":{\"type\":\"object\",\"name\":\"AllIndices\",\"id\":\"p3407\"}}},\"glyph\":{\"type\":\"object\",\"name\":\"Quad\",\"id\":\"p3402\",\"attributes\":{\"left\":{\"type\":\"field\",\"field\":\"start\"},\"right\":{\"type\":\"field\",\"field\":\"end\"},\"bottom\":{\"type\":\"field\",\"field\":\"bottom\"},\"top\":{\"type\":\"field\",\"field\":\"top\"},\"line_color\":{\"type\":\"value\",\"value\":\"grey\"},\"fill_color\":{\"type\":\"value\",\"value\":\"grey\"},\"fill_alpha\":{\"type\":\"field\",\"field\":\"velocity\"}}},\"nonselection_glyph\":{\"type\":\"object\",\"name\":\"Quad\",\"id\":\"p3403\",\"attributes\":{\"left\":{\"type\":\"field\",\"field\":\"start\"},\"right\":{\"type\":\"field\",\"field\":\"end\"},\"bottom\":{\"type\":\"field\",\"field\":\"bottom\"},\"top\":{\"type\":\"field\",\"field\":\"top\"},\"line_color\":{\"type\":\"value\",\"value\":\"grey\"},\"line_alpha\":{\"type\":\"value\",\"value\":0.1},\"fill_color\":{\"type\":\"value\",\"value\":\"grey\"},\"fill_alpha\":{\"type\":\"value\",\"value\":0.1},\"hatch_alpha\":{\"type\":\"value\",\"value\":0.1}}},\"muted_glyph\":{\"type\":\"object\",\"name\":\"Quad\",\"id\":\"p3404\",\"attributes\":{\"left\":{\"type\":\"field\",\"field\":\"start\"},\"right\":{\"type\":\"field\",\"field\":\"end\"},\"bottom\":{\"type\":\"field\",\"field\":\"bottom\"},\"top\":{\"type\":\"field\",\"field\":\"top\"},\"line_color\":{\"type\":\"value\",\"value\":\"grey\"},\"line_alpha\":{\"type\":\"value\",\"value\":0.2},\"fill_color\":{\"type\":\"value\",\"value\":\"grey\"},\"fill_alpha\":{\"type\":\"value\",\"value\":0.2},\"hatch_alpha\":{\"type\":\"value\",\"value\":0.2}}}}},{\"type\":\"object\",\"name\":\"GlyphRenderer\",\"id\":\"p3456\",\"attributes\":{\"data_source\":{\"type\":\"object\",\"name\":\"ColumnDataSource\",\"id\":\"p3447\",\"attributes\":{\"selected\":{\"type\":\"object\",\"name\":\"Selection\",\"id\":\"p3448\",\"attributes\":{\"indices\":[],\"line_indices\":[]}},\"selection_policy\":{\"type\":\"object\",\"name\":\"UnionRenderers\",\"id\":\"p3449\"},\"data\":{\"type\":\"map\",\"entries\":[[\"x\",[0.0]],[\"y\",[4.5]],[\"tempo\",[120.0]],[\"grid_index\",[0]]]}}},\"view\":{\"type\":\"object\",\"name\":\"CDSView\",\"id\":\"p3457\",\"attributes\":{\"filter\":{\"type\":\"object\",\"name\":\"AllIndices\",\"id\":\"p3458\"}}},\"glyph\":{\"type\":\"object\",\"name\":\"Scatter\",\"id\":\"p3453\",\"attributes\":{\"x\":{\"type\":\"field\",\"field\":\"x\"},\"y\":{\"type\":\"field\",\"field\":\"y\"},\"size\":{\"type\":\"value\",\"value\":10},\"line_color\":{\"type\":\"value\",\"value\":\"#440154\"},\"fill_color\":{\"type\":\"value\",\"value\":\"#440154\"}}},\"nonselection_glyph\":{\"type\":\"object\",\"name\":\"Scatter\",\"id\":\"p3454\",\"attributes\":{\"x\":{\"type\":\"field\",\"field\":\"x\"},\"y\":{\"type\":\"field\",\"field\":\"y\"},\"size\":{\"type\":\"value\",\"value\":10},\"line_color\":{\"type\":\"value\",\"value\":\"#440154\"},\"line_alpha\":{\"type\":\"value\",\"value\":0.1},\"fill_color\":{\"type\":\"value\",\"value\":\"#440154\"},\"fill_alpha\":{\"type\":\"value\",\"value\":0.1},\"hatch_alpha\":{\"type\":\"value\",\"value\":0.1}}},\"muted_glyph\":{\"type\":\"object\",\"name\":\"Scatter\",\"id\":\"p3455\",\"attributes\":{\"x\":{\"type\":\"field\",\"field\":\"x\"},\"y\":{\"type\":\"field\",\"field\":\"y\"},\"size\":{\"type\":\"value\",\"value\":10},\"line_color\":{\"type\":\"value\",\"value\":\"#440154\"},\"line_alpha\":{\"type\":\"value\",\"value\":0.2},\"fill_color\":{\"type\":\"value\",\"value\":\"#440154\"},\"fill_alpha\":{\"type\":\"value\",\"value\":0.2},\"hatch_alpha\":{\"type\":\"value\",\"value\":0.2}}}}},{\"type\":\"object\",\"name\":\"GlyphRenderer\",\"id\":\"p3470\",\"attributes\":{\"data_source\":{\"type\":\"object\",\"name\":\"ColumnDataSource\",\"id\":\"p3461\",\"attributes\":{\"selected\":{\"type\":\"object\",\"name\":\"Selection\",\"id\":\"p3462\",\"attributes\":{\"indices\":[],\"line_indices\":[]}},\"selection_policy\":{\"type\":\"object\",\"name\":\"UnionRenderers\",\"id\":\"p3463\"},\"data\":{\"type\":\"map\",\"entries\":[[\"x\",[0.0]],[\"y\",[4]],[\"Numerator\",[4]],[\"Denominator\",[4]],[\"grid_index\",[0]]]}}},\"view\":{\"type\":\"object\",\"name\":\"CDSView\",\"id\":\"p3471\",\"attributes\":{\"filter\":{\"type\":\"object\",\"name\":\"AllIndices\",\"id\":\"p3472\"}}},\"glyph\":{\"type\":\"object\",\"name\":\"Scatter\",\"id\":\"p3467\",\"attributes\":{\"x\":{\"type\":\"field\",\"field\":\"x\"},\"y\":{\"type\":\"field\",\"field\":\"y\"},\"size\":{\"type\":\"value\",\"value\":10},\"line_color\":{\"type\":\"value\",\"value\":\"#70CE56\"},\"fill_color\":{\"type\":\"value\",\"value\":\"#70CE56\"}}},\"nonselection_glyph\":{\"type\":\"object\",\"name\":\"Scatter\",\"id\":\"p3468\",\"attributes\":{\"x\":{\"type\":\"field\",\"field\":\"x\"},\"y\":{\"type\":\"field\",\"field\":\"y\"},\"size\":{\"type\":\"value\",\"value\":10},\"line_color\":{\"type\":\"value\",\"value\":\"#70CE56\"},\"line_alpha\":{\"type\":\"value\",\"value\":0.1},\"fill_color\":{\"type\":\"value\",\"value\":\"#70CE56\"},\"fill_alpha\":{\"type\":\"value\",\"value\":0.1},\"hatch_alpha\":{\"type\":\"value\",\"value\":0.1}}},\"muted_glyph\":{\"type\":\"object\",\"name\":\"Scatter\",\"id\":\"p3469\",\"attributes\":{\"x\":{\"type\":\"field\",\"field\":\"x\"},\"y\":{\"type\":\"field\",\"field\":\"y\"},\"size\":{\"type\":\"value\",\"value\":10},\"line_color\":{\"type\":\"value\",\"value\":\"#70CE56\"},\"line_alpha\":{\"type\":\"value\",\"value\":0.2},\"fill_color\":{\"type\":\"value\",\"value\":\"#70CE56\"},\"fill_alpha\":{\"type\":\"value\",\"value\":0.2},\"hatch_alpha\":{\"type\":\"value\",\"value\":0.2}}}}},{\"type\":\"object\",\"name\":\"GlyphRenderer\",\"id\":\"p3484\",\"attributes\":{\"data_source\":{\"type\":\"object\",\"name\":\"ColumnDataSource\",\"id\":\"p3475\",\"attributes\":{\"selected\":{\"type\":\"object\",\"name\":\"Selection\",\"id\":\"p3476\",\"attributes\":{\"indices\":[],\"line_indices\":[]}},\"selection_policy\":{\"type\":\"object\",\"name\":\"UnionRenderers\",\"id\":\"p3477\"},\"data\":{\"type\":\"map\",\"entries\":[[\"x\",[0.0]],[\"y\",[3.5]],[\"Style\",[\"rock\"]],[\"Tempo\",[120.0]],[\"TestNumber\",[\"334\"]],[\"Repetition\",[\"Original\"]],[\"participant_number\",[\"334\"]],[\"attempt\",[\"334_p1_complex\"]],[\"stream_0\",[\"334_p1_complex_both\"]],[\"stream_1\",[\"334_p1_complex_right\"]],[\"stream_2\",[\"334_p1_complex_left\"]],[\"stream_3\",[\"334_p1_complex_flattened\"]],[\"start_bar\",[0]],[\"collection\",[\"taptamdrum_hvo_output_both_is_or\"]],[\"sample_id\",[\"334_p1_complex\"]]]}}},\"view\":{\"type\":\"object\",\"name\":\"CDSView\",\"id\":\"p3485\",\"attributes\":{\"filter\":{\"type\":\"object\",\"name\":\"AllIndices\",\"id\":\"p3486\"}}},\"glyph\":{\"type\":\"object\",\"name\":\"Scatter\",\"id\":\"p3481\",\"attributes\":{\"x\":{\"type\":\"field\",\"field\":\"x\"},\"y\":{\"type\":\"field\",\"field\":\"y\"},\"size\":{\"type\":\"value\",\"value\":10},\"line_color\":{\"type\":\"value\",\"value\":\"#1EA087\"},\"fill_color\":{\"type\":\"value\",\"value\":\"#1EA087\"}}},\"nonselection_glyph\":{\"type\":\"object\",\"name\":\"Scatter\",\"id\":\"p3482\",\"attributes\":{\"x\":{\"type\":\"field\",\"field\":\"x\"},\"y\":{\"type\":\"field\",\"field\":\"y\"},\"size\":{\"type\":\"value\",\"value\":10},\"line_color\":{\"type\":\"value\",\"value\":\"#1EA087\"},\"line_alpha\":{\"type\":\"value\",\"value\":0.1},\"fill_color\":{\"type\":\"value\",\"value\":\"#1EA087\"},\"fill_alpha\":{\"type\":\"value\",\"value\":0.1},\"hatch_alpha\":{\"type\":\"value\",\"value\":0.1}}},\"muted_glyph\":{\"type\":\"object\",\"name\":\"Scatter\",\"id\":\"p3483\",\"attributes\":{\"x\":{\"type\":\"field\",\"field\":\"x\"},\"y\":{\"type\":\"field\",\"field\":\"y\"},\"size\":{\"type\":\"value\",\"value\":10},\"line_color\":{\"type\":\"value\",\"value\":\"#1EA087\"},\"line_alpha\":{\"type\":\"value\",\"value\":0.2},\"fill_color\":{\"type\":\"value\",\"value\":\"#1EA087\"},\"fill_alpha\":{\"type\":\"value\",\"value\":0.2},\"hatch_alpha\":{\"type\":\"value\",\"value\":0.2}}}}}],\"toolbar\":{\"type\":\"object\",\"name\":\"Toolbar\",\"id\":\"p3371\",\"attributes\":{\"tools\":[{\"type\":\"object\",\"name\":\"PanTool\",\"id\":\"p3385\"},{\"type\":\"object\",\"name\":\"WheelZoomTool\",\"id\":\"p3386\",\"attributes\":{\"renderers\":\"auto\"}},{\"type\":\"object\",\"name\":\"BoxZoomTool\",\"id\":\"p3387\",\"attributes\":{\"overlay\":{\"type\":\"object\",\"name\":\"BoxAnnotation\",\"id\":\"p3388\",\"attributes\":{\"syncable\":false,\"level\":\"overlay\",\"visible\":false,\"left\":{\"type\":\"number\",\"value\":\"nan\"},\"right\":{\"type\":\"number\",\"value\":\"nan\"},\"top\":{\"type\":\"number\",\"value\":\"nan\"},\"bottom\":{\"type\":\"number\",\"value\":\"nan\"},\"left_units\":\"canvas\",\"right_units\":\"canvas\",\"top_units\":\"canvas\",\"bottom_units\":\"canvas\",\"line_color\":\"black\",\"line_alpha\":1.0,\"line_width\":2,\"line_dash\":[4,4],\"fill_color\":\"lightgrey\",\"fill_alpha\":0.5}}}},{\"type\":\"object\",\"name\":\"SaveTool\",\"id\":\"p3393\"},{\"type\":\"object\",\"name\":\"ResetTool\",\"id\":\"p3394\"},{\"type\":\"object\",\"name\":\"HelpTool\",\"id\":\"p3395\"},{\"type\":\"object\",\"name\":\"HoverTool\",\"id\":\"p3410\",\"attributes\":{\"renderers\":[{\"id\":\"p3405\"}],\"tooltips\":[[\"start\",\"@start\"],[\"end\",\"@end\"],[\"instrument\",\"@instrument\"],[\"voice_index\",\"@voice_index\"],[\"midi\",\"@midi\"],[\"velocity\",\"@velocity\"],[\"offset\",\"@offset\"],[\"offset_sec\",\"@offset_sec\"],[\"grid_line\",\"@grid_line\"]]}},{\"type\":\"object\",\"name\":\"HoverTool\",\"id\":\"p3460\",\"attributes\":{\"renderers\":[{\"id\":\"p3456\"}],\"tooltips\":[[\"tempo\",\"@tempo\"],[\"grid_index\",\"@grid_index\"]]}},{\"type\":\"object\",\"name\":\"HoverTool\",\"id\":\"p3474\",\"attributes\":{\"renderers\":[{\"id\":\"p3470\"}],\"tooltips\":[[\"Numerator\",\"@Numerator\"],[\"Denominator\",\"@Denominator\"],[\"grid_index\",\"@grid_index\"]]}},{\"type\":\"object\",\"name\":\"HoverTool\",\"id\":\"p3488\",\"attributes\":{\"renderers\":[{\"id\":\"p3484\"}],\"tooltips\":[[\"Style\",\"@Style\"],[\"Tempo\",\"@Tempo\"],[\"TestNumber\",\"@TestNumber\"],[\"Repetition\",\"@Repetition\"],[\"participant_number\",\"@participant_number\"],[\"attempt\",\"@attempt\"],[\"stream_0\",\"@stream_0\"],[\"stream_1\",\"@stream_1\"],[\"stream_2\",\"@stream_2\"],[\"stream_3\",\"@stream_3\"],[\"start_bar\",\"@start_bar\"],[\"collection\",\"@collection\"],[\"sample_id\",\"@sample_id\"]]}}]}},\"left\":[{\"type\":\"object\",\"name\":\"LinearAxis\",\"id\":\"p3380\",\"attributes\":{\"ticker\":{\"type\":\"object\",\"name\":\"FixedTicker\",\"id\":\"p3411\",\"attributes\":{\"ticks\":[0,1,2,3],\"minor_ticks\":[]}},\"formatter\":{\"type\":\"object\",\"name\":\"BasicTickFormatter\",\"id\":\"p3382\"},\"axis_label\":\"Instrument\",\"axis_label_standoff\":10,\"axis_label_text_color\":\"#5B5B5B\",\"axis_label_text_font\":\"Helvetica\",\"axis_label_text_font_size\":\"1.25em\",\"axis_label_text_font_style\":\"normal\",\"major_label_overrides\":{\"type\":\"map\",\"entries\":[[0,\"stream_0\"],[1,\"stream_1\"],[2,\"stream_2\"],[3,\"stream_3\"]]},\"major_label_policy\":{\"type\":\"object\",\"name\":\"AllLabels\",\"id\":\"p3383\"},\"major_label_text_color\":\"#5B5B5B\",\"major_label_text_font\":\"Helvetica\",\"major_label_text_font_size\":\"1.025em\",\"axis_line_color\":\"#5B5B5B\",\"axis_line_alpha\":0,\"major_tick_line_color\":\"#5B5B5B\",\"major_tick_line_alpha\":0,\"minor_tick_line_color\":\"#5B5B5B\",\"minor_tick_line_alpha\":0}}],\"right\":[{\"type\":\"object\",\"name\":\"Legend\",\"id\":\"p3408\",\"attributes\":{\"border_line_alpha\":0,\"background_fill_alpha\":0.25,\"click_policy\":\"hide\",\"label_text_color\":\"#5B5B5B\",\"label_text_font\":\"Helvetica\",\"label_text_font_size\":\"1.025em\",\"label_standoff\":8,\"glyph_width\":15,\"spacing\":8,\"items\":[{\"type\":\"object\",\"name\":\"LegendItem\",\"id\":\"p3409\",\"attributes\":{\"label\":{\"type\":\"value\",\"value\":\"Piano Roll\"},\"renderers\":[{\"id\":\"p3405\"}]}},{\"type\":\"object\",\"name\":\"LegendItem\",\"id\":\"p3459\",\"attributes\":{\"label\":{\"type\":\"value\",\"value\":\"Tempo\"},\"renderers\":[{\"id\":\"p3456\"}]}},{\"type\":\"object\",\"name\":\"LegendItem\",\"id\":\"p3473\",\"attributes\":{\"label\":{\"type\":\"value\",\"value\":\"Time Signature\"},\"renderers\":[{\"id\":\"p3470\"}]}},{\"type\":\"object\",\"name\":\"LegendItem\",\"id\":\"p3487\",\"attributes\":{\"label\":{\"type\":\"value\",\"value\":\"Metadata\"},\"renderers\":[{\"id\":\"p3484\"}]}}]}}],\"below\":[{\"type\":\"object\",\"name\":\"LinearAxis\",\"id\":\"p3375\",\"attributes\":{\"ticker\":{\"type\":\"object\",\"name\":\"FixedTicker\",\"id\":\"p3436\",\"attributes\":{\"ticks\":[0.0,0.5,1.0,1.5,2.0,2.5,3.0,3.5],\"minor_ticks\":[]}},\"formatter\":{\"type\":\"object\",\"name\":\"BasicTickFormatter\",\"id\":\"p3377\"},\"axis_label\":\"Time (sec)\",\"axis_label_standoff\":10,\"axis_label_text_color\":\"#5B5B5B\",\"axis_label_text_font\":\"Helvetica\",\"axis_label_text_font_size\":\"1.25em\",\"axis_label_text_font_style\":\"normal\",\"major_label_orientation\":1.57,\"major_label_policy\":{\"type\":\"object\",\"name\":\"AllLabels\",\"id\":\"p3378\"},\"major_label_text_color\":\"#5B5B5B\",\"major_label_text_font\":\"Helvetica\",\"major_label_text_font_size\":\"1.025em\",\"axis_line_color\":\"#5B5B5B\",\"axis_line_alpha\":0,\"major_tick_line_color\":\"#5B5B5B\",\"major_tick_line_alpha\":0,\"minor_tick_line_color\":\"#5B5B5B\",\"minor_tick_line_alpha\":0}}],\"center\":[{\"type\":\"object\",\"name\":\"Grid\",\"id\":\"p3379\",\"attributes\":{\"axis\":{\"id\":\"p3375\"},\"grid_line_color\":null}},{\"type\":\"object\",\"name\":\"Grid\",\"id\":\"p3384\",\"attributes\":{\"dimension\":1,\"axis\":{\"id\":\"p3380\"},\"grid_line_color\":null}},{\"id\":\"p3408\"},{\"type\":\"object\",\"name\":\"Span\",\"id\":\"p3412\",\"attributes\":{\"location\":0.125,\"dimension\":\"height\",\"line_width\":0.1}},{\"type\":\"object\",\"name\":\"Span\",\"id\":\"p3413\",\"attributes\":{\"location\":0.25,\"dimension\":\"height\",\"line_width\":0.1}},{\"type\":\"object\",\"name\":\"Span\",\"id\":\"p3414\",\"attributes\":{\"location\":0.375,\"dimension\":\"height\",\"line_width\":0.1}},{\"type\":\"object\",\"name\":\"Span\",\"id\":\"p3415\",\"attributes\":{\"location\":0.625,\"dimension\":\"height\",\"line_width\":0.1}},{\"type\":\"object\",\"name\":\"Span\",\"id\":\"p3416\",\"attributes\":{\"location\":0.75,\"dimension\":\"height\",\"line_width\":0.1}},{\"type\":\"object\",\"name\":\"Span\",\"id\":\"p3417\",\"attributes\":{\"location\":0.875,\"dimension\":\"height\",\"line_width\":0.1}},{\"type\":\"object\",\"name\":\"Span\",\"id\":\"p3418\",\"attributes\":{\"location\":1.125,\"dimension\":\"height\",\"line_width\":0.1}},{\"type\":\"object\",\"name\":\"Span\",\"id\":\"p3419\",\"attributes\":{\"location\":1.25,\"dimension\":\"height\",\"line_width\":0.1}},{\"type\":\"object\",\"name\":\"Span\",\"id\":\"p3420\",\"attributes\":{\"location\":1.375,\"dimension\":\"height\",\"line_width\":0.1}},{\"type\":\"object\",\"name\":\"Span\",\"id\":\"p3421\",\"attributes\":{\"location\":1.625,\"dimension\":\"height\",\"line_width\":0.1}},{\"type\":\"object\",\"name\":\"Span\",\"id\":\"p3422\",\"attributes\":{\"location\":1.75,\"dimension\":\"height\",\"line_width\":0.1}},{\"type\":\"object\",\"name\":\"Span\",\"id\":\"p3423\",\"attributes\":{\"location\":1.875,\"dimension\":\"height\",\"line_width\":0.1}},{\"type\":\"object\",\"name\":\"Span\",\"id\":\"p3424\",\"attributes\":{\"location\":2.125,\"dimension\":\"height\",\"line_width\":0.1}},{\"type\":\"object\",\"name\":\"Span\",\"id\":\"p3425\",\"attributes\":{\"location\":2.25,\"dimension\":\"height\",\"line_width\":0.1}},{\"type\":\"object\",\"name\":\"Span\",\"id\":\"p3426\",\"attributes\":{\"location\":2.375,\"dimension\":\"height\",\"line_width\":0.1}},{\"type\":\"object\",\"name\":\"Span\",\"id\":\"p3427\",\"attributes\":{\"location\":2.625,\"dimension\":\"height\",\"line_width\":0.1}},{\"type\":\"object\",\"name\":\"Span\",\"id\":\"p3428\",\"attributes\":{\"location\":2.75,\"dimension\":\"height\",\"line_width\":0.1}},{\"type\":\"object\",\"name\":\"Span\",\"id\":\"p3429\",\"attributes\":{\"location\":2.875,\"dimension\":\"height\",\"line_width\":0.1}},{\"type\":\"object\",\"name\":\"Span\",\"id\":\"p3430\",\"attributes\":{\"location\":3.125,\"dimension\":\"height\",\"line_width\":0.1}},{\"type\":\"object\",\"name\":\"Span\",\"id\":\"p3431\",\"attributes\":{\"location\":3.25,\"dimension\":\"height\",\"line_width\":0.1}},{\"type\":\"object\",\"name\":\"Span\",\"id\":\"p3432\",\"attributes\":{\"location\":3.375,\"dimension\":\"height\",\"line_width\":0.1}},{\"type\":\"object\",\"name\":\"Span\",\"id\":\"p3433\",\"attributes\":{\"location\":3.625,\"dimension\":\"height\",\"line_width\":0.1}},{\"type\":\"object\",\"name\":\"Span\",\"id\":\"p3434\",\"attributes\":{\"location\":3.75,\"dimension\":\"height\",\"line_width\":0.1}},{\"type\":\"object\",\"name\":\"Span\",\"id\":\"p3435\",\"attributes\":{\"location\":3.875,\"dimension\":\"height\",\"line_width\":0.1}},{\"type\":\"object\",\"name\":\"Span\",\"id\":\"p3437\",\"attributes\":{\"location\":0.0,\"dimension\":\"height\",\"line_width\":0.5}},{\"type\":\"object\",\"name\":\"Span\",\"id\":\"p3438\",\"attributes\":{\"location\":0.5,\"dimension\":\"height\",\"line_width\":0.5}},{\"type\":\"object\",\"name\":\"Span\",\"id\":\"p3439\",\"attributes\":{\"location\":1.0,\"dimension\":\"height\",\"line_width\":0.5}},{\"type\":\"object\",\"name\":\"Span\",\"id\":\"p3440\",\"attributes\":{\"location\":1.5,\"dimension\":\"height\",\"line_width\":0.5}},{\"type\":\"object\",\"name\":\"Span\",\"id\":\"p3441\",\"attributes\":{\"location\":2.0,\"dimension\":\"height\",\"line_width\":0.5}},{\"type\":\"object\",\"name\":\"Span\",\"id\":\"p3442\",\"attributes\":{\"location\":2.5,\"dimension\":\"height\",\"line_width\":0.5}},{\"type\":\"object\",\"name\":\"Span\",\"id\":\"p3443\",\"attributes\":{\"location\":3.0,\"dimension\":\"height\",\"line_width\":0.5}},{\"type\":\"object\",\"name\":\"Span\",\"id\":\"p3444\",\"attributes\":{\"location\":3.5,\"dimension\":\"height\",\"line_width\":0.5}},{\"type\":\"object\",\"name\":\"Span\",\"id\":\"p3445\",\"attributes\":{\"location\":0.0,\"dimension\":\"height\",\"line_width\":2}},{\"type\":\"object\",\"name\":\"Span\",\"id\":\"p3446\",\"attributes\":{\"location\":2.0,\"dimension\":\"height\",\"line_width\":2}}]}}}},{\"type\":\"object\",\"name\":\"TabPanel\",\"id\":\"p3755\",\"attributes\":{\"title\":\"Tab 9\",\"child\":{\"type\":\"object\",\"name\":\"Figure\",\"id\":\"p3492\",\"attributes\":{\"width\":800,\"height\":400,\"x_range\":{\"type\":\"object\",\"name\":\"DataRange1d\",\"id\":\"p3494\",\"attributes\":{\"start\":-0.4559,\"end\":5.014900000000001}},\"y_range\":{\"type\":\"object\",\"name\":\"Range1d\",\"id\":\"p3501\",\"attributes\":{\"start\":-0.5,\"end\":5.75}},\"x_scale\":{\"type\":\"object\",\"name\":\"LinearScale\",\"id\":\"p3502\"},\"y_scale\":{\"type\":\"object\",\"name\":\"LinearScale\",\"id\":\"p3503\"},\"title\":{\"type\":\"object\",\"name\":\"Title\",\"id\":\"p3499\",\"attributes\":{\"text_color\":\"#5B5B5B\",\"text_font\":\"Helvetica\",\"text_font_size\":\"1.15em\"}},\"renderers\":[{\"type\":\"object\",\"name\":\"GlyphRenderer\",\"id\":\"p3534\",\"attributes\":{\"data_source\":{\"type\":\"object\",\"name\":\"ColumnDataSource\",\"id\":\"p3525\",\"attributes\":{\"selected\":{\"type\":\"object\",\"name\":\"Selection\",\"id\":\"p3526\",\"attributes\":{\"indices\":[],\"line_indices\":[]}},\"selection_policy\":{\"type\":\"object\",\"name\":\"UnionRenderers\",\"id\":\"p3527\"},\"data\":{\"type\":\"map\",\"entries\":[[\"start\",[0.058800000000000005,0.055125,0.055125,0.167874,0.263424,0.245049,0.245049,0.498771,0.441147,0.441147,0.526995,0.9362429999999999,0.851718,0.851718,1.011066,1.011066,1.139691,1.18266,1.18266,1.379713,1.379713,1.556113,1.563463,1.563463,1.7647059999999999,1.93258,1.960804,1.960804,2.151904,2.175277,2.175277,2.348002,2.346826,2.346826,2.5489509999999997,2.5489509999999997,2.751223,2.751223,2.925271,2.97187,2.97187,3.19237,3.19237,3.330844,3.376267,3.376267,3.526744,3.610115,3.610115,3.806213,3.806213,4.002017,4.002017,4.131083,4.178858,4.178858,4.374956,4.374956,4.508579,4.577228,4.577228]],[\"end\",[0.1322999999999997,0.12862499999999968,0.12862499999999968,0.24137399999999967,0.33692399999999967,0.31854899999999964,0.31854899999999964,0.5722709999999998,0.5146469999999996,0.5146469999999996,0.6004949999999997,1.0097429999999996,0.9252179999999997,0.9252179999999997,1.0845659999999997,1.0845659999999997,1.2131909999999997,1.2561599999999997,1.2561599999999997,1.4532129999999996,1.4532129999999996,1.6296129999999998,1.6369629999999997,1.6369629999999997,1.8382059999999996,2.00608,2.0343039999999997,2.0343039999999997,2.2254039999999997,2.2487769999999996,2.2487769999999996,2.421502,2.4203259999999998,2.4203259999999998,2.6224509999999994,2.6224509999999994,2.8247229999999997,2.8247229999999997,2.9987709999999996,3.0453699999999997,3.0453699999999997,3.2658699999999996,3.2658699999999996,3.4043439999999996,3.4497669999999996,3.4497669999999996,3.6002439999999996,3.6836149999999996,3.6836149999999996,3.8797129999999997,3.8797129999999997,4.075517,4.075517,4.2045829999999995,4.252357999999999,4.252357999999999,4.448456,4.448456,4.582079,4.650727999999999,4.650727999999999]],[\"instrument\",[\"stream_0\",\"stream_1\",\"stream_3\",\"stream_0\",\"stream_0\",\"stream_1\",\"stream_3\",\"stream_0\",\"stream_1\",\"stream_3\",\"stream_0\",\"stream_0\",\"stream_1\",\"stream_3\",\"stream_2\",\"stream_3\",\"stream_0\",\"stream_1\",\"stream_3\",\"stream_2\",\"stream_3\",\"stream_0\",\"stream_1\",\"stream_3\",\"stream_0\",\"stream_0\",\"stream_1\",\"stream_3\",\"stream_0\",\"stream_2\",\"stream_3\",\"stream_0\",\"stream_1\",\"stream_3\",\"stream_2\",\"stream_3\",\"stream_1\",\"stream_3\",\"stream_0\",\"stream_2\",\"stream_3\",\"stream_1\",\"stream_3\",\"stream_0\",\"stream_2\",\"stream_3\",\"stream_0\",\"stream_1\",\"stream_3\",\"stream_2\",\"stream_3\",\"stream_1\",\"stream_3\",\"stream_0\",\"stream_2\",\"stream_3\",\"stream_1\",\"stream_3\",\"stream_0\",\"stream_2\",\"stream_3\"]],[\"voice_index\",[0,1,3,0,0,1,3,0,1,3,0,0,1,3,2,3,0,1,3,2,3,0,1,3,0,0,1,3,0,2,3,0,1,3,2,3,1,3,0,2,3,1,3,0,2,3,0,1,3,2,3,1,3,0,2,3,1,3,0,2,3]],[\"midi\",[36,38,46,36,36,38,46,36,38,46,36,36,38,46,42,46,36,38,46,42,46,36,38,46,36,36,38,46,36,42,46,36,38,46,42,46,38,46,36,42,46,38,46,36,42,46,36,38,46,42,46,38,46,36,42,46,38,46,36,42,46]],[\"velocity\",[0.11,0.276,0.276,0.126,0.079,0.535,0.535,0.606,0.551,0.551,0.701,0.685,0.26,0.26,0.213,0.213,0.591,0.433,0.433,0.323,0.323,0.339,0.52,0.52,0.764,0.118,0.669,0.669,0.591,0.236,0.236,0.591,0.252,0.252,0.142,0.142,0.575,0.575,0.709,0.394,0.394,0.063,0.063,0.78,0.449,0.449,0.488,0.173,0.173,0.283,0.283,0.142,0.142,0.795,0.213,0.213,0.244,0.244,0.504,0.236,0.236]],[\"offset\",[0.4,0.375,0.375,0.142,-0.208,-0.333,-0.333,0.393,0.001,0.001,-0.415,0.369,-0.206,-0.206,-0.122,-0.122,-0.247,0.045,0.045,0.379,0.379,-0.421,-0.371,-0.371,-0.002,0.14,0.332,0.332,-0.368,-0.209,-0.209,-0.034,-0.042,-0.042,0.333,0.333,-0.291,-0.291,-0.107,0.21,0.21,-0.29,-0.29,-0.348,-0.039,-0.039,-0.022,-0.455,-0.455,-0.121,-0.121,0.211,0.211,0.089,0.414,0.414,-0.252,-0.252,-0.343,0.124,0.124]],[\"offset_sec\",[0.059,0.055,0.055,0.021,-0.031,-0.049,-0.049,0.058,0.0,0.0,-0.061,0.054,-0.03,-0.03,-0.018,-0.018,-0.036,0.007,0.007,0.056,0.056,-0.062,-0.055,-0.055,-0.0,0.021,0.049,0.049,-0.054,-0.031,-0.031,-0.005,-0.006,-0.006,0.049,0.049,-0.043,-0.043,-0.016,0.031,0.031,-0.043,-0.043,-0.051,-0.006,-0.006,-0.003,-0.067,-0.067,-0.018,-0.018,0.031,0.031,0.013,0.061,0.061,-0.037,-0.037,-0.05,0.018,0.018]],[\"grid_line\",[0,0,0,1,2,2,2,3,3,3,4,6,6,6,7,7,8,8,8,9,9,11,11,11,12,13,13,13,15,15,15,16,16,16,17,17,19,19,20,20,20,22,22,23,23,23,24,25,25,26,26,27,27,28,28,28,30,30,31,31,31]],[\"top\",{\"type\":\"ndarray\",\"array\":{\"type\":\"bytes\",\"data\":\"mpmZmZmZyT8zMzMzMzPzP5qZmZmZmQlAmpmZmZmZyT+amZmZmZnJPzMzMzMzM/M/mpmZmZmZCUCamZmZmZnJPzMzMzMzM/M/mpmZmZmZCUCamZmZmZnJP5qZmZmZmck/MzMzMzMz8z+amZmZmZkJQJqZmZmZmQFAmpmZmZmZCUCamZmZmZnJPzMzMzMzM/M/mpmZmZmZCUCamZmZmZkBQJqZmZmZmQlAmpmZmZmZyT8zMzMzMzPzP5qZmZmZmQlAmpmZmZmZyT+amZmZmZnJPzMzMzMzM/M/mpmZmZmZCUCamZmZmZnJP5qZmZmZmQFAmpmZmZmZCUCamZmZmZnJPzMzMzMzM/M/mpmZmZmZCUCamZmZmZkBQJqZmZmZmQlAMzMzMzMz8z+amZmZmZkJQJqZmZmZmck/mpmZmZmZAUCamZmZmZkJQDMzMzMzM/M/mpmZmZmZCUCamZmZmZnJP5qZmZmZmQFAmpmZmZmZCUCamZmZmZnJPzMzMzMzM/M/mpmZmZmZCUCamZmZmZkBQJqZmZmZmQlAMzMzMzMz8z+amZmZmZkJQJqZmZmZmck/mpmZmZmZAUCamZmZmZkJQDMzMzMzM/M/mpmZmZmZCUCamZmZmZnJP5qZmZmZmQFAmpmZmZmZCUA=\"},\"shape\":[61],\"dtype\":\"float64\",\"order\":\"little\"}],[\"bottom\",{\"type\":\"ndarray\",\"array\":{\"type\":\"bytes\",\"data\":\"mpmZmZmZyb+amZmZmZnpP2ZmZmZmZgZAmpmZmZmZyb+amZmZmZnJv5qZmZmZmek/ZmZmZmZmBkCamZmZmZnJv5qZmZmZmek/ZmZmZmZmBkCamZmZmZnJv5qZmZmZmcm/mpmZmZmZ6T9mZmZmZmYGQM3MzMzMzPw/ZmZmZmZmBkCamZmZmZnJv5qZmZmZmek/ZmZmZmZmBkDNzMzMzMz8P2ZmZmZmZgZAmpmZmZmZyb+amZmZmZnpP2ZmZmZmZgZAmpmZmZmZyb+amZmZmZnJv5qZmZmZmek/ZmZmZmZmBkCamZmZmZnJv83MzMzMzPw/ZmZmZmZmBkCamZmZmZnJv5qZmZmZmek/ZmZmZmZmBkDNzMzMzMz8P2ZmZmZmZgZAmpmZmZmZ6T9mZmZmZmYGQJqZmZmZmcm/zczMzMzM/D9mZmZmZmYGQJqZmZmZmek/ZmZmZmZmBkCamZmZmZnJv83MzMzMzPw/ZmZmZmZmBkCamZmZmZnJv5qZmZmZmek/ZmZmZmZmBkDNzMzMzMz8P2ZmZmZmZgZAmpmZmZmZ6T9mZmZmZmYGQJqZmZmZmcm/zczMzMzM/D9mZmZmZmYGQJqZmZmZmek/ZmZmZmZmBkCamZmZmZnJv83MzMzMzPw/ZmZmZmZmBkA=\"},\"shape\":[61],\"dtype\":\"float64\",\"order\":\"little\"}]]}}},\"view\":{\"type\":\"object\",\"name\":\"CDSView\",\"id\":\"p3535\",\"attributes\":{\"filter\":{\"type\":\"object\",\"name\":\"AllIndices\",\"id\":\"p3536\"}}},\"glyph\":{\"type\":\"object\",\"name\":\"Quad\",\"id\":\"p3531\",\"attributes\":{\"left\":{\"type\":\"field\",\"field\":\"start\"},\"right\":{\"type\":\"field\",\"field\":\"end\"},\"bottom\":{\"type\":\"field\",\"field\":\"bottom\"},\"top\":{\"type\":\"field\",\"field\":\"top\"},\"line_color\":{\"type\":\"value\",\"value\":\"grey\"},\"fill_color\":{\"type\":\"value\",\"value\":\"grey\"},\"fill_alpha\":{\"type\":\"field\",\"field\":\"velocity\"}}},\"nonselection_glyph\":{\"type\":\"object\",\"name\":\"Quad\",\"id\":\"p3532\",\"attributes\":{\"left\":{\"type\":\"field\",\"field\":\"start\"},\"right\":{\"type\":\"field\",\"field\":\"end\"},\"bottom\":{\"type\":\"field\",\"field\":\"bottom\"},\"top\":{\"type\":\"field\",\"field\":\"top\"},\"line_color\":{\"type\":\"value\",\"value\":\"grey\"},\"line_alpha\":{\"type\":\"value\",\"value\":0.1},\"fill_color\":{\"type\":\"value\",\"value\":\"grey\"},\"fill_alpha\":{\"type\":\"value\",\"value\":0.1},\"hatch_alpha\":{\"type\":\"value\",\"value\":0.1}}},\"muted_glyph\":{\"type\":\"object\",\"name\":\"Quad\",\"id\":\"p3533\",\"attributes\":{\"left\":{\"type\":\"field\",\"field\":\"start\"},\"right\":{\"type\":\"field\",\"field\":\"end\"},\"bottom\":{\"type\":\"field\",\"field\":\"bottom\"},\"top\":{\"type\":\"field\",\"field\":\"top\"},\"line_color\":{\"type\":\"value\",\"value\":\"grey\"},\"line_alpha\":{\"type\":\"value\",\"value\":0.2},\"fill_color\":{\"type\":\"value\",\"value\":\"grey\"},\"fill_alpha\":{\"type\":\"value\",\"value\":0.2},\"hatch_alpha\":{\"type\":\"value\",\"value\":0.2}}}}},{\"type\":\"object\",\"name\":\"GlyphRenderer\",\"id\":\"p3585\",\"attributes\":{\"data_source\":{\"type\":\"object\",\"name\":\"ColumnDataSource\",\"id\":\"p3576\",\"attributes\":{\"selected\":{\"type\":\"object\",\"name\":\"Selection\",\"id\":\"p3577\",\"attributes\":{\"indices\":[],\"line_indices\":[]}},\"selection_policy\":{\"type\":\"object\",\"name\":\"UnionRenderers\",\"id\":\"p3578\"},\"data\":{\"type\":\"map\",\"entries\":[[\"x\",[0.0]],[\"y\",[4.5]],[\"tempo\",[102.0]],[\"grid_index\",[0]]]}}},\"view\":{\"type\":\"object\",\"name\":\"CDSView\",\"id\":\"p3586\",\"attributes\":{\"filter\":{\"type\":\"object\",\"name\":\"AllIndices\",\"id\":\"p3587\"}}},\"glyph\":{\"type\":\"object\",\"name\":\"Scatter\",\"id\":\"p3582\",\"attributes\":{\"x\":{\"type\":\"field\",\"field\":\"x\"},\"y\":{\"type\":\"field\",\"field\":\"y\"},\"size\":{\"type\":\"value\",\"value\":10},\"line_color\":{\"type\":\"value\",\"value\":\"#440154\"},\"fill_color\":{\"type\":\"value\",\"value\":\"#440154\"}}},\"nonselection_glyph\":{\"type\":\"object\",\"name\":\"Scatter\",\"id\":\"p3583\",\"attributes\":{\"x\":{\"type\":\"field\",\"field\":\"x\"},\"y\":{\"type\":\"field\",\"field\":\"y\"},\"size\":{\"type\":\"value\",\"value\":10},\"line_color\":{\"type\":\"value\",\"value\":\"#440154\"},\"line_alpha\":{\"type\":\"value\",\"value\":0.1},\"fill_color\":{\"type\":\"value\",\"value\":\"#440154\"},\"fill_alpha\":{\"type\":\"value\",\"value\":0.1},\"hatch_alpha\":{\"type\":\"value\",\"value\":0.1}}},\"muted_glyph\":{\"type\":\"object\",\"name\":\"Scatter\",\"id\":\"p3584\",\"attributes\":{\"x\":{\"type\":\"field\",\"field\":\"x\"},\"y\":{\"type\":\"field\",\"field\":\"y\"},\"size\":{\"type\":\"value\",\"value\":10},\"line_color\":{\"type\":\"value\",\"value\":\"#440154\"},\"line_alpha\":{\"type\":\"value\",\"value\":0.2},\"fill_color\":{\"type\":\"value\",\"value\":\"#440154\"},\"fill_alpha\":{\"type\":\"value\",\"value\":0.2},\"hatch_alpha\":{\"type\":\"value\",\"value\":0.2}}}}},{\"type\":\"object\",\"name\":\"GlyphRenderer\",\"id\":\"p3599\",\"attributes\":{\"data_source\":{\"type\":\"object\",\"name\":\"ColumnDataSource\",\"id\":\"p3590\",\"attributes\":{\"selected\":{\"type\":\"object\",\"name\":\"Selection\",\"id\":\"p3591\",\"attributes\":{\"indices\":[],\"line_indices\":[]}},\"selection_policy\":{\"type\":\"object\",\"name\":\"UnionRenderers\",\"id\":\"p3592\"},\"data\":{\"type\":\"map\",\"entries\":[[\"x\",[0.0]],[\"y\",[4]],[\"Numerator\",[4]],[\"Denominator\",[4]],[\"grid_index\",[0]]]}}},\"view\":{\"type\":\"object\",\"name\":\"CDSView\",\"id\":\"p3600\",\"attributes\":{\"filter\":{\"type\":\"object\",\"name\":\"AllIndices\",\"id\":\"p3601\"}}},\"glyph\":{\"type\":\"object\",\"name\":\"Scatter\",\"id\":\"p3596\",\"attributes\":{\"x\":{\"type\":\"field\",\"field\":\"x\"},\"y\":{\"type\":\"field\",\"field\":\"y\"},\"size\":{\"type\":\"value\",\"value\":10},\"line_color\":{\"type\":\"value\",\"value\":\"#70CE56\"},\"fill_color\":{\"type\":\"value\",\"value\":\"#70CE56\"}}},\"nonselection_glyph\":{\"type\":\"object\",\"name\":\"Scatter\",\"id\":\"p3597\",\"attributes\":{\"x\":{\"type\":\"field\",\"field\":\"x\"},\"y\":{\"type\":\"field\",\"field\":\"y\"},\"size\":{\"type\":\"value\",\"value\":10},\"line_color\":{\"type\":\"value\",\"value\":\"#70CE56\"},\"line_alpha\":{\"type\":\"value\",\"value\":0.1},\"fill_color\":{\"type\":\"value\",\"value\":\"#70CE56\"},\"fill_alpha\":{\"type\":\"value\",\"value\":0.1},\"hatch_alpha\":{\"type\":\"value\",\"value\":0.1}}},\"muted_glyph\":{\"type\":\"object\",\"name\":\"Scatter\",\"id\":\"p3598\",\"attributes\":{\"x\":{\"type\":\"field\",\"field\":\"x\"},\"y\":{\"type\":\"field\",\"field\":\"y\"},\"size\":{\"type\":\"value\",\"value\":10},\"line_color\":{\"type\":\"value\",\"value\":\"#70CE56\"},\"line_alpha\":{\"type\":\"value\",\"value\":0.2},\"fill_color\":{\"type\":\"value\",\"value\":\"#70CE56\"},\"fill_alpha\":{\"type\":\"value\",\"value\":0.2},\"hatch_alpha\":{\"type\":\"value\",\"value\":0.2}}}}},{\"type\":\"object\",\"name\":\"GlyphRenderer\",\"id\":\"p3613\",\"attributes\":{\"data_source\":{\"type\":\"object\",\"name\":\"ColumnDataSource\",\"id\":\"p3604\",\"attributes\":{\"selected\":{\"type\":\"object\",\"name\":\"Selection\",\"id\":\"p3605\",\"attributes\":{\"indices\":[],\"line_indices\":[]}},\"selection_policy\":{\"type\":\"object\",\"name\":\"UnionRenderers\",\"id\":\"p3606\"},\"data\":{\"type\":\"map\",\"entries\":[[\"x\",[0.0]],[\"y\",[3.5]],[\"Style\",[\"jazz\"]],[\"Tempo\",[102.0]],[\"TestNumber\",[\"077\"]],[\"Repetition\",[\"Complex\"]],[\"participant_number\",[\"77\"]],[\"attempt\",[\"77_p1_complex\"]],[\"stream_0\",[\"77_p1_complex_flattened\"]],[\"stream_1\",[\"77_p1_complex_left\"]],[\"stream_2\",[\"77_p1_complex_right\"]],[\"stream_3\",[\"77_p1_complex_both\"]],[\"start_bar\",[0]],[\"collection\",[\"taptamdrum_hvo_output_both_is_or\"]],[\"sample_id\",[\"77_p1_complex\"]]]}}},\"view\":{\"type\":\"object\",\"name\":\"CDSView\",\"id\":\"p3614\",\"attributes\":{\"filter\":{\"type\":\"object\",\"name\":\"AllIndices\",\"id\":\"p3615\"}}},\"glyph\":{\"type\":\"object\",\"name\":\"Scatter\",\"id\":\"p3610\",\"attributes\":{\"x\":{\"type\":\"field\",\"field\":\"x\"},\"y\":{\"type\":\"field\",\"field\":\"y\"},\"size\":{\"type\":\"value\",\"value\":10},\"line_color\":{\"type\":\"value\",\"value\":\"#1EA087\"},\"fill_color\":{\"type\":\"value\",\"value\":\"#1EA087\"}}},\"nonselection_glyph\":{\"type\":\"object\",\"name\":\"Scatter\",\"id\":\"p3611\",\"attributes\":{\"x\":{\"type\":\"field\",\"field\":\"x\"},\"y\":{\"type\":\"field\",\"field\":\"y\"},\"size\":{\"type\":\"value\",\"value\":10},\"line_color\":{\"type\":\"value\",\"value\":\"#1EA087\"},\"line_alpha\":{\"type\":\"value\",\"value\":0.1},\"fill_color\":{\"type\":\"value\",\"value\":\"#1EA087\"},\"fill_alpha\":{\"type\":\"value\",\"value\":0.1},\"hatch_alpha\":{\"type\":\"value\",\"value\":0.1}}},\"muted_glyph\":{\"type\":\"object\",\"name\":\"Scatter\",\"id\":\"p3612\",\"attributes\":{\"x\":{\"type\":\"field\",\"field\":\"x\"},\"y\":{\"type\":\"field\",\"field\":\"y\"},\"size\":{\"type\":\"value\",\"value\":10},\"line_color\":{\"type\":\"value\",\"value\":\"#1EA087\"},\"line_alpha\":{\"type\":\"value\",\"value\":0.2},\"fill_color\":{\"type\":\"value\",\"value\":\"#1EA087\"},\"fill_alpha\":{\"type\":\"value\",\"value\":0.2},\"hatch_alpha\":{\"type\":\"value\",\"value\":0.2}}}}}],\"toolbar\":{\"type\":\"object\",\"name\":\"Toolbar\",\"id\":\"p3500\",\"attributes\":{\"tools\":[{\"type\":\"object\",\"name\":\"PanTool\",\"id\":\"p3514\"},{\"type\":\"object\",\"name\":\"WheelZoomTool\",\"id\":\"p3515\",\"attributes\":{\"renderers\":\"auto\"}},{\"type\":\"object\",\"name\":\"BoxZoomTool\",\"id\":\"p3516\",\"attributes\":{\"overlay\":{\"type\":\"object\",\"name\":\"BoxAnnotation\",\"id\":\"p3517\",\"attributes\":{\"syncable\":false,\"level\":\"overlay\",\"visible\":false,\"left\":{\"type\":\"number\",\"value\":\"nan\"},\"right\":{\"type\":\"number\",\"value\":\"nan\"},\"top\":{\"type\":\"number\",\"value\":\"nan\"},\"bottom\":{\"type\":\"number\",\"value\":\"nan\"},\"left_units\":\"canvas\",\"right_units\":\"canvas\",\"top_units\":\"canvas\",\"bottom_units\":\"canvas\",\"line_color\":\"black\",\"line_alpha\":1.0,\"line_width\":2,\"line_dash\":[4,4],\"fill_color\":\"lightgrey\",\"fill_alpha\":0.5}}}},{\"type\":\"object\",\"name\":\"SaveTool\",\"id\":\"p3522\"},{\"type\":\"object\",\"name\":\"ResetTool\",\"id\":\"p3523\"},{\"type\":\"object\",\"name\":\"HelpTool\",\"id\":\"p3524\"},{\"type\":\"object\",\"name\":\"HoverTool\",\"id\":\"p3539\",\"attributes\":{\"renderers\":[{\"id\":\"p3534\"}],\"tooltips\":[[\"start\",\"@start\"],[\"end\",\"@end\"],[\"instrument\",\"@instrument\"],[\"voice_index\",\"@voice_index\"],[\"midi\",\"@midi\"],[\"velocity\",\"@velocity\"],[\"offset\",\"@offset\"],[\"offset_sec\",\"@offset_sec\"],[\"grid_line\",\"@grid_line\"]]}},{\"type\":\"object\",\"name\":\"HoverTool\",\"id\":\"p3589\",\"attributes\":{\"renderers\":[{\"id\":\"p3585\"}],\"tooltips\":[[\"tempo\",\"@tempo\"],[\"grid_index\",\"@grid_index\"]]}},{\"type\":\"object\",\"name\":\"HoverTool\",\"id\":\"p3603\",\"attributes\":{\"renderers\":[{\"id\":\"p3599\"}],\"tooltips\":[[\"Numerator\",\"@Numerator\"],[\"Denominator\",\"@Denominator\"],[\"grid_index\",\"@grid_index\"]]}},{\"type\":\"object\",\"name\":\"HoverTool\",\"id\":\"p3617\",\"attributes\":{\"renderers\":[{\"id\":\"p3613\"}],\"tooltips\":[[\"Style\",\"@Style\"],[\"Tempo\",\"@Tempo\"],[\"TestNumber\",\"@TestNumber\"],[\"Repetition\",\"@Repetition\"],[\"participant_number\",\"@participant_number\"],[\"attempt\",\"@attempt\"],[\"stream_0\",\"@stream_0\"],[\"stream_1\",\"@stream_1\"],[\"stream_2\",\"@stream_2\"],[\"stream_3\",\"@stream_3\"],[\"start_bar\",\"@start_bar\"],[\"collection\",\"@collection\"],[\"sample_id\",\"@sample_id\"]]}}]}},\"left\":[{\"type\":\"object\",\"name\":\"LinearAxis\",\"id\":\"p3509\",\"attributes\":{\"ticker\":{\"type\":\"object\",\"name\":\"FixedTicker\",\"id\":\"p3540\",\"attributes\":{\"ticks\":[0,1,2,3],\"minor_ticks\":[]}},\"formatter\":{\"type\":\"object\",\"name\":\"BasicTickFormatter\",\"id\":\"p3511\"},\"axis_label\":\"Instrument\",\"axis_label_standoff\":10,\"axis_label_text_color\":\"#5B5B5B\",\"axis_label_text_font\":\"Helvetica\",\"axis_label_text_font_size\":\"1.25em\",\"axis_label_text_font_style\":\"normal\",\"major_label_overrides\":{\"type\":\"map\",\"entries\":[[0,\"stream_0\"],[1,\"stream_1\"],[2,\"stream_2\"],[3,\"stream_3\"]]},\"major_label_policy\":{\"type\":\"object\",\"name\":\"AllLabels\",\"id\":\"p3512\"},\"major_label_text_color\":\"#5B5B5B\",\"major_label_text_font\":\"Helvetica\",\"major_label_text_font_size\":\"1.025em\",\"axis_line_color\":\"#5B5B5B\",\"axis_line_alpha\":0,\"major_tick_line_color\":\"#5B5B5B\",\"major_tick_line_alpha\":0,\"minor_tick_line_color\":\"#5B5B5B\",\"minor_tick_line_alpha\":0}}],\"right\":[{\"type\":\"object\",\"name\":\"Legend\",\"id\":\"p3537\",\"attributes\":{\"border_line_alpha\":0,\"background_fill_alpha\":0.25,\"click_policy\":\"hide\",\"label_text_color\":\"#5B5B5B\",\"label_text_font\":\"Helvetica\",\"label_text_font_size\":\"1.025em\",\"label_standoff\":8,\"glyph_width\":15,\"spacing\":8,\"items\":[{\"type\":\"object\",\"name\":\"LegendItem\",\"id\":\"p3538\",\"attributes\":{\"label\":{\"type\":\"value\",\"value\":\"Piano Roll\"},\"renderers\":[{\"id\":\"p3534\"}]}},{\"type\":\"object\",\"name\":\"LegendItem\",\"id\":\"p3588\",\"attributes\":{\"label\":{\"type\":\"value\",\"value\":\"Tempo\"},\"renderers\":[{\"id\":\"p3585\"}]}},{\"type\":\"object\",\"name\":\"LegendItem\",\"id\":\"p3602\",\"attributes\":{\"label\":{\"type\":\"value\",\"value\":\"Time Signature\"},\"renderers\":[{\"id\":\"p3599\"}]}},{\"type\":\"object\",\"name\":\"LegendItem\",\"id\":\"p3616\",\"attributes\":{\"label\":{\"type\":\"value\",\"value\":\"Metadata\"},\"renderers\":[{\"id\":\"p3613\"}]}}]}}],\"below\":[{\"type\":\"object\",\"name\":\"LinearAxis\",\"id\":\"p3504\",\"attributes\":{\"ticker\":{\"type\":\"object\",\"name\":\"FixedTicker\",\"id\":\"p3565\",\"attributes\":{\"ticks\":[0.0,0.59,1.18,1.76,2.35,2.94,3.53,4.12],\"minor_ticks\":[]}},\"formatter\":{\"type\":\"object\",\"name\":\"BasicTickFormatter\",\"id\":\"p3506\"},\"axis_label\":\"Time (sec)\",\"axis_label_standoff\":10,\"axis_label_text_color\":\"#5B5B5B\",\"axis_label_text_font\":\"Helvetica\",\"axis_label_text_font_size\":\"1.25em\",\"axis_label_text_font_style\":\"normal\",\"major_label_orientation\":1.57,\"major_label_policy\":{\"type\":\"object\",\"name\":\"AllLabels\",\"id\":\"p3507\"},\"major_label_text_color\":\"#5B5B5B\",\"major_label_text_font\":\"Helvetica\",\"major_label_text_font_size\":\"1.025em\",\"axis_line_color\":\"#5B5B5B\",\"axis_line_alpha\":0,\"major_tick_line_color\":\"#5B5B5B\",\"major_tick_line_alpha\":0,\"minor_tick_line_color\":\"#5B5B5B\",\"minor_tick_line_alpha\":0}}],\"center\":[{\"type\":\"object\",\"name\":\"Grid\",\"id\":\"p3508\",\"attributes\":{\"axis\":{\"id\":\"p3504\"},\"grid_line_color\":null}},{\"type\":\"object\",\"name\":\"Grid\",\"id\":\"p3513\",\"attributes\":{\"dimension\":1,\"axis\":{\"id\":\"p3509\"},\"grid_line_color\":null}},{\"id\":\"p3537\"},{\"type\":\"object\",\"name\":\"Span\",\"id\":\"p3541\",\"attributes\":{\"location\":0.147,\"dimension\":\"height\",\"line_width\":0.1}},{\"type\":\"object\",\"name\":\"Span\",\"id\":\"p3542\",\"attributes\":{\"location\":0.294,\"dimension\":\"height\",\"line_width\":0.1}},{\"type\":\"object\",\"name\":\"Span\",\"id\":\"p3543\",\"attributes\":{\"location\":0.441,\"dimension\":\"height\",\"line_width\":0.1}},{\"type\":\"object\",\"name\":\"Span\",\"id\":\"p3544\",\"attributes\":{\"location\":0.735,\"dimension\":\"height\",\"line_width\":0.1}},{\"type\":\"object\",\"name\":\"Span\",\"id\":\"p3545\",\"attributes\":{\"location\":0.882,\"dimension\":\"height\",\"line_width\":0.1}},{\"type\":\"object\",\"name\":\"Span\",\"id\":\"p3546\",\"attributes\":{\"location\":1.029,\"dimension\":\"height\",\"line_width\":0.1}},{\"type\":\"object\",\"name\":\"Span\",\"id\":\"p3547\",\"attributes\":{\"location\":1.324,\"dimension\":\"height\",\"line_width\":0.1}},{\"type\":\"object\",\"name\":\"Span\",\"id\":\"p3548\",\"attributes\":{\"location\":1.471,\"dimension\":\"height\",\"line_width\":0.1}},{\"type\":\"object\",\"name\":\"Span\",\"id\":\"p3549\",\"attributes\":{\"location\":1.618,\"dimension\":\"height\",\"line_width\":0.1}},{\"type\":\"object\",\"name\":\"Span\",\"id\":\"p3550\",\"attributes\":{\"location\":1.912,\"dimension\":\"height\",\"line_width\":0.1}},{\"type\":\"object\",\"name\":\"Span\",\"id\":\"p3551\",\"attributes\":{\"location\":2.059,\"dimension\":\"height\",\"line_width\":0.1}},{\"type\":\"object\",\"name\":\"Span\",\"id\":\"p3552\",\"attributes\":{\"location\":2.206,\"dimension\":\"height\",\"line_width\":0.1}},{\"type\":\"object\",\"name\":\"Span\",\"id\":\"p3553\",\"attributes\":{\"location\":2.5,\"dimension\":\"height\",\"line_width\":0.1}},{\"type\":\"object\",\"name\":\"Span\",\"id\":\"p3554\",\"attributes\":{\"location\":2.647,\"dimension\":\"height\",\"line_width\":0.1}},{\"type\":\"object\",\"name\":\"Span\",\"id\":\"p3555\",\"attributes\":{\"location\":2.794,\"dimension\":\"height\",\"line_width\":0.1}},{\"type\":\"object\",\"name\":\"Span\",\"id\":\"p3556\",\"attributes\":{\"location\":3.088,\"dimension\":\"height\",\"line_width\":0.1}},{\"type\":\"object\",\"name\":\"Span\",\"id\":\"p3557\",\"attributes\":{\"location\":3.235,\"dimension\":\"height\",\"line_width\":0.1}},{\"type\":\"object\",\"name\":\"Span\",\"id\":\"p3558\",\"attributes\":{\"location\":3.382,\"dimension\":\"height\",\"line_width\":0.1}},{\"type\":\"object\",\"name\":\"Span\",\"id\":\"p3559\",\"attributes\":{\"location\":3.677,\"dimension\":\"height\",\"line_width\":0.1}},{\"type\":\"object\",\"name\":\"Span\",\"id\":\"p3560\",\"attributes\":{\"location\":3.824,\"dimension\":\"height\",\"line_width\":0.1}},{\"type\":\"object\",\"name\":\"Span\",\"id\":\"p3561\",\"attributes\":{\"location\":3.971,\"dimension\":\"height\",\"line_width\":0.1}},{\"type\":\"object\",\"name\":\"Span\",\"id\":\"p3562\",\"attributes\":{\"location\":4.265,\"dimension\":\"height\",\"line_width\":0.1}},{\"type\":\"object\",\"name\":\"Span\",\"id\":\"p3563\",\"attributes\":{\"location\":4.412,\"dimension\":\"height\",\"line_width\":0.1}},{\"type\":\"object\",\"name\":\"Span\",\"id\":\"p3564\",\"attributes\":{\"location\":4.559,\"dimension\":\"height\",\"line_width\":0.1}},{\"type\":\"object\",\"name\":\"Span\",\"id\":\"p3566\",\"attributes\":{\"location\":0.0,\"dimension\":\"height\",\"line_width\":0.5}},{\"type\":\"object\",\"name\":\"Span\",\"id\":\"p3567\",\"attributes\":{\"location\":0.588,\"dimension\":\"height\",\"line_width\":0.5}},{\"type\":\"object\",\"name\":\"Span\",\"id\":\"p3568\",\"attributes\":{\"location\":1.176,\"dimension\":\"height\",\"line_width\":0.5}},{\"type\":\"object\",\"name\":\"Span\",\"id\":\"p3569\",\"attributes\":{\"location\":1.765,\"dimension\":\"height\",\"line_width\":0.5}},{\"type\":\"object\",\"name\":\"Span\",\"id\":\"p3570\",\"attributes\":{\"location\":2.353,\"dimension\":\"height\",\"line_width\":0.5}},{\"type\":\"object\",\"name\":\"Span\",\"id\":\"p3571\",\"attributes\":{\"location\":2.941,\"dimension\":\"height\",\"line_width\":0.5}},{\"type\":\"object\",\"name\":\"Span\",\"id\":\"p3572\",\"attributes\":{\"location\":3.53,\"dimension\":\"height\",\"line_width\":0.5}},{\"type\":\"object\",\"name\":\"Span\",\"id\":\"p3573\",\"attributes\":{\"location\":4.118,\"dimension\":\"height\",\"line_width\":0.5}},{\"type\":\"object\",\"name\":\"Span\",\"id\":\"p3574\",\"attributes\":{\"location\":0.0,\"dimension\":\"height\",\"line_width\":2}},{\"type\":\"object\",\"name\":\"Span\",\"id\":\"p3575\",\"attributes\":{\"location\":2.353,\"dimension\":\"height\",\"line_width\":2}}]}}}},{\"type\":\"object\",\"name\":\"TabPanel\",\"id\":\"p3756\",\"attributes\":{\"title\":\"Tab 10\",\"child\":{\"type\":\"object\",\"name\":\"Figure\",\"id\":\"p3621\",\"attributes\":{\"width\":800,\"height\":400,\"x_range\":{\"type\":\"object\",\"name\":\"DataRange1d\",\"id\":\"p3623\",\"attributes\":{\"start\":-0.44290000000000007,\"end\":4.871900000000001}},\"y_range\":{\"type\":\"object\",\"name\":\"Range1d\",\"id\":\"p3630\",\"attributes\":{\"start\":-0.5,\"end\":5.75}},\"x_scale\":{\"type\":\"object\",\"name\":\"LinearScale\",\"id\":\"p3631\"},\"y_scale\":{\"type\":\"object\",\"name\":\"LinearScale\",\"id\":\"p3632\"},\"title\":{\"type\":\"object\",\"name\":\"Title\",\"id\":\"p3628\",\"attributes\":{\"text_color\":\"#5B5B5B\",\"text_font\":\"Helvetica\",\"text_font_size\":\"1.15em\"}},\"renderers\":[{\"type\":\"object\",\"name\":\"GlyphRenderer\",\"id\":\"p3663\",\"attributes\":{\"data_source\":{\"type\":\"object\",\"name\":\"ColumnDataSource\",\"id\":\"p3654\",\"attributes\":{\"selected\":{\"type\":\"object\",\"name\":\"Selection\",\"id\":\"p3655\",\"attributes\":{\"indices\":[],\"line_indices\":[]}},\"selection_policy\":{\"type\":\"object\",\"name\":\"UnionRenderers\",\"id\":\"p3656\"},\"data\":{\"type\":\"map\",\"entries\":[[\"start\",[0.010725,0.017875,0.017875,0.157157,0.27255799999999997,0.32146399999999997,0.25597,0.32146399999999997,0.445188,0.563048,0.601173,0.601173,0.8475619999999999,0.886887,0.886887,0.997569,1.03575,1.03575,1.136851,1.160732,1.160732,1.29887,1.339339,1.339339,1.407121,1.44044,1.44044,1.696392,1.7261549999999999,1.7261549999999999,1.996425,1.993994,1.993994,2.133276,2.142857,2.142857,2.260689,2.280709,2.220792,2.220792,2.4455679999999997,2.434624,2.434624,2.570272,2.5544320000000003,2.5544320000000003,2.740884,2.851137,2.839268,2.839268,3.130988,3.289266,3.279708,3.279708,3.405138,3.404712,3.404712,3.571572,3.583298,3.583298,3.697841,3.690405,3.690405,3.985557,4.0,3.988131,3.988131,4.283283,4.273845,4.273845,4.42614]],[\"end\",[0.08172499999999995,0.08887499999999995,0.08887499999999995,0.22815699999999994,0.3435579999999999,0.3924639999999999,0.3269699999999999,0.3924639999999999,0.5161879999999999,0.634048,0.6721729999999999,0.6721729999999999,0.9185619999999999,0.9578869999999999,0.9578869999999999,1.068569,1.10675,1.10675,1.207851,1.231732,1.231732,1.36987,1.410339,1.410339,1.478121,1.51144,1.51144,1.7673919999999999,1.7971549999999998,1.7971549999999998,2.067425,2.064994,2.064994,2.204276,2.213857,2.213857,2.331689,2.3517089999999996,2.291792,2.291792,2.5165679999999995,2.505624,2.505624,2.641272,2.625432,2.625432,2.811884,2.922137,2.9102680000000003,2.9102680000000003,3.201988,3.360266,3.350708,3.350708,3.4761379999999997,3.4757119999999997,3.4757119999999997,3.6425720000000004,3.654298,3.654298,3.768841,3.761405,3.761405,4.056557,4.071,4.059131,4.059131,4.354283,4.344844999999999,4.344844999999999,4.49714]],[\"instrument\",[\"stream_0\",\"stream_1\",\"stream_3\",\"stream_0\",\"stream_0\",\"stream_1\",\"stream_2\",\"stream_3\",\"stream_0\",\"stream_0\",\"stream_2\",\"stream_3\",\"stream_0\",\"stream_1\",\"stream_3\",\"stream_0\",\"stream_2\",\"stream_3\",\"stream_0\",\"stream_1\",\"stream_3\",\"stream_0\",\"stream_2\",\"stream_3\",\"stream_0\",\"stream_1\",\"stream_3\",\"stream_0\",\"stream_2\",\"stream_3\",\"stream_0\",\"stream_1\",\"stream_3\",\"stream_0\",\"stream_2\",\"stream_3\",\"stream_0\",\"stream_1\",\"stream_2\",\"stream_3\",\"stream_0\",\"stream_2\",\"stream_3\",\"stream_0\",\"stream_1\",\"stream_3\",\"stream_0\",\"stream_0\",\"stream_2\",\"stream_3\",\"stream_0\",\"stream_0\",\"stream_2\",\"stream_3\",\"stream_0\",\"stream_1\",\"stream_3\",\"stream_0\",\"stream_2\",\"stream_3\",\"stream_0\",\"stream_2\",\"stream_3\",\"stream_0\",\"stream_1\",\"stream_2\",\"stream_3\",\"stream_0\",\"stream_2\",\"stream_3\",\"stream_0\"]],[\"voice_index\",[0,1,3,0,0,1,2,3,0,0,2,3,0,1,3,0,2,3,0,1,3,0,2,3,0,1,3,0,2,3,0,1,3,0,2,3,0,1,2,3,0,2,3,0,1,3,0,0,2,3,0,0,2,3,0,1,3,0,2,3,0,2,3,0,1,2,3,0,2,3,0]],[\"midi\",[36,38,46,36,36,38,42,46,36,36,42,46,36,38,46,36,42,46,36,38,46,36,42,46,36,38,46,36,42,46,36,38,46,36,42,46,36,38,42,46,36,42,46,36,38,46,36,36,42,46,36,36,42,46,36,38,46,36,42,46,36,42,46,36,38,42,46,36,42,46,36]],[\"velocity\",[0.512,0.299,0.299,0.228,0.685,0.126,0.087,0.126,0.575,0.945,0.866,0.866,0.52,0.189,0.189,0.457,0.48,0.48,0.504,0.244,0.244,0.386,0.362,0.362,0.583,0.181,0.181,1.0,0.961,0.961,0.677,0.197,0.197,0.197,0.48,0.48,0.843,0.37,0.48,0.48,0.268,0.386,0.386,0.614,0.197,0.197,0.827,1.0,0.795,0.795,0.63,0.543,0.535,0.535,0.378,0.181,0.181,0.394,0.504,0.504,0.693,0.425,0.425,1.0,0.402,0.575,0.575,0.685,0.417,0.417,0.205]],[\"offset\",[0.075,0.125,0.125,0.099,-0.094,0.248,-0.21,0.248,0.114,-0.056,0.211,0.211,-0.066,0.209,0.209,-0.017,0.25,0.25,-0.043,0.124,0.124,0.09,0.373,0.373,-0.153,0.08,0.08,-0.124,0.085,0.085,-0.025,-0.042,-0.042,-0.068,-0.001,-0.001,-0.177,-0.037,-0.456,-0.456,0.122,0.046,0.046,-0.012,-0.122,-0.122,0.188,-0.041,-0.124,-0.124,-0.084,0.023,-0.044,-0.044,-0.161,-0.164,-0.164,0.004,0.086,0.086,-0.113,-0.165,-0.165,-0.101,0.0,-0.083,-0.083,-0.019,-0.085,-0.085,-0.02]],[\"offset_sec\",[0.011,0.018,0.018,0.014,-0.013,0.035,-0.03,0.035,0.016,-0.008,0.03,0.03,-0.009,0.03,0.03,-0.002,0.036,0.036,-0.006,0.018,0.018,0.013,0.053,0.053,-0.022,0.011,0.011,-0.018,0.012,0.012,-0.004,-0.006,-0.006,-0.01,-0.0,-0.0,-0.025,-0.005,-0.065,-0.065,0.018,0.007,0.007,-0.002,-0.018,-0.018,0.027,-0.006,-0.018,-0.018,-0.012,0.003,-0.006,-0.006,-0.023,-0.023,-0.023,0.001,0.012,0.012,-0.016,-0.024,-0.024,-0.014,0.0,-0.012,-0.012,-0.003,-0.012,-0.012,-0.003]],[\"grid_line\",[0,0,0,1,2,2,2,2,3,4,4,4,6,6,6,7,7,7,8,8,8,9,9,9,10,10,10,12,12,12,14,14,14,15,15,15,16,16,16,16,17,17,17,18,18,18,19,20,20,20,22,23,23,23,24,24,24,25,25,25,26,26,26,28,28,28,28,30,30,30,31]],[\"top\",{\"type\":\"ndarray\",\"array\":{\"type\":\"bytes\",\"data\":\"mpmZmZmZyT8zMzMzMzPzP5qZmZmZmQlAmpmZmZmZyT+amZmZmZnJPzMzMzMzM/M/mpmZmZmZAUCamZmZmZkJQJqZmZmZmck/mpmZmZmZyT+amZmZmZkBQJqZmZmZmQlAmpmZmZmZyT8zMzMzMzPzP5qZmZmZmQlAmpmZmZmZyT+amZmZmZkBQJqZmZmZmQlAmpmZmZmZyT8zMzMzMzPzP5qZmZmZmQlAmpmZmZmZyT+amZmZmZkBQJqZmZmZmQlAmpmZmZmZyT8zMzMzMzPzP5qZmZmZmQlAmpmZmZmZyT+amZmZmZkBQJqZmZmZmQlAmpmZmZmZyT8zMzMzMzPzP5qZmZmZmQlAmpmZmZmZyT+amZmZmZkBQJqZmZmZmQlAmpmZmZmZyT8zMzMzMzPzP5qZmZmZmQFAmpmZmZmZCUCamZmZmZnJP5qZmZmZmQFAmpmZmZmZCUCamZmZmZnJPzMzMzMzM/M/mpmZmZmZCUCamZmZmZnJP5qZmZmZmck/mpmZmZmZAUCamZmZmZkJQJqZmZmZmck/mpmZmZmZyT+amZmZmZkBQJqZmZmZmQlAmpmZmZmZyT8zMzMzMzPzP5qZmZmZmQlAmpmZmZmZyT+amZmZmZkBQJqZmZmZmQlAmpmZmZmZyT+amZmZmZkBQJqZmZmZmQlAmpmZmZmZyT8zMzMzMzPzP5qZmZmZmQFAmpmZmZmZCUCamZmZmZnJP5qZmZmZmQFAmpmZmZmZCUCamZmZmZnJPw==\"},\"shape\":[71],\"dtype\":\"float64\",\"order\":\"little\"}],[\"bottom\",{\"type\":\"ndarray\",\"array\":{\"type\":\"bytes\",\"data\":\"mpmZmZmZyb+amZmZmZnpP2ZmZmZmZgZAmpmZmZmZyb+amZmZmZnJv5qZmZmZmek/zczMzMzM/D9mZmZmZmYGQJqZmZmZmcm/mpmZmZmZyb/NzMzMzMz8P2ZmZmZmZgZAmpmZmZmZyb+amZmZmZnpP2ZmZmZmZgZAmpmZmZmZyb/NzMzMzMz8P2ZmZmZmZgZAmpmZmZmZyb+amZmZmZnpP2ZmZmZmZgZAmpmZmZmZyb/NzMzMzMz8P2ZmZmZmZgZAmpmZmZmZyb+amZmZmZnpP2ZmZmZmZgZAmpmZmZmZyb/NzMzMzMz8P2ZmZmZmZgZAmpmZmZmZyb+amZmZmZnpP2ZmZmZmZgZAmpmZmZmZyb/NzMzMzMz8P2ZmZmZmZgZAmpmZmZmZyb+amZmZmZnpP83MzMzMzPw/ZmZmZmZmBkCamZmZmZnJv83MzMzMzPw/ZmZmZmZmBkCamZmZmZnJv5qZmZmZmek/ZmZmZmZmBkCamZmZmZnJv5qZmZmZmcm/zczMzMzM/D9mZmZmZmYGQJqZmZmZmcm/mpmZmZmZyb/NzMzMzMz8P2ZmZmZmZgZAmpmZmZmZyb+amZmZmZnpP2ZmZmZmZgZAmpmZmZmZyb/NzMzMzMz8P2ZmZmZmZgZAmpmZmZmZyb/NzMzMzMz8P2ZmZmZmZgZAmpmZmZmZyb+amZmZmZnpP83MzMzMzPw/ZmZmZmZmBkCamZmZmZnJv83MzMzMzPw/ZmZmZmZmBkCamZmZmZnJvw==\"},\"shape\":[71],\"dtype\":\"float64\",\"order\":\"little\"}]]}}},\"view\":{\"type\":\"object\",\"name\":\"CDSView\",\"id\":\"p3664\",\"attributes\":{\"filter\":{\"type\":\"object\",\"name\":\"AllIndices\",\"id\":\"p3665\"}}},\"glyph\":{\"type\":\"object\",\"name\":\"Quad\",\"id\":\"p3660\",\"attributes\":{\"left\":{\"type\":\"field\",\"field\":\"start\"},\"right\":{\"type\":\"field\",\"field\":\"end\"},\"bottom\":{\"type\":\"field\",\"field\":\"bottom\"},\"top\":{\"type\":\"field\",\"field\":\"top\"},\"line_color\":{\"type\":\"value\",\"value\":\"grey\"},\"fill_color\":{\"type\":\"value\",\"value\":\"grey\"},\"fill_alpha\":{\"type\":\"field\",\"field\":\"velocity\"}}},\"nonselection_glyph\":{\"type\":\"object\",\"name\":\"Quad\",\"id\":\"p3661\",\"attributes\":{\"left\":{\"type\":\"field\",\"field\":\"start\"},\"right\":{\"type\":\"field\",\"field\":\"end\"},\"bottom\":{\"type\":\"field\",\"field\":\"bottom\"},\"top\":{\"type\":\"field\",\"field\":\"top\"},\"line_color\":{\"type\":\"value\",\"value\":\"grey\"},\"line_alpha\":{\"type\":\"value\",\"value\":0.1},\"fill_color\":{\"type\":\"value\",\"value\":\"grey\"},\"fill_alpha\":{\"type\":\"value\",\"value\":0.1},\"hatch_alpha\":{\"type\":\"value\",\"value\":0.1}}},\"muted_glyph\":{\"type\":\"object\",\"name\":\"Quad\",\"id\":\"p3662\",\"attributes\":{\"left\":{\"type\":\"field\",\"field\":\"start\"},\"right\":{\"type\":\"field\",\"field\":\"end\"},\"bottom\":{\"type\":\"field\",\"field\":\"bottom\"},\"top\":{\"type\":\"field\",\"field\":\"top\"},\"line_color\":{\"type\":\"value\",\"value\":\"grey\"},\"line_alpha\":{\"type\":\"value\",\"value\":0.2},\"fill_color\":{\"type\":\"value\",\"value\":\"grey\"},\"fill_alpha\":{\"type\":\"value\",\"value\":0.2},\"hatch_alpha\":{\"type\":\"value\",\"value\":0.2}}}}},{\"type\":\"object\",\"name\":\"GlyphRenderer\",\"id\":\"p3714\",\"attributes\":{\"data_source\":{\"type\":\"object\",\"name\":\"ColumnDataSource\",\"id\":\"p3705\",\"attributes\":{\"selected\":{\"type\":\"object\",\"name\":\"Selection\",\"id\":\"p3706\",\"attributes\":{\"indices\":[],\"line_indices\":[]}},\"selection_policy\":{\"type\":\"object\",\"name\":\"UnionRenderers\",\"id\":\"p3707\"},\"data\":{\"type\":\"map\",\"entries\":[[\"x\",[0.0]],[\"y\",[4.5]],[\"tempo\",[105.0]],[\"grid_index\",[0]]]}}},\"view\":{\"type\":\"object\",\"name\":\"CDSView\",\"id\":\"p3715\",\"attributes\":{\"filter\":{\"type\":\"object\",\"name\":\"AllIndices\",\"id\":\"p3716\"}}},\"glyph\":{\"type\":\"object\",\"name\":\"Scatter\",\"id\":\"p3711\",\"attributes\":{\"x\":{\"type\":\"field\",\"field\":\"x\"},\"y\":{\"type\":\"field\",\"field\":\"y\"},\"size\":{\"type\":\"value\",\"value\":10},\"line_color\":{\"type\":\"value\",\"value\":\"#440154\"},\"fill_color\":{\"type\":\"value\",\"value\":\"#440154\"}}},\"nonselection_glyph\":{\"type\":\"object\",\"name\":\"Scatter\",\"id\":\"p3712\",\"attributes\":{\"x\":{\"type\":\"field\",\"field\":\"x\"},\"y\":{\"type\":\"field\",\"field\":\"y\"},\"size\":{\"type\":\"value\",\"value\":10},\"line_color\":{\"type\":\"value\",\"value\":\"#440154\"},\"line_alpha\":{\"type\":\"value\",\"value\":0.1},\"fill_color\":{\"type\":\"value\",\"value\":\"#440154\"},\"fill_alpha\":{\"type\":\"value\",\"value\":0.1},\"hatch_alpha\":{\"type\":\"value\",\"value\":0.1}}},\"muted_glyph\":{\"type\":\"object\",\"name\":\"Scatter\",\"id\":\"p3713\",\"attributes\":{\"x\":{\"type\":\"field\",\"field\":\"x\"},\"y\":{\"type\":\"field\",\"field\":\"y\"},\"size\":{\"type\":\"value\",\"value\":10},\"line_color\":{\"type\":\"value\",\"value\":\"#440154\"},\"line_alpha\":{\"type\":\"value\",\"value\":0.2},\"fill_color\":{\"type\":\"value\",\"value\":\"#440154\"},\"fill_alpha\":{\"type\":\"value\",\"value\":0.2},\"hatch_alpha\":{\"type\":\"value\",\"value\":0.2}}}}},{\"type\":\"object\",\"name\":\"GlyphRenderer\",\"id\":\"p3728\",\"attributes\":{\"data_source\":{\"type\":\"object\",\"name\":\"ColumnDataSource\",\"id\":\"p3719\",\"attributes\":{\"selected\":{\"type\":\"object\",\"name\":\"Selection\",\"id\":\"p3720\",\"attributes\":{\"indices\":[],\"line_indices\":[]}},\"selection_policy\":{\"type\":\"object\",\"name\":\"UnionRenderers\",\"id\":\"p3721\"},\"data\":{\"type\":\"map\",\"entries\":[[\"x\",[0.0]],[\"y\",[4]],[\"Numerator\",[4]],[\"Denominator\",[4]],[\"grid_index\",[0]]]}}},\"view\":{\"type\":\"object\",\"name\":\"CDSView\",\"id\":\"p3729\",\"attributes\":{\"filter\":{\"type\":\"object\",\"name\":\"AllIndices\",\"id\":\"p3730\"}}},\"glyph\":{\"type\":\"object\",\"name\":\"Scatter\",\"id\":\"p3725\",\"attributes\":{\"x\":{\"type\":\"field\",\"field\":\"x\"},\"y\":{\"type\":\"field\",\"field\":\"y\"},\"size\":{\"type\":\"value\",\"value\":10},\"line_color\":{\"type\":\"value\",\"value\":\"#70CE56\"},\"fill_color\":{\"type\":\"value\",\"value\":\"#70CE56\"}}},\"nonselection_glyph\":{\"type\":\"object\",\"name\":\"Scatter\",\"id\":\"p3726\",\"attributes\":{\"x\":{\"type\":\"field\",\"field\":\"x\"},\"y\":{\"type\":\"field\",\"field\":\"y\"},\"size\":{\"type\":\"value\",\"value\":10},\"line_color\":{\"type\":\"value\",\"value\":\"#70CE56\"},\"line_alpha\":{\"type\":\"value\",\"value\":0.1},\"fill_color\":{\"type\":\"value\",\"value\":\"#70CE56\"},\"fill_alpha\":{\"type\":\"value\",\"value\":0.1},\"hatch_alpha\":{\"type\":\"value\",\"value\":0.1}}},\"muted_glyph\":{\"type\":\"object\",\"name\":\"Scatter\",\"id\":\"p3727\",\"attributes\":{\"x\":{\"type\":\"field\",\"field\":\"x\"},\"y\":{\"type\":\"field\",\"field\":\"y\"},\"size\":{\"type\":\"value\",\"value\":10},\"line_color\":{\"type\":\"value\",\"value\":\"#70CE56\"},\"line_alpha\":{\"type\":\"value\",\"value\":0.2},\"fill_color\":{\"type\":\"value\",\"value\":\"#70CE56\"},\"fill_alpha\":{\"type\":\"value\",\"value\":0.2},\"hatch_alpha\":{\"type\":\"value\",\"value\":0.2}}}}},{\"type\":\"object\",\"name\":\"GlyphRenderer\",\"id\":\"p3742\",\"attributes\":{\"data_source\":{\"type\":\"object\",\"name\":\"ColumnDataSource\",\"id\":\"p3733\",\"attributes\":{\"selected\":{\"type\":\"object\",\"name\":\"Selection\",\"id\":\"p3734\",\"attributes\":{\"indices\":[],\"line_indices\":[]}},\"selection_policy\":{\"type\":\"object\",\"name\":\"UnionRenderers\",\"id\":\"p3735\"},\"data\":{\"type\":\"map\",\"entries\":[[\"x\",[0.0]],[\"y\",[3.5]],[\"Style\",[\"funk-groove2\"]],[\"Tempo\",[105.0]],[\"TestNumber\",[\"149\"]],[\"Repetition\",[\"Complex\"]],[\"participant_number\",[\"149\"]],[\"attempt\",[\"149_p1_complex\"]],[\"stream_0\",[\"149_p1_complex_flattened\"]],[\"stream_1\",[\"149_p1_complex_right\"]],[\"stream_2\",[\"149_p1_complex_left\"]],[\"stream_3\",[\"149_p1_complex_both\"]],[\"start_bar\",[0]],[\"collection\",[\"taptamdrum_hvo_output_both_is_or\"]],[\"sample_id\",[\"149_p1_complex\"]]]}}},\"view\":{\"type\":\"object\",\"name\":\"CDSView\",\"id\":\"p3743\",\"attributes\":{\"filter\":{\"type\":\"object\",\"name\":\"AllIndices\",\"id\":\"p3744\"}}},\"glyph\":{\"type\":\"object\",\"name\":\"Scatter\",\"id\":\"p3739\",\"attributes\":{\"x\":{\"type\":\"field\",\"field\":\"x\"},\"y\":{\"type\":\"field\",\"field\":\"y\"},\"size\":{\"type\":\"value\",\"value\":10},\"line_color\":{\"type\":\"value\",\"value\":\"#1EA087\"},\"fill_color\":{\"type\":\"value\",\"value\":\"#1EA087\"}}},\"nonselection_glyph\":{\"type\":\"object\",\"name\":\"Scatter\",\"id\":\"p3740\",\"attributes\":{\"x\":{\"type\":\"field\",\"field\":\"x\"},\"y\":{\"type\":\"field\",\"field\":\"y\"},\"size\":{\"type\":\"value\",\"value\":10},\"line_color\":{\"type\":\"value\",\"value\":\"#1EA087\"},\"line_alpha\":{\"type\":\"value\",\"value\":0.1},\"fill_color\":{\"type\":\"value\",\"value\":\"#1EA087\"},\"fill_alpha\":{\"type\":\"value\",\"value\":0.1},\"hatch_alpha\":{\"type\":\"value\",\"value\":0.1}}},\"muted_glyph\":{\"type\":\"object\",\"name\":\"Scatter\",\"id\":\"p3741\",\"attributes\":{\"x\":{\"type\":\"field\",\"field\":\"x\"},\"y\":{\"type\":\"field\",\"field\":\"y\"},\"size\":{\"type\":\"value\",\"value\":10},\"line_color\":{\"type\":\"value\",\"value\":\"#1EA087\"},\"line_alpha\":{\"type\":\"value\",\"value\":0.2},\"fill_color\":{\"type\":\"value\",\"value\":\"#1EA087\"},\"fill_alpha\":{\"type\":\"value\",\"value\":0.2},\"hatch_alpha\":{\"type\":\"value\",\"value\":0.2}}}}}],\"toolbar\":{\"type\":\"object\",\"name\":\"Toolbar\",\"id\":\"p3629\",\"attributes\":{\"tools\":[{\"type\":\"object\",\"name\":\"PanTool\",\"id\":\"p3643\"},{\"type\":\"object\",\"name\":\"WheelZoomTool\",\"id\":\"p3644\",\"attributes\":{\"renderers\":\"auto\"}},{\"type\":\"object\",\"name\":\"BoxZoomTool\",\"id\":\"p3645\",\"attributes\":{\"overlay\":{\"type\":\"object\",\"name\":\"BoxAnnotation\",\"id\":\"p3646\",\"attributes\":{\"syncable\":false,\"level\":\"overlay\",\"visible\":false,\"left\":{\"type\":\"number\",\"value\":\"nan\"},\"right\":{\"type\":\"number\",\"value\":\"nan\"},\"top\":{\"type\":\"number\",\"value\":\"nan\"},\"bottom\":{\"type\":\"number\",\"value\":\"nan\"},\"left_units\":\"canvas\",\"right_units\":\"canvas\",\"top_units\":\"canvas\",\"bottom_units\":\"canvas\",\"line_color\":\"black\",\"line_alpha\":1.0,\"line_width\":2,\"line_dash\":[4,4],\"fill_color\":\"lightgrey\",\"fill_alpha\":0.5}}}},{\"type\":\"object\",\"name\":\"SaveTool\",\"id\":\"p3651\"},{\"type\":\"object\",\"name\":\"ResetTool\",\"id\":\"p3652\"},{\"type\":\"object\",\"name\":\"HelpTool\",\"id\":\"p3653\"},{\"type\":\"object\",\"name\":\"HoverTool\",\"id\":\"p3668\",\"attributes\":{\"renderers\":[{\"id\":\"p3663\"}],\"tooltips\":[[\"start\",\"@start\"],[\"end\",\"@end\"],[\"instrument\",\"@instrument\"],[\"voice_index\",\"@voice_index\"],[\"midi\",\"@midi\"],[\"velocity\",\"@velocity\"],[\"offset\",\"@offset\"],[\"offset_sec\",\"@offset_sec\"],[\"grid_line\",\"@grid_line\"]]}},{\"type\":\"object\",\"name\":\"HoverTool\",\"id\":\"p3718\",\"attributes\":{\"renderers\":[{\"id\":\"p3714\"}],\"tooltips\":[[\"tempo\",\"@tempo\"],[\"grid_index\",\"@grid_index\"]]}},{\"type\":\"object\",\"name\":\"HoverTool\",\"id\":\"p3732\",\"attributes\":{\"renderers\":[{\"id\":\"p3728\"}],\"tooltips\":[[\"Numerator\",\"@Numerator\"],[\"Denominator\",\"@Denominator\"],[\"grid_index\",\"@grid_index\"]]}},{\"type\":\"object\",\"name\":\"HoverTool\",\"id\":\"p3746\",\"attributes\":{\"renderers\":[{\"id\":\"p3742\"}],\"tooltips\":[[\"Style\",\"@Style\"],[\"Tempo\",\"@Tempo\"],[\"TestNumber\",\"@TestNumber\"],[\"Repetition\",\"@Repetition\"],[\"participant_number\",\"@participant_number\"],[\"attempt\",\"@attempt\"],[\"stream_0\",\"@stream_0\"],[\"stream_1\",\"@stream_1\"],[\"stream_2\",\"@stream_2\"],[\"stream_3\",\"@stream_3\"],[\"start_bar\",\"@start_bar\"],[\"collection\",\"@collection\"],[\"sample_id\",\"@sample_id\"]]}}]}},\"left\":[{\"type\":\"object\",\"name\":\"LinearAxis\",\"id\":\"p3638\",\"attributes\":{\"ticker\":{\"type\":\"object\",\"name\":\"FixedTicker\",\"id\":\"p3669\",\"attributes\":{\"ticks\":[0,1,2,3],\"minor_ticks\":[]}},\"formatter\":{\"type\":\"object\",\"name\":\"BasicTickFormatter\",\"id\":\"p3640\"},\"axis_label\":\"Instrument\",\"axis_label_standoff\":10,\"axis_label_text_color\":\"#5B5B5B\",\"axis_label_text_font\":\"Helvetica\",\"axis_label_text_font_size\":\"1.25em\",\"axis_label_text_font_style\":\"normal\",\"major_label_overrides\":{\"type\":\"map\",\"entries\":[[0,\"stream_0\"],[1,\"stream_1\"],[2,\"stream_2\"],[3,\"stream_3\"]]},\"major_label_policy\":{\"type\":\"object\",\"name\":\"AllLabels\",\"id\":\"p3641\"},\"major_label_text_color\":\"#5B5B5B\",\"major_label_text_font\":\"Helvetica\",\"major_label_text_font_size\":\"1.025em\",\"axis_line_color\":\"#5B5B5B\",\"axis_line_alpha\":0,\"major_tick_line_color\":\"#5B5B5B\",\"major_tick_line_alpha\":0,\"minor_tick_line_color\":\"#5B5B5B\",\"minor_tick_line_alpha\":0}}],\"right\":[{\"type\":\"object\",\"name\":\"Legend\",\"id\":\"p3666\",\"attributes\":{\"border_line_alpha\":0,\"background_fill_alpha\":0.25,\"click_policy\":\"hide\",\"label_text_color\":\"#5B5B5B\",\"label_text_font\":\"Helvetica\",\"label_text_font_size\":\"1.025em\",\"label_standoff\":8,\"glyph_width\":15,\"spacing\":8,\"items\":[{\"type\":\"object\",\"name\":\"LegendItem\",\"id\":\"p3667\",\"attributes\":{\"label\":{\"type\":\"value\",\"value\":\"Piano Roll\"},\"renderers\":[{\"id\":\"p3663\"}]}},{\"type\":\"object\",\"name\":\"LegendItem\",\"id\":\"p3717\",\"attributes\":{\"label\":{\"type\":\"value\",\"value\":\"Tempo\"},\"renderers\":[{\"id\":\"p3714\"}]}},{\"type\":\"object\",\"name\":\"LegendItem\",\"id\":\"p3731\",\"attributes\":{\"label\":{\"type\":\"value\",\"value\":\"Time Signature\"},\"renderers\":[{\"id\":\"p3728\"}]}},{\"type\":\"object\",\"name\":\"LegendItem\",\"id\":\"p3745\",\"attributes\":{\"label\":{\"type\":\"value\",\"value\":\"Metadata\"},\"renderers\":[{\"id\":\"p3742\"}]}}]}}],\"below\":[{\"type\":\"object\",\"name\":\"LinearAxis\",\"id\":\"p3633\",\"attributes\":{\"ticker\":{\"type\":\"object\",\"name\":\"FixedTicker\",\"id\":\"p3694\",\"attributes\":{\"ticks\":[0.0,0.57,1.14,1.71,2.29,2.86,3.43,4.0],\"minor_ticks\":[]}},\"formatter\":{\"type\":\"object\",\"name\":\"BasicTickFormatter\",\"id\":\"p3635\"},\"axis_label\":\"Time (sec)\",\"axis_label_standoff\":10,\"axis_label_text_color\":\"#5B5B5B\",\"axis_label_text_font\":\"Helvetica\",\"axis_label_text_font_size\":\"1.25em\",\"axis_label_text_font_style\":\"normal\",\"major_label_orientation\":1.57,\"major_label_policy\":{\"type\":\"object\",\"name\":\"AllLabels\",\"id\":\"p3636\"},\"major_label_text_color\":\"#5B5B5B\",\"major_label_text_font\":\"Helvetica\",\"major_label_text_font_size\":\"1.025em\",\"axis_line_color\":\"#5B5B5B\",\"axis_line_alpha\":0,\"major_tick_line_color\":\"#5B5B5B\",\"major_tick_line_alpha\":0,\"minor_tick_line_color\":\"#5B5B5B\",\"minor_tick_line_alpha\":0}}],\"center\":[{\"type\":\"object\",\"name\":\"Grid\",\"id\":\"p3637\",\"attributes\":{\"axis\":{\"id\":\"p3633\"},\"grid_line_color\":null}},{\"type\":\"object\",\"name\":\"Grid\",\"id\":\"p3642\",\"attributes\":{\"dimension\":1,\"axis\":{\"id\":\"p3638\"},\"grid_line_color\":null}},{\"id\":\"p3666\"},{\"type\":\"object\",\"name\":\"Span\",\"id\":\"p3670\",\"attributes\":{\"location\":0.143,\"dimension\":\"height\",\"line_width\":0.1}},{\"type\":\"object\",\"name\":\"Span\",\"id\":\"p3671\",\"attributes\":{\"location\":0.286,\"dimension\":\"height\",\"line_width\":0.1}},{\"type\":\"object\",\"name\":\"Span\",\"id\":\"p3672\",\"attributes\":{\"location\":0.429,\"dimension\":\"height\",\"line_width\":0.1}},{\"type\":\"object\",\"name\":\"Span\",\"id\":\"p3673\",\"attributes\":{\"location\":0.714,\"dimension\":\"height\",\"line_width\":0.1}},{\"type\":\"object\",\"name\":\"Span\",\"id\":\"p3674\",\"attributes\":{\"location\":0.857,\"dimension\":\"height\",\"line_width\":0.1}},{\"type\":\"object\",\"name\":\"Span\",\"id\":\"p3675\",\"attributes\":{\"location\":1.0,\"dimension\":\"height\",\"line_width\":0.1}},{\"type\":\"object\",\"name\":\"Span\",\"id\":\"p3676\",\"attributes\":{\"location\":1.286,\"dimension\":\"height\",\"line_width\":0.1}},{\"type\":\"object\",\"name\":\"Span\",\"id\":\"p3677\",\"attributes\":{\"location\":1.429,\"dimension\":\"height\",\"line_width\":0.1}},{\"type\":\"object\",\"name\":\"Span\",\"id\":\"p3678\",\"attributes\":{\"location\":1.572,\"dimension\":\"height\",\"line_width\":0.1}},{\"type\":\"object\",\"name\":\"Span\",\"id\":\"p3679\",\"attributes\":{\"location\":1.857,\"dimension\":\"height\",\"line_width\":0.1}},{\"type\":\"object\",\"name\":\"Span\",\"id\":\"p3680\",\"attributes\":{\"location\":2.0,\"dimension\":\"height\",\"line_width\":0.1}},{\"type\":\"object\",\"name\":\"Span\",\"id\":\"p3681\",\"attributes\":{\"location\":2.143,\"dimension\":\"height\",\"line_width\":0.1}},{\"type\":\"object\",\"name\":\"Span\",\"id\":\"p3682\",\"attributes\":{\"location\":2.428,\"dimension\":\"height\",\"line_width\":0.1}},{\"type\":\"object\",\"name\":\"Span\",\"id\":\"p3683\",\"attributes\":{\"location\":2.572,\"dimension\":\"height\",\"line_width\":0.1}},{\"type\":\"object\",\"name\":\"Span\",\"id\":\"p3684\",\"attributes\":{\"location\":2.714,\"dimension\":\"height\",\"line_width\":0.1}},{\"type\":\"object\",\"name\":\"Span\",\"id\":\"p3685\",\"attributes\":{\"location\":3.0,\"dimension\":\"height\",\"line_width\":0.1}},{\"type\":\"object\",\"name\":\"Span\",\"id\":\"p3686\",\"attributes\":{\"location\":3.143,\"dimension\":\"height\",\"line_width\":0.1}},{\"type\":\"object\",\"name\":\"Span\",\"id\":\"p3687\",\"attributes\":{\"location\":3.286,\"dimension\":\"height\",\"line_width\":0.1}},{\"type\":\"object\",\"name\":\"Span\",\"id\":\"p3688\",\"attributes\":{\"location\":3.571,\"dimension\":\"height\",\"line_width\":0.1}},{\"type\":\"object\",\"name\":\"Span\",\"id\":\"p3689\",\"attributes\":{\"location\":3.714,\"dimension\":\"height\",\"line_width\":0.1}},{\"type\":\"object\",\"name\":\"Span\",\"id\":\"p3690\",\"attributes\":{\"location\":3.857,\"dimension\":\"height\",\"line_width\":0.1}},{\"type\":\"object\",\"name\":\"Span\",\"id\":\"p3691\",\"attributes\":{\"location\":4.143,\"dimension\":\"height\",\"line_width\":0.1}},{\"type\":\"object\",\"name\":\"Span\",\"id\":\"p3692\",\"attributes\":{\"location\":4.286,\"dimension\":\"height\",\"line_width\":0.1}},{\"type\":\"object\",\"name\":\"Span\",\"id\":\"p3693\",\"attributes\":{\"location\":4.429,\"dimension\":\"height\",\"line_width\":0.1}},{\"type\":\"object\",\"name\":\"Span\",\"id\":\"p3695\",\"attributes\":{\"location\":0.0,\"dimension\":\"height\",\"line_width\":0.5}},{\"type\":\"object\",\"name\":\"Span\",\"id\":\"p3696\",\"attributes\":{\"location\":0.571,\"dimension\":\"height\",\"line_width\":0.5}},{\"type\":\"object\",\"name\":\"Span\",\"id\":\"p3697\",\"attributes\":{\"location\":1.143,\"dimension\":\"height\",\"line_width\":0.5}},{\"type\":\"object\",\"name\":\"Span\",\"id\":\"p3698\",\"attributes\":{\"location\":1.714,\"dimension\":\"height\",\"line_width\":0.5}},{\"type\":\"object\",\"name\":\"Span\",\"id\":\"p3699\",\"attributes\":{\"location\":2.286,\"dimension\":\"height\",\"line_width\":0.5}},{\"type\":\"object\",\"name\":\"Span\",\"id\":\"p3700\",\"attributes\":{\"location\":2.857,\"dimension\":\"height\",\"line_width\":0.5}},{\"type\":\"object\",\"name\":\"Span\",\"id\":\"p3701\",\"attributes\":{\"location\":3.428,\"dimension\":\"height\",\"line_width\":0.5}},{\"type\":\"object\",\"name\":\"Span\",\"id\":\"p3702\",\"attributes\":{\"location\":4.0,\"dimension\":\"height\",\"line_width\":0.5}},{\"type\":\"object\",\"name\":\"Span\",\"id\":\"p3703\",\"attributes\":{\"location\":0.0,\"dimension\":\"height\",\"line_width\":2}},{\"type\":\"object\",\"name\":\"Span\",\"id\":\"p3704\",\"attributes\":{\"location\":2.286,\"dimension\":\"height\",\"line_width\":2}}]}}}}]}}]}};\n  const render_items = [{\"docid\":\"e3195162-c3f4-48ff-892f-00734e6103d1\",\"roots\":{\"p3757\":\"a22d8587-6ecc-44a4-bd2e-ecaa3095d4dc\"},\"root_ids\":[\"p3757\"]}];\n  void root.Bokeh.embed.embed_items_notebook(docs_json, render_items);\n  }\n  if (root.Bokeh !== undefined) {\n    embed_document(root);\n  } else {\n    let attempts = 0;\n    const timer = setInterval(function(root) {\n      if (root.Bokeh !== undefined) {\n        clearInterval(timer);\n        embed_document(root);\n      } else {\n        attempts++;\n        if (attempts > 100) {\n          clearInterval(timer);\n          console.log(\"Bokeh: ERROR: Unable to run BokehJS code because BokehJS library is missing\");\n        }\n      }\n    }, 10, root)\n  }\n})(window);",
      "application/vnd.bokehjs_exec.v0+json": ""
     },
     "metadata": {
      "application/vnd.bokehjs_exec.v0+json": {
       "id": "p3757"
      }
     },
     "output_type": "display_data"
    },
    {
     "data": {
      "text/html": [
       "<div style=\"display: table;\"><div style=\"display: table-row;\"><div style=\"display: table-cell;\"><b title=\"bokeh.models.layouts.Tabs\">Tabs</b>(</div><div style=\"display: table-cell;\">id&nbsp;=&nbsp;'p3757', <span id=\"p3779\" style=\"cursor: pointer;\">&hellip;)</span></div></div><div class=\"p3778\" style=\"display: none;\"><div style=\"display: table-cell;\"></div><div style=\"display: table-cell;\">active&nbsp;=&nbsp;0,</div></div><div class=\"p3778\" style=\"display: none;\"><div style=\"display: table-cell;\"></div><div style=\"display: table-cell;\">align&nbsp;=&nbsp;'auto',</div></div><div class=\"p3778\" style=\"display: none;\"><div style=\"display: table-cell;\"></div><div style=\"display: table-cell;\">aspect_ratio&nbsp;=&nbsp;None,</div></div><div class=\"p3778\" style=\"display: none;\"><div style=\"display: table-cell;\"></div><div style=\"display: table-cell;\">context_menu&nbsp;=&nbsp;None,</div></div><div class=\"p3778\" style=\"display: none;\"><div style=\"display: table-cell;\"></div><div style=\"display: table-cell;\">css_classes&nbsp;=&nbsp;[],</div></div><div class=\"p3778\" style=\"display: none;\"><div style=\"display: table-cell;\"></div><div style=\"display: table-cell;\">css_variables&nbsp;=&nbsp;{},</div></div><div class=\"p3778\" style=\"display: none;\"><div style=\"display: table-cell;\"></div><div style=\"display: table-cell;\">disabled&nbsp;=&nbsp;False,</div></div><div class=\"p3778\" style=\"display: none;\"><div style=\"display: table-cell;\"></div><div style=\"display: table-cell;\">elements&nbsp;=&nbsp;[],</div></div><div class=\"p3778\" style=\"display: none;\"><div style=\"display: table-cell;\"></div><div style=\"display: table-cell;\">flow_mode&nbsp;=&nbsp;'block',</div></div><div class=\"p3778\" style=\"display: none;\"><div style=\"display: table-cell;\"></div><div style=\"display: table-cell;\">height&nbsp;=&nbsp;None,</div></div><div class=\"p3778\" style=\"display: none;\"><div style=\"display: table-cell;\"></div><div style=\"display: table-cell;\">height_policy&nbsp;=&nbsp;'auto',</div></div><div class=\"p3778\" style=\"display: none;\"><div style=\"display: table-cell;\"></div><div style=\"display: table-cell;\">js_event_callbacks&nbsp;=&nbsp;{},</div></div><div class=\"p3778\" style=\"display: none;\"><div style=\"display: table-cell;\"></div><div style=\"display: table-cell;\">js_property_callbacks&nbsp;=&nbsp;{},</div></div><div class=\"p3778\" style=\"display: none;\"><div style=\"display: table-cell;\"></div><div style=\"display: table-cell;\">margin&nbsp;=&nbsp;None,</div></div><div class=\"p3778\" style=\"display: none;\"><div style=\"display: table-cell;\"></div><div style=\"display: table-cell;\">max_height&nbsp;=&nbsp;None,</div></div><div class=\"p3778\" style=\"display: none;\"><div style=\"display: table-cell;\"></div><div style=\"display: table-cell;\">max_width&nbsp;=&nbsp;None,</div></div><div class=\"p3778\" style=\"display: none;\"><div style=\"display: table-cell;\"></div><div style=\"display: table-cell;\">min_height&nbsp;=&nbsp;None,</div></div><div class=\"p3778\" style=\"display: none;\"><div style=\"display: table-cell;\"></div><div style=\"display: table-cell;\">min_width&nbsp;=&nbsp;None,</div></div><div class=\"p3778\" style=\"display: none;\"><div style=\"display: table-cell;\"></div><div style=\"display: table-cell;\">name&nbsp;=&nbsp;None,</div></div><div class=\"p3778\" style=\"display: none;\"><div style=\"display: table-cell;\"></div><div style=\"display: table-cell;\">resizable&nbsp;=&nbsp;False,</div></div><div class=\"p3778\" style=\"display: none;\"><div style=\"display: table-cell;\"></div><div style=\"display: table-cell;\">sizing_mode&nbsp;=&nbsp;None,</div></div><div class=\"p3778\" style=\"display: none;\"><div style=\"display: table-cell;\"></div><div style=\"display: table-cell;\">styles&nbsp;=&nbsp;{},</div></div><div class=\"p3778\" style=\"display: none;\"><div style=\"display: table-cell;\"></div><div style=\"display: table-cell;\">stylesheets&nbsp;=&nbsp;[],</div></div><div class=\"p3778\" style=\"display: none;\"><div style=\"display: table-cell;\"></div><div style=\"display: table-cell;\">subscribed_events&nbsp;=&nbsp;PropertyValueSet(),</div></div><div class=\"p3778\" style=\"display: none;\"><div style=\"display: table-cell;\"></div><div style=\"display: table-cell;\">syncable&nbsp;=&nbsp;True,</div></div><div class=\"p3778\" style=\"display: none;\"><div style=\"display: table-cell;\"></div><div style=\"display: table-cell;\">tabs&nbsp;=&nbsp;[TabPanel(id='p3747', ...), TabPanel(id='p3748', ...), TabPanel(id='p3749', ...), TabPanel(id='p3750', ...), TabPanel(id='p3751', ...), TabPanel(id='p3752', ...), TabPanel(id='p3753', ...), TabPanel(id='p3754', ...), TabPanel(id='p3755', ...), TabPanel(id='p3756', ...)],</div></div><div class=\"p3778\" style=\"display: none;\"><div style=\"display: table-cell;\"></div><div style=\"display: table-cell;\">tabs_location&nbsp;=&nbsp;'above',</div></div><div class=\"p3778\" style=\"display: none;\"><div style=\"display: table-cell;\"></div><div style=\"display: table-cell;\">tags&nbsp;=&nbsp;[],</div></div><div class=\"p3778\" style=\"display: none;\"><div style=\"display: table-cell;\"></div><div style=\"display: table-cell;\">visible&nbsp;=&nbsp;True,</div></div><div class=\"p3778\" style=\"display: none;\"><div style=\"display: table-cell;\"></div><div style=\"display: table-cell;\">width&nbsp;=&nbsp;None,</div></div><div class=\"p3778\" style=\"display: none;\"><div style=\"display: table-cell;\"></div><div style=\"display: table-cell;\">width_policy&nbsp;=&nbsp;'auto')</div></div></div>\n",
       "<script>\n",
       "(function() {\n",
       "  let expanded = false;\n",
       "  const ellipsis = document.getElementById(\"p3779\");\n",
       "  ellipsis.addEventListener(\"click\", function() {\n",
       "    const rows = document.getElementsByClassName(\"p3778\");\n",
       "    for (let i = 0; i < rows.length; i++) {\n",
       "      const el = rows[i];\n",
       "      el.style.display = expanded ? \"none\" : \"table-row\";\n",
       "    }\n",
       "    ellipsis.innerHTML = expanded ? \"&hellip;)\" : \"&lsaquo;&lsaquo;&lsaquo;\";\n",
       "    expanded = !expanded;\n",
       "  });\n",
       "})();\n",
       "</script>\n"
      ],
      "text/plain": [
       "Tabs(id='p3757', ...)"
      ]
     },
     "execution_count": 30,
     "metadata": {},
     "output_type": "execute_result"
    }
   ],
   "source": [
    "# INSPECT SOME HVO SAMPLES\n",
    "create_multitab_from_figures(split_n_bar_phrases[2000:2010], show_tabs=True)\n"
   ]
  },
  {
   "cell_type": "code",
   "execution_count": 31,
   "id": "c55cad4227c79a4d",
   "metadata": {
    "ExecuteTime": {
     "end_time": "2025-07-20T12:14:33.290732Z",
     "start_time": "2025-07-20T12:14:33.283983Z"
    }
   },
   "outputs": [],
   "source": [
    "import numpy as np\n",
    "\n",
    "def get_accent_hits_from_velocities(velocity_flat, accent_thresh=0.75, compare_consecutives=False):\n",
    "    \"\"\"\n",
    "    Extract accent hits from the velocity flat representation of HVO.\n",
    "    :param velocity_flat: a (B, T, 1) or (T, 1) numpy array where the last  column represents the velocity of hits.\n",
    "    :param use_median: if True, use the median velocity to determine accent hits, otherwise use 0.5\n",
    "    :return:\n",
    "    \"\"\"\n",
    "    assert velocity_flat.ndim == 1 or velocity_flat.shape[-1] == 1, \"Velocity flat must have 1 columns (hits, velocity, offset)\"\n",
    "\n",
    "    return np.where(velocity_flat > accent_thresh, 1, 0)\n",
    "\n",
    "def get_split_to_streams(hvo_sample, groove_dim=0):\n",
    "    \"\"\"\n",
    "    Split the HVO sample into input groove, streams, and flat output HVO.\n",
    "\n",
    "    Parameters:\n",
    "    -----------\n",
    "    hvo_sample : HVOSequence\n",
    "        The HVO sample to be split.\n",
    "    groove_dim : int, optional\n",
    "        The index of the groove dimension in the HVO sample. Default is 0.\n",
    "\n",
    "    Returns:\n",
    "    --------\n",
    "    input_hvo : HVOSequence\n",
    "        The input groove extracted from the HVO sample.\n",
    "    streams : list of HVOSequence\n",
    "        List of streams extracted from the HVO sample, excluding the groove dimension.\n",
    "    flat_out_hvo : HVOSequence\n",
    "        The flat output HVO sequence with the groove dimension set to zero.\n",
    "    \"\"\"\n",
    "    # get input groove\n",
    "    n_streams = hvo_sample.hits.shape[1]\n",
    "\n",
    "    input_hvo = hvo_sample.hvo[:, (groove_dim, groove_dim+n_streams, groove_dim+2*n_streams)]\n",
    "\n",
    "    # get flat of rest\n",
    "    flat_hvo = hvo_sample.copy()\n",
    "    flat_hvo.hvo[:, groove_dim] = 0                             # remove groove hit\n",
    "    flat_hvo.hvo[:, (groove_dim + n_streams)] = 0               # remove groove vel\n",
    "    flat_hvo.hvo[:, (groove_dim + n_streams*2)] = 0             # remove groove offset\n",
    "    flat_out_hvo  = flat_hvo.flatten_voices(reduce_dim=True)\n",
    "\n",
    "    # streams\n",
    "    streams = []\n",
    "    for i in range(n_streams):\n",
    "        if i != groove_dim:\n",
    "            streams.append(hvo_sample.hvo[:, (i, i+n_streams, i+2*n_streams)])\n",
    "\n",
    "    return input_hvo, streams, flat_out_hvo\n",
    "\n",
    "def Jaccard_similarity(a, b):\n",
    "    intersection = np.sum(np.minimum(a, b))\n",
    "    union = np.sum(np.maximum(a, b))\n",
    "    return (intersection / union)\n",
    "\n",
    "def hamming_distance(a, b):\n",
    "    if len(a) != len(b):\n",
    "        raise ValueError(\"Sequences must be of equal length\")\n",
    "    return sum(x != y for x, y in zip(a, b))/ len(a)\n",
    "\n",
    "from hvo_sequence.utils import fuzzy_Hamming_distance\n",
    "\n",
    "def extract_features_from_sets(hvo_sample, groove_dim):\n",
    "    \"\"\"\n",
    "    Extract control features from a set of HVO samples.\n",
    "    :param hvo_sample: HVOSequence\n",
    "        The HVO sample to extract control features from.\n",
    "    :param groove_dim: int\n",
    "        The index of the groove dimension in the HVO sample.\n",
    "    :return: dict\n",
    "        A dictionary containing the control features.\n",
    "    \"\"\"\n",
    "    input_hvo, out_streams, flat_out_hvo = get_split_to_streams(hvo_sample, groove_dim=groove_dim)\n",
    "\n",
    "    input_hits = input_hvo[:, 0]\n",
    "    flat_out_hits = flat_out_hvo[:, 0]\n",
    "    analysis_dict = {\n",
    "        \"groove_to_output_hit_hamming_distance\": float(hamming_distance(input_hits, flat_out_hits)),\n",
    "    }\n",
    "\n",
    "    input_velocities = input_hvo[:, 1]\n",
    "    input_accent_hits = get_accent_hits_from_velocities(input_velocities)\n",
    "    flat_out_velocities = flat_out_hvo[:, 1]\n",
    "    flat_out_accent_hits = get_accent_hits_from_velocities(flat_out_velocities)\n",
    "    analysis_dict.update({\n",
    "        \"groove_to_output_accent_hamming_distance\": float(hamming_distance(input_accent_hits, flat_out_accent_hits)),\n",
    "    })\n",
    "\n",
    "    # calculate hit\n",
    "    analysis_dict.update({f\"out_stream_{i}_jaccard_sim_with_flat_out\": float(Jaccard_similarity(out_streams[i][:, 0], flat_out_hits)) for i in range(len(out_streams))})\n",
    "    analysis_dict.update({f\"out_stream_{i}_accent_hamming_distance_with_flat_out\": float(hamming_distance(get_accent_hits_from_velocities(out_streams[i][:, 1]), flat_out_accent_hits)) for i in range(len(out_streams))})\n",
    "\n",
    "\n",
    "    return analysis_dict\n",
    "\n",
    "# plot violin plots of the control features\n",
    "import seaborn as sns\n",
    "import matplotlib.pyplot as plt\n",
    "def plot_control_features_violin(control_features_df):\n",
    "    \"\"\"\n",
    "    Plot violin plots of the control features.\n",
    "    :param control_features_df: pd.DataFrame\n",
    "        DataFrame containing the control features.\n",
    "    \"\"\"\n",
    "    plt.figure(figsize=(6, 8))\n",
    "    sns.violinplot(data=control_features_df.drop(columns=[\"sample_id\", \"collection\"]))\n",
    "    # 90 deg rotate with wrapp\n",
    "    plt.xticks(rotation=90, fontsize=8)\n",
    "    plt.title(\"Control Features Violin Plots\")\n",
    "    plt.tight_layout()\n",
    "\n",
    "\n",
    "    plt.show()\n",
    "\n",
    "# plot the  scatter of groove to output hit hamming distance and groove to output accent hamming distance\n",
    "def plot_scatter_input_output_distribution(control_features_df, use_normalized_accents=False):\n",
    "    plt.figure(figsize=(6, 4))\n",
    "    x = control_features_df[\"groove_to_output_hit_hamming_distance\"]\n",
    "    y = control_features_df[\"groove_to_output_accent_hamming_distance\"] if not use_normalized_accents else control_features_df[\"accent_hamming_values_per_hit_hamming_normalized\"]\n",
    "    plt.scatter(x, y, alpha=0.005)\n",
    "    plt.xlabel(\"Groove to Output Hit Hamming Distance\")\n",
    "    plt.ylabel(\"Groove to Output Accent Hamming Distance\")\n",
    "    if use_normalized_accents:\n",
    "        plt.title(\"Scatter Plot of Groove to Output Hit and Binned Accent Hamming Distances\")\n",
    "    else:\n",
    "        plt.title(\"Scatter Plot of Groove to Output Hit and Accent Hamming Distances\")\n",
    "    plt.tight_layout()\n",
    "    plt.show()\n",
    "\n"
   ]
  },
  {
   "cell_type": "code",
   "execution_count": 32,
   "id": "2839ec45b41710fa",
   "metadata": {
    "ExecuteTime": {
     "end_time": "2025-07-20T12:14:33.307335Z",
     "start_time": "2025-07-20T12:14:33.304530Z"
    }
   },
   "outputs": [
    {
     "data": {
      "text/plain": [
       "{'Style': 'rock',\n",
       " 'Tempo': np.float64(100.0),\n",
       " 'TestNumber': '203',\n",
       " 'Repetition': 'Simple',\n",
       " 'participant_number': '203',\n",
       " 'attempt': '203_p1_simple',\n",
       " 'stream_0': '203_p1_simple_both',\n",
       " 'stream_1': '203_p1_simple_flattened',\n",
       " 'stream_2': '203_p1_simple_left',\n",
       " 'stream_3': '203_p1_simple_right',\n",
       " 'start_bar': 0,\n",
       " 'collection': 'taptamdrum_hvo_output_both_is_and',\n",
       " 'sample_id': '203_p1_simple'}"
      ]
     },
     "execution_count": 32,
     "metadata": {},
     "output_type": "execute_result"
    }
   ],
   "source": [
    "split_n_bar_phrases[0].metadata"
   ]
  },
  {
   "cell_type": "code",
   "execution_count": 33,
   "id": "34057300e8051c72",
   "metadata": {
    "ExecuteTime": {
     "end_time": "2025-07-20T12:14:33.475342Z",
     "start_time": "2025-07-20T12:14:33.312262Z"
    }
   },
   "outputs": [
    {
     "data": {
      "text/html": [
       "    <style>\n",
       "        .bk-notebook-logo {\n",
       "            display: block;\n",
       "            width: 20px;\n",
       "            height: 20px;\n",
       "            background-image: url(data:image/png;base64,iVBORw0KGgoAAAANSUhEUgAAABQAAAAUCAYAAACNiR0NAAAABHNCSVQICAgIfAhkiAAAAAlwSFlzAAALEgAACxIB0t1+/AAAABx0RVh0U29mdHdhcmUAQWRvYmUgRmlyZXdvcmtzIENTNui8sowAAAOkSURBVDiNjZRtaJVlGMd/1/08zzln5zjP1LWcU9N0NkN8m2CYjpgQYQXqSs0I84OLIC0hkEKoPtiH3gmKoiJDU7QpLgoLjLIQCpEsNJ1vqUOdO7ppbuec5+V+rj4ctwzd8IIbbi6u+8f1539dt3A78eXC7QizUF7gyV1fD1Yqg4JWz84yffhm0qkFqBogB9rM8tZdtwVsPUhWhGcFJngGeWrPzHm5oaMmkfEg1usvLFyc8jLRqDOMru7AyC8saQr7GG7f5fvDeH7Ej8CM66nIF+8yngt6HWaKh7k49Soy9nXurCi1o3qUbS3zWfrYeQDTB/Qj6kX6Ybhw4B+bOYoLKCC9H3Nu/leUTZ1JdRWkkn2ldcCamzrcf47KKXdAJllSlxAOkRgyHsGC/zRday5Qld9DyoM4/q/rUoy/CXh3jzOu3bHUVZeU+DEn8FInkPBFlu3+nW3Nw0mk6vCDiWg8CeJaxEwuHS3+z5RgY+YBR6V1Z1nxSOfoaPa4LASWxxdNp+VWTk7+4vzaou8v8PN+xo+KY2xsw6une2frhw05CTYOmQvsEhjhWjn0bmXPjpE1+kplmmkP3suftwTubK9Vq22qKmrBhpY4jvd5afdRA3wGjFAgcnTK2s4hY0/GPNIb0nErGMCRxWOOX64Z8RAC4oCXdklmEvcL8o0BfkNK4lUg9HTl+oPlQxdNo3Mg4Nv175e/1LDGzZen30MEjRUtmXSfiTVu1kK8W4txyV6BMKlbgk3lMwYCiusNy9fVfvvwMxv8Ynl6vxoByANLTWplvuj/nF9m2+PDtt1eiHPBr1oIfhCChQMBw6Aw0UulqTKZdfVvfG7VcfIqLG9bcldL/+pdWTLxLUy8Qq38heUIjh4XlzZxzQm19lLFlr8vdQ97rjZVOLf8nclzckbcD4wxXMidpX30sFd37Fv/GtwwhzhxGVAprjbg0gCAEeIgwCZyTV2Z1REEW8O4py0wsjeloKoMr6iCY6dP92H6Vw/oTyICIthibxjm/DfN9lVz8IqtqKYLUXfoKVMVQVVJOElGjrnnUt9T9wbgp8AyYKaGlqingHZU/uG2NTZSVqwHQTWkx9hxjkpWDaCg6Ckj5qebgBVbT3V3NNXMSiWSDdGV3hrtzla7J+duwPOToIg42ChPQOQjspnSlp1V+Gjdged7+8UN5CRAV7a5EdFNwCjEaBR27b3W890TE7g24NAP/mMDXRWrGoFPQI9ls/MWO2dWFAar/xcOIImbbpA3zgAAAABJRU5ErkJggg==);\n",
       "        }\n",
       "    </style>\n",
       "    <div>\n",
       "        <a href=\"https://bokeh.org\" target=\"_blank\" class=\"bk-notebook-logo\"></a>\n",
       "        <span id=\"ddedfbc2-f01e-4ca0-b278-83f922fe21c0\">Loading BokehJS ...</span>\n",
       "    </div>\n"
      ]
     },
     "metadata": {},
     "output_type": "display_data"
    },
    {
     "data": {
      "application/javascript": "'use strict';\n(function(root) {\n  function now() {\n    return new Date();\n  }\n\n  const force = true;\n\n  if (typeof root._bokeh_onload_callbacks === \"undefined\" || force === true) {\n    root._bokeh_onload_callbacks = [];\n    root._bokeh_is_loading = undefined;\n  }\n\nconst JS_MIME_TYPE = 'application/javascript';\n  const HTML_MIME_TYPE = 'text/html';\n  const EXEC_MIME_TYPE = 'application/vnd.bokehjs_exec.v0+json';\n  const CLASS_NAME = 'output_bokeh rendered_html';\n\n  /**\n   * Render data to the DOM node\n   */\n  function render(props, node) {\n    const script = document.createElement(\"script\");\n    node.appendChild(script);\n  }\n\n  /**\n   * Handle when an output is cleared or removed\n   */\n  function handleClearOutput(event, handle) {\n    function drop(id) {\n      const view = Bokeh.index.get_by_id(id)\n      if (view != null) {\n        view.model.document.clear()\n        Bokeh.index.delete(view)\n      }\n    }\n\n    const cell = handle.cell;\n\n    const id = cell.output_area._bokeh_element_id;\n    const server_id = cell.output_area._bokeh_server_id;\n\n    // Clean up Bokeh references\n    if (id != null) {\n      drop(id)\n    }\n\n    if (server_id !== undefined) {\n      // Clean up Bokeh references\n      const cmd_clean = \"from bokeh.io.state import curstate; print(curstate().uuid_to_server['\" + server_id + \"'].get_sessions()[0].document.roots[0]._id)\";\n      cell.notebook.kernel.execute(cmd_clean, {\n        iopub: {\n          output: function(msg) {\n            const id = msg.content.text.trim()\n            drop(id)\n          }\n        }\n      });\n      // Destroy server and session\n      const cmd_destroy = \"import bokeh.io.notebook as ion; ion.destroy_server('\" + server_id + \"')\";\n      cell.notebook.kernel.execute(cmd_destroy);\n    }\n  }\n\n  /**\n   * Handle when a new output is added\n   */\n  function handleAddOutput(event, handle) {\n    const output_area = handle.output_area;\n    const output = handle.output;\n\n    // limit handleAddOutput to display_data with EXEC_MIME_TYPE content only\n    if ((output.output_type != \"display_data\") || (!Object.prototype.hasOwnProperty.call(output.data, EXEC_MIME_TYPE))) {\n      return\n    }\n\n    const toinsert = output_area.element.find(\".\" + CLASS_NAME.split(' ')[0]);\n\n    if (output.metadata[EXEC_MIME_TYPE][\"id\"] !== undefined) {\n      toinsert[toinsert.length - 1].firstChild.textContent = output.data[JS_MIME_TYPE];\n      // store reference to embed id on output_area\n      output_area._bokeh_element_id = output.metadata[EXEC_MIME_TYPE][\"id\"];\n    }\n    if (output.metadata[EXEC_MIME_TYPE][\"server_id\"] !== undefined) {\n      const bk_div = document.createElement(\"div\");\n      bk_div.innerHTML = output.data[HTML_MIME_TYPE];\n      const script_attrs = bk_div.children[0].attributes;\n      for (let i = 0; i < script_attrs.length; i++) {\n        toinsert[toinsert.length - 1].firstChild.setAttribute(script_attrs[i].name, script_attrs[i].value);\n        toinsert[toinsert.length - 1].firstChild.textContent = bk_div.children[0].textContent\n      }\n      // store reference to server id on output_area\n      output_area._bokeh_server_id = output.metadata[EXEC_MIME_TYPE][\"server_id\"];\n    }\n  }\n\n  function register_renderer(events, OutputArea) {\n\n    function append_mime(data, metadata, element) {\n      // create a DOM node to render to\n      const toinsert = this.create_output_subarea(\n        metadata,\n        CLASS_NAME,\n        EXEC_MIME_TYPE\n      );\n      this.keyboard_manager.register_events(toinsert);\n      // Render to node\n      const props = {data: data, metadata: metadata[EXEC_MIME_TYPE]};\n      render(props, toinsert[toinsert.length - 1]);\n      element.append(toinsert);\n      return toinsert\n    }\n\n    /* Handle when an output is cleared or removed */\n    events.on('clear_output.CodeCell', handleClearOutput);\n    events.on('delete.Cell', handleClearOutput);\n\n    /* Handle when a new output is added */\n    events.on('output_added.OutputArea', handleAddOutput);\n\n    /**\n     * Register the mime type and append_mime function with output_area\n     */\n    OutputArea.prototype.register_mime_type(EXEC_MIME_TYPE, append_mime, {\n      /* Is output safe? */\n      safe: true,\n      /* Index of renderer in `output_area.display_order` */\n      index: 0\n    });\n  }\n\n  // register the mime type if in Jupyter Notebook environment and previously unregistered\n  if (root.Jupyter !== undefined) {\n    const events = require('base/js/events');\n    const OutputArea = require('notebook/js/outputarea').OutputArea;\n\n    if (OutputArea.prototype.mime_types().indexOf(EXEC_MIME_TYPE) == -1) {\n      register_renderer(events, OutputArea);\n    }\n  }\n  if (typeof (root._bokeh_timeout) === \"undefined\" || force === true) {\n    root._bokeh_timeout = Date.now() + 5000;\n    root._bokeh_failed_load = false;\n  }\n\n  const NB_LOAD_WARNING = {'data': {'text/html':\n     \"<div style='background-color: #fdd'>\\n\"+\n     \"<p>\\n\"+\n     \"BokehJS does not appear to have successfully loaded. If loading BokehJS from CDN, this \\n\"+\n     \"may be due to a slow or bad network connection. Possible fixes:\\n\"+\n     \"</p>\\n\"+\n     \"<ul>\\n\"+\n     \"<li>re-rerun `output_notebook()` to attempt to load from CDN again, or</li>\\n\"+\n     \"<li>use INLINE resources instead, as so:</li>\\n\"+\n     \"</ul>\\n\"+\n     \"<code>\\n\"+\n     \"from bokeh.resources import INLINE\\n\"+\n     \"output_notebook(resources=INLINE)\\n\"+\n     \"</code>\\n\"+\n     \"</div>\"}};\n\n  function display_loaded(error = null) {\n    const el = document.getElementById(\"ddedfbc2-f01e-4ca0-b278-83f922fe21c0\");\n    if (el != null) {\n      const html = (() => {\n        if (typeof root.Bokeh === \"undefined\") {\n          if (error == null) {\n            return \"BokehJS is loading ...\";\n          } else {\n            return \"BokehJS failed to load.\";\n          }\n        } else {\n          const prefix = `BokehJS ${root.Bokeh.version}`;\n          if (error == null) {\n            return `${prefix} successfully loaded.`;\n          } else {\n            return `${prefix} <b>encountered errors</b> while loading and may not function as expected.`;\n          }\n        }\n      })();\n      el.innerHTML = html;\n\n      if (error != null) {\n        const wrapper = document.createElement(\"div\");\n        wrapper.style.overflow = \"auto\";\n        wrapper.style.height = \"5em\";\n        wrapper.style.resize = \"vertical\";\n        const content = document.createElement(\"div\");\n        content.style.fontFamily = \"monospace\";\n        content.style.whiteSpace = \"pre-wrap\";\n        content.style.backgroundColor = \"rgb(255, 221, 221)\";\n        content.textContent = error.stack ?? error.toString();\n        wrapper.append(content);\n        el.append(wrapper);\n      }\n    } else if (Date.now() < root._bokeh_timeout) {\n      setTimeout(() => display_loaded(error), 100);\n    }\n  }\n\n  function run_callbacks() {\n    try {\n      root._bokeh_onload_callbacks.forEach(function(callback) {\n        if (callback != null)\n          callback();\n      });\n    } finally {\n      delete root._bokeh_onload_callbacks\n    }\n    console.debug(\"Bokeh: all callbacks have finished\");\n  }\n\n  function load_libs(css_urls, js_urls, callback) {\n    if (css_urls == null) css_urls = [];\n    if (js_urls == null) js_urls = [];\n\n    root._bokeh_onload_callbacks.push(callback);\n    if (root._bokeh_is_loading > 0) {\n      console.debug(\"Bokeh: BokehJS is being loaded, scheduling callback at\", now());\n      return null;\n    }\n    if (js_urls == null || js_urls.length === 0) {\n      run_callbacks();\n      return null;\n    }\n    console.debug(\"Bokeh: BokehJS not loaded, scheduling load and callback at\", now());\n    root._bokeh_is_loading = css_urls.length + js_urls.length;\n\n    function on_load() {\n      root._bokeh_is_loading--;\n      if (root._bokeh_is_loading === 0) {\n        console.debug(\"Bokeh: all BokehJS libraries/stylesheets loaded\");\n        run_callbacks()\n      }\n    }\n\n    function on_error(url) {\n      console.error(\"failed to load \" + url);\n    }\n\n    for (let i = 0; i < css_urls.length; i++) {\n      const url = css_urls[i];\n      const element = document.createElement(\"link\");\n      element.onload = on_load;\n      element.onerror = on_error.bind(null, url);\n      element.rel = \"stylesheet\";\n      element.type = \"text/css\";\n      element.href = url;\n      console.debug(\"Bokeh: injecting link tag for BokehJS stylesheet: \", url);\n      document.body.appendChild(element);\n    }\n\n    for (let i = 0; i < js_urls.length; i++) {\n      const url = js_urls[i];\n      const element = document.createElement('script');\n      element.onload = on_load;\n      element.onerror = on_error.bind(null, url);\n      element.async = false;\n      element.src = url;\n      console.debug(\"Bokeh: injecting script tag for BokehJS library: \", url);\n      document.head.appendChild(element);\n    }\n  };\n\n  function inject_raw_css(css) {\n    const element = document.createElement(\"style\");\n    element.appendChild(document.createTextNode(css));\n    document.body.appendChild(element);\n  }\n\n  const js_urls = [\"https://cdn.bokeh.org/bokeh/release/bokeh-3.4.3.min.js\", \"https://cdn.bokeh.org/bokeh/release/bokeh-gl-3.4.3.min.js\", \"https://cdn.bokeh.org/bokeh/release/bokeh-widgets-3.4.3.min.js\", \"https://cdn.bokeh.org/bokeh/release/bokeh-tables-3.4.3.min.js\", \"https://cdn.bokeh.org/bokeh/release/bokeh-mathjax-3.4.3.min.js\"];\n  const css_urls = [];\n\n  const inline_js = [    function(Bokeh) {\n      Bokeh.set_log_level(\"info\");\n    },\nfunction(Bokeh) {\n    }\n  ];\n\n  function run_inline_js() {\n    if (root.Bokeh !== undefined || force === true) {\n      try {\n            for (let i = 0; i < inline_js.length; i++) {\n      inline_js[i].call(root, root.Bokeh);\n    }\n\n      } catch (error) {display_loaded(error);throw error;\n      }if (force === true) {\n        display_loaded();\n      }} else if (Date.now() < root._bokeh_timeout) {\n      setTimeout(run_inline_js, 100);\n    } else if (!root._bokeh_failed_load) {\n      console.log(\"Bokeh: BokehJS failed to load within specified timeout.\");\n      root._bokeh_failed_load = true;\n    } else if (force !== true) {\n      const cell = $(document.getElementById(\"ddedfbc2-f01e-4ca0-b278-83f922fe21c0\")).parents('.cell').data().cell;\n      cell.output_area.append_execute_result(NB_LOAD_WARNING)\n    }\n  }\n\n  if (root._bokeh_is_loading === 0) {\n    console.debug(\"Bokeh: BokehJS loaded, going straight to plotting\");\n    run_inline_js();\n  } else {\n    load_libs(css_urls, js_urls, function() {\n      console.debug(\"Bokeh: BokehJS plotting callback run at\", now());\n      run_inline_js();\n    });\n  }\n}(window));",
      "application/vnd.bokehjs_load.v0+json": ""
     },
     "metadata": {},
     "output_type": "display_data"
    },
    {
     "data": {
      "text/html": [
       "\n",
       "  <div id=\"d5632315-12df-4591-a421-3cf4fdf574eb\" data-root-id=\"p3910\" style=\"display: contents;\"></div>\n"
      ]
     },
     "metadata": {},
     "output_type": "display_data"
    },
    {
     "data": {
      "application/javascript": "(function(root) {\n  function embed_document(root) {\n  const docs_json = {\"97efcc75-cb21-408a-9b85-cefd606382d9\":{\"version\":\"3.4.3\",\"title\":\"Bokeh Application\",\"roots\":[{\"type\":\"object\",\"name\":\"Tabs\",\"id\":\"p3910\",\"attributes\":{\"tabs\":[{\"type\":\"object\",\"name\":\"TabPanel\",\"id\":\"p3909\",\"attributes\":{\"title\":\"ix: 80502\",\"child\":{\"type\":\"object\",\"name\":\"Figure\",\"id\":\"p3783\",\"attributes\":{\"width\":800,\"height\":400,\"x_range\":{\"type\":\"object\",\"name\":\"DataRange1d\",\"id\":\"p3785\",\"attributes\":{\"start\":-0.47450000000000003,\"end\":5.219500000000001}},\"y_range\":{\"type\":\"object\",\"name\":\"Range1d\",\"id\":\"p3792\",\"attributes\":{\"start\":-0.5,\"end\":5.75}},\"x_scale\":{\"type\":\"object\",\"name\":\"LinearScale\",\"id\":\"p3793\"},\"y_scale\":{\"type\":\"object\",\"name\":\"LinearScale\",\"id\":\"p3794\"},\"title\":{\"type\":\"object\",\"name\":\"Title\",\"id\":\"p3790\",\"attributes\":{\"text_color\":\"#5B5B5B\",\"text_font\":\"Helvetica\",\"text_font_size\":\"1.15em\"}},\"renderers\":[{\"type\":\"object\",\"name\":\"GlyphRenderer\",\"id\":\"p3825\",\"attributes\":{\"data_source\":{\"type\":\"object\",\"name\":\"ColumnDataSource\",\"id\":\"p3816\",\"attributes\":{\"selected\":{\"type\":\"object\",\"name\":\"Selection\",\"id\":\"p3817\",\"attributes\":{\"indices\":[],\"line_indices\":[]}},\"selection_policy\":{\"type\":\"object\",\"name\":\"UnionRenderers\",\"id\":\"p3818\"},\"data\":{\"type\":\"map\",\"entries\":[[\"start\",[2.749492,2.752246]],[\"end\",[2.825992,2.8287459999999998]],[\"instrument\",[\"stream_1\",\"stream_2\"]],[\"voice_index\",[1,2]],[\"midi\",[38,42]],[\"velocity\",[0.425,0.142]],[\"offset\",[-0.036,-0.018]],[\"offset_sec\",[-0.006,-0.003]],[\"grid_line\",[18,18]],[\"top\",{\"type\":\"ndarray\",\"array\":{\"type\":\"bytes\",\"data\":\"MzMzMzMz8z+amZmZmZkBQA==\"},\"shape\":[2],\"dtype\":\"float64\",\"order\":\"little\"}],[\"bottom\",{\"type\":\"ndarray\",\"array\":{\"type\":\"bytes\",\"data\":\"mpmZmZmZ6T/NzMzMzMz8Pw==\"},\"shape\":[2],\"dtype\":\"float64\",\"order\":\"little\"}]]}}},\"view\":{\"type\":\"object\",\"name\":\"CDSView\",\"id\":\"p3826\",\"attributes\":{\"filter\":{\"type\":\"object\",\"name\":\"AllIndices\",\"id\":\"p3827\"}}},\"glyph\":{\"type\":\"object\",\"name\":\"Quad\",\"id\":\"p3822\",\"attributes\":{\"left\":{\"type\":\"field\",\"field\":\"start\"},\"right\":{\"type\":\"field\",\"field\":\"end\"},\"bottom\":{\"type\":\"field\",\"field\":\"bottom\"},\"top\":{\"type\":\"field\",\"field\":\"top\"},\"line_color\":{\"type\":\"value\",\"value\":\"grey\"},\"fill_color\":{\"type\":\"value\",\"value\":\"grey\"},\"fill_alpha\":{\"type\":\"field\",\"field\":\"velocity\"}}},\"nonselection_glyph\":{\"type\":\"object\",\"name\":\"Quad\",\"id\":\"p3823\",\"attributes\":{\"left\":{\"type\":\"field\",\"field\":\"start\"},\"right\":{\"type\":\"field\",\"field\":\"end\"},\"bottom\":{\"type\":\"field\",\"field\":\"bottom\"},\"top\":{\"type\":\"field\",\"field\":\"top\"},\"line_color\":{\"type\":\"value\",\"value\":\"grey\"},\"line_alpha\":{\"type\":\"value\",\"value\":0.1},\"fill_color\":{\"type\":\"value\",\"value\":\"grey\"},\"fill_alpha\":{\"type\":\"value\",\"value\":0.1},\"hatch_alpha\":{\"type\":\"value\",\"value\":0.1}}},\"muted_glyph\":{\"type\":\"object\",\"name\":\"Quad\",\"id\":\"p3824\",\"attributes\":{\"left\":{\"type\":\"field\",\"field\":\"start\"},\"right\":{\"type\":\"field\",\"field\":\"end\"},\"bottom\":{\"type\":\"field\",\"field\":\"bottom\"},\"top\":{\"type\":\"field\",\"field\":\"top\"},\"line_color\":{\"type\":\"value\",\"value\":\"grey\"},\"line_alpha\":{\"type\":\"value\",\"value\":0.2},\"fill_color\":{\"type\":\"value\",\"value\":\"grey\"},\"fill_alpha\":{\"type\":\"value\",\"value\":0.2},\"hatch_alpha\":{\"type\":\"value\",\"value\":0.2}}}}},{\"type\":\"object\",\"name\":\"GlyphRenderer\",\"id\":\"p3876\",\"attributes\":{\"data_source\":{\"type\":\"object\",\"name\":\"ColumnDataSource\",\"id\":\"p3867\",\"attributes\":{\"selected\":{\"type\":\"object\",\"name\":\"Selection\",\"id\":\"p3868\",\"attributes\":{\"indices\":[],\"line_indices\":[]}},\"selection_policy\":{\"type\":\"object\",\"name\":\"UnionRenderers\",\"id\":\"p3869\"},\"data\":{\"type\":\"map\",\"entries\":[[\"x\",[0.0]],[\"y\",[4.5]],[\"tempo\",[97.9999836666694]],[\"grid_index\",[0]]]}}},\"view\":{\"type\":\"object\",\"name\":\"CDSView\",\"id\":\"p3877\",\"attributes\":{\"filter\":{\"type\":\"object\",\"name\":\"AllIndices\",\"id\":\"p3878\"}}},\"glyph\":{\"type\":\"object\",\"name\":\"Scatter\",\"id\":\"p3873\",\"attributes\":{\"x\":{\"type\":\"field\",\"field\":\"x\"},\"y\":{\"type\":\"field\",\"field\":\"y\"},\"size\":{\"type\":\"value\",\"value\":10},\"line_color\":{\"type\":\"value\",\"value\":\"#440154\"},\"fill_color\":{\"type\":\"value\",\"value\":\"#440154\"}}},\"nonselection_glyph\":{\"type\":\"object\",\"name\":\"Scatter\",\"id\":\"p3874\",\"attributes\":{\"x\":{\"type\":\"field\",\"field\":\"x\"},\"y\":{\"type\":\"field\",\"field\":\"y\"},\"size\":{\"type\":\"value\",\"value\":10},\"line_color\":{\"type\":\"value\",\"value\":\"#440154\"},\"line_alpha\":{\"type\":\"value\",\"value\":0.1},\"fill_color\":{\"type\":\"value\",\"value\":\"#440154\"},\"fill_alpha\":{\"type\":\"value\",\"value\":0.1},\"hatch_alpha\":{\"type\":\"value\",\"value\":0.1}}},\"muted_glyph\":{\"type\":\"object\",\"name\":\"Scatter\",\"id\":\"p3875\",\"attributes\":{\"x\":{\"type\":\"field\",\"field\":\"x\"},\"y\":{\"type\":\"field\",\"field\":\"y\"},\"size\":{\"type\":\"value\",\"value\":10},\"line_color\":{\"type\":\"value\",\"value\":\"#440154\"},\"line_alpha\":{\"type\":\"value\",\"value\":0.2},\"fill_color\":{\"type\":\"value\",\"value\":\"#440154\"},\"fill_alpha\":{\"type\":\"value\",\"value\":0.2},\"hatch_alpha\":{\"type\":\"value\",\"value\":0.2}}}}},{\"type\":\"object\",\"name\":\"GlyphRenderer\",\"id\":\"p3890\",\"attributes\":{\"data_source\":{\"type\":\"object\",\"name\":\"ColumnDataSource\",\"id\":\"p3881\",\"attributes\":{\"selected\":{\"type\":\"object\",\"name\":\"Selection\",\"id\":\"p3882\",\"attributes\":{\"indices\":[],\"line_indices\":[]}},\"selection_policy\":{\"type\":\"object\",\"name\":\"UnionRenderers\",\"id\":\"p3883\"},\"data\":{\"type\":\"map\",\"entries\":[[\"x\",[0.0]],[\"y\",[4]],[\"Numerator\",[4]],[\"Denominator\",[4]],[\"grid_index\",[0]]]}}},\"view\":{\"type\":\"object\",\"name\":\"CDSView\",\"id\":\"p3891\",\"attributes\":{\"filter\":{\"type\":\"object\",\"name\":\"AllIndices\",\"id\":\"p3892\"}}},\"glyph\":{\"type\":\"object\",\"name\":\"Scatter\",\"id\":\"p3887\",\"attributes\":{\"x\":{\"type\":\"field\",\"field\":\"x\"},\"y\":{\"type\":\"field\",\"field\":\"y\"},\"size\":{\"type\":\"value\",\"value\":10},\"line_color\":{\"type\":\"value\",\"value\":\"#70CE56\"},\"fill_color\":{\"type\":\"value\",\"value\":\"#70CE56\"}}},\"nonselection_glyph\":{\"type\":\"object\",\"name\":\"Scatter\",\"id\":\"p3888\",\"attributes\":{\"x\":{\"type\":\"field\",\"field\":\"x\"},\"y\":{\"type\":\"field\",\"field\":\"y\"},\"size\":{\"type\":\"value\",\"value\":10},\"line_color\":{\"type\":\"value\",\"value\":\"#70CE56\"},\"line_alpha\":{\"type\":\"value\",\"value\":0.1},\"fill_color\":{\"type\":\"value\",\"value\":\"#70CE56\"},\"fill_alpha\":{\"type\":\"value\",\"value\":0.1},\"hatch_alpha\":{\"type\":\"value\",\"value\":0.1}}},\"muted_glyph\":{\"type\":\"object\",\"name\":\"Scatter\",\"id\":\"p3889\",\"attributes\":{\"x\":{\"type\":\"field\",\"field\":\"x\"},\"y\":{\"type\":\"field\",\"field\":\"y\"},\"size\":{\"type\":\"value\",\"value\":10},\"line_color\":{\"type\":\"value\",\"value\":\"#70CE56\"},\"line_alpha\":{\"type\":\"value\",\"value\":0.2},\"fill_color\":{\"type\":\"value\",\"value\":\"#70CE56\"},\"fill_alpha\":{\"type\":\"value\",\"value\":0.2},\"hatch_alpha\":{\"type\":\"value\",\"value\":0.2}}}}},{\"type\":\"object\",\"name\":\"GlyphRenderer\",\"id\":\"p3904\",\"attributes\":{\"data_source\":{\"type\":\"object\",\"name\":\"ColumnDataSource\",\"id\":\"p3895\",\"attributes\":{\"selected\":{\"type\":\"object\",\"name\":\"Selection\",\"id\":\"p3896\",\"attributes\":{\"indices\":[],\"line_indices\":[]}},\"selection_policy\":{\"type\":\"object\",\"name\":\"UnionRenderers\",\"id\":\"p3897\"},\"data\":{\"type\":\"map\",\"entries\":[[\"x\",[0.0]],[\"y\",[3.5]],[\"track_number\",[\"159\"]],[\"genre\",[\"soul\"]],[\"bpm\",[\"98\"]],[\"meter\",[\"4-4\"]],[\"grouping\",[\"toms\"]],[\"member\",[\"mid\"]],[\"source\",[\"GrooveMIDI\"]],[\"stream_0\",[\"hi\"]],[\"stream_1\",[\"ride\"]],[\"stream_2\",[\"lo\"]],[\"stream_3\",[\"mid\"]],[\"start_bar\",[0]],[\"collection\",[\"groove_midi\"]],[\"sample_id\",[\"159_soul_98_beat_4-4\"]]]}}},\"view\":{\"type\":\"object\",\"name\":\"CDSView\",\"id\":\"p3905\",\"attributes\":{\"filter\":{\"type\":\"object\",\"name\":\"AllIndices\",\"id\":\"p3906\"}}},\"glyph\":{\"type\":\"object\",\"name\":\"Scatter\",\"id\":\"p3901\",\"attributes\":{\"x\":{\"type\":\"field\",\"field\":\"x\"},\"y\":{\"type\":\"field\",\"field\":\"y\"},\"size\":{\"type\":\"value\",\"value\":10},\"line_color\":{\"type\":\"value\",\"value\":\"#1EA087\"},\"fill_color\":{\"type\":\"value\",\"value\":\"#1EA087\"}}},\"nonselection_glyph\":{\"type\":\"object\",\"name\":\"Scatter\",\"id\":\"p3902\",\"attributes\":{\"x\":{\"type\":\"field\",\"field\":\"x\"},\"y\":{\"type\":\"field\",\"field\":\"y\"},\"size\":{\"type\":\"value\",\"value\":10},\"line_color\":{\"type\":\"value\",\"value\":\"#1EA087\"},\"line_alpha\":{\"type\":\"value\",\"value\":0.1},\"fill_color\":{\"type\":\"value\",\"value\":\"#1EA087\"},\"fill_alpha\":{\"type\":\"value\",\"value\":0.1},\"hatch_alpha\":{\"type\":\"value\",\"value\":0.1}}},\"muted_glyph\":{\"type\":\"object\",\"name\":\"Scatter\",\"id\":\"p3903\",\"attributes\":{\"x\":{\"type\":\"field\",\"field\":\"x\"},\"y\":{\"type\":\"field\",\"field\":\"y\"},\"size\":{\"type\":\"value\",\"value\":10},\"line_color\":{\"type\":\"value\",\"value\":\"#1EA087\"},\"line_alpha\":{\"type\":\"value\",\"value\":0.2},\"fill_color\":{\"type\":\"value\",\"value\":\"#1EA087\"},\"fill_alpha\":{\"type\":\"value\",\"value\":0.2},\"hatch_alpha\":{\"type\":\"value\",\"value\":0.2}}}}}],\"toolbar\":{\"type\":\"object\",\"name\":\"Toolbar\",\"id\":\"p3791\",\"attributes\":{\"tools\":[{\"type\":\"object\",\"name\":\"PanTool\",\"id\":\"p3805\"},{\"type\":\"object\",\"name\":\"WheelZoomTool\",\"id\":\"p3806\",\"attributes\":{\"renderers\":\"auto\"}},{\"type\":\"object\",\"name\":\"BoxZoomTool\",\"id\":\"p3807\",\"attributes\":{\"overlay\":{\"type\":\"object\",\"name\":\"BoxAnnotation\",\"id\":\"p3808\",\"attributes\":{\"syncable\":false,\"level\":\"overlay\",\"visible\":false,\"left\":{\"type\":\"number\",\"value\":\"nan\"},\"right\":{\"type\":\"number\",\"value\":\"nan\"},\"top\":{\"type\":\"number\",\"value\":\"nan\"},\"bottom\":{\"type\":\"number\",\"value\":\"nan\"},\"left_units\":\"canvas\",\"right_units\":\"canvas\",\"top_units\":\"canvas\",\"bottom_units\":\"canvas\",\"line_color\":\"black\",\"line_alpha\":1.0,\"line_width\":2,\"line_dash\":[4,4],\"fill_color\":\"lightgrey\",\"fill_alpha\":0.5}}}},{\"type\":\"object\",\"name\":\"SaveTool\",\"id\":\"p3813\"},{\"type\":\"object\",\"name\":\"ResetTool\",\"id\":\"p3814\"},{\"type\":\"object\",\"name\":\"HelpTool\",\"id\":\"p3815\"},{\"type\":\"object\",\"name\":\"HoverTool\",\"id\":\"p3830\",\"attributes\":{\"renderers\":[{\"id\":\"p3825\"}],\"tooltips\":[[\"start\",\"@start\"],[\"end\",\"@end\"],[\"instrument\",\"@instrument\"],[\"voice_index\",\"@voice_index\"],[\"midi\",\"@midi\"],[\"velocity\",\"@velocity\"],[\"offset\",\"@offset\"],[\"offset_sec\",\"@offset_sec\"],[\"grid_line\",\"@grid_line\"]]}},{\"type\":\"object\",\"name\":\"HoverTool\",\"id\":\"p3880\",\"attributes\":{\"renderers\":[{\"id\":\"p3876\"}],\"tooltips\":[[\"tempo\",\"@tempo\"],[\"grid_index\",\"@grid_index\"]]}},{\"type\":\"object\",\"name\":\"HoverTool\",\"id\":\"p3894\",\"attributes\":{\"renderers\":[{\"id\":\"p3890\"}],\"tooltips\":[[\"Numerator\",\"@Numerator\"],[\"Denominator\",\"@Denominator\"],[\"grid_index\",\"@grid_index\"]]}},{\"type\":\"object\",\"name\":\"HoverTool\",\"id\":\"p3908\",\"attributes\":{\"renderers\":[{\"id\":\"p3904\"}],\"tooltips\":[[\"track_number\",\"@track_number\"],[\"genre\",\"@genre\"],[\"bpm\",\"@bpm\"],[\"meter\",\"@meter\"],[\"grouping\",\"@grouping\"],[\"member\",\"@member\"],[\"source\",\"@source\"],[\"stream_0\",\"@stream_0\"],[\"stream_1\",\"@stream_1\"],[\"stream_2\",\"@stream_2\"],[\"stream_3\",\"@stream_3\"],[\"start_bar\",\"@start_bar\"],[\"collection\",\"@collection\"],[\"sample_id\",\"@sample_id\"]]}}]}},\"left\":[{\"type\":\"object\",\"name\":\"LinearAxis\",\"id\":\"p3800\",\"attributes\":{\"ticker\":{\"type\":\"object\",\"name\":\"FixedTicker\",\"id\":\"p3831\",\"attributes\":{\"ticks\":[0,1,2,3],\"minor_ticks\":[]}},\"formatter\":{\"type\":\"object\",\"name\":\"BasicTickFormatter\",\"id\":\"p3802\"},\"axis_label\":\"Instrument\",\"axis_label_standoff\":10,\"axis_label_text_color\":\"#5B5B5B\",\"axis_label_text_font\":\"Helvetica\",\"axis_label_text_font_size\":\"1.25em\",\"axis_label_text_font_style\":\"normal\",\"major_label_overrides\":{\"type\":\"map\",\"entries\":[[0,\"stream_0\"],[1,\"stream_1\"],[2,\"stream_2\"],[3,\"stream_3\"]]},\"major_label_policy\":{\"type\":\"object\",\"name\":\"AllLabels\",\"id\":\"p3803\"},\"major_label_text_color\":\"#5B5B5B\",\"major_label_text_font\":\"Helvetica\",\"major_label_text_font_size\":\"1.025em\",\"axis_line_color\":\"#5B5B5B\",\"axis_line_alpha\":0,\"major_tick_line_color\":\"#5B5B5B\",\"major_tick_line_alpha\":0,\"minor_tick_line_color\":\"#5B5B5B\",\"minor_tick_line_alpha\":0}}],\"right\":[{\"type\":\"object\",\"name\":\"Legend\",\"id\":\"p3828\",\"attributes\":{\"border_line_alpha\":0,\"background_fill_alpha\":0.25,\"click_policy\":\"hide\",\"label_text_color\":\"#5B5B5B\",\"label_text_font\":\"Helvetica\",\"label_text_font_size\":\"1.025em\",\"label_standoff\":8,\"glyph_width\":15,\"spacing\":8,\"items\":[{\"type\":\"object\",\"name\":\"LegendItem\",\"id\":\"p3829\",\"attributes\":{\"label\":{\"type\":\"value\",\"value\":\"Piano Roll\"},\"renderers\":[{\"id\":\"p3825\"}]}},{\"type\":\"object\",\"name\":\"LegendItem\",\"id\":\"p3879\",\"attributes\":{\"label\":{\"type\":\"value\",\"value\":\"Tempo\"},\"renderers\":[{\"id\":\"p3876\"}]}},{\"type\":\"object\",\"name\":\"LegendItem\",\"id\":\"p3893\",\"attributes\":{\"label\":{\"type\":\"value\",\"value\":\"Time Signature\"},\"renderers\":[{\"id\":\"p3890\"}]}},{\"type\":\"object\",\"name\":\"LegendItem\",\"id\":\"p3907\",\"attributes\":{\"label\":{\"type\":\"value\",\"value\":\"Metadata\"},\"renderers\":[{\"id\":\"p3904\"}]}}]}}],\"below\":[{\"type\":\"object\",\"name\":\"LinearAxis\",\"id\":\"p3795\",\"attributes\":{\"ticker\":{\"type\":\"object\",\"name\":\"FixedTicker\",\"id\":\"p3856\",\"attributes\":{\"ticks\":[0.0,0.61,1.22,1.84,2.45,3.06,3.67,4.29],\"minor_ticks\":[]}},\"formatter\":{\"type\":\"object\",\"name\":\"BasicTickFormatter\",\"id\":\"p3797\"},\"axis_label\":\"Time (sec)\",\"axis_label_standoff\":10,\"axis_label_text_color\":\"#5B5B5B\",\"axis_label_text_font\":\"Helvetica\",\"axis_label_text_font_size\":\"1.25em\",\"axis_label_text_font_style\":\"normal\",\"major_label_orientation\":1.57,\"major_label_policy\":{\"type\":\"object\",\"name\":\"AllLabels\",\"id\":\"p3798\"},\"major_label_text_color\":\"#5B5B5B\",\"major_label_text_font\":\"Helvetica\",\"major_label_text_font_size\":\"1.025em\",\"axis_line_color\":\"#5B5B5B\",\"axis_line_alpha\":0,\"major_tick_line_color\":\"#5B5B5B\",\"major_tick_line_alpha\":0,\"minor_tick_line_color\":\"#5B5B5B\",\"minor_tick_line_alpha\":0}}],\"center\":[{\"type\":\"object\",\"name\":\"Grid\",\"id\":\"p3799\",\"attributes\":{\"axis\":{\"id\":\"p3795\"},\"grid_line_color\":null}},{\"type\":\"object\",\"name\":\"Grid\",\"id\":\"p3804\",\"attributes\":{\"dimension\":1,\"axis\":{\"id\":\"p3800\"},\"grid_line_color\":null}},{\"id\":\"p3828\"},{\"type\":\"object\",\"name\":\"Span\",\"id\":\"p3832\",\"attributes\":{\"location\":0.153,\"dimension\":\"height\",\"line_width\":0.1}},{\"type\":\"object\",\"name\":\"Span\",\"id\":\"p3833\",\"attributes\":{\"location\":0.306,\"dimension\":\"height\",\"line_width\":0.1}},{\"type\":\"object\",\"name\":\"Span\",\"id\":\"p3834\",\"attributes\":{\"location\":0.459,\"dimension\":\"height\",\"line_width\":0.1}},{\"type\":\"object\",\"name\":\"Span\",\"id\":\"p3835\",\"attributes\":{\"location\":0.765,\"dimension\":\"height\",\"line_width\":0.1}},{\"type\":\"object\",\"name\":\"Span\",\"id\":\"p3836\",\"attributes\":{\"location\":0.918,\"dimension\":\"height\",\"line_width\":0.1}},{\"type\":\"object\",\"name\":\"Span\",\"id\":\"p3837\",\"attributes\":{\"location\":1.071,\"dimension\":\"height\",\"line_width\":0.1}},{\"type\":\"object\",\"name\":\"Span\",\"id\":\"p3838\",\"attributes\":{\"location\":1.377,\"dimension\":\"height\",\"line_width\":0.1}},{\"type\":\"object\",\"name\":\"Span\",\"id\":\"p3839\",\"attributes\":{\"location\":1.53,\"dimension\":\"height\",\"line_width\":0.1}},{\"type\":\"object\",\"name\":\"Span\",\"id\":\"p3840\",\"attributes\":{\"location\":1.683,\"dimension\":\"height\",\"line_width\":0.1}},{\"type\":\"object\",\"name\":\"Span\",\"id\":\"p3841\",\"attributes\":{\"location\":1.99,\"dimension\":\"height\",\"line_width\":0.1}},{\"type\":\"object\",\"name\":\"Span\",\"id\":\"p3842\",\"attributes\":{\"location\":2.143,\"dimension\":\"height\",\"line_width\":0.1}},{\"type\":\"object\",\"name\":\"Span\",\"id\":\"p3843\",\"attributes\":{\"location\":2.296,\"dimension\":\"height\",\"line_width\":0.1}},{\"type\":\"object\",\"name\":\"Span\",\"id\":\"p3844\",\"attributes\":{\"location\":2.602,\"dimension\":\"height\",\"line_width\":0.1}},{\"type\":\"object\",\"name\":\"Span\",\"id\":\"p3845\",\"attributes\":{\"location\":2.755,\"dimension\":\"height\",\"line_width\":0.1}},{\"type\":\"object\",\"name\":\"Span\",\"id\":\"p3846\",\"attributes\":{\"location\":2.908,\"dimension\":\"height\",\"line_width\":0.1}},{\"type\":\"object\",\"name\":\"Span\",\"id\":\"p3847\",\"attributes\":{\"location\":3.214,\"dimension\":\"height\",\"line_width\":0.1}},{\"type\":\"object\",\"name\":\"Span\",\"id\":\"p3848\",\"attributes\":{\"location\":3.367,\"dimension\":\"height\",\"line_width\":0.1}},{\"type\":\"object\",\"name\":\"Span\",\"id\":\"p3849\",\"attributes\":{\"location\":3.52,\"dimension\":\"height\",\"line_width\":0.1}},{\"type\":\"object\",\"name\":\"Span\",\"id\":\"p3850\",\"attributes\":{\"location\":3.826,\"dimension\":\"height\",\"line_width\":0.1}},{\"type\":\"object\",\"name\":\"Span\",\"id\":\"p3851\",\"attributes\":{\"location\":3.979,\"dimension\":\"height\",\"line_width\":0.1}},{\"type\":\"object\",\"name\":\"Span\",\"id\":\"p3852\",\"attributes\":{\"location\":4.132,\"dimension\":\"height\",\"line_width\":0.1}},{\"type\":\"object\",\"name\":\"Span\",\"id\":\"p3853\",\"attributes\":{\"location\":4.439,\"dimension\":\"height\",\"line_width\":0.1}},{\"type\":\"object\",\"name\":\"Span\",\"id\":\"p3854\",\"attributes\":{\"location\":4.592,\"dimension\":\"height\",\"line_width\":0.1}},{\"type\":\"object\",\"name\":\"Span\",\"id\":\"p3855\",\"attributes\":{\"location\":4.745,\"dimension\":\"height\",\"line_width\":0.1}},{\"type\":\"object\",\"name\":\"Span\",\"id\":\"p3857\",\"attributes\":{\"location\":0.0,\"dimension\":\"height\",\"line_width\":0.5}},{\"type\":\"object\",\"name\":\"Span\",\"id\":\"p3858\",\"attributes\":{\"location\":0.612,\"dimension\":\"height\",\"line_width\":0.5}},{\"type\":\"object\",\"name\":\"Span\",\"id\":\"p3859\",\"attributes\":{\"location\":1.224,\"dimension\":\"height\",\"line_width\":0.5}},{\"type\":\"object\",\"name\":\"Span\",\"id\":\"p3860\",\"attributes\":{\"location\":1.837,\"dimension\":\"height\",\"line_width\":0.5}},{\"type\":\"object\",\"name\":\"Span\",\"id\":\"p3861\",\"attributes\":{\"location\":2.449,\"dimension\":\"height\",\"line_width\":0.5}},{\"type\":\"object\",\"name\":\"Span\",\"id\":\"p3862\",\"attributes\":{\"location\":3.061,\"dimension\":\"height\",\"line_width\":0.5}},{\"type\":\"object\",\"name\":\"Span\",\"id\":\"p3863\",\"attributes\":{\"location\":3.673,\"dimension\":\"height\",\"line_width\":0.5}},{\"type\":\"object\",\"name\":\"Span\",\"id\":\"p3864\",\"attributes\":{\"location\":4.286,\"dimension\":\"height\",\"line_width\":0.5}},{\"type\":\"object\",\"name\":\"Span\",\"id\":\"p3865\",\"attributes\":{\"location\":0.0,\"dimension\":\"height\",\"line_width\":2}},{\"type\":\"object\",\"name\":\"Span\",\"id\":\"p3866\",\"attributes\":{\"location\":2.449,\"dimension\":\"height\",\"line_width\":2}}]}}}}]}}]}};\n  const render_items = [{\"docid\":\"97efcc75-cb21-408a-9b85-cefd606382d9\",\"roots\":{\"p3910\":\"d5632315-12df-4591-a421-3cf4fdf574eb\"},\"root_ids\":[\"p3910\"]}];\n  void root.Bokeh.embed.embed_items_notebook(docs_json, render_items);\n  }\n  if (root.Bokeh !== undefined) {\n    embed_document(root);\n  } else {\n    let attempts = 0;\n    const timer = setInterval(function(root) {\n      if (root.Bokeh !== undefined) {\n        clearInterval(timer);\n        embed_document(root);\n      } else {\n        attempts++;\n        if (attempts > 100) {\n          clearInterval(timer);\n          console.log(\"Bokeh: ERROR: Unable to run BokehJS code because BokehJS library is missing\");\n        }\n      }\n    }, 10, root)\n  }\n})(window);",
      "application/vnd.bokehjs_exec.v0+json": ""
     },
     "metadata": {
      "application/vnd.bokehjs_exec.v0+json": {
       "id": "p3910"
      }
     },
     "output_type": "display_data"
    },
    {
     "data": {
      "text/plain": [
       "{'groove_to_output_hit_hamming_distance': 0.03125,\n",
       " 'groove_to_output_accent_hamming_distance': 0.0,\n",
       " 'out_stream_0_jaccard_sim_with_flat_out': 1.0,\n",
       " 'out_stream_1_jaccard_sim_with_flat_out': 1.0,\n",
       " 'out_stream_2_jaccard_sim_with_flat_out': 0.0,\n",
       " 'out_stream_0_accent_hamming_distance_with_flat_out': 0.0,\n",
       " 'out_stream_1_accent_hamming_distance_with_flat_out': 0.0,\n",
       " 'out_stream_2_accent_hamming_distance_with_flat_out': 0.0}"
      ]
     },
     "execution_count": 33,
     "metadata": {},
     "output_type": "execute_result"
    }
   ],
   "source": [
    "hvo_samples, sample_indices = get_randome_phrases(split_n_bar_phrases, n=1)\n",
    "create_multitab_from_figures(hvo_samples, [f\"ix: {ix}\" for ix in sample_indices], show_tabs=True)\n",
    "extract_features_from_sets(hvo_samples[0], groove_dim=0)"
   ]
  },
  {
   "cell_type": "code",
   "execution_count": 34,
   "id": "c6cec677d006acc8",
   "metadata": {
    "ExecuteTime": {
     "end_time": "2025-07-20T12:15:28.276468Z",
     "start_time": "2025-07-20T12:14:33.488576Z"
    }
   },
   "outputs": [
    {
     "name": "stderr",
     "output_type": "stream",
     "text": [
      " 51%|█████▏    | 45855/89340 [00:27<00:26, 1653.50it/s]/var/folders/lr/8ctpqx7n6m54ydpt525nf6q80000gn/T/ipykernel_7937/1587318265.py:57: RuntimeWarning:\n",
      "\n",
      "invalid value encountered in scalar divide\n",
      "\n",
      "100%|██████████| 89340/89340 [00:54<00:00, 1641.99it/s]\n"
     ]
    },
    {
     "data": {
      "text/html": [
       "<div>\n",
       "<style scoped>\n",
       "    .dataframe tbody tr th:only-of-type {\n",
       "        vertical-align: middle;\n",
       "    }\n",
       "\n",
       "    .dataframe tbody tr th {\n",
       "        vertical-align: top;\n",
       "    }\n",
       "\n",
       "    .dataframe thead th {\n",
       "        text-align: right;\n",
       "    }\n",
       "</style>\n",
       "<table border=\"1\" class=\"dataframe\">\n",
       "  <thead>\n",
       "    <tr style=\"text-align: right;\">\n",
       "      <th></th>\n",
       "      <th>sample_id</th>\n",
       "      <th>collection</th>\n",
       "      <th>groove_to_output_hit_hamming_distance</th>\n",
       "      <th>groove_to_output_accent_hamming_distance</th>\n",
       "      <th>out_stream_0_jaccard_sim_with_flat_out</th>\n",
       "      <th>out_stream_1_jaccard_sim_with_flat_out</th>\n",
       "      <th>out_stream_2_jaccard_sim_with_flat_out</th>\n",
       "      <th>out_stream_0_accent_hamming_distance_with_flat_out</th>\n",
       "      <th>out_stream_1_accent_hamming_distance_with_flat_out</th>\n",
       "      <th>out_stream_2_accent_hamming_distance_with_flat_out</th>\n",
       "    </tr>\n",
       "  </thead>\n",
       "  <tbody>\n",
       "    <tr>\n",
       "      <th>0</th>\n",
       "      <td>203_p1_simple</td>\n",
       "      <td>taptamdrum_hvo_output_both_is_and</td>\n",
       "      <td>0.62500</td>\n",
       "      <td>0.12500</td>\n",
       "      <td>1.000000</td>\n",
       "      <td>0.166667</td>\n",
       "      <td>0.666667</td>\n",
       "      <td>0.00000</td>\n",
       "      <td>0.12500</td>\n",
       "      <td>0.25000</td>\n",
       "    </tr>\n",
       "    <tr>\n",
       "      <th>1</th>\n",
       "      <td>203_p1_simple</td>\n",
       "      <td>taptamdrum_hvo_output_both_is_and</td>\n",
       "      <td>0.25000</td>\n",
       "      <td>0.12500</td>\n",
       "      <td>0.250000</td>\n",
       "      <td>0.250000</td>\n",
       "      <td>1.000000</td>\n",
       "      <td>0.00000</td>\n",
       "      <td>0.00000</td>\n",
       "      <td>0.12500</td>\n",
       "    </tr>\n",
       "    <tr>\n",
       "      <th>2</th>\n",
       "      <td>203_p1_simple</td>\n",
       "      <td>taptamdrum_hvo_output_both_is_and</td>\n",
       "      <td>0.62500</td>\n",
       "      <td>0.12500</td>\n",
       "      <td>0.166667</td>\n",
       "      <td>1.000000</td>\n",
       "      <td>0.666667</td>\n",
       "      <td>0.12500</td>\n",
       "      <td>0.00000</td>\n",
       "      <td>0.25000</td>\n",
       "    </tr>\n",
       "    <tr>\n",
       "      <th>3</th>\n",
       "      <td>203_p1_simple</td>\n",
       "      <td>taptamdrum_hvo_output_both_is_and</td>\n",
       "      <td>0.25000</td>\n",
       "      <td>0.25000</td>\n",
       "      <td>0.166667</td>\n",
       "      <td>1.000000</td>\n",
       "      <td>0.166667</td>\n",
       "      <td>0.12500</td>\n",
       "      <td>0.00000</td>\n",
       "      <td>0.12500</td>\n",
       "    </tr>\n",
       "    <tr>\n",
       "      <th>4</th>\n",
       "      <td>345_p1_simple</td>\n",
       "      <td>taptamdrum_hvo_output_both_is_and</td>\n",
       "      <td>0.31250</td>\n",
       "      <td>0.34375</td>\n",
       "      <td>0.000000</td>\n",
       "      <td>0.333333</td>\n",
       "      <td>0.666667</td>\n",
       "      <td>0.15625</td>\n",
       "      <td>0.00000</td>\n",
       "      <td>0.15625</td>\n",
       "    </tr>\n",
       "    <tr>\n",
       "      <th>...</th>\n",
       "      <td>...</td>\n",
       "      <td>...</td>\n",
       "      <td>...</td>\n",
       "      <td>...</td>\n",
       "      <td>...</td>\n",
       "      <td>...</td>\n",
       "      <td>...</td>\n",
       "      <td>...</td>\n",
       "      <td>...</td>\n",
       "      <td>...</td>\n",
       "    </tr>\n",
       "    <tr>\n",
       "      <th>357355</th>\n",
       "      <td>8593_attempt0</td>\n",
       "      <td>elbg</td>\n",
       "      <td>0.43750</td>\n",
       "      <td>0.53125</td>\n",
       "      <td>1.000000</td>\n",
       "      <td>0.533333</td>\n",
       "      <td>0.333333</td>\n",
       "      <td>0.03125</td>\n",
       "      <td>0.46875</td>\n",
       "      <td>0.46875</td>\n",
       "    </tr>\n",
       "    <tr>\n",
       "      <th>357356</th>\n",
       "      <td>9204_attempt1</td>\n",
       "      <td>elbg</td>\n",
       "      <td>0.25000</td>\n",
       "      <td>0.00000</td>\n",
       "      <td>0.000000</td>\n",
       "      <td>0.000000</td>\n",
       "      <td>1.000000</td>\n",
       "      <td>0.00000</td>\n",
       "      <td>0.00000</td>\n",
       "      <td>0.00000</td>\n",
       "    </tr>\n",
       "    <tr>\n",
       "      <th>357357</th>\n",
       "      <td>9204_attempt1</td>\n",
       "      <td>elbg</td>\n",
       "      <td>0.46875</td>\n",
       "      <td>0.00000</td>\n",
       "      <td>0.466667</td>\n",
       "      <td>0.000000</td>\n",
       "      <td>1.000000</td>\n",
       "      <td>0.00000</td>\n",
       "      <td>0.00000</td>\n",
       "      <td>0.00000</td>\n",
       "    </tr>\n",
       "    <tr>\n",
       "      <th>357358</th>\n",
       "      <td>9204_attempt1</td>\n",
       "      <td>elbg</td>\n",
       "      <td>0.46875</td>\n",
       "      <td>0.00000</td>\n",
       "      <td>0.466667</td>\n",
       "      <td>0.000000</td>\n",
       "      <td>1.000000</td>\n",
       "      <td>0.00000</td>\n",
       "      <td>0.00000</td>\n",
       "      <td>0.00000</td>\n",
       "    </tr>\n",
       "    <tr>\n",
       "      <th>357359</th>\n",
       "      <td>9204_attempt1</td>\n",
       "      <td>elbg</td>\n",
       "      <td>0.25000</td>\n",
       "      <td>0.00000</td>\n",
       "      <td>1.000000</td>\n",
       "      <td>0.000000</td>\n",
       "      <td>0.000000</td>\n",
       "      <td>0.00000</td>\n",
       "      <td>0.00000</td>\n",
       "      <td>0.00000</td>\n",
       "    </tr>\n",
       "  </tbody>\n",
       "</table>\n",
       "<p>357360 rows × 10 columns</p>\n",
       "</div>"
      ],
      "text/plain": [
       "            sample_id                         collection  \\\n",
       "0       203_p1_simple  taptamdrum_hvo_output_both_is_and   \n",
       "1       203_p1_simple  taptamdrum_hvo_output_both_is_and   \n",
       "2       203_p1_simple  taptamdrum_hvo_output_both_is_and   \n",
       "3       203_p1_simple  taptamdrum_hvo_output_both_is_and   \n",
       "4       345_p1_simple  taptamdrum_hvo_output_both_is_and   \n",
       "...               ...                                ...   \n",
       "357355  8593_attempt0                               elbg   \n",
       "357356  9204_attempt1                               elbg   \n",
       "357357  9204_attempt1                               elbg   \n",
       "357358  9204_attempt1                               elbg   \n",
       "357359  9204_attempt1                               elbg   \n",
       "\n",
       "        groove_to_output_hit_hamming_distance  \\\n",
       "0                                     0.62500   \n",
       "1                                     0.25000   \n",
       "2                                     0.62500   \n",
       "3                                     0.25000   \n",
       "4                                     0.31250   \n",
       "...                                       ...   \n",
       "357355                                0.43750   \n",
       "357356                                0.25000   \n",
       "357357                                0.46875   \n",
       "357358                                0.46875   \n",
       "357359                                0.25000   \n",
       "\n",
       "        groove_to_output_accent_hamming_distance  \\\n",
       "0                                        0.12500   \n",
       "1                                        0.12500   \n",
       "2                                        0.12500   \n",
       "3                                        0.25000   \n",
       "4                                        0.34375   \n",
       "...                                          ...   \n",
       "357355                                   0.53125   \n",
       "357356                                   0.00000   \n",
       "357357                                   0.00000   \n",
       "357358                                   0.00000   \n",
       "357359                                   0.00000   \n",
       "\n",
       "        out_stream_0_jaccard_sim_with_flat_out  \\\n",
       "0                                     1.000000   \n",
       "1                                     0.250000   \n",
       "2                                     0.166667   \n",
       "3                                     0.166667   \n",
       "4                                     0.000000   \n",
       "...                                        ...   \n",
       "357355                                1.000000   \n",
       "357356                                0.000000   \n",
       "357357                                0.466667   \n",
       "357358                                0.466667   \n",
       "357359                                1.000000   \n",
       "\n",
       "        out_stream_1_jaccard_sim_with_flat_out  \\\n",
       "0                                     0.166667   \n",
       "1                                     0.250000   \n",
       "2                                     1.000000   \n",
       "3                                     1.000000   \n",
       "4                                     0.333333   \n",
       "...                                        ...   \n",
       "357355                                0.533333   \n",
       "357356                                0.000000   \n",
       "357357                                0.000000   \n",
       "357358                                0.000000   \n",
       "357359                                0.000000   \n",
       "\n",
       "        out_stream_2_jaccard_sim_with_flat_out  \\\n",
       "0                                     0.666667   \n",
       "1                                     1.000000   \n",
       "2                                     0.666667   \n",
       "3                                     0.166667   \n",
       "4                                     0.666667   \n",
       "...                                        ...   \n",
       "357355                                0.333333   \n",
       "357356                                1.000000   \n",
       "357357                                1.000000   \n",
       "357358                                1.000000   \n",
       "357359                                0.000000   \n",
       "\n",
       "        out_stream_0_accent_hamming_distance_with_flat_out  \\\n",
       "0                                                 0.00000    \n",
       "1                                                 0.00000    \n",
       "2                                                 0.12500    \n",
       "3                                                 0.12500    \n",
       "4                                                 0.15625    \n",
       "...                                                   ...    \n",
       "357355                                            0.03125    \n",
       "357356                                            0.00000    \n",
       "357357                                            0.00000    \n",
       "357358                                            0.00000    \n",
       "357359                                            0.00000    \n",
       "\n",
       "        out_stream_1_accent_hamming_distance_with_flat_out  \\\n",
       "0                                                 0.12500    \n",
       "1                                                 0.00000    \n",
       "2                                                 0.00000    \n",
       "3                                                 0.00000    \n",
       "4                                                 0.00000    \n",
       "...                                                   ...    \n",
       "357355                                            0.46875    \n",
       "357356                                            0.00000    \n",
       "357357                                            0.00000    \n",
       "357358                                            0.00000    \n",
       "357359                                            0.00000    \n",
       "\n",
       "        out_stream_2_accent_hamming_distance_with_flat_out  \n",
       "0                                                 0.25000   \n",
       "1                                                 0.12500   \n",
       "2                                                 0.25000   \n",
       "3                                                 0.12500   \n",
       "4                                                 0.15625   \n",
       "...                                                   ...   \n",
       "357355                                            0.46875   \n",
       "357356                                            0.00000   \n",
       "357357                                            0.00000   \n",
       "357358                                            0.00000   \n",
       "357359                                            0.00000   \n",
       "\n",
       "[357360 rows x 10 columns]"
      ]
     },
     "execution_count": 34,
     "metadata": {},
     "output_type": "execute_result"
    }
   ],
   "source": [
    "# Extract control features for all samples\n",
    "control_features = {\n",
    "    \"sample_id\": [],\n",
    "    \"collection\": [],\n",
    "}\n",
    "import tqdm\n",
    "\n",
    "for hvo_sample in tqdm.tqdm(split_n_bar_phrases):\n",
    "    for groove_dim in range(4): #<--- change to 1 if you don't want to use all streams as a groove (TODO: Change and generate different plots)\n",
    "        control_features[\"sample_id\"].append(hvo_sample.metadata['sample_id'])\n",
    "        control_features[\"collection\"].append(hvo_sample.metadata['collection'])\n",
    "\n",
    "        features = extract_features_from_sets(hvo_sample, groove_dim)\n",
    "        for key, value in features.items():\n",
    "            if key not in control_features:\n",
    "                control_features[key] = []\n",
    "            control_features[key].append(value)\n",
    "\n",
    "\n",
    "\n",
    "# Convert to DataFrame\n",
    "import pandas as pd\n",
    "control_features_df = pd.DataFrame(control_features)\n",
    "control_features_df"
   ]
  },
  {
   "cell_type": "code",
   "execution_count": 35,
   "id": "c16cb9638521dfe2",
   "metadata": {
    "ExecuteTime": {
     "end_time": "2025-07-20T12:15:28.920555Z",
     "start_time": "2025-07-20T12:15:28.363050Z"
    }
   },
   "outputs": [
    {
     "data": {
      "text/html": [
       "<div>\n",
       "<style scoped>\n",
       "    .dataframe tbody tr th:only-of-type {\n",
       "        vertical-align: middle;\n",
       "    }\n",
       "\n",
       "    .dataframe tbody tr th {\n",
       "        vertical-align: top;\n",
       "    }\n",
       "\n",
       "    .dataframe thead th {\n",
       "        text-align: right;\n",
       "    }\n",
       "</style>\n",
       "<table border=\"1\" class=\"dataframe\">\n",
       "  <thead>\n",
       "    <tr style=\"text-align: right;\">\n",
       "      <th></th>\n",
       "      <th>groove_to_output_hit_hamming_distance</th>\n",
       "      <th>groove_to_output_accent_hamming_distance</th>\n",
       "      <th>accent_hamming_values_per_hit_hamming_normalized</th>\n",
       "    </tr>\n",
       "  </thead>\n",
       "  <tbody>\n",
       "    <tr>\n",
       "      <th>0</th>\n",
       "      <td>0.62500</td>\n",
       "      <td>0.12500</td>\n",
       "      <td>0.142857</td>\n",
       "    </tr>\n",
       "    <tr>\n",
       "      <th>1</th>\n",
       "      <td>0.25000</td>\n",
       "      <td>0.12500</td>\n",
       "      <td>0.142857</td>\n",
       "    </tr>\n",
       "    <tr>\n",
       "      <th>2</th>\n",
       "      <td>0.62500</td>\n",
       "      <td>0.12500</td>\n",
       "      <td>0.142857</td>\n",
       "    </tr>\n",
       "    <tr>\n",
       "      <th>3</th>\n",
       "      <td>0.25000</td>\n",
       "      <td>0.25000</td>\n",
       "      <td>0.428571</td>\n",
       "    </tr>\n",
       "    <tr>\n",
       "      <th>4</th>\n",
       "      <td>0.31250</td>\n",
       "      <td>0.34375</td>\n",
       "      <td>0.571429</td>\n",
       "    </tr>\n",
       "    <tr>\n",
       "      <th>5</th>\n",
       "      <td>0.84375</td>\n",
       "      <td>0.43750</td>\n",
       "      <td>0.571429</td>\n",
       "    </tr>\n",
       "    <tr>\n",
       "      <th>6</th>\n",
       "      <td>0.68750</td>\n",
       "      <td>0.34375</td>\n",
       "      <td>0.428571</td>\n",
       "    </tr>\n",
       "    <tr>\n",
       "      <th>7</th>\n",
       "      <td>0.46875</td>\n",
       "      <td>0.43750</td>\n",
       "      <td>0.571429</td>\n",
       "    </tr>\n",
       "    <tr>\n",
       "      <th>8</th>\n",
       "      <td>0.06250</td>\n",
       "      <td>0.28125</td>\n",
       "      <td>0.571429</td>\n",
       "    </tr>\n",
       "    <tr>\n",
       "      <th>9</th>\n",
       "      <td>0.50000</td>\n",
       "      <td>0.28125</td>\n",
       "      <td>0.428571</td>\n",
       "    </tr>\n",
       "  </tbody>\n",
       "</table>\n",
       "</div>"
      ],
      "text/plain": [
       "   groove_to_output_hit_hamming_distance  \\\n",
       "0                                0.62500   \n",
       "1                                0.25000   \n",
       "2                                0.62500   \n",
       "3                                0.25000   \n",
       "4                                0.31250   \n",
       "5                                0.84375   \n",
       "6                                0.68750   \n",
       "7                                0.46875   \n",
       "8                                0.06250   \n",
       "9                                0.50000   \n",
       "\n",
       "   groove_to_output_accent_hamming_distance  \\\n",
       "0                                   0.12500   \n",
       "1                                   0.12500   \n",
       "2                                   0.12500   \n",
       "3                                   0.25000   \n",
       "4                                   0.34375   \n",
       "5                                   0.43750   \n",
       "6                                   0.34375   \n",
       "7                                   0.43750   \n",
       "8                                   0.28125   \n",
       "9                                   0.28125   \n",
       "\n",
       "   accent_hamming_values_per_hit_hamming_normalized  \n",
       "0                                          0.142857  \n",
       "1                                          0.142857  \n",
       "2                                          0.142857  \n",
       "3                                          0.428571  \n",
       "4                                          0.571429  \n",
       "5                                          0.571429  \n",
       "6                                          0.428571  \n",
       "7                                          0.571429  \n",
       "8                                          0.571429  \n",
       "9                                          0.428571  "
      ]
     },
     "execution_count": 35,
     "metadata": {},
     "output_type": "execute_result"
    }
   ],
   "source": [
    "import numpy as np\n",
    "# box plot import\n",
    "\n",
    "n_bins = 8\n",
    "valid_values = np.linspace(0, 1, n_bins)\n",
    "# get unique hit hamming distances\n",
    "hit_hamming_values = sorted(set(control_features_df[\"groove_to_output_hit_hamming_distance\"].values))\n",
    "\n",
    "accent_hamming_values_per_hit_hamming = {float(hit_hamming_value): [] for hit_hamming_value in hit_hamming_values}\n",
    "for key in accent_hamming_values_per_hit_hamming.keys():\n",
    "    accent_hamming_values_per_hit_hamming[key] = control_features_df[control_features_df[\"groove_to_output_hit_hamming_distance\"] == key].groove_to_output_accent_hamming_distance.values\n",
    "    # get box plot stats\n",
    "    lower_bound = np.sort(accent_hamming_values_per_hit_hamming[key])[10]\n",
    "    upper_bound = min(np.sort(accent_hamming_values_per_hit_hamming[key])[-20], 1.0)  # upper bound is the 20th largest value or 1.0\n",
    "\n",
    "    if \"accent_hamming_values_per_hit_hamming_normalized\" not in control_features_df.columns:\n",
    "        control_features_df[\"accent_hamming_values_per_hit_hamming_normalized\"] = np.nan\n",
    "\n",
    "    # strech so that lower bound is 0 and upper bound is 1, then clip to 0-1 range\n",
    "    if lower_bound < 0.1:\n",
    "        lower_bound = 0.\n",
    "    control_features_df.loc[control_features_df[\"groove_to_output_hit_hamming_distance\"] == key, \"accent_hamming_values_per_hit_hamming_normalized\"] = \\\n",
    "        np.clip((control_features_df.loc[control_features_df[\"groove_to_output_hit_hamming_distance\"] == key, \"groove_to_output_accent_hamming_distance\"] - lower_bound) / (upper_bound - lower_bound), 0, 1)\n",
    "\n",
    "# change normalized values to the closest valid value\n",
    "control_features_df[\"accent_hamming_values_per_hit_hamming_normalized\"] = control_features_df[\"accent_hamming_values_per_hit_hamming_normalized\"].apply(\n",
    "    lambda x: valid_values[np.argmin(np.abs(valid_values - x))] if not np.isnan(x) else np.nan)\n",
    "# print the first 10 rows of the control features DataFrame\n",
    "\n",
    "# print new normalized column, vs original\n",
    "control_features_df[[\"groove_to_output_hit_hamming_distance\", \"groove_to_output_accent_hamming_distance\", \"accent_hamming_values_per_hit_hamming_normalized\"]].head(10)\n"
   ]
  },
  {
   "cell_type": "code",
   "execution_count": 36,
   "id": "31dd2d7b4699e779",
   "metadata": {
    "ExecuteTime": {
     "end_time": "2025-07-20T12:15:29.299269Z",
     "start_time": "2025-07-20T12:15:28.950816Z"
    }
   },
   "outputs": [
    {
     "data": {
      "image/png": "[encoded data removed]",
      "text/plain": [
       "<Figure size 600x400 with 1 Axes>"
      ]
     },
     "metadata": {},
     "output_type": "display_data"
    },
    {
     "data": {
      "image/png": "[encoded data removed]",
      "text/plain": [
       "<Figure size 600x400 with 1 Axes>"
      ]
     },
     "metadata": {},
     "output_type": "display_data"
    }
   ],
   "source": [
    "plot_scatter_input_output_distribution(control_features_df, use_normalized_accents=False)\n",
    "plot_scatter_input_output_distribution(control_features_df, use_normalized_accents=True)"
   ]
  },
  {
   "cell_type": "code",
   "execution_count": 37,
   "id": "12f7addd6f52b8aa",
   "metadata": {
    "ExecuteTime": {
     "end_time": "2025-07-20T12:15:29.459026Z",
     "start_time": "2025-07-20T12:15:29.316193Z"
    }
   },
   "outputs": [
    {
     "name": "stdout",
     "output_type": "stream",
     "text": [
      "Available collections: ['taptamdrum_hvo_output_both_is_and' 'taptamdrum_hvo_output_both_is_or'\n",
      " 'taptam' 'candombe' 'groove_midi' 'elbg']\n"
     ]
    },
    {
     "data": {
      "image/png": "[encoded data removed]",
      "text/plain": [
       "<Figure size 600x400 with 1 Axes>"
      ]
     },
     "metadata": {},
     "output_type": "display_data"
    },
    {
     "data": {
      "image/png": "[encoded data removed]",
      "text/plain": [
       "<Figure size 600x400 with 1 Axes>"
      ]
     },
     "metadata": {},
     "output_type": "display_data"
    }
   ],
   "source": [
    "\n",
    "# get all available collections\n",
    "collections = control_features_df[\"collection\"].unique()\n",
    "print(f\"Available collections: {collections}\")\n",
    "# exclude groove_midi\n",
    "df_subset = control_features_df[control_features_df[\"collection\"] == \"lmd_batch_60\"]\n",
    "plot_scatter_input_output_distribution(df_subset, use_normalized_accents=False)\n",
    "df_subset = control_features_df[control_features_df[\"collection\"] == \"lmd_batch_60\"]\n",
    "plot_scatter_input_output_distribution(df_subset, use_normalized_accents=True)\n",
    "# df_subset = control_features_df[control_features_df[\"collection\"] == \"elbg\"]\n",
    "# plot_scatter_input_output_distribution(df_subset, use_normalized_accents=False)\n",
    "# df_subset = control_features_df[control_features_df[\"collection\"] == \"candombe\"]\n",
    "# plot_scatter_input_output_distribution(df_subset, use_normalized_accents=False)\n",
    "# df_subset = control_features_df[control_features_df[\"collection\"] == \"taptamdrum_hvo_output_both_is_and\"]\n",
    "# plot_scatter_input_output_distribution(df_subset, use_normalized_accents=False)\n",
    "# df_subset = control_features_df[control_features_df[\"collection\"] == \"groove_midi\"]\n",
    "# plot_scatter_input_output_distribution(df_subset, use_normalized_accents=False)\n"
   ]
  },
  {
   "cell_type": "code",
   "execution_count": 38,
   "id": "450a0fdb87a76f7f",
   "metadata": {
    "ExecuteTime": {
     "end_time": "2025-07-20T12:15:34.360526Z",
     "start_time": "2025-07-20T12:15:29.467212Z"
    }
   },
   "outputs": [
    {
     "data": {
      "image/png": "[encoded data removed]",
      "text/plain": [
       "<Figure size 600x800 with 1 Axes>"
      ]
     },
     "metadata": {},
     "output_type": "display_data"
    }
   ],
   "source": [
    "plot_control_features_violin(control_features_df)\n"
   ]
  },
  {
   "cell_type": "code",
   "execution_count": null,
   "id": "b47a22f9f709a401",
   "metadata": {
    "ExecuteTime": {
     "end_time": "2025-07-20T12:15:34.368784Z",
     "start_time": "2025-07-20T12:15:34.367620Z"
    }
   },
   "outputs": [],
   "source": []
  },
  {
   "cell_type": "code",
   "execution_count": 39,
   "id": "f581080cd5581786",
   "metadata": {
    "ExecuteTime": {
     "end_time": "2025-07-20T12:15:34.377683Z",
     "start_time": "2025-07-20T12:15:34.374562Z"
    }
   },
   "outputs": [],
   "source": [
    "# plot histogram of Accent hamming for hit distance of n (actual distance will be n*1./31.)\n",
    "def plot_histogram_accent_hamming_distance(control_features_df, hit_hamming_distance_index=0):\n",
    "    \"\"\"\n",
    "    Plot histogram of accent hamming distance for hit distance of n (actual distance will be n*1./32.)\n",
    "    :param control_features_df: pd.DataFrame\n",
    "        DataFrame containing the control features.\n",
    "    :param hit_hamming_distance_index: int\n",
    "        The index of the hit hamming distance to plot.\n",
    "    \"\"\"\n",
    "    plt.figure(figsize=(6, 4))\n",
    "    hit_hamming_distance = control_features_df[\"groove_to_output_hit_hamming_distance\"]\n",
    "    accent_hamming_distance = control_features_df[\"groove_to_output_accent_hamming_distance\"]\n",
    "\n",
    "    plt.hist(accent_hamming_distance[hit_hamming_distance == hit_hamming_distance_index/32.0], bins=30, alpha=0.7)\n",
    "    plt.xlabel(\"Accent Hamming Distance\")\n",
    "    plt.ylabel(\"Frequency\")\n",
    "    plt.title(f\"Histogram of Accent Hamming Distance for Hit Distance {hit_hamming_distance_index}\")\n",
    "    plt.tight_layout()\n",
    "    plt.show()\n",
    "\n",
    "# create a grid of 4 x 8 figures with the histogram of accent hamming distance for hit distance of n (actual distance will be n*1./32.)\n",
    "def plot_histogram_accent_hamming_distance_grid(control_features_df, hit_hamming_distance_index=0):\n",
    "    \"\"\"\n",
    "    Plot histogram of accent hamming distance for hit distance of n (actual distance will be n*1./32.)\n",
    "    :param control_features_df: pd.DataFrame\n",
    "        DataFrame containing the control features.\n",
    "    :param hit_hamming_distance_index: int\n",
    "        The index of the hit hamming distance to plot.\n",
    "    \"\"\"\n",
    "    fig, axs = plt.subplots(4, 8, figsize=(16, 8))\n",
    "    axs = axs.flatten()\n",
    "\n",
    "    for i in range(32):\n",
    "        hit_hamming_distance = control_features_df[\"groove_to_output_hit_hamming_distance\"]\n",
    "        accent_hamming_distance = control_features_df[\"groove_to_output_accent_hamming_distance\"]\n",
    "\n",
    "        axs[i].hist(accent_hamming_distance[hit_hamming_distance == i/32.0], bins=30, alpha=0.7)\n",
    "        axs[i].set_xlabel(\"Accent Hamming Distance\")\n",
    "        axs[i].set_ylabel(\"Frequency\")\n",
    "        axs[i].set_title(f\"Hit Distance {i}\")\n",
    "\n",
    "    plt.tight_layout()\n",
    "    plt.show()"
   ]
  },
  {
   "cell_type": "code",
   "execution_count": null,
   "id": "dc182aaa72f124f3",
   "metadata": {
    "ExecuteTime": {
     "end_time": "2025-07-20T12:15:34.406690Z",
     "start_time": "2025-07-20T12:15:34.405117Z"
    }
   },
   "outputs": [],
   "source": []
  },
  {
   "cell_type": "code",
   "execution_count": 40,
   "id": "d556e7e6c155a224",
   "metadata": {
    "ExecuteTime": {
     "end_time": "2025-07-20T12:15:35.609033Z",
     "start_time": "2025-07-20T12:15:34.413171Z"
    }
   },
   "outputs": [
    {
     "data": {
      "image/png": "[encoded data removed]",
      "text/plain": [
       "<Figure size 1600x800 with 32 Axes>"
      ]
     },
     "metadata": {},
     "output_type": "display_data"
    }
   ],
   "source": [
    "\n",
    "plot_histogram_accent_hamming_distance_grid(control_features_df, hit_hamming_distance_index=32)\n"
   ]
  },
  {
   "cell_type": "code",
   "execution_count": 46,
   "id": "1ff81c90dca910be",
   "metadata": {
    "ExecuteTime": {
     "end_time": "2025-07-20T12:21:08.571805Z",
     "start_time": "2025-07-20T12:21:08.518298Z"
    }
   },
   "outputs": [
    {
     "data": {
      "application/vnd.plotly.v1+json": {
       "config": {
        "plotlyServerURL": "https://plot.ly"
       },
       "data": [
        {
         "colorbar": {
          "title": {
           "text": "Count"
          }
         },
         "colorscale": [
          [
           0,
           "#0d0887"
          ],
          [
           0.1111111111111111,
           "#46039f"
          ],
          [
           0.2222222222222222,
           "#7201a8"
          ],
          [
           0.3333333333333333,
           "#9c179e"
          ],
          [
           0.4444444444444444,
           "#bd3786"
          ],
          [
           0.5555555555555556,
           "#d8576b"
          ],
          [
           0.6666666666666666,
           "#ed7953"
          ],
          [
           0.7777777777777778,
           "#fb9f3a"
          ],
          [
           0.8888888888888888,
           "#fdca26"
          ],
          [
           1,
           "#f0f921"
          ]
         ],
         "hovertemplate": "groove_to_output_hit_hamming_distance: %{x}<br>groove_to_output_accent_hamming_distance: %{y}<br>Count: %{z}<extra></extra>",
         "showscale": true,
         "text": [
          [
           "29340",
           "1448",
           "1104",
           "1196",
           "3120",
           "1676",
           "1697",
           "1839",
           "3080",
           "2356",
           "2375",
           "2743",
           "3102",
           "2627",
           "2806",
           "2616",
           "4045",
           "1968",
           "1751",
           "1439",
           "1622",
           "1123",
           "958",
           "958",
           "1534",
           "441",
           "334",
           "251",
           "316",
           "176",
           "158",
           "160",
           "439"
          ],
          [
           "8759",
           "1392",
           "862",
           "754",
           "925",
           "1192",
           "1196",
           "1176",
           "1548",
           "1549",
           "1437",
           "1484",
           "1759",
           "1464",
           "1571",
           "1554",
           "1610",
           "1156",
           "1052",
           "864",
           "788",
           "549",
           "541",
           "387",
           "537",
           "184",
           "145",
           "115",
           "173",
           "100",
           "76",
           "96",
           "108"
          ],
          [
           "6448",
           "323",
           "1068",
           "614",
           "739",
           "831",
           "1056",
           "1058",
           "1397",
           "1306",
           "1437",
           "1499",
           "1624",
           "1527",
           "1510",
           "1309",
           "1558",
           "1088",
           "1048",
           "769",
           "719",
           "521",
           "464",
           "435",
           "450",
           "221",
           "170",
           "186",
           "141",
           "94",
           "100",
           "65",
           "66"
          ],
          [
           "4624",
           "236",
           "320",
           "743",
           "733",
           "684",
           "806",
           "909",
           "1154",
           "1184",
           "1364",
           "1410",
           "1686",
           "1404",
           "1496",
           "1424",
           "1513",
           "999",
           "1000",
           "794",
           "708",
           "623",
           "431",
           "432",
           "434",
           "259",
           "181",
           "182",
           "125",
           "74",
           "84",
           "75",
           "94"
          ],
          [
           "3217",
           "221",
           "235",
           "368",
           "933",
           "785",
           "859",
           "966",
           "1278",
           "1200",
           "1372",
           "1529",
           "1895",
           "1575",
           "1561",
           "1455",
           "1619",
           "1309",
           "1046",
           "815",
           "762",
           "657",
           "639",
           "526",
           "538",
           "309",
           "249",
           "168",
           "140",
           "87",
           "119",
           "89",
           "79"
          ],
          [
           "1797",
           "119",
           "189",
           "211",
           "307",
           "590",
           "716",
           "816",
           "1001",
           "1013",
           "1204",
           "1253",
           "1440",
           "1373",
           "1445",
           "1320",
           "1550",
           "1079",
           "953",
           "750",
           "705",
           "679",
           "603",
           "539",
           "546",
           "311",
           "250",
           "196",
           "183",
           "107",
           "97",
           "80",
           "91"
          ],
          [
           "1301",
           "151",
           "142",
           "134",
           "263",
           "283",
           "705",
           "722",
           "984",
           "898",
           "1088",
           "1139",
           "1304",
           "1215",
           "1402",
           "1408",
           "1578",
           "1049",
           "961",
           "826",
           "754",
           "636",
           "598",
           "524",
           "467",
           "284",
           "249",
           "199",
           "144",
           "128",
           "118",
           "98",
           "95"
          ],
          [
           "841",
           "102",
           "156",
           "100",
           "189",
           "254",
           "325",
           "538",
           "885",
           "709",
           "894",
           "1004",
           "1186",
           "1097",
           "1318",
           "1279",
           "1479",
           "920",
           "812",
           "808",
           "705",
           "566",
           "539",
           "521",
           "522",
           "283",
           "280",
           "198",
           "181",
           "103",
           "84",
           "104",
           "95"
          ],
          [
           "521",
           "99",
           "145",
           "97",
           "194",
           "192",
           "272",
           "365",
           "1098",
           "688",
           "888",
           "923",
           "1148",
           "1133",
           "1260",
           "1139",
           "1560",
           "967",
           "875",
           "729",
           "740",
           "645",
           "570",
           "492",
           "611",
           "316",
           "303",
           "195",
           "201",
           "99",
           "108",
           "119",
           "127"
          ],
          [
           "258",
           "47",
           "94",
           "76",
           "104",
           "139",
           "146",
           "184",
           "303",
           "573",
           "620",
           "655",
           "763",
           "871",
           "910",
           "945",
           "1043",
           "757",
           "701",
           "730",
           "588",
           "491",
           "444",
           "383",
           "495",
           "252",
           "218",
           "187",
           "156",
           "83",
           "97",
           "123",
           "98"
          ],
          [
           "133",
           "42",
           "34",
           "50",
           "77",
           "73",
           "136",
           "148",
           "211",
           "232",
           "586",
           "504",
           "620",
           "677",
           "779",
           "741",
           "859",
           "690",
           "681",
           "597",
           "505",
           "430",
           "454",
           "338",
           "401",
           "255",
           "198",
           "158",
           "143",
           "96",
           "113",
           "106",
           "106"
          ],
          [
           "57",
           "18",
           "36",
           "25",
           "63",
           "77",
           "101",
           "72",
           "114",
           "192",
           "224",
           "343",
           "501",
           "527",
           "600",
           "559",
           "727",
           "581",
           "572",
           "434",
           "411",
           "412",
           "459",
           "334",
           "388",
           "215",
           "152",
           "125",
           "125",
           "82",
           "83",
           "97",
           "121"
          ],
          [
           "25",
           "14",
           "7",
           "18",
           "18",
           "56",
           "59",
           "78",
           "76",
           "125",
           "161",
           "235",
           "465",
           "428",
           "470",
           "519",
           "596",
           "516",
           "494",
           "417",
           "415",
           "338",
           "342",
           "337",
           "350",
           "214",
           "147",
           "116",
           "128",
           "81",
           "83",
           "77",
           "93"
          ],
          [
           "12",
           "17",
           "12",
           "21",
           "22",
           "22",
           "38",
           "59",
           "73",
           "85",
           "118",
           "136",
           "171",
           "290",
           "348",
           "398",
           "560",
           "403",
           "433",
           "322",
           "326",
           "334",
           "310",
           "309",
           "298",
           "174",
           "128",
           "92",
           "105",
           "76",
           "69",
           "108",
           "67"
          ],
          [
           "12",
           "9",
           "7",
           "6",
           "12",
           "14",
           "22",
           "44",
           "42",
           "72",
           "83",
           "106",
           "158",
           "190",
           "333",
           "314",
           "449",
           "398",
           "377",
           "372",
           "284",
           "319",
           "259",
           "244",
           "257",
           "176",
           "149",
           "114",
           "97",
           "80",
           "61",
           "75",
           "105"
          ],
          [
           "4",
           "8",
           "8",
           "4",
           "8",
           "9",
           "21",
           "17",
           "18",
           "41",
           "43",
           "58",
           "100",
           "100",
           "184",
           "280",
           "339",
           "295",
           "336",
           "266",
           "250",
           "259",
           "218",
           "232",
           "186",
           "146",
           "113",
           "103",
           "81",
           "75",
           "64",
           "65",
           "51"
          ],
          [
           "5",
           "12",
           "6",
           "11",
           "6",
           "6",
           "21",
           "21",
           "30",
           "33",
           "42",
           "52",
           "53",
           "89",
           "125",
           "137",
           "256",
           "229",
           "283",
           "235",
           "204",
           "161",
           "181",
           "165",
           "167",
           "126",
           "93",
           "72",
           "74",
           "80",
           "46",
           "32",
           "76"
          ],
          [
           "1",
           "5",
           "",
           "8",
           "2",
           "5",
           "9",
           "10",
           "8",
           "15",
           "34",
           "30",
           "33",
           "37",
           "79",
           "96",
           "122",
           "144",
           "174",
           "156",
           "171",
           "153",
           "132",
           "124",
           "121",
           "106",
           "100",
           "83",
           "67",
           "44",
           "23",
           "30",
           "23"
          ],
          [
           "1",
           "2",
           "1",
           "6",
           "5",
           "4",
           "6",
           "9",
           "14",
           "8",
           "15",
           "21",
           "25",
           "51",
           "52",
           "78",
           "93",
           "95",
           "171",
           "165",
           "124",
           "140",
           "113",
           "105",
           "91",
           "88",
           "81",
           "66",
           "50",
           "30",
           "35",
           "20",
           "28"
          ],
          [
           "4",
           "6",
           "2",
           "4",
           "5",
           "2",
           "6",
           "16",
           "12",
           "5",
           "11",
           "9",
           "15",
           "21",
           "41",
           "31",
           "65",
           "76",
           "70",
           "102",
           "101",
           "89",
           "85",
           "88",
           "79",
           "66",
           "83",
           "57",
           "57",
           "36",
           "34",
           "22",
           "10"
          ],
          [
           "2",
           "1",
           "1",
           "2",
           "2",
           "3",
           "8",
           "2",
           "11",
           "10",
           "6",
           "8",
           "12",
           "17",
           "25",
           "36",
           "48",
           "46",
           "71",
           "63",
           "102",
           "65",
           "53",
           "62",
           "68",
           "51",
           "50",
           "50",
           "48",
           "43",
           "22",
           "17",
           "15"
          ],
          [
           "3",
           "1",
           "3",
           "",
           "2",
           "4",
           "",
           "6",
           "1",
           "3",
           "10",
           "15",
           "3",
           "9",
           "19",
           "20",
           "21",
           "26",
           "31",
           "46",
           "38",
           "47",
           "42",
           "42",
           "27",
           "38",
           "36",
           "38",
           "34",
           "33",
           "26",
           "12",
           "10"
          ],
          [
           "",
           "3",
           "3",
           "",
           "3",
           "2",
           "3",
           "3",
           "5",
           "3",
           "10",
           "7",
           "8",
           "11",
           "10",
           "17",
           "15",
           "29",
           "37",
           "25",
           "23",
           "32",
           "44",
           "30",
           "22",
           "27",
           "20",
           "24",
           "18",
           "15",
           "14",
           "11",
           "11"
          ],
          [
           "",
           "",
           "",
           "",
           "",
           "",
           "",
           "2",
           "",
           "",
           "4",
           "1",
           "6",
           "1",
           "1",
           "7",
           "4",
           "5",
           "10",
           "11",
           "13",
           "12",
           "9",
           "7",
           "21",
           "14",
           "8",
           "10",
           "10",
           "5",
           "9",
           "7",
           "11"
          ],
          [
           "1",
           "2",
           "3",
           "2",
           "1",
           "1",
           "",
           "",
           "",
           "2",
           "4",
           "",
           "",
           "2",
           "6",
           "1",
           "6",
           "6",
           "5",
           "6",
           "9",
           "5",
           "6",
           "10",
           "8",
           "13",
           "7",
           "5",
           "6",
           "4",
           "4",
           "9",
           "6"
          ],
          [
           "",
           "",
           "",
           "",
           "",
           "",
           "",
           "2",
           "",
           "",
           "1",
           "1",
           "1",
           "3",
           "",
           "3",
           "3",
           "2",
           "5",
           "4",
           "2",
           "5",
           "3",
           "5",
           "7",
           "6",
           "7",
           "7",
           "3",
           "5",
           "9",
           "",
           "2"
          ],
          [
           "",
           "",
           "1",
           "1",
           "2",
           "1",
           "1",
           "2",
           "1",
           "3",
           "1",
           "2",
           "1",
           "1",
           "5",
           "7",
           "2",
           "6",
           "8",
           "6",
           "6",
           "5",
           "10",
           "4",
           "3",
           "7",
           "24",
           "3",
           "5",
           "1",
           "4",
           "1",
           "15"
          ],
          [
           "",
           "",
           "",
           "",
           "1",
           "",
           "",
           "",
           "",
           "",
           "",
           "",
           "",
           "",
           "",
           "",
           "1",
           "",
           "",
           "2",
           "2",
           "1",
           "2",
           "1",
           "3",
           "",
           "",
           "2",
           "2",
           "",
           "1",
           "1",
           "4"
          ],
          [
           "",
           "",
           "",
           "",
           "",
           "",
           "1",
           "",
           "2",
           "",
           "2",
           "1",
           "1",
           "",
           "1",
           "",
           "3",
           "2",
           "3",
           "2",
           "4",
           "3",
           "3",
           "4",
           "2",
           "2",
           "4",
           "2",
           "21",
           "6",
           "3",
           "1",
           "2"
          ],
          [
           "",
           "",
           "2",
           "",
           "2",
           "1",
           "1",
           "",
           "",
           "",
           "",
           "",
           "",
           "2",
           "1",
           "1",
           "3",
           "",
           "",
           "1",
           "1",
           "",
           "",
           "",
           "1",
           "1",
           "1",
           "4",
           "3",
           "1",
           "2",
           "",
           "3"
          ],
          [
           "",
           "1",
           "",
           "",
           "1",
           "3",
           "3",
           "1",
           "1",
           "1",
           "2",
           "2",
           "3",
           "4",
           "2",
           "",
           "",
           "2",
           "1",
           "1",
           "7",
           "5",
           "4",
           "3",
           "4",
           "1",
           "2",
           "2",
           "",
           "2",
           "15",
           "3",
           ""
          ],
          [
           "",
           "",
           "",
           "",
           "",
           "",
           "",
           "",
           "",
           "",
           "",
           "",
           "",
           "",
           "",
           "",
           "",
           "",
           "",
           "",
           "",
           "",
           "2",
           "1",
           "",
           "",
           "1",
           "",
           "",
           "1",
           "",
           "",
           "2"
          ],
          [
           "",
           "",
           "",
           "1",
           "",
           "",
           "2",
           "",
           "1",
           "1",
           "1",
           "",
           "",
           "3",
           "",
           "3",
           "",
           "2",
           "2",
           "1",
           "2",
           "1",
           "6",
           "5",
           "6",
           "2",
           "5",
           "7",
           "3",
           "2",
           "4",
           "2",
           "32"
          ]
         ],
         "textfont": {
          "size": 9
         },
         "texttemplate": "%{text}",
         "type": "heatmap",
         "x": [
          "0.0",
          "0.03125",
          "0.0625",
          "0.09375",
          "0.125",
          "0.15625",
          "0.1875",
          "0.21875",
          "0.25",
          "0.28125",
          "0.3125",
          "0.34375",
          "0.375",
          "0.40625",
          "0.4375",
          "0.46875",
          "0.5",
          "0.53125",
          "0.5625",
          "0.59375",
          "0.625",
          "0.65625",
          "0.6875",
          "0.71875",
          "0.75",
          "0.78125",
          "0.8125",
          "0.84375",
          "0.875",
          "0.90625",
          "0.9375",
          "0.96875",
          "1.0"
         ],
         "y": [
          "0.0",
          "0.03125",
          "0.0625",
          "0.09375",
          "0.125",
          "0.15625",
          "0.1875",
          "0.21875",
          "0.25",
          "0.28125",
          "0.3125",
          "0.34375",
          "0.375",
          "0.40625",
          "0.4375",
          "0.46875",
          "0.5",
          "0.53125",
          "0.5625",
          "0.59375",
          "0.625",
          "0.65625",
          "0.6875",
          "0.71875",
          "0.75",
          "0.78125",
          "0.8125",
          "0.84375",
          "0.875",
          "0.90625",
          "0.9375",
          "0.96875",
          "1.0"
         ],
         "z": {
          "bdata": "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",
          "dtype": "i2",
          "shape": "33, 33"
         }
        }
       ],
       "layout": {
        "height": 800,
        "template": {
         "data": {
          "bar": [
           {
            "error_x": {
             "color": "#2a3f5f"
            },
            "error_y": {
             "color": "#2a3f5f"
            },
            "marker": {
             "line": {
              "color": "#E5ECF6",
              "width": 0.5
             },
             "pattern": {
              "fillmode": "overlay",
              "size": 10,
              "solidity": 0.2
             }
            },
            "type": "bar"
           }
          ],
          "barpolar": [
           {
            "marker": {
             "line": {
              "color": "#E5ECF6",
              "width": 0.5
             },
             "pattern": {
              "fillmode": "overlay",
              "size": 10,
              "solidity": 0.2
             }
            },
            "type": "barpolar"
           }
          ],
          "carpet": [
           {
            "aaxis": {
             "endlinecolor": "#2a3f5f",
             "gridcolor": "white",
             "linecolor": "white",
             "minorgridcolor": "white",
             "startlinecolor": "#2a3f5f"
            },
            "baxis": {
             "endlinecolor": "#2a3f5f",
             "gridcolor": "white",
             "linecolor": "white",
             "minorgridcolor": "white",
             "startlinecolor": "#2a3f5f"
            },
            "type": "carpet"
           }
          ],
          "choropleth": [
           {
            "colorbar": {
             "outlinewidth": 0,
             "ticks": ""
            },
            "type": "choropleth"
           }
          ],
          "contour": [
           {
            "colorbar": {
             "outlinewidth": 0,
             "ticks": ""
            },
            "colorscale": [
             [
              0,
              "#0d0887"
             ],
             [
              0.1111111111111111,
              "#46039f"
             ],
             [
              0.2222222222222222,
              "#7201a8"
             ],
             [
              0.3333333333333333,
              "#9c179e"
             ],
             [
              0.4444444444444444,
              "#bd3786"
             ],
             [
              0.5555555555555556,
              "#d8576b"
             ],
             [
              0.6666666666666666,
              "#ed7953"
             ],
             [
              0.7777777777777778,
              "#fb9f3a"
             ],
             [
              0.8888888888888888,
              "#fdca26"
             ],
             [
              1,
              "#f0f921"
             ]
            ],
            "type": "contour"
           }
          ],
          "contourcarpet": [
           {
            "colorbar": {
             "outlinewidth": 0,
             "ticks": ""
            },
            "type": "contourcarpet"
           }
          ],
          "heatmap": [
           {
            "colorbar": {
             "outlinewidth": 0,
             "ticks": ""
            },
            "colorscale": [
             [
              0,
              "#0d0887"
             ],
             [
              0.1111111111111111,
              "#46039f"
             ],
             [
              0.2222222222222222,
              "#7201a8"
             ],
             [
              0.3333333333333333,
              "#9c179e"
             ],
             [
              0.4444444444444444,
              "#bd3786"
             ],
             [
              0.5555555555555556,
              "#d8576b"
             ],
             [
              0.6666666666666666,
              "#ed7953"
             ],
             [
              0.7777777777777778,
              "#fb9f3a"
             ],
             [
              0.8888888888888888,
              "#fdca26"
             ],
             [
              1,
              "#f0f921"
             ]
            ],
            "type": "heatmap"
           }
          ],
          "histogram": [
           {
            "marker": {
             "pattern": {
              "fillmode": "overlay",
              "size": 10,
              "solidity": 0.2
             }
            },
            "type": "histogram"
           }
          ],
          "histogram2d": [
           {
            "colorbar": {
             "outlinewidth": 0,
             "ticks": ""
            },
            "colorscale": [
             [
              0,
              "#0d0887"
             ],
             [
              0.1111111111111111,
              "#46039f"
             ],
             [
              0.2222222222222222,
              "#7201a8"
             ],
             [
              0.3333333333333333,
              "#9c179e"
             ],
             [
              0.4444444444444444,
              "#bd3786"
             ],
             [
              0.5555555555555556,
              "#d8576b"
             ],
             [
              0.6666666666666666,
              "#ed7953"
             ],
             [
              0.7777777777777778,
              "#fb9f3a"
             ],
             [
              0.8888888888888888,
              "#fdca26"
             ],
             [
              1,
              "#f0f921"
             ]
            ],
            "type": "histogram2d"
           }
          ],
          "histogram2dcontour": [
           {
            "colorbar": {
             "outlinewidth": 0,
             "ticks": ""
            },
            "colorscale": [
             [
              0,
              "#0d0887"
             ],
             [
              0.1111111111111111,
              "#46039f"
             ],
             [
              0.2222222222222222,
              "#7201a8"
             ],
             [
              0.3333333333333333,
              "#9c179e"
             ],
             [
              0.4444444444444444,
              "#bd3786"
             ],
             [
              0.5555555555555556,
              "#d8576b"
             ],
             [
              0.6666666666666666,
              "#ed7953"
             ],
             [
              0.7777777777777778,
              "#fb9f3a"
             ],
             [
              0.8888888888888888,
              "#fdca26"
             ],
             [
              1,
              "#f0f921"
             ]
            ],
            "type": "histogram2dcontour"
           }
          ],
          "mesh3d": [
           {
            "colorbar": {
             "outlinewidth": 0,
             "ticks": ""
            },
            "type": "mesh3d"
           }
          ],
          "parcoords": [
           {
            "line": {
             "colorbar": {
              "outlinewidth": 0,
              "ticks": ""
             }
            },
            "type": "parcoords"
           }
          ],
          "pie": [
           {
            "automargin": true,
            "type": "pie"
           }
          ],
          "scatter": [
           {
            "fillpattern": {
             "fillmode": "overlay",
             "size": 10,
             "solidity": 0.2
            },
            "type": "scatter"
           }
          ],
          "scatter3d": [
           {
            "line": {
             "colorbar": {
              "outlinewidth": 0,
              "ticks": ""
             }
            },
            "marker": {
             "colorbar": {
              "outlinewidth": 0,
              "ticks": ""
             }
            },
            "type": "scatter3d"
           }
          ],
          "scattercarpet": [
           {
            "marker": {
             "colorbar": {
              "outlinewidth": 0,
              "ticks": ""
             }
            },
            "type": "scattercarpet"
           }
          ],
          "scattergeo": [
           {
            "marker": {
             "colorbar": {
              "outlinewidth": 0,
              "ticks": ""
             }
            },
            "type": "scattergeo"
           }
          ],
          "scattergl": [
           {
            "marker": {
             "colorbar": {
              "outlinewidth": 0,
              "ticks": ""
             }
            },
            "type": "scattergl"
           }
          ],
          "scattermap": [
           {
            "marker": {
             "colorbar": {
              "outlinewidth": 0,
              "ticks": ""
             }
            },
            "type": "scattermap"
           }
          ],
          "scattermapbox": [
           {
            "marker": {
             "colorbar": {
              "outlinewidth": 0,
              "ticks": ""
             }
            },
            "type": "scattermapbox"
           }
          ],
          "scatterpolar": [
           {
            "marker": {
             "colorbar": {
              "outlinewidth": 0,
              "ticks": ""
             }
            },
            "type": "scatterpolar"
           }
          ],
          "scatterpolargl": [
           {
            "marker": {
             "colorbar": {
              "outlinewidth": 0,
              "ticks": ""
             }
            },
            "type": "scatterpolargl"
           }
          ],
          "scatterternary": [
           {
            "marker": {
             "colorbar": {
              "outlinewidth": 0,
              "ticks": ""
             }
            },
            "type": "scatterternary"
           }
          ],
          "surface": [
           {
            "colorbar": {
             "outlinewidth": 0,
             "ticks": ""
            },
            "colorscale": [
             [
              0,
              "#0d0887"
             ],
             [
              0.1111111111111111,
              "#46039f"
             ],
             [
              0.2222222222222222,
              "#7201a8"
             ],
             [
              0.3333333333333333,
              "#9c179e"
             ],
             [
              0.4444444444444444,
              "#bd3786"
             ],
             [
              0.5555555555555556,
              "#d8576b"
             ],
             [
              0.6666666666666666,
              "#ed7953"
             ],
             [
              0.7777777777777778,
              "#fb9f3a"
             ],
             [
              0.8888888888888888,
              "#fdca26"
             ],
             [
              1,
              "#f0f921"
             ]
            ],
            "type": "surface"
           }
          ],
          "table": [
           {
            "cells": {
             "fill": {
              "color": "#EBF0F8"
             },
             "line": {
              "color": "white"
             }
            },
            "header": {
             "fill": {
              "color": "#C8D4E3"
             },
             "line": {
              "color": "white"
             }
            },
            "type": "table"
           }
          ]
         },
         "layout": {
          "annotationdefaults": {
           "arrowcolor": "#2a3f5f",
           "arrowhead": 0,
           "arrowwidth": 1
          },
          "autotypenumbers": "strict",
          "coloraxis": {
           "colorbar": {
            "outlinewidth": 0,
            "ticks": ""
           }
          },
          "colorscale": {
           "diverging": [
            [
             0,
             "#8e0152"
            ],
            [
             0.1,
             "#c51b7d"
            ],
            [
             0.2,
             "#de77ae"
            ],
            [
             0.3,
             "#f1b6da"
            ],
            [
             0.4,
             "#fde0ef"
            ],
            [
             0.5,
             "#f7f7f7"
            ],
            [
             0.6,
             "#e6f5d0"
            ],
            [
             0.7,
             "#b8e186"
            ],
            [
             0.8,
             "#7fbc41"
            ],
            [
             0.9,
             "#4d9221"
            ],
            [
             1,
             "#276419"
            ]
           ],
           "sequential": [
            [
             0,
             "#0d0887"
            ],
            [
             0.1111111111111111,
             "#46039f"
            ],
            [
             0.2222222222222222,
             "#7201a8"
            ],
            [
             0.3333333333333333,
             "#9c179e"
            ],
            [
             0.4444444444444444,
             "#bd3786"
            ],
            [
             0.5555555555555556,
             "#d8576b"
            ],
            [
             0.6666666666666666,
             "#ed7953"
            ],
            [
             0.7777777777777778,
             "#fb9f3a"
            ],
            [
             0.8888888888888888,
             "#fdca26"
            ],
            [
             1,
             "#f0f921"
            ]
           ],
           "sequentialminus": [
            [
             0,
             "#0d0887"
            ],
            [
             0.1111111111111111,
             "#46039f"
            ],
            [
             0.2222222222222222,
             "#7201a8"
            ],
            [
             0.3333333333333333,
             "#9c179e"
            ],
            [
             0.4444444444444444,
             "#bd3786"
            ],
            [
             0.5555555555555556,
             "#d8576b"
            ],
            [
             0.6666666666666666,
             "#ed7953"
            ],
            [
             0.7777777777777778,
             "#fb9f3a"
            ],
            [
             0.8888888888888888,
             "#fdca26"
            ],
            [
             1,
             "#f0f921"
            ]
           ]
          },
          "colorway": [
           "#636efa",
           "#EF553B",
           "#00cc96",
           "#ab63fa",
           "#FFA15A",
           "#19d3f3",
           "#FF6692",
           "#B6E880",
           "#FF97FF",
           "#FECB52"
          ],
          "font": {
           "color": "#2a3f5f"
          },
          "geo": {
           "bgcolor": "white",
           "lakecolor": "white",
           "landcolor": "#E5ECF6",
           "showlakes": true,
           "showland": true,
           "subunitcolor": "white"
          },
          "hoverlabel": {
           "align": "left"
          },
          "hovermode": "closest",
          "mapbox": {
           "style": "light"
          },
          "paper_bgcolor": "white",
          "plot_bgcolor": "#E5ECF6",
          "polar": {
           "angularaxis": {
            "gridcolor": "white",
            "linecolor": "white",
            "ticks": ""
           },
           "bgcolor": "#E5ECF6",
           "radialaxis": {
            "gridcolor": "white",
            "linecolor": "white",
            "ticks": ""
           }
          },
          "scene": {
           "xaxis": {
            "backgroundcolor": "#E5ECF6",
            "gridcolor": "white",
            "gridwidth": 2,
            "linecolor": "white",
            "showbackground": true,
            "ticks": "",
            "zerolinecolor": "white"
           },
           "yaxis": {
            "backgroundcolor": "#E5ECF6",
            "gridcolor": "white",
            "gridwidth": 2,
            "linecolor": "white",
            "showbackground": true,
            "ticks": "",
            "zerolinecolor": "white"
           },
           "zaxis": {
            "backgroundcolor": "#E5ECF6",
            "gridcolor": "white",
            "gridwidth": 2,
            "linecolor": "white",
            "showbackground": true,
            "ticks": "",
            "zerolinecolor": "white"
           }
          },
          "shapedefaults": {
           "line": {
            "color": "#2a3f5f"
           }
          },
          "ternary": {
           "aaxis": {
            "gridcolor": "white",
            "linecolor": "white",
            "ticks": ""
           },
           "baxis": {
            "gridcolor": "white",
            "linecolor": "white",
            "ticks": ""
           },
           "bgcolor": "#E5ECF6",
           "caxis": {
            "gridcolor": "white",
            "linecolor": "white",
            "ticks": ""
           }
          },
          "title": {
           "x": 0.05
          },
          "xaxis": {
           "automargin": true,
           "gridcolor": "white",
           "linecolor": "white",
           "ticks": "",
           "title": {
            "standoff": 15
           },
           "zerolinecolor": "white",
           "zerolinewidth": 2
          },
          "yaxis": {
           "automargin": true,
           "gridcolor": "white",
           "linecolor": "white",
           "ticks": "",
           "title": {
            "standoff": 15
           },
           "zerolinecolor": "white",
           "zerolinewidth": 2
          }
         }
        },
        "title": {
         "text": "Heatmap Histogram of Groove to Output Hit Hamming Distance vs Accent Hamming Distance"
        },
        "width": 1200,
        "xaxis": {
         "tickangle": 45,
         "title": {
          "text": "groove_to_output_hit_hamming_distance"
         }
        },
        "yaxis": {
         "tickangle": 0,
         "title": {
          "text": "groove_to_output_accent_hamming_distance"
         }
        }
       }
      }
     },
     "metadata": {},
     "output_type": "display_data"
    }
   ],
   "source": [
    "import pandas as pd\n",
    "import plotly.graph_objects as go\n",
    "import plotly.express as px\n",
    "import numpy as np\n",
    "\n",
    "def create_heatmap_histogram(df, key1, key2, bins=None, title=None, exclude_pairs=None,\n",
    "                           show_zeros=False):\n",
    "    \"\"\"\n",
    "    Creates an interactive heatmap histogram from a DataFrame using two keys.\n",
    "    Shows frequency counts in each cell like a confusion matrix.\n",
    "\n",
    "    Parameters:\n",
    "    -----------\n",
    "    df : pandas.DataFrame\n",
    "        The input dataframe\n",
    "    key1 : str\n",
    "        Column name for x-axis\n",
    "    key2 : str\n",
    "        Column name for y-axis\n",
    "    bins : int, tuple, or None, optional\n",
    "        Number of bins for each dimension. If None (default), uses all unique values\n",
    "    title : str, optional\n",
    "        Plot title (default: auto-generated)\n",
    "    exclude_pairs : list of tuples or tuple, optional\n",
    "        Specific (key1, key2) value pairs to exclude from calculations\n",
    "        e.g., [(10, 20), (15, 25)] or (10, 20) for single exclusion\n",
    "    show_zeros : bool, optional\n",
    "        Whether to show 0 counts in cells (default: False)\n",
    "\n",
    "    Returns:\n",
    "    --------\n",
    "    plotly.graph_objects.Figure\n",
    "        Interactive heatmap with counts\n",
    "    \"\"\"\n",
    "\n",
    "    # Create a copy to avoid modifying original dataframe\n",
    "    df_filtered = df.copy()\n",
    "\n",
    "    # Handle exclusions\n",
    "    if exclude_pairs is not None:\n",
    "        # Convert single tuple to list of tuples\n",
    "        if isinstance(exclude_pairs, tuple):\n",
    "            exclude_pairs = [exclude_pairs]\n",
    "\n",
    "        # Create boolean mask for rows to keep\n",
    "        mask = pd.Series([True] * len(df_filtered), index=df_filtered.index)\n",
    "\n",
    "        for pair in exclude_pairs:\n",
    "            if len(pair) != 2:\n",
    "                raise ValueError(\"Each exclusion pair must contain exactly 2 values\")\n",
    "\n",
    "            exclude_mask = (df_filtered[key1] == pair[0]) & (df_filtered[key2] == pair[1])\n",
    "            mask = mask & ~exclude_mask\n",
    "\n",
    "            # Print info about excluded points\n",
    "            excluded_count = exclude_mask.sum()\n",
    "            if excluded_count > 0:\n",
    "                print(f\"Excluded {excluded_count} points with ({key1}={pair[0]}, {key2}={pair[1]})\")\n",
    "\n",
    "        # Apply the mask\n",
    "        df_filtered = df_filtered[mask]\n",
    "        print(f\"Total rows after exclusions: {len(df_filtered)} (original: {len(df)})\")\n",
    "\n",
    "    # Extract data for the two keys and remove NaN values\n",
    "    valid_data = df_filtered[[key1, key2]].dropna()\n",
    "    x_data = valid_data[key1]\n",
    "    y_data = valid_data[key2]\n",
    "\n",
    "    if len(x_data) == 0:\n",
    "        print(\"Warning: No valid data points remaining after exclusions and NaN removal\")\n",
    "        return None\n",
    "\n",
    "    # Handle bins=None case (use unique values)\n",
    "    if bins is None:\n",
    "        # Create cross-tabulation using unique values\n",
    "        crosstab = pd.crosstab(y_data, x_data, dropna=False)\n",
    "\n",
    "        # Get sorted unique values for consistent ordering\n",
    "        x_values = sorted(x_data.unique())\n",
    "        y_values = sorted(y_data.unique())\n",
    "\n",
    "        # Reindex to ensure all values are present\n",
    "        crosstab = crosstab.reindex(index=y_values, columns=x_values, fill_value=0)\n",
    "\n",
    "        # Create labels (convert to string for display)\n",
    "        x_labels = [str(x) for x in x_values]\n",
    "        y_labels = [str(y) for y in y_values]\n",
    "\n",
    "        # Get the count matrix\n",
    "        count_matrix = crosstab.values\n",
    "\n",
    "    else:\n",
    "        # Use binning approach for numeric bins\n",
    "        # Create 2D histogram using numpy\n",
    "        hist, x_edges, y_edges = np.histogram2d(x_data, y_data, bins=bins)\n",
    "\n",
    "        # Create bin labels for better readability\n",
    "        x_labels = []\n",
    "        for i in range(len(x_edges) - 1):\n",
    "            x_labels.append(f\"{x_edges[i]:.1f}-{x_edges[i+1]:.1f}\")\n",
    "\n",
    "        y_labels = []\n",
    "        for i in range(len(y_edges) - 1):\n",
    "            y_labels.append(f\"{y_edges[i]:.1f}-{y_edges[i+1]:.1f}\")\n",
    "\n",
    "        # Transpose histogram for correct orientation\n",
    "        count_matrix = hist.T\n",
    "\n",
    "    # Create text annotations for each cell (showing the count)\n",
    "    text_annotations = []\n",
    "    for i in range(len(y_labels)):\n",
    "        row = []\n",
    "        for j in range(len(x_labels)):\n",
    "            count = int(count_matrix[i, j])\n",
    "            if count > 0 or show_zeros:\n",
    "                row.append(str(count))\n",
    "            else:\n",
    "                row.append(\"\")  # Don't show 0s for cleaner look unless requested\n",
    "        text_annotations.append(row)\n",
    "\n",
    "    # Create the heatmap\n",
    "    fig = go.Figure(data=go.Heatmap(\n",
    "        z=count_matrix,\n",
    "        x=x_labels,\n",
    "        y=y_labels,\n",
    "        text=text_annotations,\n",
    "        texttemplate=\"%{text}\",\n",
    "        textfont={\"size\": max(8, min(12, 300 // max(len(x_labels), len(y_labels))))},  # Dynamic font size\n",
    "        colorscale='Plasma', # 'YlGnBu', 'Cividis', 'Plasma', 'Inferno', 'Magma'\n",
    "        showscale=True,\n",
    "        colorbar=dict(title=\"Count\"),\n",
    "        hovertemplate=f'{key1}: %{{x}}<br>{key2}: %{{y}}<br>Count: %{{z}}<extra></extra>'\n",
    "    ))\n",
    "\n",
    "    # Update layout\n",
    "    if title is None:\n",
    "        exclusion_info = f\" (Excluded {len(exclude_pairs)} pairs)\" if exclude_pairs else \"\"\n",
    "        bins_info = \"All unique values\" if bins is None else f\"{bins} bins\"\n",
    "        title = f'Heatmap: {key1} vs {key2} ({bins_info}){exclusion_info}'\n",
    "\n",
    "    # Dynamic sizing based on number of categories\n",
    "    plot_width = max(600, len(x_labels) * 40)\n",
    "    plot_height = max(400, len(y_labels) * 30)\n",
    "\n",
    "    fig.update_layout(\n",
    "        title=title,\n",
    "        xaxis_title=key1,\n",
    "        yaxis_title=key2,\n",
    "        width=min(plot_width, 1200),  # Cap maximum width\n",
    "        height=min(plot_height, 800), # Cap maximum height\n",
    "        xaxis=dict(tickangle=45 if len(x_labels) > 10 else 0),\n",
    "        yaxis=dict(tickangle=0)\n",
    "    )\n",
    "\n",
    "    return fig\n",
    "\n",
    "def create_binned_heatmap_histogram(df, key1, key2, bins=20, title=None, exclude_pairs=None,\n",
    "                                  show_zeros=False):\n",
    "    \"\"\"\n",
    "    Creates a heatmap for continuous data with explicit binning.\n",
    "    This is the old behavior when you specifically want to bin continuous data.\n",
    "\n",
    "    Parameters are the same as create_heatmap_histogram but bins defaults to 20.\n",
    "    \"\"\"\n",
    "    return create_heatmap_histogram(df, key1, key2, bins=bins, title=title,\n",
    "                                  exclude_pairs=exclude_pairs, show_zeros=show_zeros)\n",
    "\n",
    "# Helper function to check data characteristics\n",
    "def analyze_data_for_binning(df, key1, key2):\n",
    "    \"\"\"\n",
    "    Analyzes the data to suggest whether binning might be needed.\n",
    "\n",
    "    Returns:\n",
    "    --------\n",
    "    dict: Information about the data characteristics\n",
    "    \"\"\"\n",
    "    x_data = df[key1].dropna()\n",
    "    y_data = df[key2].dropna()\n",
    "\n",
    "    x_unique_count = x_data.nunique()\n",
    "    y_unique_count = y_data.nunique()\n",
    "\n",
    "    x_is_numeric = pd.api.types.is_numeric_dtype(x_data)\n",
    "    y_is_numeric = pd.api.types.is_numeric_dtype(y_data)\n",
    "\n",
    "    analysis = {\n",
    "        'x_unique_count': x_unique_count,\n",
    "        'y_unique_count': y_unique_count,\n",
    "        'x_is_numeric': x_is_numeric,\n",
    "        'y_is_numeric': y_is_numeric,\n",
    "        'total_combinations': x_unique_count * y_unique_count,\n",
    "        'data_points': len(df[[key1, key2]].dropna())\n",
    "    }\n",
    "\n",
    "    # Suggestions\n",
    "    if analysis['total_combinations'] > 100:\n",
    "        analysis['suggestion'] = f\"Consider using bins (e.g., bins=20) as you have {analysis['total_combinations']} unique combinations\"\n",
    "    elif analysis['total_combinations'] > 50:\n",
    "        analysis['suggestion'] = \"Data might benefit from binning for cleaner visualization\"\n",
    "    else:\n",
    "        analysis['suggestion'] = \"Using unique values (bins=None) should work well\"\n",
    "\n",
    "    return analysis\n",
    "\n",
    "# Example usage:\n",
    "\"\"\"\n",
    "import pandas as pd\n",
    "import numpy as np\n",
    "\n",
    "# Example 1: Discrete/Categorical data (bins=None works great)\n",
    "np.random.seed(42)\n",
    "df_discrete = pd.DataFrame({\n",
    "    'department': np.random.choice(['Sales', 'Engineering', 'Marketing', 'HR'], 500),\n",
    "    'rating': np.random.choice([1, 2, 3, 4, 5], 500),\n",
    "    'experience': np.random.choice(['Junior', 'Mid', 'Senior'], 500)\n",
    "})\n",
    "\n",
    "# This will use all unique values automatically\n",
    "fig1 = create_heatmap_histogram(df_discrete, 'department', 'rating',\n",
    "                               title='Department vs Rating (All Unique Values)')\n",
    "fig1.show()\n",
    "\n",
    "# Example 2: Continuous data with bins=None (might create many unique values)\n",
    "df_continuous = pd.DataFrame({\n",
    "    'height': np.random.normal(170, 10, 1000),\n",
    "    'weight': np.random.normal(70, 15, 1000),\n",
    "    'age': np.random.randint(18, 80, 1000)\n",
    "})\n",
    "\n",
    "# Check data characteristics first\n",
    "analysis = analyze_data_for_binning(df_continuous, 'height', 'weight')\n",
    "print(\"Data analysis:\", analysis)\n",
    "\n",
    "# This might create a very sparse heatmap due to many unique float values\n",
    "fig2 = create_heatmap_histogram(df_continuous, 'height', 'weight',\n",
    "                               title='Height vs Weight (All Unique Values - Might be Sparse)')\n",
    "\n",
    "# Better approach for continuous data - use binning\n",
    "fig3 = create_heatmap_histogram(df_continuous, 'height', 'weight', bins=15,\n",
    "                               title='Height vs Weight (15x15 bins)')\n",
    "fig3.show()\n",
    "\n",
    "# Example 3: Integer data works well with bins=None\n",
    "df_integers = pd.DataFrame({\n",
    "    'score1': np.random.randint(0, 11, 1000),  # 0-10 score\n",
    "    'score2': np.random.randint(0, 11, 1000),  # 0-10 score\n",
    "    'category': np.random.choice(['A', 'B', 'C'], 1000)\n",
    "})\n",
    "\n",
    "fig4 = create_heatmap_histogram(df_integers, 'score1', 'score2',\n",
    "                               title='Score1 vs Score2 (Integer Values)')\n",
    "fig4.show()\n",
    "\n",
    "# Example 4: With exclusions\n",
    "fig5 = create_heatmap_histogram(df_discrete, 'department', 'rating',\n",
    "                               exclude_pairs=[('Sales', 5), ('HR', 1)],\n",
    "                               show_zeros=True,\n",
    "                               title='Department vs Rating (With Exclusions)')\n",
    "fig5.show()\n",
    "\"\"\"\n",
    "\n",
    "create_heatmap_histogram(control_features_df,\n",
    "                         key1=\"groove_to_output_hit_hamming_distance\",\n",
    "                         key2=\"groove_to_output_accent_hamming_distance\",\n",
    "                         bins=None,\n",
    "                         title=\"Heatmap Histogram of Groove to Output Hit Hamming Distance vs Accent Hamming Distance\",\n",
    "                         )\n",
    "\n",
    "\n"
   ]
  },
  {
   "cell_type": "code",
   "execution_count": 42,
   "id": "52146c06974a6d6e",
   "metadata": {
    "ExecuteTime": {
     "end_time": "2025-07-20T12:15:35.702204Z",
     "start_time": "2025-07-20T12:15:35.666940Z"
    }
   },
   "outputs": [
    {
     "data": {
      "application/vnd.plotly.v1+json": {
       "config": {
        "plotlyServerURL": "https://plot.ly"
       },
       "data": [
        {
         "colorbar": {
          "title": {
           "text": "Count"
          }
         },
         "colorscale": [
          [
           0,
           "#440154"
          ],
          [
           0.1111111111111111,
           "#482878"
          ],
          [
           0.2222222222222222,
           "#3e4989"
          ],
          [
           0.3333333333333333,
           "#31688e"
          ],
          [
           0.4444444444444444,
           "#26828e"
          ],
          [
           0.5555555555555556,
           "#1f9e89"
          ],
          [
           0.6666666666666666,
           "#35b779"
          ],
          [
           0.7777777777777778,
           "#6ece58"
          ],
          [
           0.8888888888888888,
           "#b5de2b"
          ],
          [
           1,
           "#fde725"
          ]
         ],
         "hovertemplate": "groove_to_output_hit_hamming_distance: %{x}<br>accent_hamming_values_per_hit_hamming_normalized: %{y}<br>Count: %{z}<extra></extra>",
         "showscale": true,
         "text": [
          [
           "38099",
           "2840",
           "1966",
           "1950",
           "4045",
           "2868",
           "2893",
           "3015",
           "4628",
           "3905",
           "3812",
           "4227",
           "4861",
           "4091",
           "4377",
           "4170",
           "5655",
           "3124",
           "2803",
           "2303",
           "2410",
           "1672",
           "1499",
           "1345",
           "2071",
           "625",
           "479",
           "366",
           "630",
           "276",
           "334",
           "256",
           "613"
          ],
          [
           "11072",
           "559",
           "1388",
           "1357",
           "1472",
           "1515",
           "2721",
           "2933",
           "3829",
           "3690",
           "4173",
           "4438",
           "5205",
           "4506",
           "4567",
           "4188",
           "4690",
           "4475",
           "4047",
           "3128",
           "2894",
           "2480",
           "2137",
           "1932",
           "1968",
           "1100",
           "850",
           "732",
           "592",
           "362",
           "418",
           "229",
           "359"
          ],
          [
           "5014",
           "491",
           "424",
           "713",
           "1503",
           "1658",
           "1421",
           "1538",
           "2870",
           "2620",
           "3186",
           "3396",
           "3930",
           "3685",
           "4165",
           "5146",
           "6167",
           "2936",
           "2648",
           "2363",
           "2787",
           "1847",
           "2151",
           "1537",
           "1600",
           "883",
           "1050",
           "779",
           "538",
           "330",
           "402",
           "401",
           "547"
          ],
          [
           "2142",
           "201",
           "298",
           "197",
           "383",
           "446",
           "743",
           "1087",
           "1401",
           "1261",
           "2094",
           "2082",
           "2531",
           "2681",
           "2949",
           "2245",
           "2629",
           "2028",
           "1954",
           "1761",
           "1331",
           "1671",
           "1255",
           "1392",
           "1634",
           "722",
           "497",
           "399",
           "501",
           "261",
           "296",
           "326",
           "316"
          ],
          [
           "779",
           "89",
           "273",
           "126",
           "244",
           "289",
           "296",
           "298",
           "401",
           "549",
           "586",
           "714",
           "1295",
           "1435",
           "1751",
           "1231",
           "1605",
           "1612",
           "1640",
           "1377",
           "1064",
           "1073",
           "968",
           "950",
           "908",
           "710",
           "483",
           "381",
           "319",
           "312",
           "168",
           "260",
           "152"
          ],
          [
           "190",
           "49",
           "43",
           "64",
           "52",
           "92",
           "60",
           "103",
           "133",
           "198",
           "119",
           "216",
           "186",
           "226",
           "388",
           "591",
           "810",
           "468",
           "628",
           "556",
           "498",
           "382",
           "383",
           "317",
           "291",
           "320",
           "314",
           "256",
           "189",
           "154",
           "96",
           "147",
           "40"
          ],
          [
           "37",
           "17",
           "19",
           "10",
           "14",
           "15",
           "51",
           "48",
           "52",
           "56",
           "32",
           "60",
           "52",
           "89",
           "118",
           "87",
           "134",
           "177",
           "209",
           "236",
           "83",
           "156",
           "101",
           "141",
           "138",
           "182",
           "71",
           "77",
           "37",
           "127",
           "26",
           "51",
           "24"
          ],
          [
           "33",
           "33",
           "30",
           "35",
           "26",
           "26",
           "31",
           "43",
           "34",
           "28",
           "35",
           "37",
           "23",
           "36",
           "45",
           "39",
           "37",
           "25",
           "34",
           "34",
           "24",
           "25",
           "30",
           "33",
           "34",
           "46",
           "44",
           "27",
           "34",
           "27",
           "25",
           "35",
           "34"
          ]
         ],
         "textfont": {
          "size": 9
         },
         "texttemplate": "%{text}",
         "type": "heatmap",
         "x": [
          "0.0",
          "0.03125",
          "0.0625",
          "0.09375",
          "0.125",
          "0.15625",
          "0.1875",
          "0.21875",
          "0.25",
          "0.28125",
          "0.3125",
          "0.34375",
          "0.375",
          "0.40625",
          "0.4375",
          "0.46875",
          "0.5",
          "0.53125",
          "0.5625",
          "0.59375",
          "0.625",
          "0.65625",
          "0.6875",
          "0.71875",
          "0.75",
          "0.78125",
          "0.8125",
          "0.84375",
          "0.875",
          "0.90625",
          "0.9375",
          "0.96875",
          "1.0"
         ],
         "y": [
          "0.0",
          "0.14285714285714285",
          "0.2857142857142857",
          "0.42857142857142855",
          "0.5714285714285714",
          "0.7142857142857142",
          "0.8571428571428571",
          "1.0"
         ],
         "z": {
          "bdata": "05QAABgLAACuBwAAngcAAM0PAAA0CwAATQsAAMcLAAAUEgAAQQ8AAOQOAACDEAAA/RIAAPsPAAAZEQAAShAAABcWAAA0DAAA8woAAP8IAABqCQAAiAYAANsFAABBBQAAFwgAAHECAADfAQAAbgEAAHYCAAAUAQAATgEAAAABAABlAgAAQCsAAC8CAABsBQAATQUAAMAFAADrBQAAoQoAAHULAAD1DgAAag4AAE0QAABWEQAAVRQAAJoRAADXEQAAXBAAAFISAAB7EQAAzw8AADgMAABOCwAAsAkAAFkIAACMBwAAsAcAAEwEAABSAwAA3AIAAFACAABqAQAAogEAAOUAAABnAQAAlhMAAOsBAACoAQAAyQIAAN8FAAB6BgAAjQUAAAIGAAA2CwAAPAoAAHIMAABEDQAAWg8AAGUOAABFEAAAGhQAABcYAAB4CwAAWAoAADsJAADjCgAANwcAAGcIAAABBgAAQAYAAHMDAAAaBAAACwMAABoCAABKAQAAkgEAAJEBAAAjAgAAXggAAMkAAAAqAQAAxQAAAH8BAAC+AQAA5wIAAD8EAAB5BQAA7QQAAC4IAAAiCAAA4wkAAHkKAACFCwAAxQgAAEUKAADsBwAAogcAAOEGAAAzBQAAhwYAAOcEAABwBQAAYgYAANICAADxAQAAjwEAAPUBAAAFAQAAKAEAAEYBAAA8AQAACwMAAFkAAAARAQAAfgAAAPQAAAAhAQAAKAEAACoBAACRAQAAJQIAAEoCAADKAgAADwUAAJsFAADXBgAAzwQAAEUGAABMBgAAaAYAAGEFAAAoBAAAMQQAAMgDAAC2AwAAjAMAAMYCAADjAQAAfQEAAD8BAAA4AQAAqAAAAAQBAACYAAAAvgAAADEAAAArAAAAQAAAADQAAABcAAAAPAAAAGcAAACFAAAAxgAAAHcAAADYAAAAugAAAOIAAACEAQAATwIAACoDAADUAQAAdAIAACwCAADyAQAAfgEAAH8BAAA9AQAAIwEAAEABAAA6AQAAAAEAAL0AAACaAAAAYAAAAJMAAAAoAAAAJQAAABEAAAATAAAACgAAAA4AAAAPAAAAMwAAADAAAAA0AAAAOAAAACAAAAA8AAAANAAAAFkAAAB2AAAAVwAAAIYAAACxAAAA0QAAAOwAAABTAAAAnAAAAGUAAACNAAAAigAAALYAAABHAAAATQAAACUAAAB/AAAAGgAAADMAAAAYAAAAIQAAACEAAAAeAAAAIwAAABoAAAAaAAAAHwAAACsAAAAiAAAAHAAAACMAAAAlAAAAFwAAACQAAAAtAAAAJwAAACUAAAAZAAAAIgAAACIAAAAYAAAAGQAAAB4AAAAhAAAAIgAAAC4AAAAsAAAAGwAAACIAAAAbAAAAGQAAACMAAAAiAAAA",
          "dtype": "i4",
          "shape": "8, 33"
         }
        }
       ],
       "layout": {
        "height": 400,
        "template": {
         "data": {
          "bar": [
           {
            "error_x": {
             "color": "#2a3f5f"
            },
            "error_y": {
             "color": "#2a3f5f"
            },
            "marker": {
             "line": {
              "color": "#E5ECF6",
              "width": 0.5
             },
             "pattern": {
              "fillmode": "overlay",
              "size": 10,
              "solidity": 0.2
             }
            },
            "type": "bar"
           }
          ],
          "barpolar": [
           {
            "marker": {
             "line": {
              "color": "#E5ECF6",
              "width": 0.5
             },
             "pattern": {
              "fillmode": "overlay",
              "size": 10,
              "solidity": 0.2
             }
            },
            "type": "barpolar"
           }
          ],
          "carpet": [
           {
            "aaxis": {
             "endlinecolor": "#2a3f5f",
             "gridcolor": "white",
             "linecolor": "white",
             "minorgridcolor": "white",
             "startlinecolor": "#2a3f5f"
            },
            "baxis": {
             "endlinecolor": "#2a3f5f",
             "gridcolor": "white",
             "linecolor": "white",
             "minorgridcolor": "white",
             "startlinecolor": "#2a3f5f"
            },
            "type": "carpet"
           }
          ],
          "choropleth": [
           {
            "colorbar": {
             "outlinewidth": 0,
             "ticks": ""
            },
            "type": "choropleth"
           }
          ],
          "contour": [
           {
            "colorbar": {
             "outlinewidth": 0,
             "ticks": ""
            },
            "colorscale": [
             [
              0,
              "#0d0887"
             ],
             [
              0.1111111111111111,
              "#46039f"
             ],
             [
              0.2222222222222222,
              "#7201a8"
             ],
             [
              0.3333333333333333,
              "#9c179e"
             ],
             [
              0.4444444444444444,
              "#bd3786"
             ],
             [
              0.5555555555555556,
              "#d8576b"
             ],
             [
              0.6666666666666666,
              "#ed7953"
             ],
             [
              0.7777777777777778,
              "#fb9f3a"
             ],
             [
              0.8888888888888888,
              "#fdca26"
             ],
             [
              1,
              "#f0f921"
             ]
            ],
            "type": "contour"
           }
          ],
          "contourcarpet": [
           {
            "colorbar": {
             "outlinewidth": 0,
             "ticks": ""
            },
            "type": "contourcarpet"
           }
          ],
          "heatmap": [
           {
            "colorbar": {
             "outlinewidth": 0,
             "ticks": ""
            },
            "colorscale": [
             [
              0,
              "#0d0887"
             ],
             [
              0.1111111111111111,
              "#46039f"
             ],
             [
              0.2222222222222222,
              "#7201a8"
             ],
             [
              0.3333333333333333,
              "#9c179e"
             ],
             [
              0.4444444444444444,
              "#bd3786"
             ],
             [
              0.5555555555555556,
              "#d8576b"
             ],
             [
              0.6666666666666666,
              "#ed7953"
             ],
             [
              0.7777777777777778,
              "#fb9f3a"
             ],
             [
              0.8888888888888888,
              "#fdca26"
             ],
             [
              1,
              "#f0f921"
             ]
            ],
            "type": "heatmap"
           }
          ],
          "histogram": [
           {
            "marker": {
             "pattern": {
              "fillmode": "overlay",
              "size": 10,
              "solidity": 0.2
             }
            },
            "type": "histogram"
           }
          ],
          "histogram2d": [
           {
            "colorbar": {
             "outlinewidth": 0,
             "ticks": ""
            },
            "colorscale": [
             [
              0,
              "#0d0887"
             ],
             [
              0.1111111111111111,
              "#46039f"
             ],
             [
              0.2222222222222222,
              "#7201a8"
             ],
             [
              0.3333333333333333,
              "#9c179e"
             ],
             [
              0.4444444444444444,
              "#bd3786"
             ],
             [
              0.5555555555555556,
              "#d8576b"
             ],
             [
              0.6666666666666666,
              "#ed7953"
             ],
             [
              0.7777777777777778,
              "#fb9f3a"
             ],
             [
              0.8888888888888888,
              "#fdca26"
             ],
             [
              1,
              "#f0f921"
             ]
            ],
            "type": "histogram2d"
           }
          ],
          "histogram2dcontour": [
           {
            "colorbar": {
             "outlinewidth": 0,
             "ticks": ""
            },
            "colorscale": [
             [
              0,
              "#0d0887"
             ],
             [
              0.1111111111111111,
              "#46039f"
             ],
             [
              0.2222222222222222,
              "#7201a8"
             ],
             [
              0.3333333333333333,
              "#9c179e"
             ],
             [
              0.4444444444444444,
              "#bd3786"
             ],
             [
              0.5555555555555556,
              "#d8576b"
             ],
             [
              0.6666666666666666,
              "#ed7953"
             ],
             [
              0.7777777777777778,
              "#fb9f3a"
             ],
             [
              0.8888888888888888,
              "#fdca26"
             ],
             [
              1,
              "#f0f921"
             ]
            ],
            "type": "histogram2dcontour"
           }
          ],
          "mesh3d": [
           {
            "colorbar": {
             "outlinewidth": 0,
             "ticks": ""
            },
            "type": "mesh3d"
           }
          ],
          "parcoords": [
           {
            "line": {
             "colorbar": {
              "outlinewidth": 0,
              "ticks": ""
             }
            },
            "type": "parcoords"
           }
          ],
          "pie": [
           {
            "automargin": true,
            "type": "pie"
           }
          ],
          "scatter": [
           {
            "fillpattern": {
             "fillmode": "overlay",
             "size": 10,
             "solidity": 0.2
            },
            "type": "scatter"
           }
          ],
          "scatter3d": [
           {
            "line": {
             "colorbar": {
              "outlinewidth": 0,
              "ticks": ""
             }
            },
            "marker": {
             "colorbar": {
              "outlinewidth": 0,
              "ticks": ""
             }
            },
            "type": "scatter3d"
           }
          ],
          "scattercarpet": [
           {
            "marker": {
             "colorbar": {
              "outlinewidth": 0,
              "ticks": ""
             }
            },
            "type": "scattercarpet"
           }
          ],
          "scattergeo": [
           {
            "marker": {
             "colorbar": {
              "outlinewidth": 0,
              "ticks": ""
             }
            },
            "type": "scattergeo"
           }
          ],
          "scattergl": [
           {
            "marker": {
             "colorbar": {
              "outlinewidth": 0,
              "ticks": ""
             }
            },
            "type": "scattergl"
           }
          ],
          "scattermap": [
           {
            "marker": {
             "colorbar": {
              "outlinewidth": 0,
              "ticks": ""
             }
            },
            "type": "scattermap"
           }
          ],
          "scattermapbox": [
           {
            "marker": {
             "colorbar": {
              "outlinewidth": 0,
              "ticks": ""
             }
            },
            "type": "scattermapbox"
           }
          ],
          "scatterpolar": [
           {
            "marker": {
             "colorbar": {
              "outlinewidth": 0,
              "ticks": ""
             }
            },
            "type": "scatterpolar"
           }
          ],
          "scatterpolargl": [
           {
            "marker": {
             "colorbar": {
              "outlinewidth": 0,
              "ticks": ""
             }
            },
            "type": "scatterpolargl"
           }
          ],
          "scatterternary": [
           {
            "marker": {
             "colorbar": {
              "outlinewidth": 0,
              "ticks": ""
             }
            },
            "type": "scatterternary"
           }
          ],
          "surface": [
           {
            "colorbar": {
             "outlinewidth": 0,
             "ticks": ""
            },
            "colorscale": [
             [
              0,
              "#0d0887"
             ],
             [
              0.1111111111111111,
              "#46039f"
             ],
             [
              0.2222222222222222,
              "#7201a8"
             ],
             [
              0.3333333333333333,
              "#9c179e"
             ],
             [
              0.4444444444444444,
              "#bd3786"
             ],
             [
              0.5555555555555556,
              "#d8576b"
             ],
             [
              0.6666666666666666,
              "#ed7953"
             ],
             [
              0.7777777777777778,
              "#fb9f3a"
             ],
             [
              0.8888888888888888,
              "#fdca26"
             ],
             [
              1,
              "#f0f921"
             ]
            ],
            "type": "surface"
           }
          ],
          "table": [
           {
            "cells": {
             "fill": {
              "color": "#EBF0F8"
             },
             "line": {
              "color": "white"
             }
            },
            "header": {
             "fill": {
              "color": "#C8D4E3"
             },
             "line": {
              "color": "white"
             }
            },
            "type": "table"
           }
          ]
         },
         "layout": {
          "annotationdefaults": {
           "arrowcolor": "#2a3f5f",
           "arrowhead": 0,
           "arrowwidth": 1
          },
          "autotypenumbers": "strict",
          "coloraxis": {
           "colorbar": {
            "outlinewidth": 0,
            "ticks": ""
           }
          },
          "colorscale": {
           "diverging": [
            [
             0,
             "#8e0152"
            ],
            [
             0.1,
             "#c51b7d"
            ],
            [
             0.2,
             "#de77ae"
            ],
            [
             0.3,
             "#f1b6da"
            ],
            [
             0.4,
             "#fde0ef"
            ],
            [
             0.5,
             "#f7f7f7"
            ],
            [
             0.6,
             "#e6f5d0"
            ],
            [
             0.7,
             "#b8e186"
            ],
            [
             0.8,
             "#7fbc41"
            ],
            [
             0.9,
             "#4d9221"
            ],
            [
             1,
             "#276419"
            ]
           ],
           "sequential": [
            [
             0,
             "#0d0887"
            ],
            [
             0.1111111111111111,
             "#46039f"
            ],
            [
             0.2222222222222222,
             "#7201a8"
            ],
            [
             0.3333333333333333,
             "#9c179e"
            ],
            [
             0.4444444444444444,
             "#bd3786"
            ],
            [
             0.5555555555555556,
             "#d8576b"
            ],
            [
             0.6666666666666666,
             "#ed7953"
            ],
            [
             0.7777777777777778,
             "#fb9f3a"
            ],
            [
             0.8888888888888888,
             "#fdca26"
            ],
            [
             1,
             "#f0f921"
            ]
           ],
           "sequentialminus": [
            [
             0,
             "#0d0887"
            ],
            [
             0.1111111111111111,
             "#46039f"
            ],
            [
             0.2222222222222222,
             "#7201a8"
            ],
            [
             0.3333333333333333,
             "#9c179e"
            ],
            [
             0.4444444444444444,
             "#bd3786"
            ],
            [
             0.5555555555555556,
             "#d8576b"
            ],
            [
             0.6666666666666666,
             "#ed7953"
            ],
            [
             0.7777777777777778,
             "#fb9f3a"
            ],
            [
             0.8888888888888888,
             "#fdca26"
            ],
            [
             1,
             "#f0f921"
            ]
           ]
          },
          "colorway": [
           "#636efa",
           "#EF553B",
           "#00cc96",
           "#ab63fa",
           "#FFA15A",
           "#19d3f3",
           "#FF6692",
           "#B6E880",
           "#FF97FF",
           "#FECB52"
          ],
          "font": {
           "color": "#2a3f5f"
          },
          "geo": {
           "bgcolor": "white",
           "lakecolor": "white",
           "landcolor": "#E5ECF6",
           "showlakes": true,
           "showland": true,
           "subunitcolor": "white"
          },
          "hoverlabel": {
           "align": "left"
          },
          "hovermode": "closest",
          "mapbox": {
           "style": "light"
          },
          "paper_bgcolor": "white",
          "plot_bgcolor": "#E5ECF6",
          "polar": {
           "angularaxis": {
            "gridcolor": "white",
            "linecolor": "white",
            "ticks": ""
           },
           "bgcolor": "#E5ECF6",
           "radialaxis": {
            "gridcolor": "white",
            "linecolor": "white",
            "ticks": ""
           }
          },
          "scene": {
           "xaxis": {
            "backgroundcolor": "#E5ECF6",
            "gridcolor": "white",
            "gridwidth": 2,
            "linecolor": "white",
            "showbackground": true,
            "ticks": "",
            "zerolinecolor": "white"
           },
           "yaxis": {
            "backgroundcolor": "#E5ECF6",
            "gridcolor": "white",
            "gridwidth": 2,
            "linecolor": "white",
            "showbackground": true,
            "ticks": "",
            "zerolinecolor": "white"
           },
           "zaxis": {
            "backgroundcolor": "#E5ECF6",
            "gridcolor": "white",
            "gridwidth": 2,
            "linecolor": "white",
            "showbackground": true,
            "ticks": "",
            "zerolinecolor": "white"
           }
          },
          "shapedefaults": {
           "line": {
            "color": "#2a3f5f"
           }
          },
          "ternary": {
           "aaxis": {
            "gridcolor": "white",
            "linecolor": "white",
            "ticks": ""
           },
           "baxis": {
            "gridcolor": "white",
            "linecolor": "white",
            "ticks": ""
           },
           "bgcolor": "#E5ECF6",
           "caxis": {
            "gridcolor": "white",
            "linecolor": "white",
            "ticks": ""
           }
          },
          "title": {
           "x": 0.05
          },
          "xaxis": {
           "automargin": true,
           "gridcolor": "white",
           "linecolor": "white",
           "ticks": "",
           "title": {
            "standoff": 15
           },
           "zerolinecolor": "white",
           "zerolinewidth": 2
          },
          "yaxis": {
           "automargin": true,
           "gridcolor": "white",
           "linecolor": "white",
           "ticks": "",
           "title": {
            "standoff": 15
           },
           "zerolinecolor": "white",
           "zerolinewidth": 2
          }
         }
        },
        "title": {
         "text": "Heatmap Histogram of Groove to Output Hit Hamming Distance vs Modified Accent Hamming Distance"
        },
        "width": 1200,
        "xaxis": {
         "tickangle": 45,
         "title": {
          "text": "groove_to_output_hit_hamming_distance"
         }
        },
        "yaxis": {
         "tickangle": 0,
         "title": {
          "text": "accent_hamming_values_per_hit_hamming_normalized"
         }
        }
       }
      }
     },
     "metadata": {},
     "output_type": "display_data"
    }
   ],
   "source": [
    "create_heatmap_histogram(control_features_df,\n",
    "                         key1=\"groove_to_output_hit_hamming_distance\",\n",
    "                         key2=\"accent_hamming_values_per_hit_hamming_normalized\",\n",
    "                         bins=None,\n",
    "                         title=\"Heatmap Histogram of Groove to Output Hit Hamming Distance vs Modified Accent Hamming Distance\",\n",
    "                         )"
   ]
  },
  {
   "cell_type": "code",
   "execution_count": null,
   "id": "34c7a099af350585",
   "metadata": {},
   "outputs": [],
   "source": []
  }
 ],
 "metadata": {
  "kernelspec": {
   "display_name": "TripleStreams",
   "language": "python",
   "name": "python3"
  },
  "language_info": {
   "codemirror_mode": {
    "name": "ipython",
    "version": 2
   },
   "file_extension": ".py",
   "mimetype": "text/x-python",
   "name": "python",
   "nbconvert_exporter": "python",
   "pygments_lexer": "ipython2",
   "version": "3.9.21"
  }
 },
 "nbformat": 4,
 "nbformat_minor": 5
}
